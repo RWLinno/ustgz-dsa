{
 "cells": [
  {
   "cell_type": "code",
   "execution_count": 7,
   "outputs": [
    {
     "data": {
      "application/vnd.plotly.v1+json": {
       "data": [
        {
         "customdata": [
          [
           "Afghanistan"
          ],
          [
           "Africa"
          ],
          [
           "Albania"
          ],
          [
           "Algeria"
          ],
          [
           "Andorra"
          ],
          [
           "Angola"
          ],
          [
           "Anguilla"
          ],
          [
           "Antigua and Barbuda"
          ],
          [
           "Argentina"
          ],
          [
           "Armenia"
          ],
          [
           "Aruba"
          ],
          [
           "Asia"
          ],
          [
           "Australia"
          ],
          [
           "Austria"
          ],
          [
           "Azerbaijan"
          ],
          [
           "Bahamas"
          ],
          [
           "Bahrain"
          ],
          [
           "Bangladesh"
          ],
          [
           "Barbados"
          ],
          [
           "Belarus"
          ],
          [
           "Belgium"
          ],
          [
           "Belize"
          ],
          [
           "Benin"
          ],
          [
           "Bermuda"
          ],
          [
           "Bhutan"
          ],
          [
           "Bolivia"
          ],
          [
           "Bonaire Sint Eustatius and Saba"
          ],
          [
           "Bosnia and Herzegovina"
          ],
          [
           "Botswana"
          ],
          [
           "Brazil"
          ],
          [
           "British Virgin Islands"
          ],
          [
           "Brunei"
          ],
          [
           "Bulgaria"
          ],
          [
           "Burkina Faso"
          ],
          [
           "Burundi"
          ],
          [
           "Cambodia"
          ],
          [
           "Cameroon"
          ],
          [
           "Canada"
          ],
          [
           "Cape Verde"
          ],
          [
           "Cayman Islands"
          ],
          [
           "Central African Republic"
          ],
          [
           "Chad"
          ],
          [
           "Chile"
          ],
          [
           "China"
          ],
          [
           "Colombia"
          ],
          [
           "Comoros"
          ],
          [
           "Congo"
          ],
          [
           "Cook Islands"
          ],
          [
           "Costa Rica"
          ],
          [
           "Cote d'Ivoire"
          ],
          [
           "Croatia"
          ],
          [
           "Cuba"
          ],
          [
           "Curacao"
          ],
          [
           "Cyprus"
          ],
          [
           "Czechia"
          ],
          [
           "Democratic Republic of Congo"
          ],
          [
           "Denmark"
          ],
          [
           "Djibouti"
          ],
          [
           "Dominica"
          ],
          [
           "Dominican Republic"
          ],
          [
           "Ecuador"
          ],
          [
           "Egypt"
          ],
          [
           "El Salvador"
          ],
          [
           "Equatorial Guinea"
          ],
          [
           "Eritrea"
          ],
          [
           "Estonia"
          ],
          [
           "Eswatini"
          ],
          [
           "Ethiopia"
          ],
          [
           "Europe"
          ],
          [
           "European Union"
          ],
          [
           "Faeroe Islands"
          ],
          [
           "Falkland Islands"
          ],
          [
           "Fiji"
          ],
          [
           "Finland"
          ],
          [
           "France"
          ],
          [
           "French Polynesia"
          ],
          [
           "Gabon"
          ],
          [
           "Gambia"
          ],
          [
           "Georgia"
          ],
          [
           "Germany"
          ],
          [
           "Ghana"
          ],
          [
           "Gibraltar"
          ],
          [
           "Greece"
          ],
          [
           "Greenland"
          ],
          [
           "Grenada"
          ],
          [
           "Guatemala"
          ],
          [
           "Guinea"
          ],
          [
           "Guinea-Bissau"
          ],
          [
           "Guyana"
          ],
          [
           "Haiti"
          ],
          [
           "High income"
          ],
          [
           "Honduras"
          ],
          [
           "Hong Kong"
          ],
          [
           "Hungary"
          ],
          [
           "Iceland"
          ],
          [
           "India"
          ],
          [
           "Indonesia"
          ],
          [
           "International"
          ],
          [
           "Iran"
          ],
          [
           "Iraq"
          ],
          [
           "Ireland"
          ],
          [
           "Isle of Man"
          ],
          [
           "Israel"
          ],
          [
           "Italy"
          ],
          [
           "Jamaica"
          ],
          [
           "Japan"
          ],
          [
           "Jordan"
          ],
          [
           "Kazakhstan"
          ],
          [
           "Kenya"
          ],
          [
           "Kiribati"
          ],
          [
           "Kosovo"
          ],
          [
           "Kuwait"
          ],
          [
           "Kyrgyzstan"
          ],
          [
           "Laos"
          ],
          [
           "Latvia"
          ],
          [
           "Lebanon"
          ],
          [
           "Lesotho"
          ],
          [
           "Liberia"
          ],
          [
           "Libya"
          ],
          [
           "Liechtenstein"
          ],
          [
           "Lithuania"
          ],
          [
           "Low income"
          ],
          [
           "Lower middle income"
          ],
          [
           "Luxembourg"
          ],
          [
           "Macao"
          ],
          [
           "Madagascar"
          ],
          [
           "Malawi"
          ],
          [
           "Malaysia"
          ],
          [
           "Maldives"
          ],
          [
           "Mali"
          ],
          [
           "Malta"
          ],
          [
           "Marshall Islands"
          ],
          [
           "Mauritania"
          ],
          [
           "Mauritius"
          ],
          [
           "Mexico"
          ],
          [
           "Micronesia (country)"
          ],
          [
           "Moldova"
          ],
          [
           "Monaco"
          ],
          [
           "Mongolia"
          ],
          [
           "Montenegro"
          ],
          [
           "Montserrat"
          ],
          [
           "Morocco"
          ],
          [
           "Mozambique"
          ],
          [
           "Myanmar"
          ],
          [
           "Namibia"
          ],
          [
           "Nauru"
          ],
          [
           "Nepal"
          ],
          [
           "Netherlands"
          ],
          [
           "New Caledonia"
          ],
          [
           "New Zealand"
          ],
          [
           "Nicaragua"
          ],
          [
           "Niger"
          ],
          [
           "Nigeria"
          ],
          [
           "North America"
          ],
          [
           "North Korea"
          ],
          [
           "North Macedonia"
          ],
          [
           "Norway"
          ],
          [
           "Oceania"
          ],
          [
           "Oman"
          ],
          [
           "Pakistan"
          ],
          [
           "Palau"
          ],
          [
           "Palestine"
          ],
          [
           "Panama"
          ],
          [
           "Papua New Guinea"
          ],
          [
           "Paraguay"
          ],
          [
           "Peru"
          ],
          [
           "Philippines"
          ],
          [
           "Poland"
          ],
          [
           "Portugal"
          ],
          [
           "Qatar"
          ],
          [
           "Romania"
          ],
          [
           "Russia"
          ],
          [
           "Rwanda"
          ],
          [
           "Saint Helena"
          ],
          [
           "Saint Kitts and Nevis"
          ],
          [
           "Saint Lucia"
          ],
          [
           "Saint Pierre and Miquelon"
          ],
          [
           "Saint Vincent and the Grenadines"
          ],
          [
           "Samoa"
          ],
          [
           "San Marino"
          ],
          [
           "Sao Tome and Principe"
          ],
          [
           "Saudi Arabia"
          ],
          [
           "Senegal"
          ],
          [
           "Serbia"
          ],
          [
           "Seychelles"
          ],
          [
           "Sierra Leone"
          ],
          [
           "Singapore"
          ],
          [
           "Slovakia"
          ],
          [
           "Slovenia"
          ],
          [
           "Solomon Islands"
          ],
          [
           "Somalia"
          ],
          [
           "South Africa"
          ],
          [
           "South America"
          ],
          [
           "South Korea"
          ],
          [
           "South Sudan"
          ],
          [
           "Spain"
          ],
          [
           "Sri Lanka"
          ],
          [
           "Sudan"
          ],
          [
           "Suriname"
          ],
          [
           "Sweden"
          ],
          [
           "Switzerland"
          ],
          [
           "Syria"
          ],
          [
           "Taiwan"
          ],
          [
           "Tajikistan"
          ],
          [
           "Tanzania"
          ],
          [
           "Thailand"
          ],
          [
           "Timor"
          ],
          [
           "Togo"
          ],
          [
           "Tonga"
          ],
          [
           "Trinidad and Tobago"
          ],
          [
           "Tunisia"
          ],
          [
           "Turkey"
          ],
          [
           "Turks and Caicos Islands"
          ],
          [
           "Tuvalu"
          ],
          [
           "Uganda"
          ],
          [
           "Ukraine"
          ],
          [
           "United Arab Emirates"
          ],
          [
           "United Kingdom"
          ],
          [
           "United States"
          ],
          [
           "Upper middle income"
          ],
          [
           "Uruguay"
          ],
          [
           "Uzbekistan"
          ],
          [
           "Vanuatu"
          ],
          [
           "Vatican"
          ],
          [
           "Venezuela"
          ],
          [
           "Vietnam"
          ],
          [
           "Wallis and Futuna"
          ],
          [
           "World"
          ],
          [
           "Yemen"
          ],
          [
           "Zambia"
          ],
          [
           "Zimbabwe"
          ]
         ],
         "hovertemplate": "Total Cases=%{x}<br>Total Deaths=%{y}<br>Country/Region=%{customdata[0]}<br>New Cases=%{marker.color}<extra></extra>",
         "legendgroup": "",
         "marker": {
          "color": [
           0.0,
           451.0,
           14.0,
           2.0,
           0.0,
           0.0,
           0.0,
           0.0,
           null,
           null,
           0.0,
           23308.0,
           13926.0,
           5283.0,
           6.0,
           0.0,
           387.0,
           0.0,
           153.0,
           0.0,
           11570.0,
           0.0,
           0.0,
           0.0,
           0.0,
           90.0,
           0.0,
           0.0,
           0.0,
           null,
           0.0,
           null,
           72.0,
           0.0,
           0.0,
           0.0,
           0.0,
           4041.0,
           0.0,
           0.0,
           0.0,
           0.0,
           3906.0,
           0.0,
           null,
           0.0,
           0.0,
           0.0,
           null,
           8.0,
           null,
           6.0,
           0.0,
           null,
           1142.0,
           0.0,
           139.0,
           0.0,
           0.0,
           0.0,
           0.0,
           0.0,
           0.0,
           0.0,
           0.0,
           0.0,
           0.0,
           14.0,
           80366.0,
           38074.0,
           0.0,
           0.0,
           1.0,
           668.0,
           6308.0,
           0.0,
           0.0,
           0.0,
           null,
           7829.0,
           0.0,
           0.0,
           0.0,
           0.0,
           0.0,
           198.0,
           0.0,
           0.0,
           0.0,
           0.0,
           157348.0,
           0.0,
           0.0,
           null,
           0.0,
           440.0,
           307.0,
           0.0,
           315.0,
           0.0,
           null,
           0.0,
           660.0,
           null,
           129.0,
           9834.0,
           0.0,
           0.0,
           0.0,
           0.0,
           21.0,
           null,
           0.0,
           0.0,
           27.0,
           179.0,
           0.0,
           0.0,
           0.0,
           0.0,
           null,
           15.0,
           1682.0,
           null,
           0.0,
           0.0,
           0.0,
           279.0,
           0.0,
           1.0,
           null,
           0.0,
           0.0,
           null,
           3809.0,
           0.0,
           null,
           0.0,
           0.0,
           56.0,
           0.0,
           0.0,
           null,
           1.0,
           0.0,
           0.0,
           4.0,
           null,
           0.0,
           1.0,
           0.0,
           0.0,
           0.0,
           55271.0,
           0.0,
           0.0,
           53.0,
           13928.0,
           0.0,
           73.0,
           0.0,
           0.0,
           null,
           0.0,
           0.0,
           null,
           150.0,
           3459.0,
           null,
           108.0,
           null,
           12385.0,
           0.0,
           0.0,
           0.0,
           0.0,
           0.0,
           0.0,
           0.0,
           0.0,
           0.0,
           83.0,
           0.0,
           873.0,
           0.0,
           0.0,
           null,
           262.0,
           511.0,
           0.0,
           0.0,
           426.0,
           4001.0,
           10335.0,
           0.0,
           null,
           2.0,
           0.0,
           0.0,
           804.0,
           null,
           0.0,
           0.0,
           0.0,
           0.0,
           null,
           0.0,
           0.0,
           0.0,
           null,
           null,
           0.0,
           4.0,
           0.0,
           0.0,
           111.0,
           145.0,
           28779.0,
           46931.0,
           18280.0,
           0.0,
           null,
           0.0,
           0.0,
           5.0,
           0.0,
           0.0,
           177325.0,
           0.0,
           0.0,
           null
          ],
          "coloraxis": "coloraxis",
          "symbol": "circle"
         },
         "mode": "markers",
         "name": "",
         "orientation": "v",
         "showlegend": false,
         "x": [
          209451.0,
          1.2524604E7,
          334457.0,
          271496.0,
          47890.0,
          105288.0,
          3904.0,
          9106.0,
          1.0044957E7,
          447308.0,
          44044.0,
          2.10767366E8,
          1.139946E7,
          5961143.0,
          828825.0,
          37491.0,
          710693.0,
          2037871.0,
          106798.0,
          994037.0,
          4739365.0,
          70757.0,
          27999.0,
          18828.0,
          62627.0,
          1194277.0,
          11804.0,
          401729.0,
          329758.0,
          3.7076053E7,
          7305.0,
          279661.0,
          1297523.0,
          22056.0,
          53631.0,
          138719.0,
          124392.0,
          4617095.0,
          63244.0,
          31472.0,
          15368.0,
          7679.0,
          5192286.0,
          2023904.0,
          6359093.0,
          9008.0,
          25087.0,
          7031.0,
          1209725.0,
          88263.0,
          1269326.0,
          1112643.0,
          45986.0,
          650685.0,
          4618256.0,
          95749.0,
          3404407.0,
          15690.0,
          15760.0,
          660790.0,
          1057121.0,
          515759.0,
          201785.0,
          17229.0,
          10189.0,
          615433.0,
          74267.0,
          500116.0,
          2.48452416E8,
          1.84184098E8,
          34658.0,
          1930.0,
          68898.0,
          1463644.0,
          3.9701767E7,
          78055.0,
          48981.0,
          12598.0,
          1827537.0,
          3.824906E7,
          171229.0,
          20433.0,
          5548487.0,
          11971.0,
          19680.0,
          1238247.0,
          38267.0,
          8960.0,
          73075.0,
          34202.0,
          4.31911049E8,
          472250.0,
          2876106.0,
          2196804.0,
          209137.0,
          4.4690738E7,
          6738225.0,
          721.0,
          7572311.0,
          2465545.0,
          1704502.0,
          38008.0,
          4803824.0,
          2.560351E7,
          154416.0,
          3.3320438E7,
          1746997.0,
          1498668.0,
          342937.0,
          5014.0,
          273312.0,
          663860.0,
          206708.0,
          218023.0,
          976255.0,
          1232828.0,
          34790.0,
          8090.0,
          507187.0,
          21432.0,
          1307448.0,
          2287497.0,
          9.7175431E7,
          317367.0,
          3514.0,
          67889.0,
          88707.0,
          5044718.0,
          185738.0,
          33062.0,
          117610.0,
          15649.0,
          63668.0,
          296042.0,
          7483444.0,
          23948.0,
          611140.0,
          16121.0,
          1007900.0,
          288808.0,
          1403.0,
          1272490.0,
          233214.0,
          633950.0,
          171156.0,
          5247.0,
          1001154.0,
          8611001.0,
          80017.0,
          2229083.0,
          15655.0,
          9508.0,
          266598.0,
          1.22717115E8,
          1.0,
          346852.0,
          1479506.0,
          1.4041456E7,
          399449.0,
          1577411.0,
          5991.0,
          703228.0,
          1031731.0,
          46825.0,
          808401.0,
          4487553.0,
          4077452.0,
          6444960.0,
          5570473.0,
          495090.0,
          3346046.0,
          2.2075858E7,
          133194.0,
          2166.0,
          6597.0,
          30004.0,
          3452.0,
          9589.0,
          16607.0,
          23616.0,
          6281.0,
          830127.0,
          88926.0,
          2500142.0,
          50665.0,
          7760.0,
          2235294.0,
          2667551.0,
          1331707.0,
          24575.0,
          27324.0,
          4067067.0,
          6.7963678E7,
          3.0615522E7,
          18368.0,
          1.3770429E7,
          672039.0,
          63829.0,
          82467.0,
          2699339.0,
          4413911.0,
          57467.0,
          9970937.0,
          17786.0,
          42906.0,
          4728182.0,
          23419.0,
          39396.0,
          16810.0,
          189918.0,
          1151126.0,
          1.7042722E7,
          6561.0,
          2805.0,
          170544.0,
          5711929.0,
          1053213.0,
          2.4425313E7,
          1.03802702E8,
          1.45057512E8,
          1034303.0,
          251247.0,
          12014.0,
          29.0,
          552162.0,
          1.1526994E7,
          3427.0,
          6.76467356E8,
          11945.0,
          343135.0,
          264276.0
         ],
         "xaxis": "x",
         "y": [
          7896.0,
          257705.0,
          3598.0,
          6881.0,
          165.0,
          1933.0,
          12.0,
          146.0,
          130472.0,
          8727.0,
          282.0,
          1623684.0,
          19574.0,
          21970.0,
          10138.0,
          833.0,
          1553.0,
          29445.0,
          579.0,
          7118.0,
          33814.0,
          688.0,
          163.0,
          160.0,
          21.0,
          22365.0,
          41.0,
          16280.0,
          2801.0,
          699276.0,
          64.0,
          225.0,
          38228.0,
          396.0,
          38.0,
          3056.0,
          1965.0,
          51720.0,
          413.0,
          37.0,
          113.0,
          194.0,
          64273.0,
          87468.0,
          142339.0,
          161.0,
          388.0,
          2.0,
          9245.0,
          834.0,
          17987.0,
          8530.0,
          301.0,
          1330.0,
          42491.0,
          1464.0,
          8296.0,
          189.0,
          74.0,
          4384.0,
          36014.0,
          24812.0,
          4230.0,
          183.0,
          103.0,
          2946.0,
          1425.0,
          7572.0,
          2036768.0,
          1216114.0,
          28.0,
          null,
          883.0,
          8967.0,
          165204.0,
          649.0,
          306.0,
          372.0,
          16971.0,
          168935.0,
          1462.0,
          111.0,
          34779.0,
          21.0,
          238.0,
          20182.0,
          467.0,
          176.0,
          1298.0,
          860.0,
          2878426.0,
          11111.0,
          13467.0,
          48762.0,
          263.0,
          530779.0,
          160941.0,
          15.0,
          144933.0,
          25375.0,
          8708.0,
          116.0,
          12329.0,
          188322.0,
          3514.0,
          72997.0,
          14122.0,
          19071.0,
          5688.0,
          18.0,
          3211.0,
          2570.0,
          2991.0,
          758.0,
          6269.0,
          10841.0,
          723.0,
          295.0,
          6437.0,
          89.0,
          9596.0,
          47911.0,
          1346297.0,
          1220.0,
          121.0,
          1423.0,
          2686.0,
          36967.0,
          311.0,
          743.0,
          828.0,
          17.0,
          997.0,
          1044.0,
          333188.0,
          61.0,
          12003.0,
          67.0,
          2136.0,
          2808.0,
          8.0,
          16296.0,
          2242.0,
          19490.0,
          4090.0,
          1.0,
          12020.0,
          23081.0,
          314.0,
          2548.0,
          245.0,
          315.0,
          3155.0,
          1588112.0,
          6.0,
          9662.0,
          5213.0,
          24962.0,
          4628.0,
          30644.0,
          9.0,
          5708.0,
          8609.0,
          670.0,
          19878.0,
          219539.0,
          66188.0,
          119010.0,
          26266.0,
          688.0,
          67736.0,
          388478.0,
          1468.0,
          null,
          47.0,
          409.0,
          2.0,
          123.0,
          29.0,
          122.0,
          77.0,
          9618.0,
          1971.0,
          17881.0,
          172.0,
          126.0,
          1722.0,
          21035.0,
          7078.0,
          153.0,
          1361.0,
          102595.0,
          1350329.0,
          34093.0,
          138.0,
          119479.0,
          16830.0,
          5017.0,
          1404.0,
          23777.0,
          14210.0,
          3164.0,
          17672.0,
          125.0,
          846.0,
          33918.0,
          138.0,
          290.0,
          13.0,
          4355.0,
          29341.0,
          101492.0,
          38.0,
          null,
          3630.0,
          119283.0,
          2349.0,
          219948.0,
          1123836.0,
          2608854.0,
          7617.0,
          1637.0,
          14.0,
          null,
          5854.0,
          43186.0,
          7.0,
          6881575.0,
          2159.0,
          4057.0,
          5671.0
         ],
         "yaxis": "y",
         "type": "scatter"
        }
       ],
       "layout": {
        "template": {
         "data": {
          "histogram2dcontour": [
           {
            "type": "histogram2dcontour",
            "colorbar": {
             "outlinewidth": 0,
             "ticks": ""
            },
            "colorscale": [
             [
              0.0,
              "#0d0887"
             ],
             [
              0.1111111111111111,
              "#46039f"
             ],
             [
              0.2222222222222222,
              "#7201a8"
             ],
             [
              0.3333333333333333,
              "#9c179e"
             ],
             [
              0.4444444444444444,
              "#bd3786"
             ],
             [
              0.5555555555555556,
              "#d8576b"
             ],
             [
              0.6666666666666666,
              "#ed7953"
             ],
             [
              0.7777777777777778,
              "#fb9f3a"
             ],
             [
              0.8888888888888888,
              "#fdca26"
             ],
             [
              1.0,
              "#f0f921"
             ]
            ]
           }
          ],
          "choropleth": [
           {
            "type": "choropleth",
            "colorbar": {
             "outlinewidth": 0,
             "ticks": ""
            }
           }
          ],
          "histogram2d": [
           {
            "type": "histogram2d",
            "colorbar": {
             "outlinewidth": 0,
             "ticks": ""
            },
            "colorscale": [
             [
              0.0,
              "#0d0887"
             ],
             [
              0.1111111111111111,
              "#46039f"
             ],
             [
              0.2222222222222222,
              "#7201a8"
             ],
             [
              0.3333333333333333,
              "#9c179e"
             ],
             [
              0.4444444444444444,
              "#bd3786"
             ],
             [
              0.5555555555555556,
              "#d8576b"
             ],
             [
              0.6666666666666666,
              "#ed7953"
             ],
             [
              0.7777777777777778,
              "#fb9f3a"
             ],
             [
              0.8888888888888888,
              "#fdca26"
             ],
             [
              1.0,
              "#f0f921"
             ]
            ]
           }
          ],
          "heatmap": [
           {
            "type": "heatmap",
            "colorbar": {
             "outlinewidth": 0,
             "ticks": ""
            },
            "colorscale": [
             [
              0.0,
              "#0d0887"
             ],
             [
              0.1111111111111111,
              "#46039f"
             ],
             [
              0.2222222222222222,
              "#7201a8"
             ],
             [
              0.3333333333333333,
              "#9c179e"
             ],
             [
              0.4444444444444444,
              "#bd3786"
             ],
             [
              0.5555555555555556,
              "#d8576b"
             ],
             [
              0.6666666666666666,
              "#ed7953"
             ],
             [
              0.7777777777777778,
              "#fb9f3a"
             ],
             [
              0.8888888888888888,
              "#fdca26"
             ],
             [
              1.0,
              "#f0f921"
             ]
            ]
           }
          ],
          "heatmapgl": [
           {
            "type": "heatmapgl",
            "colorbar": {
             "outlinewidth": 0,
             "ticks": ""
            },
            "colorscale": [
             [
              0.0,
              "#0d0887"
             ],
             [
              0.1111111111111111,
              "#46039f"
             ],
             [
              0.2222222222222222,
              "#7201a8"
             ],
             [
              0.3333333333333333,
              "#9c179e"
             ],
             [
              0.4444444444444444,
              "#bd3786"
             ],
             [
              0.5555555555555556,
              "#d8576b"
             ],
             [
              0.6666666666666666,
              "#ed7953"
             ],
             [
              0.7777777777777778,
              "#fb9f3a"
             ],
             [
              0.8888888888888888,
              "#fdca26"
             ],
             [
              1.0,
              "#f0f921"
             ]
            ]
           }
          ],
          "contourcarpet": [
           {
            "type": "contourcarpet",
            "colorbar": {
             "outlinewidth": 0,
             "ticks": ""
            }
           }
          ],
          "contour": [
           {
            "type": "contour",
            "colorbar": {
             "outlinewidth": 0,
             "ticks": ""
            },
            "colorscale": [
             [
              0.0,
              "#0d0887"
             ],
             [
              0.1111111111111111,
              "#46039f"
             ],
             [
              0.2222222222222222,
              "#7201a8"
             ],
             [
              0.3333333333333333,
              "#9c179e"
             ],
             [
              0.4444444444444444,
              "#bd3786"
             ],
             [
              0.5555555555555556,
              "#d8576b"
             ],
             [
              0.6666666666666666,
              "#ed7953"
             ],
             [
              0.7777777777777778,
              "#fb9f3a"
             ],
             [
              0.8888888888888888,
              "#fdca26"
             ],
             [
              1.0,
              "#f0f921"
             ]
            ]
           }
          ],
          "surface": [
           {
            "type": "surface",
            "colorbar": {
             "outlinewidth": 0,
             "ticks": ""
            },
            "colorscale": [
             [
              0.0,
              "#0d0887"
             ],
             [
              0.1111111111111111,
              "#46039f"
             ],
             [
              0.2222222222222222,
              "#7201a8"
             ],
             [
              0.3333333333333333,
              "#9c179e"
             ],
             [
              0.4444444444444444,
              "#bd3786"
             ],
             [
              0.5555555555555556,
              "#d8576b"
             ],
             [
              0.6666666666666666,
              "#ed7953"
             ],
             [
              0.7777777777777778,
              "#fb9f3a"
             ],
             [
              0.8888888888888888,
              "#fdca26"
             ],
             [
              1.0,
              "#f0f921"
             ]
            ]
           }
          ],
          "mesh3d": [
           {
            "type": "mesh3d",
            "colorbar": {
             "outlinewidth": 0,
             "ticks": ""
            }
           }
          ],
          "scatter": [
           {
            "marker": {
             "line": {
              "color": "#283442"
             }
            },
            "type": "scatter"
           }
          ],
          "parcoords": [
           {
            "type": "parcoords",
            "line": {
             "colorbar": {
              "outlinewidth": 0,
              "ticks": ""
             }
            }
           }
          ],
          "scatterpolargl": [
           {
            "type": "scatterpolargl",
            "marker": {
             "colorbar": {
              "outlinewidth": 0,
              "ticks": ""
             }
            }
           }
          ],
          "bar": [
           {
            "error_x": {
             "color": "#f2f5fa"
            },
            "error_y": {
             "color": "#f2f5fa"
            },
            "marker": {
             "line": {
              "color": "rgb(17,17,17)",
              "width": 0.5
             },
             "pattern": {
              "fillmode": "overlay",
              "size": 10,
              "solidity": 0.2
             }
            },
            "type": "bar"
           }
          ],
          "scattergeo": [
           {
            "type": "scattergeo",
            "marker": {
             "colorbar": {
              "outlinewidth": 0,
              "ticks": ""
             }
            }
           }
          ],
          "scatterpolar": [
           {
            "type": "scatterpolar",
            "marker": {
             "colorbar": {
              "outlinewidth": 0,
              "ticks": ""
             }
            }
           }
          ],
          "histogram": [
           {
            "marker": {
             "pattern": {
              "fillmode": "overlay",
              "size": 10,
              "solidity": 0.2
             }
            },
            "type": "histogram"
           }
          ],
          "scattergl": [
           {
            "marker": {
             "line": {
              "color": "#283442"
             }
            },
            "type": "scattergl"
           }
          ],
          "scatter3d": [
           {
            "type": "scatter3d",
            "line": {
             "colorbar": {
              "outlinewidth": 0,
              "ticks": ""
             }
            },
            "marker": {
             "colorbar": {
              "outlinewidth": 0,
              "ticks": ""
             }
            }
           }
          ],
          "scattermapbox": [
           {
            "type": "scattermapbox",
            "marker": {
             "colorbar": {
              "outlinewidth": 0,
              "ticks": ""
             }
            }
           }
          ],
          "scatterternary": [
           {
            "type": "scatterternary",
            "marker": {
             "colorbar": {
              "outlinewidth": 0,
              "ticks": ""
             }
            }
           }
          ],
          "scattercarpet": [
           {
            "type": "scattercarpet",
            "marker": {
             "colorbar": {
              "outlinewidth": 0,
              "ticks": ""
             }
            }
           }
          ],
          "carpet": [
           {
            "aaxis": {
             "endlinecolor": "#A2B1C6",
             "gridcolor": "#506784",
             "linecolor": "#506784",
             "minorgridcolor": "#506784",
             "startlinecolor": "#A2B1C6"
            },
            "baxis": {
             "endlinecolor": "#A2B1C6",
             "gridcolor": "#506784",
             "linecolor": "#506784",
             "minorgridcolor": "#506784",
             "startlinecolor": "#A2B1C6"
            },
            "type": "carpet"
           }
          ],
          "table": [
           {
            "cells": {
             "fill": {
              "color": "#506784"
             },
             "line": {
              "color": "rgb(17,17,17)"
             }
            },
            "header": {
             "fill": {
              "color": "#2a3f5f"
             },
             "line": {
              "color": "rgb(17,17,17)"
             }
            },
            "type": "table"
           }
          ],
          "barpolar": [
           {
            "marker": {
             "line": {
              "color": "rgb(17,17,17)",
              "width": 0.5
             },
             "pattern": {
              "fillmode": "overlay",
              "size": 10,
              "solidity": 0.2
             }
            },
            "type": "barpolar"
           }
          ],
          "pie": [
           {
            "automargin": true,
            "type": "pie"
           }
          ]
         },
         "layout": {
          "autotypenumbers": "strict",
          "colorway": [
           "#636efa",
           "#EF553B",
           "#00cc96",
           "#ab63fa",
           "#FFA15A",
           "#19d3f3",
           "#FF6692",
           "#B6E880",
           "#FF97FF",
           "#FECB52"
          ],
          "font": {
           "color": "#f2f5fa"
          },
          "hovermode": "closest",
          "hoverlabel": {
           "align": "left"
          },
          "paper_bgcolor": "rgb(17,17,17)",
          "plot_bgcolor": "rgb(17,17,17)",
          "polar": {
           "bgcolor": "rgb(17,17,17)",
           "angularaxis": {
            "gridcolor": "#506784",
            "linecolor": "#506784",
            "ticks": ""
           },
           "radialaxis": {
            "gridcolor": "#506784",
            "linecolor": "#506784",
            "ticks": ""
           }
          },
          "ternary": {
           "bgcolor": "rgb(17,17,17)",
           "aaxis": {
            "gridcolor": "#506784",
            "linecolor": "#506784",
            "ticks": ""
           },
           "baxis": {
            "gridcolor": "#506784",
            "linecolor": "#506784",
            "ticks": ""
           },
           "caxis": {
            "gridcolor": "#506784",
            "linecolor": "#506784",
            "ticks": ""
           }
          },
          "coloraxis": {
           "colorbar": {
            "outlinewidth": 0,
            "ticks": ""
           }
          },
          "colorscale": {
           "sequential": [
            [
             0.0,
             "#0d0887"
            ],
            [
             0.1111111111111111,
             "#46039f"
            ],
            [
             0.2222222222222222,
             "#7201a8"
            ],
            [
             0.3333333333333333,
             "#9c179e"
            ],
            [
             0.4444444444444444,
             "#bd3786"
            ],
            [
             0.5555555555555556,
             "#d8576b"
            ],
            [
             0.6666666666666666,
             "#ed7953"
            ],
            [
             0.7777777777777778,
             "#fb9f3a"
            ],
            [
             0.8888888888888888,
             "#fdca26"
            ],
            [
             1.0,
             "#f0f921"
            ]
           ],
           "sequentialminus": [
            [
             0.0,
             "#0d0887"
            ],
            [
             0.1111111111111111,
             "#46039f"
            ],
            [
             0.2222222222222222,
             "#7201a8"
            ],
            [
             0.3333333333333333,
             "#9c179e"
            ],
            [
             0.4444444444444444,
             "#bd3786"
            ],
            [
             0.5555555555555556,
             "#d8576b"
            ],
            [
             0.6666666666666666,
             "#ed7953"
            ],
            [
             0.7777777777777778,
             "#fb9f3a"
            ],
            [
             0.8888888888888888,
             "#fdca26"
            ],
            [
             1.0,
             "#f0f921"
            ]
           ],
           "diverging": [
            [
             0,
             "#8e0152"
            ],
            [
             0.1,
             "#c51b7d"
            ],
            [
             0.2,
             "#de77ae"
            ],
            [
             0.3,
             "#f1b6da"
            ],
            [
             0.4,
             "#fde0ef"
            ],
            [
             0.5,
             "#f7f7f7"
            ],
            [
             0.6,
             "#e6f5d0"
            ],
            [
             0.7,
             "#b8e186"
            ],
            [
             0.8,
             "#7fbc41"
            ],
            [
             0.9,
             "#4d9221"
            ],
            [
             1,
             "#276419"
            ]
           ]
          },
          "xaxis": {
           "gridcolor": "#283442",
           "linecolor": "#506784",
           "ticks": "",
           "title": {
            "standoff": 15
           },
           "zerolinecolor": "#283442",
           "automargin": true,
           "zerolinewidth": 2
          },
          "yaxis": {
           "gridcolor": "#283442",
           "linecolor": "#506784",
           "ticks": "",
           "title": {
            "standoff": 15
           },
           "zerolinecolor": "#283442",
           "automargin": true,
           "zerolinewidth": 2
          },
          "scene": {
           "xaxis": {
            "backgroundcolor": "rgb(17,17,17)",
            "gridcolor": "#506784",
            "linecolor": "#506784",
            "showbackground": true,
            "ticks": "",
            "zerolinecolor": "#C8D4E3",
            "gridwidth": 2
           },
           "yaxis": {
            "backgroundcolor": "rgb(17,17,17)",
            "gridcolor": "#506784",
            "linecolor": "#506784",
            "showbackground": true,
            "ticks": "",
            "zerolinecolor": "#C8D4E3",
            "gridwidth": 2
           },
           "zaxis": {
            "backgroundcolor": "rgb(17,17,17)",
            "gridcolor": "#506784",
            "linecolor": "#506784",
            "showbackground": true,
            "ticks": "",
            "zerolinecolor": "#C8D4E3",
            "gridwidth": 2
           }
          },
          "shapedefaults": {
           "line": {
            "color": "#f2f5fa"
           }
          },
          "annotationdefaults": {
           "arrowcolor": "#f2f5fa",
           "arrowhead": 0,
           "arrowwidth": 1
          },
          "geo": {
           "bgcolor": "rgb(17,17,17)",
           "landcolor": "rgb(17,17,17)",
           "subunitcolor": "#506784",
           "showland": true,
           "showlakes": true,
           "lakecolor": "rgb(17,17,17)"
          },
          "title": {
           "x": 0.05
          },
          "updatemenudefaults": {
           "bgcolor": "#506784",
           "borderwidth": 0
          },
          "sliderdefaults": {
           "bgcolor": "#C8D4E3",
           "borderwidth": 1,
           "bordercolor": "rgb(17,17,17)",
           "tickwidth": 0
          },
          "mapbox": {
           "style": "dark"
          }
         }
        },
        "xaxis": {
         "anchor": "y",
         "domain": [
          0.0,
          1.0
         ],
         "title": {
          "text": "Total Cases"
         }
        },
        "yaxis": {
         "anchor": "x",
         "domain": [
          0.0,
          1.0
         ],
         "title": {
          "text": "Total Deaths"
         }
        },
        "coloraxis": {
         "colorbar": {
          "title": {
           "text": "New Cases"
          }
         },
         "colorscale": [
          [
           0.0,
           "#0d0887"
          ],
          [
           0.1111111111111111,
           "#46039f"
          ],
          [
           0.2222222222222222,
           "#7201a8"
          ],
          [
           0.3333333333333333,
           "#9c179e"
          ],
          [
           0.4444444444444444,
           "#bd3786"
          ],
          [
           0.5555555555555556,
           "#d8576b"
          ],
          [
           0.6666666666666666,
           "#ed7953"
          ],
          [
           0.7777777777777778,
           "#fb9f3a"
          ],
          [
           0.8888888888888888,
           "#fdca26"
          ],
          [
           1.0,
           "#f0f921"
          ]
         ]
        },
        "legend": {
         "tracegroupgap": 0
        },
        "title": {
         "text": "Scatter Plot of Total Cases vs Total Deaths on 2023-03-09 (Colored by New Cases)"
        }
       },
       "config": {
        "plotlyServerURL": "https://plot.ly"
       }
      },
      "text/html": "<div>                            <div id=\"c82909c9-e55a-49dd-a11e-30424198658e\" class=\"plotly-graph-div\" style=\"height:525px; width:100%;\"></div>            <script type=\"text/javascript\">                require([\"plotly\"], function(Plotly) {                    window.PLOTLYENV=window.PLOTLYENV || {};                                    if (document.getElementById(\"c82909c9-e55a-49dd-a11e-30424198658e\")) {                    Plotly.newPlot(                        \"c82909c9-e55a-49dd-a11e-30424198658e\",                        [{\"customdata\":[[\"Afghanistan\"],[\"Africa\"],[\"Albania\"],[\"Algeria\"],[\"Andorra\"],[\"Angola\"],[\"Anguilla\"],[\"Antigua and Barbuda\"],[\"Argentina\"],[\"Armenia\"],[\"Aruba\"],[\"Asia\"],[\"Australia\"],[\"Austria\"],[\"Azerbaijan\"],[\"Bahamas\"],[\"Bahrain\"],[\"Bangladesh\"],[\"Barbados\"],[\"Belarus\"],[\"Belgium\"],[\"Belize\"],[\"Benin\"],[\"Bermuda\"],[\"Bhutan\"],[\"Bolivia\"],[\"Bonaire Sint Eustatius and Saba\"],[\"Bosnia and Herzegovina\"],[\"Botswana\"],[\"Brazil\"],[\"British Virgin Islands\"],[\"Brunei\"],[\"Bulgaria\"],[\"Burkina Faso\"],[\"Burundi\"],[\"Cambodia\"],[\"Cameroon\"],[\"Canada\"],[\"Cape Verde\"],[\"Cayman Islands\"],[\"Central African Republic\"],[\"Chad\"],[\"Chile\"],[\"China\"],[\"Colombia\"],[\"Comoros\"],[\"Congo\"],[\"Cook Islands\"],[\"Costa Rica\"],[\"Cote d'Ivoire\"],[\"Croatia\"],[\"Cuba\"],[\"Curacao\"],[\"Cyprus\"],[\"Czechia\"],[\"Democratic Republic of Congo\"],[\"Denmark\"],[\"Djibouti\"],[\"Dominica\"],[\"Dominican Republic\"],[\"Ecuador\"],[\"Egypt\"],[\"El Salvador\"],[\"Equatorial Guinea\"],[\"Eritrea\"],[\"Estonia\"],[\"Eswatini\"],[\"Ethiopia\"],[\"Europe\"],[\"European Union\"],[\"Faeroe Islands\"],[\"Falkland Islands\"],[\"Fiji\"],[\"Finland\"],[\"France\"],[\"French Polynesia\"],[\"Gabon\"],[\"Gambia\"],[\"Georgia\"],[\"Germany\"],[\"Ghana\"],[\"Gibraltar\"],[\"Greece\"],[\"Greenland\"],[\"Grenada\"],[\"Guatemala\"],[\"Guinea\"],[\"Guinea-Bissau\"],[\"Guyana\"],[\"Haiti\"],[\"High income\"],[\"Honduras\"],[\"Hong Kong\"],[\"Hungary\"],[\"Iceland\"],[\"India\"],[\"Indonesia\"],[\"International\"],[\"Iran\"],[\"Iraq\"],[\"Ireland\"],[\"Isle of Man\"],[\"Israel\"],[\"Italy\"],[\"Jamaica\"],[\"Japan\"],[\"Jordan\"],[\"Kazakhstan\"],[\"Kenya\"],[\"Kiribati\"],[\"Kosovo\"],[\"Kuwait\"],[\"Kyrgyzstan\"],[\"Laos\"],[\"Latvia\"],[\"Lebanon\"],[\"Lesotho\"],[\"Liberia\"],[\"Libya\"],[\"Liechtenstein\"],[\"Lithuania\"],[\"Low income\"],[\"Lower middle income\"],[\"Luxembourg\"],[\"Macao\"],[\"Madagascar\"],[\"Malawi\"],[\"Malaysia\"],[\"Maldives\"],[\"Mali\"],[\"Malta\"],[\"Marshall Islands\"],[\"Mauritania\"],[\"Mauritius\"],[\"Mexico\"],[\"Micronesia (country)\"],[\"Moldova\"],[\"Monaco\"],[\"Mongolia\"],[\"Montenegro\"],[\"Montserrat\"],[\"Morocco\"],[\"Mozambique\"],[\"Myanmar\"],[\"Namibia\"],[\"Nauru\"],[\"Nepal\"],[\"Netherlands\"],[\"New Caledonia\"],[\"New Zealand\"],[\"Nicaragua\"],[\"Niger\"],[\"Nigeria\"],[\"North America\"],[\"North Korea\"],[\"North Macedonia\"],[\"Norway\"],[\"Oceania\"],[\"Oman\"],[\"Pakistan\"],[\"Palau\"],[\"Palestine\"],[\"Panama\"],[\"Papua New Guinea\"],[\"Paraguay\"],[\"Peru\"],[\"Philippines\"],[\"Poland\"],[\"Portugal\"],[\"Qatar\"],[\"Romania\"],[\"Russia\"],[\"Rwanda\"],[\"Saint Helena\"],[\"Saint Kitts and Nevis\"],[\"Saint Lucia\"],[\"Saint Pierre and Miquelon\"],[\"Saint Vincent and the Grenadines\"],[\"Samoa\"],[\"San Marino\"],[\"Sao Tome and Principe\"],[\"Saudi Arabia\"],[\"Senegal\"],[\"Serbia\"],[\"Seychelles\"],[\"Sierra Leone\"],[\"Singapore\"],[\"Slovakia\"],[\"Slovenia\"],[\"Solomon Islands\"],[\"Somalia\"],[\"South Africa\"],[\"South America\"],[\"South Korea\"],[\"South Sudan\"],[\"Spain\"],[\"Sri Lanka\"],[\"Sudan\"],[\"Suriname\"],[\"Sweden\"],[\"Switzerland\"],[\"Syria\"],[\"Taiwan\"],[\"Tajikistan\"],[\"Tanzania\"],[\"Thailand\"],[\"Timor\"],[\"Togo\"],[\"Tonga\"],[\"Trinidad and Tobago\"],[\"Tunisia\"],[\"Turkey\"],[\"Turks and Caicos Islands\"],[\"Tuvalu\"],[\"Uganda\"],[\"Ukraine\"],[\"United Arab Emirates\"],[\"United Kingdom\"],[\"United States\"],[\"Upper middle income\"],[\"Uruguay\"],[\"Uzbekistan\"],[\"Vanuatu\"],[\"Vatican\"],[\"Venezuela\"],[\"Vietnam\"],[\"Wallis and Futuna\"],[\"World\"],[\"Yemen\"],[\"Zambia\"],[\"Zimbabwe\"]],\"hovertemplate\":\"Total Cases=%{x}<br>Total Deaths=%{y}<br>Country/Region=%{customdata[0]}<br>New Cases=%{marker.color}<extra></extra>\",\"legendgroup\":\"\",\"marker\":{\"color\":[0.0,451.0,14.0,2.0,0.0,0.0,0.0,0.0,null,null,0.0,23308.0,13926.0,5283.0,6.0,0.0,387.0,0.0,153.0,0.0,11570.0,0.0,0.0,0.0,0.0,90.0,0.0,0.0,0.0,null,0.0,null,72.0,0.0,0.0,0.0,0.0,4041.0,0.0,0.0,0.0,0.0,3906.0,0.0,null,0.0,0.0,0.0,null,8.0,null,6.0,0.0,null,1142.0,0.0,139.0,0.0,0.0,0.0,0.0,0.0,0.0,0.0,0.0,0.0,0.0,14.0,80366.0,38074.0,0.0,0.0,1.0,668.0,6308.0,0.0,0.0,0.0,null,7829.0,0.0,0.0,0.0,0.0,0.0,198.0,0.0,0.0,0.0,0.0,157348.0,0.0,0.0,null,0.0,440.0,307.0,0.0,315.0,0.0,null,0.0,660.0,null,129.0,9834.0,0.0,0.0,0.0,0.0,21.0,null,0.0,0.0,27.0,179.0,0.0,0.0,0.0,0.0,null,15.0,1682.0,null,0.0,0.0,0.0,279.0,0.0,1.0,null,0.0,0.0,null,3809.0,0.0,null,0.0,0.0,56.0,0.0,0.0,null,1.0,0.0,0.0,4.0,null,0.0,1.0,0.0,0.0,0.0,55271.0,0.0,0.0,53.0,13928.0,0.0,73.0,0.0,0.0,null,0.0,0.0,null,150.0,3459.0,null,108.0,null,12385.0,0.0,0.0,0.0,0.0,0.0,0.0,0.0,0.0,0.0,83.0,0.0,873.0,0.0,0.0,null,262.0,511.0,0.0,0.0,426.0,4001.0,10335.0,0.0,null,2.0,0.0,0.0,804.0,null,0.0,0.0,0.0,0.0,null,0.0,0.0,0.0,null,null,0.0,4.0,0.0,0.0,111.0,145.0,28779.0,46931.0,18280.0,0.0,null,0.0,0.0,5.0,0.0,0.0,177325.0,0.0,0.0,null],\"coloraxis\":\"coloraxis\",\"symbol\":\"circle\"},\"mode\":\"markers\",\"name\":\"\",\"orientation\":\"v\",\"showlegend\":false,\"x\":[209451.0,12524604.0,334457.0,271496.0,47890.0,105288.0,3904.0,9106.0,10044957.0,447308.0,44044.0,210767366.0,11399460.0,5961143.0,828825.0,37491.0,710693.0,2037871.0,106798.0,994037.0,4739365.0,70757.0,27999.0,18828.0,62627.0,1194277.0,11804.0,401729.0,329758.0,37076053.0,7305.0,279661.0,1297523.0,22056.0,53631.0,138719.0,124392.0,4617095.0,63244.0,31472.0,15368.0,7679.0,5192286.0,2023904.0,6359093.0,9008.0,25087.0,7031.0,1209725.0,88263.0,1269326.0,1112643.0,45986.0,650685.0,4618256.0,95749.0,3404407.0,15690.0,15760.0,660790.0,1057121.0,515759.0,201785.0,17229.0,10189.0,615433.0,74267.0,500116.0,248452416.0,184184098.0,34658.0,1930.0,68898.0,1463644.0,39701767.0,78055.0,48981.0,12598.0,1827537.0,38249060.0,171229.0,20433.0,5548487.0,11971.0,19680.0,1238247.0,38267.0,8960.0,73075.0,34202.0,431911049.0,472250.0,2876106.0,2196804.0,209137.0,44690738.0,6738225.0,721.0,7572311.0,2465545.0,1704502.0,38008.0,4803824.0,25603510.0,154416.0,33320438.0,1746997.0,1498668.0,342937.0,5014.0,273312.0,663860.0,206708.0,218023.0,976255.0,1232828.0,34790.0,8090.0,507187.0,21432.0,1307448.0,2287497.0,97175431.0,317367.0,3514.0,67889.0,88707.0,5044718.0,185738.0,33062.0,117610.0,15649.0,63668.0,296042.0,7483444.0,23948.0,611140.0,16121.0,1007900.0,288808.0,1403.0,1272490.0,233214.0,633950.0,171156.0,5247.0,1001154.0,8611001.0,80017.0,2229083.0,15655.0,9508.0,266598.0,122717115.0,1.0,346852.0,1479506.0,14041456.0,399449.0,1577411.0,5991.0,703228.0,1031731.0,46825.0,808401.0,4487553.0,4077452.0,6444960.0,5570473.0,495090.0,3346046.0,22075858.0,133194.0,2166.0,6597.0,30004.0,3452.0,9589.0,16607.0,23616.0,6281.0,830127.0,88926.0,2500142.0,50665.0,7760.0,2235294.0,2667551.0,1331707.0,24575.0,27324.0,4067067.0,67963678.0,30615522.0,18368.0,13770429.0,672039.0,63829.0,82467.0,2699339.0,4413911.0,57467.0,9970937.0,17786.0,42906.0,4728182.0,23419.0,39396.0,16810.0,189918.0,1151126.0,17042722.0,6561.0,2805.0,170544.0,5711929.0,1053213.0,24425313.0,103802702.0,145057512.0,1034303.0,251247.0,12014.0,29.0,552162.0,11526994.0,3427.0,676467356.0,11945.0,343135.0,264276.0],\"xaxis\":\"x\",\"y\":[7896.0,257705.0,3598.0,6881.0,165.0,1933.0,12.0,146.0,130472.0,8727.0,282.0,1623684.0,19574.0,21970.0,10138.0,833.0,1553.0,29445.0,579.0,7118.0,33814.0,688.0,163.0,160.0,21.0,22365.0,41.0,16280.0,2801.0,699276.0,64.0,225.0,38228.0,396.0,38.0,3056.0,1965.0,51720.0,413.0,37.0,113.0,194.0,64273.0,87468.0,142339.0,161.0,388.0,2.0,9245.0,834.0,17987.0,8530.0,301.0,1330.0,42491.0,1464.0,8296.0,189.0,74.0,4384.0,36014.0,24812.0,4230.0,183.0,103.0,2946.0,1425.0,7572.0,2036768.0,1216114.0,28.0,null,883.0,8967.0,165204.0,649.0,306.0,372.0,16971.0,168935.0,1462.0,111.0,34779.0,21.0,238.0,20182.0,467.0,176.0,1298.0,860.0,2878426.0,11111.0,13467.0,48762.0,263.0,530779.0,160941.0,15.0,144933.0,25375.0,8708.0,116.0,12329.0,188322.0,3514.0,72997.0,14122.0,19071.0,5688.0,18.0,3211.0,2570.0,2991.0,758.0,6269.0,10841.0,723.0,295.0,6437.0,89.0,9596.0,47911.0,1346297.0,1220.0,121.0,1423.0,2686.0,36967.0,311.0,743.0,828.0,17.0,997.0,1044.0,333188.0,61.0,12003.0,67.0,2136.0,2808.0,8.0,16296.0,2242.0,19490.0,4090.0,1.0,12020.0,23081.0,314.0,2548.0,245.0,315.0,3155.0,1588112.0,6.0,9662.0,5213.0,24962.0,4628.0,30644.0,9.0,5708.0,8609.0,670.0,19878.0,219539.0,66188.0,119010.0,26266.0,688.0,67736.0,388478.0,1468.0,null,47.0,409.0,2.0,123.0,29.0,122.0,77.0,9618.0,1971.0,17881.0,172.0,126.0,1722.0,21035.0,7078.0,153.0,1361.0,102595.0,1350329.0,34093.0,138.0,119479.0,16830.0,5017.0,1404.0,23777.0,14210.0,3164.0,17672.0,125.0,846.0,33918.0,138.0,290.0,13.0,4355.0,29341.0,101492.0,38.0,null,3630.0,119283.0,2349.0,219948.0,1123836.0,2608854.0,7617.0,1637.0,14.0,null,5854.0,43186.0,7.0,6881575.0,2159.0,4057.0,5671.0],\"yaxis\":\"y\",\"type\":\"scatter\"}],                        {\"template\":{\"data\":{\"histogram2dcontour\":[{\"type\":\"histogram2dcontour\",\"colorbar\":{\"outlinewidth\":0,\"ticks\":\"\"},\"colorscale\":[[0.0,\"#0d0887\"],[0.1111111111111111,\"#46039f\"],[0.2222222222222222,\"#7201a8\"],[0.3333333333333333,\"#9c179e\"],[0.4444444444444444,\"#bd3786\"],[0.5555555555555556,\"#d8576b\"],[0.6666666666666666,\"#ed7953\"],[0.7777777777777778,\"#fb9f3a\"],[0.8888888888888888,\"#fdca26\"],[1.0,\"#f0f921\"]]}],\"choropleth\":[{\"type\":\"choropleth\",\"colorbar\":{\"outlinewidth\":0,\"ticks\":\"\"}}],\"histogram2d\":[{\"type\":\"histogram2d\",\"colorbar\":{\"outlinewidth\":0,\"ticks\":\"\"},\"colorscale\":[[0.0,\"#0d0887\"],[0.1111111111111111,\"#46039f\"],[0.2222222222222222,\"#7201a8\"],[0.3333333333333333,\"#9c179e\"],[0.4444444444444444,\"#bd3786\"],[0.5555555555555556,\"#d8576b\"],[0.6666666666666666,\"#ed7953\"],[0.7777777777777778,\"#fb9f3a\"],[0.8888888888888888,\"#fdca26\"],[1.0,\"#f0f921\"]]}],\"heatmap\":[{\"type\":\"heatmap\",\"colorbar\":{\"outlinewidth\":0,\"ticks\":\"\"},\"colorscale\":[[0.0,\"#0d0887\"],[0.1111111111111111,\"#46039f\"],[0.2222222222222222,\"#7201a8\"],[0.3333333333333333,\"#9c179e\"],[0.4444444444444444,\"#bd3786\"],[0.5555555555555556,\"#d8576b\"],[0.6666666666666666,\"#ed7953\"],[0.7777777777777778,\"#fb9f3a\"],[0.8888888888888888,\"#fdca26\"],[1.0,\"#f0f921\"]]}],\"heatmapgl\":[{\"type\":\"heatmapgl\",\"colorbar\":{\"outlinewidth\":0,\"ticks\":\"\"},\"colorscale\":[[0.0,\"#0d0887\"],[0.1111111111111111,\"#46039f\"],[0.2222222222222222,\"#7201a8\"],[0.3333333333333333,\"#9c179e\"],[0.4444444444444444,\"#bd3786\"],[0.5555555555555556,\"#d8576b\"],[0.6666666666666666,\"#ed7953\"],[0.7777777777777778,\"#fb9f3a\"],[0.8888888888888888,\"#fdca26\"],[1.0,\"#f0f921\"]]}],\"contourcarpet\":[{\"type\":\"contourcarpet\",\"colorbar\":{\"outlinewidth\":0,\"ticks\":\"\"}}],\"contour\":[{\"type\":\"contour\",\"colorbar\":{\"outlinewidth\":0,\"ticks\":\"\"},\"colorscale\":[[0.0,\"#0d0887\"],[0.1111111111111111,\"#46039f\"],[0.2222222222222222,\"#7201a8\"],[0.3333333333333333,\"#9c179e\"],[0.4444444444444444,\"#bd3786\"],[0.5555555555555556,\"#d8576b\"],[0.6666666666666666,\"#ed7953\"],[0.7777777777777778,\"#fb9f3a\"],[0.8888888888888888,\"#fdca26\"],[1.0,\"#f0f921\"]]}],\"surface\":[{\"type\":\"surface\",\"colorbar\":{\"outlinewidth\":0,\"ticks\":\"\"},\"colorscale\":[[0.0,\"#0d0887\"],[0.1111111111111111,\"#46039f\"],[0.2222222222222222,\"#7201a8\"],[0.3333333333333333,\"#9c179e\"],[0.4444444444444444,\"#bd3786\"],[0.5555555555555556,\"#d8576b\"],[0.6666666666666666,\"#ed7953\"],[0.7777777777777778,\"#fb9f3a\"],[0.8888888888888888,\"#fdca26\"],[1.0,\"#f0f921\"]]}],\"mesh3d\":[{\"type\":\"mesh3d\",\"colorbar\":{\"outlinewidth\":0,\"ticks\":\"\"}}],\"scatter\":[{\"marker\":{\"line\":{\"color\":\"#283442\"}},\"type\":\"scatter\"}],\"parcoords\":[{\"type\":\"parcoords\",\"line\":{\"colorbar\":{\"outlinewidth\":0,\"ticks\":\"\"}}}],\"scatterpolargl\":[{\"type\":\"scatterpolargl\",\"marker\":{\"colorbar\":{\"outlinewidth\":0,\"ticks\":\"\"}}}],\"bar\":[{\"error_x\":{\"color\":\"#f2f5fa\"},\"error_y\":{\"color\":\"#f2f5fa\"},\"marker\":{\"line\":{\"color\":\"rgb(17,17,17)\",\"width\":0.5},\"pattern\":{\"fillmode\":\"overlay\",\"size\":10,\"solidity\":0.2}},\"type\":\"bar\"}],\"scattergeo\":[{\"type\":\"scattergeo\",\"marker\":{\"colorbar\":{\"outlinewidth\":0,\"ticks\":\"\"}}}],\"scatterpolar\":[{\"type\":\"scatterpolar\",\"marker\":{\"colorbar\":{\"outlinewidth\":0,\"ticks\":\"\"}}}],\"histogram\":[{\"marker\":{\"pattern\":{\"fillmode\":\"overlay\",\"size\":10,\"solidity\":0.2}},\"type\":\"histogram\"}],\"scattergl\":[{\"marker\":{\"line\":{\"color\":\"#283442\"}},\"type\":\"scattergl\"}],\"scatter3d\":[{\"type\":\"scatter3d\",\"line\":{\"colorbar\":{\"outlinewidth\":0,\"ticks\":\"\"}},\"marker\":{\"colorbar\":{\"outlinewidth\":0,\"ticks\":\"\"}}}],\"scattermapbox\":[{\"type\":\"scattermapbox\",\"marker\":{\"colorbar\":{\"outlinewidth\":0,\"ticks\":\"\"}}}],\"scatterternary\":[{\"type\":\"scatterternary\",\"marker\":{\"colorbar\":{\"outlinewidth\":0,\"ticks\":\"\"}}}],\"scattercarpet\":[{\"type\":\"scattercarpet\",\"marker\":{\"colorbar\":{\"outlinewidth\":0,\"ticks\":\"\"}}}],\"carpet\":[{\"aaxis\":{\"endlinecolor\":\"#A2B1C6\",\"gridcolor\":\"#506784\",\"linecolor\":\"#506784\",\"minorgridcolor\":\"#506784\",\"startlinecolor\":\"#A2B1C6\"},\"baxis\":{\"endlinecolor\":\"#A2B1C6\",\"gridcolor\":\"#506784\",\"linecolor\":\"#506784\",\"minorgridcolor\":\"#506784\",\"startlinecolor\":\"#A2B1C6\"},\"type\":\"carpet\"}],\"table\":[{\"cells\":{\"fill\":{\"color\":\"#506784\"},\"line\":{\"color\":\"rgb(17,17,17)\"}},\"header\":{\"fill\":{\"color\":\"#2a3f5f\"},\"line\":{\"color\":\"rgb(17,17,17)\"}},\"type\":\"table\"}],\"barpolar\":[{\"marker\":{\"line\":{\"color\":\"rgb(17,17,17)\",\"width\":0.5},\"pattern\":{\"fillmode\":\"overlay\",\"size\":10,\"solidity\":0.2}},\"type\":\"barpolar\"}],\"pie\":[{\"automargin\":true,\"type\":\"pie\"}]},\"layout\":{\"autotypenumbers\":\"strict\",\"colorway\":[\"#636efa\",\"#EF553B\",\"#00cc96\",\"#ab63fa\",\"#FFA15A\",\"#19d3f3\",\"#FF6692\",\"#B6E880\",\"#FF97FF\",\"#FECB52\"],\"font\":{\"color\":\"#f2f5fa\"},\"hovermode\":\"closest\",\"hoverlabel\":{\"align\":\"left\"},\"paper_bgcolor\":\"rgb(17,17,17)\",\"plot_bgcolor\":\"rgb(17,17,17)\",\"polar\":{\"bgcolor\":\"rgb(17,17,17)\",\"angularaxis\":{\"gridcolor\":\"#506784\",\"linecolor\":\"#506784\",\"ticks\":\"\"},\"radialaxis\":{\"gridcolor\":\"#506784\",\"linecolor\":\"#506784\",\"ticks\":\"\"}},\"ternary\":{\"bgcolor\":\"rgb(17,17,17)\",\"aaxis\":{\"gridcolor\":\"#506784\",\"linecolor\":\"#506784\",\"ticks\":\"\"},\"baxis\":{\"gridcolor\":\"#506784\",\"linecolor\":\"#506784\",\"ticks\":\"\"},\"caxis\":{\"gridcolor\":\"#506784\",\"linecolor\":\"#506784\",\"ticks\":\"\"}},\"coloraxis\":{\"colorbar\":{\"outlinewidth\":0,\"ticks\":\"\"}},\"colorscale\":{\"sequential\":[[0.0,\"#0d0887\"],[0.1111111111111111,\"#46039f\"],[0.2222222222222222,\"#7201a8\"],[0.3333333333333333,\"#9c179e\"],[0.4444444444444444,\"#bd3786\"],[0.5555555555555556,\"#d8576b\"],[0.6666666666666666,\"#ed7953\"],[0.7777777777777778,\"#fb9f3a\"],[0.8888888888888888,\"#fdca26\"],[1.0,\"#f0f921\"]],\"sequentialminus\":[[0.0,\"#0d0887\"],[0.1111111111111111,\"#46039f\"],[0.2222222222222222,\"#7201a8\"],[0.3333333333333333,\"#9c179e\"],[0.4444444444444444,\"#bd3786\"],[0.5555555555555556,\"#d8576b\"],[0.6666666666666666,\"#ed7953\"],[0.7777777777777778,\"#fb9f3a\"],[0.8888888888888888,\"#fdca26\"],[1.0,\"#f0f921\"]],\"diverging\":[[0,\"#8e0152\"],[0.1,\"#c51b7d\"],[0.2,\"#de77ae\"],[0.3,\"#f1b6da\"],[0.4,\"#fde0ef\"],[0.5,\"#f7f7f7\"],[0.6,\"#e6f5d0\"],[0.7,\"#b8e186\"],[0.8,\"#7fbc41\"],[0.9,\"#4d9221\"],[1,\"#276419\"]]},\"xaxis\":{\"gridcolor\":\"#283442\",\"linecolor\":\"#506784\",\"ticks\":\"\",\"title\":{\"standoff\":15},\"zerolinecolor\":\"#283442\",\"automargin\":true,\"zerolinewidth\":2},\"yaxis\":{\"gridcolor\":\"#283442\",\"linecolor\":\"#506784\",\"ticks\":\"\",\"title\":{\"standoff\":15},\"zerolinecolor\":\"#283442\",\"automargin\":true,\"zerolinewidth\":2},\"scene\":{\"xaxis\":{\"backgroundcolor\":\"rgb(17,17,17)\",\"gridcolor\":\"#506784\",\"linecolor\":\"#506784\",\"showbackground\":true,\"ticks\":\"\",\"zerolinecolor\":\"#C8D4E3\",\"gridwidth\":2},\"yaxis\":{\"backgroundcolor\":\"rgb(17,17,17)\",\"gridcolor\":\"#506784\",\"linecolor\":\"#506784\",\"showbackground\":true,\"ticks\":\"\",\"zerolinecolor\":\"#C8D4E3\",\"gridwidth\":2},\"zaxis\":{\"backgroundcolor\":\"rgb(17,17,17)\",\"gridcolor\":\"#506784\",\"linecolor\":\"#506784\",\"showbackground\":true,\"ticks\":\"\",\"zerolinecolor\":\"#C8D4E3\",\"gridwidth\":2}},\"shapedefaults\":{\"line\":{\"color\":\"#f2f5fa\"}},\"annotationdefaults\":{\"arrowcolor\":\"#f2f5fa\",\"arrowhead\":0,\"arrowwidth\":1},\"geo\":{\"bgcolor\":\"rgb(17,17,17)\",\"landcolor\":\"rgb(17,17,17)\",\"subunitcolor\":\"#506784\",\"showland\":true,\"showlakes\":true,\"lakecolor\":\"rgb(17,17,17)\"},\"title\":{\"x\":0.05},\"updatemenudefaults\":{\"bgcolor\":\"#506784\",\"borderwidth\":0},\"sliderdefaults\":{\"bgcolor\":\"#C8D4E3\",\"borderwidth\":1,\"bordercolor\":\"rgb(17,17,17)\",\"tickwidth\":0},\"mapbox\":{\"style\":\"dark\"}}},\"xaxis\":{\"anchor\":\"y\",\"domain\":[0.0,1.0],\"title\":{\"text\":\"Total Cases\"}},\"yaxis\":{\"anchor\":\"x\",\"domain\":[0.0,1.0],\"title\":{\"text\":\"Total Deaths\"}},\"coloraxis\":{\"colorbar\":{\"title\":{\"text\":\"New Cases\"}},\"colorscale\":[[0.0,\"#0d0887\"],[0.1111111111111111,\"#46039f\"],[0.2222222222222222,\"#7201a8\"],[0.3333333333333333,\"#9c179e\"],[0.4444444444444444,\"#bd3786\"],[0.5555555555555556,\"#d8576b\"],[0.6666666666666666,\"#ed7953\"],[0.7777777777777778,\"#fb9f3a\"],[0.8888888888888888,\"#fdca26\"],[1.0,\"#f0f921\"]]},\"legend\":{\"tracegroupgap\":0},\"title\":{\"text\":\"Scatter Plot of Total Cases vs Total Deaths on 2023-03-09 (Colored by New Cases)\"}},                        {\"responsive\": true}                    ).then(function(){\n                            \nvar gd = document.getElementById('c82909c9-e55a-49dd-a11e-30424198658e');\nvar x = new MutationObserver(function (mutations, observer) {{\n        var display = window.getComputedStyle(gd).display;\n        if (!display || display === 'none') {{\n            console.log([gd, 'removed!']);\n            Plotly.purge(gd);\n            observer.disconnect();\n        }}\n}});\n\n// Listen for the removal of the full notebook cells\nvar notebookContainer = gd.closest('#notebook-container');\nif (notebookContainer) {{\n    x.observe(notebookContainer, {childList: true});\n}}\n\n// Listen for the clearing of the current output cell\nvar outputEl = gd.closest('.output');\nif (outputEl) {{\n    x.observe(outputEl, {childList: true});\n}}\n\n                        })                };                });            </script>        </div>"
     },
     "metadata": {},
     "output_type": "display_data"
    }
   ],
   "source": [
    "import pandas as pd\n",
    "import plotly.express as px\n",
    "\n",
    "# Reload the data from the uploaded file\n",
    "data = pd.read_csv(\"full_data.csv\")\n",
    "\n",
    "# Filter the data for the latest date\n",
    "latest_date = data['date'].max()\n",
    "latest_data = data[data['date'] == latest_date]\n",
    "\n",
    "# Create scatter plot for total_cases vs total_deaths with colors based on new_cases\n",
    "fig_new_cases = px.scatter(\n",
    "    latest_data,\n",
    "    x='total_cases',\n",
    "    y='total_deaths',\n",
    "    color='new_cases',  # Assigning colors based on new_cases using default sequential colormap\n",
    "    hover_data=['location'],\n",
    "    labels={\n",
    "        'total_cases': 'Total Cases',\n",
    "        'total_deaths': 'Total Deaths',\n",
    "        'location': 'Country/Region',\n",
    "        'new_cases': 'New Cases'\n",
    "    },\n",
    "    title=f\"Scatter Plot of Total Cases vs Total Deaths on {latest_date} (Colored by New Cases)\"\n",
    ")\n",
    "\n",
    "# Show the plot\n",
    "fig_new_cases.show()"
   ],
   "metadata": {
    "collapsed": false,
    "ExecuteTime": {
     "end_time": "2023-11-08T06:39:23.673640Z",
     "start_time": "2023-11-08T06:39:23.510367Z"
    }
   }
  },
  {
   "cell_type": "code",
   "execution_count": 12,
   "outputs": [
    {
     "name": "stderr",
     "output_type": "stream",
     "text": [
      "/var/folders/db/nd0zlsh903504csmxc7d87pm0000gn/T/ipykernel_50731/4062834612.py:12: SettingWithCopyWarning:\n",
      "\n",
      "\n",
      "A value is trying to be set on a copy of a slice from a DataFrame\n",
      "\n",
      "See the caveats in the documentation: https://pandas.pydata.org/pandas-docs/stable/user_guide/indexing.html#returning-a-view-versus-a-copy\n",
      "\n",
      "/var/folders/db/nd0zlsh903504csmxc7d87pm0000gn/T/ipykernel_50731/4062834612.py:16: SettingWithCopyWarning:\n",
      "\n",
      "\n",
      "A value is trying to be set on a copy of a slice from a DataFrame.\n",
      "Try using .loc[row_indexer,col_indexer] = value instead\n",
      "\n",
      "See the caveats in the documentation: https://pandas.pydata.org/pandas-docs/stable/user_guide/indexing.html#returning-a-view-versus-a-copy\n",
      "\n"
     ]
    },
    {
     "data": {
      "application/vnd.plotly.v1+json": {
       "data": [
        {
         "customdata": [
          [
           "Afghanistan",
           0.0
          ]
         ],
         "hovertemplate": "location=%{customdata[0]}<br>Total Cases=%{x}<br>Total Deaths=%{y}<br>size=%{marker.size}<br>New Cases=%{customdata[1]}<extra></extra>",
         "legendgroup": "Afghanistan",
         "marker": {
          "color": "#636efa",
          "size": [
           0.0
          ],
          "sizemode": "area",
          "sizeref": 0.25,
          "symbol": "circle"
         },
         "mode": "markers",
         "name": "Afghanistan",
         "orientation": "v",
         "showlegend": true,
         "x": [
          209451.0
         ],
         "xaxis": "x",
         "y": [
          7896.0
         ],
         "yaxis": "y",
         "type": "scatter"
        },
        {
         "customdata": [
          [
           "Africa",
           451.0
          ]
         ],
         "hovertemplate": "location=%{customdata[0]}<br>Total Cases=%{x}<br>Total Deaths=%{y}<br>size=%{marker.size}<br>New Cases=%{customdata[1]}<extra></extra>",
         "legendgroup": "Africa",
         "marker": {
          "color": "#EF553B",
          "size": [
           0.2543352601156069
          ],
          "sizemode": "area",
          "sizeref": 0.25,
          "symbol": "circle"
         },
         "mode": "markers",
         "name": "Africa",
         "orientation": "v",
         "showlegend": true,
         "x": [
          1.2524604E7
         ],
         "xaxis": "x",
         "y": [
          257705.0
         ],
         "yaxis": "y",
         "type": "scatter"
        },
        {
         "customdata": [
          [
           "Albania",
           14.0
          ]
         ],
         "hovertemplate": "location=%{customdata[0]}<br>Total Cases=%{x}<br>Total Deaths=%{y}<br>size=%{marker.size}<br>New Cases=%{customdata[1]}<extra></extra>",
         "legendgroup": "Albania",
         "marker": {
          "color": "#00cc96",
          "size": [
           0.007895107852812633
          ],
          "sizemode": "area",
          "sizeref": 0.25,
          "symbol": "circle"
         },
         "mode": "markers",
         "name": "Albania",
         "orientation": "v",
         "showlegend": true,
         "x": [
          334457.0
         ],
         "xaxis": "x",
         "y": [
          3598.0
         ],
         "yaxis": "y",
         "type": "scatter"
        },
        {
         "customdata": [
          [
           "Algeria",
           2.0
          ]
         ],
         "hovertemplate": "location=%{customdata[0]}<br>Total Cases=%{x}<br>Total Deaths=%{y}<br>size=%{marker.size}<br>New Cases=%{customdata[1]}<extra></extra>",
         "legendgroup": "Algeria",
         "marker": {
          "color": "#ab63fa",
          "size": [
           0.0011278725504018045
          ],
          "sizemode": "area",
          "sizeref": 0.25,
          "symbol": "circle"
         },
         "mode": "markers",
         "name": "Algeria",
         "orientation": "v",
         "showlegend": true,
         "x": [
          271496.0
         ],
         "xaxis": "x",
         "y": [
          6881.0
         ],
         "yaxis": "y",
         "type": "scatter"
        },
        {
         "customdata": [
          [
           "Andorra",
           0.0
          ]
         ],
         "hovertemplate": "location=%{customdata[0]}<br>Total Cases=%{x}<br>Total Deaths=%{y}<br>size=%{marker.size}<br>New Cases=%{customdata[1]}<extra></extra>",
         "legendgroup": "Andorra",
         "marker": {
          "color": "#FFA15A",
          "size": [
           0.0
          ],
          "sizemode": "area",
          "sizeref": 0.25,
          "symbol": "circle"
         },
         "mode": "markers",
         "name": "Andorra",
         "orientation": "v",
         "showlegend": true,
         "x": [
          47890.0
         ],
         "xaxis": "x",
         "y": [
          165.0
         ],
         "yaxis": "y",
         "type": "scatter"
        },
        {
         "customdata": [
          [
           "Angola",
           0.0
          ]
         ],
         "hovertemplate": "location=%{customdata[0]}<br>Total Cases=%{x}<br>Total Deaths=%{y}<br>size=%{marker.size}<br>New Cases=%{customdata[1]}<extra></extra>",
         "legendgroup": "Angola",
         "marker": {
          "color": "#19d3f3",
          "size": [
           0.0
          ],
          "sizemode": "area",
          "sizeref": 0.25,
          "symbol": "circle"
         },
         "mode": "markers",
         "name": "Angola",
         "orientation": "v",
         "showlegend": true,
         "x": [
          105288.0
         ],
         "xaxis": "x",
         "y": [
          1933.0
         ],
         "yaxis": "y",
         "type": "scatter"
        },
        {
         "customdata": [
          [
           "Anguilla",
           0.0
          ]
         ],
         "hovertemplate": "location=%{customdata[0]}<br>Total Cases=%{x}<br>Total Deaths=%{y}<br>size=%{marker.size}<br>New Cases=%{customdata[1]}<extra></extra>",
         "legendgroup": "Anguilla",
         "marker": {
          "color": "#FF6692",
          "size": [
           0.0
          ],
          "sizemode": "area",
          "sizeref": 0.25,
          "symbol": "circle"
         },
         "mode": "markers",
         "name": "Anguilla",
         "orientation": "v",
         "showlegend": true,
         "x": [
          3904.0
         ],
         "xaxis": "x",
         "y": [
          12.0
         ],
         "yaxis": "y",
         "type": "scatter"
        },
        {
         "customdata": [
          [
           "Antigua and Barbuda",
           0.0
          ]
         ],
         "hovertemplate": "location=%{customdata[0]}<br>Total Cases=%{x}<br>Total Deaths=%{y}<br>size=%{marker.size}<br>New Cases=%{customdata[1]}<extra></extra>",
         "legendgroup": "Antigua and Barbuda",
         "marker": {
          "color": "#B6E880",
          "size": [
           0.0
          ],
          "sizemode": "area",
          "sizeref": 0.25,
          "symbol": "circle"
         },
         "mode": "markers",
         "name": "Antigua and Barbuda",
         "orientation": "v",
         "showlegend": true,
         "x": [
          9106.0
         ],
         "xaxis": "x",
         "y": [
          146.0
         ],
         "yaxis": "y",
         "type": "scatter"
        },
        {
         "customdata": [
          [
           "Argentina",
           0.0
          ]
         ],
         "hovertemplate": "location=%{customdata[0]}<br>Total Cases=%{x}<br>Total Deaths=%{y}<br>size=%{marker.size}<br>New Cases=%{customdata[1]}<extra></extra>",
         "legendgroup": "Argentina",
         "marker": {
          "color": "#FF97FF",
          "size": [
           0.0
          ],
          "sizemode": "area",
          "sizeref": 0.25,
          "symbol": "circle"
         },
         "mode": "markers",
         "name": "Argentina",
         "orientation": "v",
         "showlegend": true,
         "x": [
          1.0044957E7
         ],
         "xaxis": "x",
         "y": [
          130472.0
         ],
         "yaxis": "y",
         "type": "scatter"
        },
        {
         "customdata": [
          [
           "Armenia",
           0.0
          ]
         ],
         "hovertemplate": "location=%{customdata[0]}<br>Total Cases=%{x}<br>Total Deaths=%{y}<br>size=%{marker.size}<br>New Cases=%{customdata[1]}<extra></extra>",
         "legendgroup": "Armenia",
         "marker": {
          "color": "#FECB52",
          "size": [
           0.0
          ],
          "sizemode": "area",
          "sizeref": 0.25,
          "symbol": "circle"
         },
         "mode": "markers",
         "name": "Armenia",
         "orientation": "v",
         "showlegend": true,
         "x": [
          447308.0
         ],
         "xaxis": "x",
         "y": [
          8727.0
         ],
         "yaxis": "y",
         "type": "scatter"
        },
        {
         "customdata": [
          [
           "Aruba",
           0.0
          ]
         ],
         "hovertemplate": "location=%{customdata[0]}<br>Total Cases=%{x}<br>Total Deaths=%{y}<br>size=%{marker.size}<br>New Cases=%{customdata[1]}<extra></extra>",
         "legendgroup": "Aruba",
         "marker": {
          "color": "#636efa",
          "size": [
           0.0
          ],
          "sizemode": "area",
          "sizeref": 0.25,
          "symbol": "circle"
         },
         "mode": "markers",
         "name": "Aruba",
         "orientation": "v",
         "showlegend": true,
         "x": [
          44044.0
         ],
         "xaxis": "x",
         "y": [
          282.0
         ],
         "yaxis": "y",
         "type": "scatter"
        },
        {
         "customdata": [
          [
           "Asia",
           23308.0
          ]
         ],
         "hovertemplate": "location=%{customdata[0]}<br>Total Cases=%{x}<br>Total Deaths=%{y}<br>size=%{marker.size}<br>New Cases=%{customdata[1]}<extra></extra>",
         "legendgroup": "Asia",
         "marker": {
          "color": "#EF553B",
          "size": [
           13.14422670238263
          ],
          "sizemode": "area",
          "sizeref": 0.25,
          "symbol": "circle"
         },
         "mode": "markers",
         "name": "Asia",
         "orientation": "v",
         "showlegend": true,
         "x": [
          2.10767366E8
         ],
         "xaxis": "x",
         "y": [
          1623684.0
         ],
         "yaxis": "y",
         "type": "scatter"
        },
        {
         "customdata": [
          [
           "Australia",
           13926.0
          ]
         ],
         "hovertemplate": "location=%{customdata[0]}<br>Total Cases=%{x}<br>Total Deaths=%{y}<br>size=%{marker.size}<br>New Cases=%{customdata[1]}<extra></extra>",
         "legendgroup": "Australia",
         "marker": {
          "color": "#00cc96",
          "size": [
           7.853376568447766
          ],
          "sizemode": "area",
          "sizeref": 0.25,
          "symbol": "circle"
         },
         "mode": "markers",
         "name": "Australia",
         "orientation": "v",
         "showlegend": true,
         "x": [
          1.139946E7
         ],
         "xaxis": "x",
         "y": [
          19574.0
         ],
         "yaxis": "y",
         "type": "scatter"
        },
        {
         "customdata": [
          [
           "Austria",
           5283.0
          ]
         ],
         "hovertemplate": "location=%{customdata[0]}<br>Total Cases=%{x}<br>Total Deaths=%{y}<br>size=%{marker.size}<br>New Cases=%{customdata[1]}<extra></extra>",
         "legendgroup": "Austria",
         "marker": {
          "color": "#ab63fa",
          "size": [
           2.9792753418863667
          ],
          "sizemode": "area",
          "sizeref": 0.25,
          "symbol": "circle"
         },
         "mode": "markers",
         "name": "Austria",
         "orientation": "v",
         "showlegend": true,
         "x": [
          5961143.0
         ],
         "xaxis": "x",
         "y": [
          21970.0
         ],
         "yaxis": "y",
         "type": "scatter"
        },
        {
         "customdata": [
          [
           "Azerbaijan",
           6.0
          ]
         ],
         "hovertemplate": "location=%{customdata[0]}<br>Total Cases=%{x}<br>Total Deaths=%{y}<br>size=%{marker.size}<br>New Cases=%{customdata[1]}<extra></extra>",
         "legendgroup": "Azerbaijan",
         "marker": {
          "color": "#FFA15A",
          "size": [
           0.0033836176512054136
          ],
          "sizemode": "area",
          "sizeref": 0.25,
          "symbol": "circle"
         },
         "mode": "markers",
         "name": "Azerbaijan",
         "orientation": "v",
         "showlegend": true,
         "x": [
          828825.0
         ],
         "xaxis": "x",
         "y": [
          10138.0
         ],
         "yaxis": "y",
         "type": "scatter"
        },
        {
         "customdata": [
          [
           "Bahamas",
           0.0
          ]
         ],
         "hovertemplate": "location=%{customdata[0]}<br>Total Cases=%{x}<br>Total Deaths=%{y}<br>size=%{marker.size}<br>New Cases=%{customdata[1]}<extra></extra>",
         "legendgroup": "Bahamas",
         "marker": {
          "color": "#19d3f3",
          "size": [
           0.0
          ],
          "sizemode": "area",
          "sizeref": 0.25,
          "symbol": "circle"
         },
         "mode": "markers",
         "name": "Bahamas",
         "orientation": "v",
         "showlegend": true,
         "x": [
          37491.0
         ],
         "xaxis": "x",
         "y": [
          833.0
         ],
         "yaxis": "y",
         "type": "scatter"
        },
        {
         "customdata": [
          [
           "Bahrain",
           387.0
          ]
         ],
         "hovertemplate": "location=%{customdata[0]}<br>Total Cases=%{x}<br>Total Deaths=%{y}<br>size=%{marker.size}<br>New Cases=%{customdata[1]}<extra></extra>",
         "legendgroup": "Bahrain",
         "marker": {
          "color": "#FF6692",
          "size": [
           0.21824333850274918
          ],
          "sizemode": "area",
          "sizeref": 0.25,
          "symbol": "circle"
         },
         "mode": "markers",
         "name": "Bahrain",
         "orientation": "v",
         "showlegend": true,
         "x": [
          710693.0
         ],
         "xaxis": "x",
         "y": [
          1553.0
         ],
         "yaxis": "y",
         "type": "scatter"
        },
        {
         "customdata": [
          [
           "Bangladesh",
           0.0
          ]
         ],
         "hovertemplate": "location=%{customdata[0]}<br>Total Cases=%{x}<br>Total Deaths=%{y}<br>size=%{marker.size}<br>New Cases=%{customdata[1]}<extra></extra>",
         "legendgroup": "Bangladesh",
         "marker": {
          "color": "#B6E880",
          "size": [
           0.0
          ],
          "sizemode": "area",
          "sizeref": 0.25,
          "symbol": "circle"
         },
         "mode": "markers",
         "name": "Bangladesh",
         "orientation": "v",
         "showlegend": true,
         "x": [
          2037871.0
         ],
         "xaxis": "x",
         "y": [
          29445.0
         ],
         "yaxis": "y",
         "type": "scatter"
        },
        {
         "customdata": [
          [
           "Barbados",
           153.0
          ]
         ],
         "hovertemplate": "location=%{customdata[0]}<br>Total Cases=%{x}<br>Total Deaths=%{y}<br>size=%{marker.size}<br>New Cases=%{customdata[1]}<extra></extra>",
         "legendgroup": "Barbados",
         "marker": {
          "color": "#FF97FF",
          "size": [
           0.08628225010573806
          ],
          "sizemode": "area",
          "sizeref": 0.25,
          "symbol": "circle"
         },
         "mode": "markers",
         "name": "Barbados",
         "orientation": "v",
         "showlegend": true,
         "x": [
          106798.0
         ],
         "xaxis": "x",
         "y": [
          579.0
         ],
         "yaxis": "y",
         "type": "scatter"
        },
        {
         "customdata": [
          [
           "Belarus",
           0.0
          ]
         ],
         "hovertemplate": "location=%{customdata[0]}<br>Total Cases=%{x}<br>Total Deaths=%{y}<br>size=%{marker.size}<br>New Cases=%{customdata[1]}<extra></extra>",
         "legendgroup": "Belarus",
         "marker": {
          "color": "#FECB52",
          "size": [
           0.0
          ],
          "sizemode": "area",
          "sizeref": 0.25,
          "symbol": "circle"
         },
         "mode": "markers",
         "name": "Belarus",
         "orientation": "v",
         "showlegend": true,
         "x": [
          994037.0
         ],
         "xaxis": "x",
         "y": [
          7118.0
         ],
         "yaxis": "y",
         "type": "scatter"
        },
        {
         "customdata": [
          [
           "Belgium",
           11570.0
          ]
         ],
         "hovertemplate": "location=%{customdata[0]}<br>Total Cases=%{x}<br>Total Deaths=%{y}<br>size=%{marker.size}<br>New Cases=%{customdata[1]}<extra></extra>",
         "legendgroup": "Belgium",
         "marker": {
          "color": "#636efa",
          "size": [
           6.5247427040744395
          ],
          "sizemode": "area",
          "sizeref": 0.25,
          "symbol": "circle"
         },
         "mode": "markers",
         "name": "Belgium",
         "orientation": "v",
         "showlegend": true,
         "x": [
          4739365.0
         ],
         "xaxis": "x",
         "y": [
          33814.0
         ],
         "yaxis": "y",
         "type": "scatter"
        },
        {
         "customdata": [
          [
           "Belize",
           0.0
          ]
         ],
         "hovertemplate": "location=%{customdata[0]}<br>Total Cases=%{x}<br>Total Deaths=%{y}<br>size=%{marker.size}<br>New Cases=%{customdata[1]}<extra></extra>",
         "legendgroup": "Belize",
         "marker": {
          "color": "#EF553B",
          "size": [
           0.0
          ],
          "sizemode": "area",
          "sizeref": 0.25,
          "symbol": "circle"
         },
         "mode": "markers",
         "name": "Belize",
         "orientation": "v",
         "showlegend": true,
         "x": [
          70757.0
         ],
         "xaxis": "x",
         "y": [
          688.0
         ],
         "yaxis": "y",
         "type": "scatter"
        },
        {
         "customdata": [
          [
           "Benin",
           0.0
          ]
         ],
         "hovertemplate": "location=%{customdata[0]}<br>Total Cases=%{x}<br>Total Deaths=%{y}<br>size=%{marker.size}<br>New Cases=%{customdata[1]}<extra></extra>",
         "legendgroup": "Benin",
         "marker": {
          "color": "#00cc96",
          "size": [
           0.0
          ],
          "sizemode": "area",
          "sizeref": 0.25,
          "symbol": "circle"
         },
         "mode": "markers",
         "name": "Benin",
         "orientation": "v",
         "showlegend": true,
         "x": [
          27999.0
         ],
         "xaxis": "x",
         "y": [
          163.0
         ],
         "yaxis": "y",
         "type": "scatter"
        },
        {
         "customdata": [
          [
           "Bermuda",
           0.0
          ]
         ],
         "hovertemplate": "location=%{customdata[0]}<br>Total Cases=%{x}<br>Total Deaths=%{y}<br>size=%{marker.size}<br>New Cases=%{customdata[1]}<extra></extra>",
         "legendgroup": "Bermuda",
         "marker": {
          "color": "#ab63fa",
          "size": [
           0.0
          ],
          "sizemode": "area",
          "sizeref": 0.25,
          "symbol": "circle"
         },
         "mode": "markers",
         "name": "Bermuda",
         "orientation": "v",
         "showlegend": true,
         "x": [
          18828.0
         ],
         "xaxis": "x",
         "y": [
          160.0
         ],
         "yaxis": "y",
         "type": "scatter"
        },
        {
         "customdata": [
          [
           "Bhutan",
           0.0
          ]
         ],
         "hovertemplate": "location=%{customdata[0]}<br>Total Cases=%{x}<br>Total Deaths=%{y}<br>size=%{marker.size}<br>New Cases=%{customdata[1]}<extra></extra>",
         "legendgroup": "Bhutan",
         "marker": {
          "color": "#FFA15A",
          "size": [
           0.0
          ],
          "sizemode": "area",
          "sizeref": 0.25,
          "symbol": "circle"
         },
         "mode": "markers",
         "name": "Bhutan",
         "orientation": "v",
         "showlegend": true,
         "x": [
          62627.0
         ],
         "xaxis": "x",
         "y": [
          21.0
         ],
         "yaxis": "y",
         "type": "scatter"
        },
        {
         "customdata": [
          [
           "Bolivia",
           90.0
          ]
         ],
         "hovertemplate": "location=%{customdata[0]}<br>Total Cases=%{x}<br>Total Deaths=%{y}<br>size=%{marker.size}<br>New Cases=%{customdata[1]}<extra></extra>",
         "legendgroup": "Bolivia",
         "marker": {
          "color": "#19d3f3",
          "size": [
           0.0507542647680812
          ],
          "sizemode": "area",
          "sizeref": 0.25,
          "symbol": "circle"
         },
         "mode": "markers",
         "name": "Bolivia",
         "orientation": "v",
         "showlegend": true,
         "x": [
          1194277.0
         ],
         "xaxis": "x",
         "y": [
          22365.0
         ],
         "yaxis": "y",
         "type": "scatter"
        },
        {
         "customdata": [
          [
           "Bonaire Sint Eustatius and Saba",
           0.0
          ]
         ],
         "hovertemplate": "location=%{customdata[0]}<br>Total Cases=%{x}<br>Total Deaths=%{y}<br>size=%{marker.size}<br>New Cases=%{customdata[1]}<extra></extra>",
         "legendgroup": "Bonaire Sint Eustatius and Saba",
         "marker": {
          "color": "#FF6692",
          "size": [
           0.0
          ],
          "sizemode": "area",
          "sizeref": 0.25,
          "symbol": "circle"
         },
         "mode": "markers",
         "name": "Bonaire Sint Eustatius and Saba",
         "orientation": "v",
         "showlegend": true,
         "x": [
          11804.0
         ],
         "xaxis": "x",
         "y": [
          41.0
         ],
         "yaxis": "y",
         "type": "scatter"
        },
        {
         "customdata": [
          [
           "Bosnia and Herzegovina",
           0.0
          ]
         ],
         "hovertemplate": "location=%{customdata[0]}<br>Total Cases=%{x}<br>Total Deaths=%{y}<br>size=%{marker.size}<br>New Cases=%{customdata[1]}<extra></extra>",
         "legendgroup": "Bosnia and Herzegovina",
         "marker": {
          "color": "#B6E880",
          "size": [
           0.0
          ],
          "sizemode": "area",
          "sizeref": 0.25,
          "symbol": "circle"
         },
         "mode": "markers",
         "name": "Bosnia and Herzegovina",
         "orientation": "v",
         "showlegend": true,
         "x": [
          401729.0
         ],
         "xaxis": "x",
         "y": [
          16280.0
         ],
         "yaxis": "y",
         "type": "scatter"
        },
        {
         "customdata": [
          [
           "Botswana",
           0.0
          ]
         ],
         "hovertemplate": "location=%{customdata[0]}<br>Total Cases=%{x}<br>Total Deaths=%{y}<br>size=%{marker.size}<br>New Cases=%{customdata[1]}<extra></extra>",
         "legendgroup": "Botswana",
         "marker": {
          "color": "#FF97FF",
          "size": [
           0.0
          ],
          "sizemode": "area",
          "sizeref": 0.25,
          "symbol": "circle"
         },
         "mode": "markers",
         "name": "Botswana",
         "orientation": "v",
         "showlegend": true,
         "x": [
          329758.0
         ],
         "xaxis": "x",
         "y": [
          2801.0
         ],
         "yaxis": "y",
         "type": "scatter"
        },
        {
         "customdata": [
          [
           "Brazil",
           0.0
          ]
         ],
         "hovertemplate": "location=%{customdata[0]}<br>Total Cases=%{x}<br>Total Deaths=%{y}<br>size=%{marker.size}<br>New Cases=%{customdata[1]}<extra></extra>",
         "legendgroup": "Brazil",
         "marker": {
          "color": "#FECB52",
          "size": [
           0.0
          ],
          "sizemode": "area",
          "sizeref": 0.25,
          "symbol": "circle"
         },
         "mode": "markers",
         "name": "Brazil",
         "orientation": "v",
         "showlegend": true,
         "x": [
          3.7076053E7
         ],
         "xaxis": "x",
         "y": [
          699276.0
         ],
         "yaxis": "y",
         "type": "scatter"
        },
        {
         "customdata": [
          [
           "British Virgin Islands",
           0.0
          ]
         ],
         "hovertemplate": "location=%{customdata[0]}<br>Total Cases=%{x}<br>Total Deaths=%{y}<br>size=%{marker.size}<br>New Cases=%{customdata[1]}<extra></extra>",
         "legendgroup": "British Virgin Islands",
         "marker": {
          "color": "#636efa",
          "size": [
           0.0
          ],
          "sizemode": "area",
          "sizeref": 0.25,
          "symbol": "circle"
         },
         "mode": "markers",
         "name": "British Virgin Islands",
         "orientation": "v",
         "showlegend": true,
         "x": [
          7305.0
         ],
         "xaxis": "x",
         "y": [
          64.0
         ],
         "yaxis": "y",
         "type": "scatter"
        },
        {
         "customdata": [
          [
           "Brunei",
           0.0
          ]
         ],
         "hovertemplate": "location=%{customdata[0]}<br>Total Cases=%{x}<br>Total Deaths=%{y}<br>size=%{marker.size}<br>New Cases=%{customdata[1]}<extra></extra>",
         "legendgroup": "Brunei",
         "marker": {
          "color": "#EF553B",
          "size": [
           0.0
          ],
          "sizemode": "area",
          "sizeref": 0.25,
          "symbol": "circle"
         },
         "mode": "markers",
         "name": "Brunei",
         "orientation": "v",
         "showlegend": true,
         "x": [
          279661.0
         ],
         "xaxis": "x",
         "y": [
          225.0
         ],
         "yaxis": "y",
         "type": "scatter"
        },
        {
         "customdata": [
          [
           "Bulgaria",
           72.0
          ]
         ],
         "hovertemplate": "location=%{customdata[0]}<br>Total Cases=%{x}<br>Total Deaths=%{y}<br>size=%{marker.size}<br>New Cases=%{customdata[1]}<extra></extra>",
         "legendgroup": "Bulgaria",
         "marker": {
          "color": "#00cc96",
          "size": [
           0.04060341181446497
          ],
          "sizemode": "area",
          "sizeref": 0.25,
          "symbol": "circle"
         },
         "mode": "markers",
         "name": "Bulgaria",
         "orientation": "v",
         "showlegend": true,
         "x": [
          1297523.0
         ],
         "xaxis": "x",
         "y": [
          38228.0
         ],
         "yaxis": "y",
         "type": "scatter"
        },
        {
         "customdata": [
          [
           "Burkina Faso",
           0.0
          ]
         ],
         "hovertemplate": "location=%{customdata[0]}<br>Total Cases=%{x}<br>Total Deaths=%{y}<br>size=%{marker.size}<br>New Cases=%{customdata[1]}<extra></extra>",
         "legendgroup": "Burkina Faso",
         "marker": {
          "color": "#ab63fa",
          "size": [
           0.0
          ],
          "sizemode": "area",
          "sizeref": 0.25,
          "symbol": "circle"
         },
         "mode": "markers",
         "name": "Burkina Faso",
         "orientation": "v",
         "showlegend": true,
         "x": [
          22056.0
         ],
         "xaxis": "x",
         "y": [
          396.0
         ],
         "yaxis": "y",
         "type": "scatter"
        },
        {
         "customdata": [
          [
           "Burundi",
           0.0
          ]
         ],
         "hovertemplate": "location=%{customdata[0]}<br>Total Cases=%{x}<br>Total Deaths=%{y}<br>size=%{marker.size}<br>New Cases=%{customdata[1]}<extra></extra>",
         "legendgroup": "Burundi",
         "marker": {
          "color": "#FFA15A",
          "size": [
           0.0
          ],
          "sizemode": "area",
          "sizeref": 0.25,
          "symbol": "circle"
         },
         "mode": "markers",
         "name": "Burundi",
         "orientation": "v",
         "showlegend": true,
         "x": [
          53631.0
         ],
         "xaxis": "x",
         "y": [
          38.0
         ],
         "yaxis": "y",
         "type": "scatter"
        },
        {
         "customdata": [
          [
           "Cambodia",
           0.0
          ]
         ],
         "hovertemplate": "location=%{customdata[0]}<br>Total Cases=%{x}<br>Total Deaths=%{y}<br>size=%{marker.size}<br>New Cases=%{customdata[1]}<extra></extra>",
         "legendgroup": "Cambodia",
         "marker": {
          "color": "#19d3f3",
          "size": [
           0.0
          ],
          "sizemode": "area",
          "sizeref": 0.25,
          "symbol": "circle"
         },
         "mode": "markers",
         "name": "Cambodia",
         "orientation": "v",
         "showlegend": true,
         "x": [
          138719.0
         ],
         "xaxis": "x",
         "y": [
          3056.0
         ],
         "yaxis": "y",
         "type": "scatter"
        },
        {
         "customdata": [
          [
           "Cameroon",
           0.0
          ]
         ],
         "hovertemplate": "location=%{customdata[0]}<br>Total Cases=%{x}<br>Total Deaths=%{y}<br>size=%{marker.size}<br>New Cases=%{customdata[1]}<extra></extra>",
         "legendgroup": "Cameroon",
         "marker": {
          "color": "#FF6692",
          "size": [
           0.0
          ],
          "sizemode": "area",
          "sizeref": 0.25,
          "symbol": "circle"
         },
         "mode": "markers",
         "name": "Cameroon",
         "orientation": "v",
         "showlegend": true,
         "x": [
          124392.0
         ],
         "xaxis": "x",
         "y": [
          1965.0
         ],
         "yaxis": "y",
         "type": "scatter"
        },
        {
         "customdata": [
          [
           "Canada",
           4041.0
          ]
         ],
         "hovertemplate": "location=%{customdata[0]}<br>Total Cases=%{x}<br>Total Deaths=%{y}<br>size=%{marker.size}<br>New Cases=%{customdata[1]}<extra></extra>",
         "legendgroup": "Canada",
         "marker": {
          "color": "#B6E880",
          "size": [
           2.2788664880868463
          ],
          "sizemode": "area",
          "sizeref": 0.25,
          "symbol": "circle"
         },
         "mode": "markers",
         "name": "Canada",
         "orientation": "v",
         "showlegend": true,
         "x": [
          4617095.0
         ],
         "xaxis": "x",
         "y": [
          51720.0
         ],
         "yaxis": "y",
         "type": "scatter"
        },
        {
         "customdata": [
          [
           "Cape Verde",
           0.0
          ]
         ],
         "hovertemplate": "location=%{customdata[0]}<br>Total Cases=%{x}<br>Total Deaths=%{y}<br>size=%{marker.size}<br>New Cases=%{customdata[1]}<extra></extra>",
         "legendgroup": "Cape Verde",
         "marker": {
          "color": "#FF97FF",
          "size": [
           0.0
          ],
          "sizemode": "area",
          "sizeref": 0.25,
          "symbol": "circle"
         },
         "mode": "markers",
         "name": "Cape Verde",
         "orientation": "v",
         "showlegend": true,
         "x": [
          63244.0
         ],
         "xaxis": "x",
         "y": [
          413.0
         ],
         "yaxis": "y",
         "type": "scatter"
        },
        {
         "customdata": [
          [
           "Cayman Islands",
           0.0
          ]
         ],
         "hovertemplate": "location=%{customdata[0]}<br>Total Cases=%{x}<br>Total Deaths=%{y}<br>size=%{marker.size}<br>New Cases=%{customdata[1]}<extra></extra>",
         "legendgroup": "Cayman Islands",
         "marker": {
          "color": "#FECB52",
          "size": [
           0.0
          ],
          "sizemode": "area",
          "sizeref": 0.25,
          "symbol": "circle"
         },
         "mode": "markers",
         "name": "Cayman Islands",
         "orientation": "v",
         "showlegend": true,
         "x": [
          31472.0
         ],
         "xaxis": "x",
         "y": [
          37.0
         ],
         "yaxis": "y",
         "type": "scatter"
        },
        {
         "customdata": [
          [
           "Central African Republic",
           0.0
          ]
         ],
         "hovertemplate": "location=%{customdata[0]}<br>Total Cases=%{x}<br>Total Deaths=%{y}<br>size=%{marker.size}<br>New Cases=%{customdata[1]}<extra></extra>",
         "legendgroup": "Central African Republic",
         "marker": {
          "color": "#636efa",
          "size": [
           0.0
          ],
          "sizemode": "area",
          "sizeref": 0.25,
          "symbol": "circle"
         },
         "mode": "markers",
         "name": "Central African Republic",
         "orientation": "v",
         "showlegend": true,
         "x": [
          15368.0
         ],
         "xaxis": "x",
         "y": [
          113.0
         ],
         "yaxis": "y",
         "type": "scatter"
        },
        {
         "customdata": [
          [
           "Chad",
           0.0
          ]
         ],
         "hovertemplate": "location=%{customdata[0]}<br>Total Cases=%{x}<br>Total Deaths=%{y}<br>size=%{marker.size}<br>New Cases=%{customdata[1]}<extra></extra>",
         "legendgroup": "Chad",
         "marker": {
          "color": "#EF553B",
          "size": [
           0.0
          ],
          "sizemode": "area",
          "sizeref": 0.25,
          "symbol": "circle"
         },
         "mode": "markers",
         "name": "Chad",
         "orientation": "v",
         "showlegend": true,
         "x": [
          7679.0
         ],
         "xaxis": "x",
         "y": [
          194.0
         ],
         "yaxis": "y",
         "type": "scatter"
        },
        {
         "customdata": [
          [
           "Chile",
           3906.0
          ]
         ],
         "hovertemplate": "location=%{customdata[0]}<br>Total Cases=%{x}<br>Total Deaths=%{y}<br>size=%{marker.size}<br>New Cases=%{customdata[1]}<extra></extra>",
         "legendgroup": "Chile",
         "marker": {
          "color": "#00cc96",
          "size": [
           2.2027350909347243
          ],
          "sizemode": "area",
          "sizeref": 0.25,
          "symbol": "circle"
         },
         "mode": "markers",
         "name": "Chile",
         "orientation": "v",
         "showlegend": true,
         "x": [
          5192286.0
         ],
         "xaxis": "x",
         "y": [
          64273.0
         ],
         "yaxis": "y",
         "type": "scatter"
        },
        {
         "customdata": [
          [
           "China",
           0.0
          ]
         ],
         "hovertemplate": "location=%{customdata[0]}<br>Total Cases=%{x}<br>Total Deaths=%{y}<br>size=%{marker.size}<br>New Cases=%{customdata[1]}<extra></extra>",
         "legendgroup": "China",
         "marker": {
          "color": "#ab63fa",
          "size": [
           0.0
          ],
          "sizemode": "area",
          "sizeref": 0.25,
          "symbol": "circle"
         },
         "mode": "markers",
         "name": "China",
         "orientation": "v",
         "showlegend": true,
         "x": [
          2023904.0
         ],
         "xaxis": "x",
         "y": [
          87468.0
         ],
         "yaxis": "y",
         "type": "scatter"
        },
        {
         "customdata": [
          [
           "Colombia",
           0.0
          ]
         ],
         "hovertemplate": "location=%{customdata[0]}<br>Total Cases=%{x}<br>Total Deaths=%{y}<br>size=%{marker.size}<br>New Cases=%{customdata[1]}<extra></extra>",
         "legendgroup": "Colombia",
         "marker": {
          "color": "#FFA15A",
          "size": [
           0.0
          ],
          "sizemode": "area",
          "sizeref": 0.25,
          "symbol": "circle"
         },
         "mode": "markers",
         "name": "Colombia",
         "orientation": "v",
         "showlegend": true,
         "x": [
          6359093.0
         ],
         "xaxis": "x",
         "y": [
          142339.0
         ],
         "yaxis": "y",
         "type": "scatter"
        },
        {
         "customdata": [
          [
           "Comoros",
           0.0
          ]
         ],
         "hovertemplate": "location=%{customdata[0]}<br>Total Cases=%{x}<br>Total Deaths=%{y}<br>size=%{marker.size}<br>New Cases=%{customdata[1]}<extra></extra>",
         "legendgroup": "Comoros",
         "marker": {
          "color": "#19d3f3",
          "size": [
           0.0
          ],
          "sizemode": "area",
          "sizeref": 0.25,
          "symbol": "circle"
         },
         "mode": "markers",
         "name": "Comoros",
         "orientation": "v",
         "showlegend": true,
         "x": [
          9008.0
         ],
         "xaxis": "x",
         "y": [
          161.0
         ],
         "yaxis": "y",
         "type": "scatter"
        },
        {
         "customdata": [
          [
           "Congo",
           0.0
          ]
         ],
         "hovertemplate": "location=%{customdata[0]}<br>Total Cases=%{x}<br>Total Deaths=%{y}<br>size=%{marker.size}<br>New Cases=%{customdata[1]}<extra></extra>",
         "legendgroup": "Congo",
         "marker": {
          "color": "#FF6692",
          "size": [
           0.0
          ],
          "sizemode": "area",
          "sizeref": 0.25,
          "symbol": "circle"
         },
         "mode": "markers",
         "name": "Congo",
         "orientation": "v",
         "showlegend": true,
         "x": [
          25087.0
         ],
         "xaxis": "x",
         "y": [
          388.0
         ],
         "yaxis": "y",
         "type": "scatter"
        },
        {
         "customdata": [
          [
           "Cook Islands",
           0.0
          ]
         ],
         "hovertemplate": "location=%{customdata[0]}<br>Total Cases=%{x}<br>Total Deaths=%{y}<br>size=%{marker.size}<br>New Cases=%{customdata[1]}<extra></extra>",
         "legendgroup": "Cook Islands",
         "marker": {
          "color": "#B6E880",
          "size": [
           0.0
          ],
          "sizemode": "area",
          "sizeref": 0.25,
          "symbol": "circle"
         },
         "mode": "markers",
         "name": "Cook Islands",
         "orientation": "v",
         "showlegend": true,
         "x": [
          7031.0
         ],
         "xaxis": "x",
         "y": [
          2.0
         ],
         "yaxis": "y",
         "type": "scatter"
        },
        {
         "customdata": [
          [
           "Costa Rica",
           0.0
          ]
         ],
         "hovertemplate": "location=%{customdata[0]}<br>Total Cases=%{x}<br>Total Deaths=%{y}<br>size=%{marker.size}<br>New Cases=%{customdata[1]}<extra></extra>",
         "legendgroup": "Costa Rica",
         "marker": {
          "color": "#FF97FF",
          "size": [
           0.0
          ],
          "sizemode": "area",
          "sizeref": 0.25,
          "symbol": "circle"
         },
         "mode": "markers",
         "name": "Costa Rica",
         "orientation": "v",
         "showlegend": true,
         "x": [
          1209725.0
         ],
         "xaxis": "x",
         "y": [
          9245.0
         ],
         "yaxis": "y",
         "type": "scatter"
        },
        {
         "customdata": [
          [
           "Cote d'Ivoire",
           8.0
          ]
         ],
         "hovertemplate": "location=%{customdata[0]}<br>Total Cases=%{x}<br>Total Deaths=%{y}<br>size=%{marker.size}<br>New Cases=%{customdata[1]}<extra></extra>",
         "legendgroup": "Cote d'Ivoire",
         "marker": {
          "color": "#FECB52",
          "size": [
           0.004511490201607218
          ],
          "sizemode": "area",
          "sizeref": 0.25,
          "symbol": "circle"
         },
         "mode": "markers",
         "name": "Cote d'Ivoire",
         "orientation": "v",
         "showlegend": true,
         "x": [
          88263.0
         ],
         "xaxis": "x",
         "y": [
          834.0
         ],
         "yaxis": "y",
         "type": "scatter"
        },
        {
         "customdata": [
          [
           "Croatia",
           0.0
          ]
         ],
         "hovertemplate": "location=%{customdata[0]}<br>Total Cases=%{x}<br>Total Deaths=%{y}<br>size=%{marker.size}<br>New Cases=%{customdata[1]}<extra></extra>",
         "legendgroup": "Croatia",
         "marker": {
          "color": "#636efa",
          "size": [
           0.0
          ],
          "sizemode": "area",
          "sizeref": 0.25,
          "symbol": "circle"
         },
         "mode": "markers",
         "name": "Croatia",
         "orientation": "v",
         "showlegend": true,
         "x": [
          1269326.0
         ],
         "xaxis": "x",
         "y": [
          17987.0
         ],
         "yaxis": "y",
         "type": "scatter"
        },
        {
         "customdata": [
          [
           "Cuba",
           6.0
          ]
         ],
         "hovertemplate": "location=%{customdata[0]}<br>Total Cases=%{x}<br>Total Deaths=%{y}<br>size=%{marker.size}<br>New Cases=%{customdata[1]}<extra></extra>",
         "legendgroup": "Cuba",
         "marker": {
          "color": "#EF553B",
          "size": [
           0.0033836176512054136
          ],
          "sizemode": "area",
          "sizeref": 0.25,
          "symbol": "circle"
         },
         "mode": "markers",
         "name": "Cuba",
         "orientation": "v",
         "showlegend": true,
         "x": [
          1112643.0
         ],
         "xaxis": "x",
         "y": [
          8530.0
         ],
         "yaxis": "y",
         "type": "scatter"
        },
        {
         "customdata": [
          [
           "Curacao",
           0.0
          ]
         ],
         "hovertemplate": "location=%{customdata[0]}<br>Total Cases=%{x}<br>Total Deaths=%{y}<br>size=%{marker.size}<br>New Cases=%{customdata[1]}<extra></extra>",
         "legendgroup": "Curacao",
         "marker": {
          "color": "#00cc96",
          "size": [
           0.0
          ],
          "sizemode": "area",
          "sizeref": 0.25,
          "symbol": "circle"
         },
         "mode": "markers",
         "name": "Curacao",
         "orientation": "v",
         "showlegend": true,
         "x": [
          45986.0
         ],
         "xaxis": "x",
         "y": [
          301.0
         ],
         "yaxis": "y",
         "type": "scatter"
        },
        {
         "customdata": [
          [
           "Cyprus",
           0.0
          ]
         ],
         "hovertemplate": "location=%{customdata[0]}<br>Total Cases=%{x}<br>Total Deaths=%{y}<br>size=%{marker.size}<br>New Cases=%{customdata[1]}<extra></extra>",
         "legendgroup": "Cyprus",
         "marker": {
          "color": "#ab63fa",
          "size": [
           0.0
          ],
          "sizemode": "area",
          "sizeref": 0.25,
          "symbol": "circle"
         },
         "mode": "markers",
         "name": "Cyprus",
         "orientation": "v",
         "showlegend": true,
         "x": [
          650685.0
         ],
         "xaxis": "x",
         "y": [
          1330.0
         ],
         "yaxis": "y",
         "type": "scatter"
        },
        {
         "customdata": [
          [
           "Czechia",
           1142.0
          ]
         ],
         "hovertemplate": "location=%{customdata[0]}<br>Total Cases=%{x}<br>Total Deaths=%{y}<br>size=%{marker.size}<br>New Cases=%{customdata[1]}<extra></extra>",
         "legendgroup": "Czechia",
         "marker": {
          "color": "#FFA15A",
          "size": [
           0.6440152262794304
          ],
          "sizemode": "area",
          "sizeref": 0.25,
          "symbol": "circle"
         },
         "mode": "markers",
         "name": "Czechia",
         "orientation": "v",
         "showlegend": true,
         "x": [
          4618256.0
         ],
         "xaxis": "x",
         "y": [
          42491.0
         ],
         "yaxis": "y",
         "type": "scatter"
        },
        {
         "customdata": [
          [
           "Democratic Republic of Congo",
           0.0
          ]
         ],
         "hovertemplate": "location=%{customdata[0]}<br>Total Cases=%{x}<br>Total Deaths=%{y}<br>size=%{marker.size}<br>New Cases=%{customdata[1]}<extra></extra>",
         "legendgroup": "Democratic Republic of Congo",
         "marker": {
          "color": "#19d3f3",
          "size": [
           0.0
          ],
          "sizemode": "area",
          "sizeref": 0.25,
          "symbol": "circle"
         },
         "mode": "markers",
         "name": "Democratic Republic of Congo",
         "orientation": "v",
         "showlegend": true,
         "x": [
          95749.0
         ],
         "xaxis": "x",
         "y": [
          1464.0
         ],
         "yaxis": "y",
         "type": "scatter"
        },
        {
         "customdata": [
          [
           "Denmark",
           139.0
          ]
         ],
         "hovertemplate": "location=%{customdata[0]}<br>Total Cases=%{x}<br>Total Deaths=%{y}<br>size=%{marker.size}<br>New Cases=%{customdata[1]}<extra></extra>",
         "legendgroup": "Denmark",
         "marker": {
          "color": "#FF6692",
          "size": [
           0.07838714225292542
          ],
          "sizemode": "area",
          "sizeref": 0.25,
          "symbol": "circle"
         },
         "mode": "markers",
         "name": "Denmark",
         "orientation": "v",
         "showlegend": true,
         "x": [
          3404407.0
         ],
         "xaxis": "x",
         "y": [
          8296.0
         ],
         "yaxis": "y",
         "type": "scatter"
        },
        {
         "customdata": [
          [
           "Djibouti",
           0.0
          ]
         ],
         "hovertemplate": "location=%{customdata[0]}<br>Total Cases=%{x}<br>Total Deaths=%{y}<br>size=%{marker.size}<br>New Cases=%{customdata[1]}<extra></extra>",
         "legendgroup": "Djibouti",
         "marker": {
          "color": "#B6E880",
          "size": [
           0.0
          ],
          "sizemode": "area",
          "sizeref": 0.25,
          "symbol": "circle"
         },
         "mode": "markers",
         "name": "Djibouti",
         "orientation": "v",
         "showlegend": true,
         "x": [
          15690.0
         ],
         "xaxis": "x",
         "y": [
          189.0
         ],
         "yaxis": "y",
         "type": "scatter"
        },
        {
         "customdata": [
          [
           "Dominica",
           0.0
          ]
         ],
         "hovertemplate": "location=%{customdata[0]}<br>Total Cases=%{x}<br>Total Deaths=%{y}<br>size=%{marker.size}<br>New Cases=%{customdata[1]}<extra></extra>",
         "legendgroup": "Dominica",
         "marker": {
          "color": "#FF97FF",
          "size": [
           0.0
          ],
          "sizemode": "area",
          "sizeref": 0.25,
          "symbol": "circle"
         },
         "mode": "markers",
         "name": "Dominica",
         "orientation": "v",
         "showlegend": true,
         "x": [
          15760.0
         ],
         "xaxis": "x",
         "y": [
          74.0
         ],
         "yaxis": "y",
         "type": "scatter"
        },
        {
         "customdata": [
          [
           "Dominican Republic",
           0.0
          ]
         ],
         "hovertemplate": "location=%{customdata[0]}<br>Total Cases=%{x}<br>Total Deaths=%{y}<br>size=%{marker.size}<br>New Cases=%{customdata[1]}<extra></extra>",
         "legendgroup": "Dominican Republic",
         "marker": {
          "color": "#FECB52",
          "size": [
           0.0
          ],
          "sizemode": "area",
          "sizeref": 0.25,
          "symbol": "circle"
         },
         "mode": "markers",
         "name": "Dominican Republic",
         "orientation": "v",
         "showlegend": true,
         "x": [
          660790.0
         ],
         "xaxis": "x",
         "y": [
          4384.0
         ],
         "yaxis": "y",
         "type": "scatter"
        },
        {
         "customdata": [
          [
           "Ecuador",
           0.0
          ]
         ],
         "hovertemplate": "location=%{customdata[0]}<br>Total Cases=%{x}<br>Total Deaths=%{y}<br>size=%{marker.size}<br>New Cases=%{customdata[1]}<extra></extra>",
         "legendgroup": "Ecuador",
         "marker": {
          "color": "#636efa",
          "size": [
           0.0
          ],
          "sizemode": "area",
          "sizeref": 0.25,
          "symbol": "circle"
         },
         "mode": "markers",
         "name": "Ecuador",
         "orientation": "v",
         "showlegend": true,
         "x": [
          1057121.0
         ],
         "xaxis": "x",
         "y": [
          36014.0
         ],
         "yaxis": "y",
         "type": "scatter"
        },
        {
         "customdata": [
          [
           "Egypt",
           0.0
          ]
         ],
         "hovertemplate": "location=%{customdata[0]}<br>Total Cases=%{x}<br>Total Deaths=%{y}<br>size=%{marker.size}<br>New Cases=%{customdata[1]}<extra></extra>",
         "legendgroup": "Egypt",
         "marker": {
          "color": "#EF553B",
          "size": [
           0.0
          ],
          "sizemode": "area",
          "sizeref": 0.25,
          "symbol": "circle"
         },
         "mode": "markers",
         "name": "Egypt",
         "orientation": "v",
         "showlegend": true,
         "x": [
          515759.0
         ],
         "xaxis": "x",
         "y": [
          24812.0
         ],
         "yaxis": "y",
         "type": "scatter"
        },
        {
         "customdata": [
          [
           "El Salvador",
           0.0
          ]
         ],
         "hovertemplate": "location=%{customdata[0]}<br>Total Cases=%{x}<br>Total Deaths=%{y}<br>size=%{marker.size}<br>New Cases=%{customdata[1]}<extra></extra>",
         "legendgroup": "El Salvador",
         "marker": {
          "color": "#00cc96",
          "size": [
           0.0
          ],
          "sizemode": "area",
          "sizeref": 0.25,
          "symbol": "circle"
         },
         "mode": "markers",
         "name": "El Salvador",
         "orientation": "v",
         "showlegend": true,
         "x": [
          201785.0
         ],
         "xaxis": "x",
         "y": [
          4230.0
         ],
         "yaxis": "y",
         "type": "scatter"
        },
        {
         "customdata": [
          [
           "Equatorial Guinea",
           0.0
          ]
         ],
         "hovertemplate": "location=%{customdata[0]}<br>Total Cases=%{x}<br>Total Deaths=%{y}<br>size=%{marker.size}<br>New Cases=%{customdata[1]}<extra></extra>",
         "legendgroup": "Equatorial Guinea",
         "marker": {
          "color": "#ab63fa",
          "size": [
           0.0
          ],
          "sizemode": "area",
          "sizeref": 0.25,
          "symbol": "circle"
         },
         "mode": "markers",
         "name": "Equatorial Guinea",
         "orientation": "v",
         "showlegend": true,
         "x": [
          17229.0
         ],
         "xaxis": "x",
         "y": [
          183.0
         ],
         "yaxis": "y",
         "type": "scatter"
        },
        {
         "customdata": [
          [
           "Eritrea",
           0.0
          ]
         ],
         "hovertemplate": "location=%{customdata[0]}<br>Total Cases=%{x}<br>Total Deaths=%{y}<br>size=%{marker.size}<br>New Cases=%{customdata[1]}<extra></extra>",
         "legendgroup": "Eritrea",
         "marker": {
          "color": "#FFA15A",
          "size": [
           0.0
          ],
          "sizemode": "area",
          "sizeref": 0.25,
          "symbol": "circle"
         },
         "mode": "markers",
         "name": "Eritrea",
         "orientation": "v",
         "showlegend": true,
         "x": [
          10189.0
         ],
         "xaxis": "x",
         "y": [
          103.0
         ],
         "yaxis": "y",
         "type": "scatter"
        },
        {
         "customdata": [
          [
           "Estonia",
           0.0
          ]
         ],
         "hovertemplate": "location=%{customdata[0]}<br>Total Cases=%{x}<br>Total Deaths=%{y}<br>size=%{marker.size}<br>New Cases=%{customdata[1]}<extra></extra>",
         "legendgroup": "Estonia",
         "marker": {
          "color": "#19d3f3",
          "size": [
           0.0
          ],
          "sizemode": "area",
          "sizeref": 0.25,
          "symbol": "circle"
         },
         "mode": "markers",
         "name": "Estonia",
         "orientation": "v",
         "showlegend": true,
         "x": [
          615433.0
         ],
         "xaxis": "x",
         "y": [
          2946.0
         ],
         "yaxis": "y",
         "type": "scatter"
        },
        {
         "customdata": [
          [
           "Eswatini",
           0.0
          ]
         ],
         "hovertemplate": "location=%{customdata[0]}<br>Total Cases=%{x}<br>Total Deaths=%{y}<br>size=%{marker.size}<br>New Cases=%{customdata[1]}<extra></extra>",
         "legendgroup": "Eswatini",
         "marker": {
          "color": "#FF6692",
          "size": [
           0.0
          ],
          "sizemode": "area",
          "sizeref": 0.25,
          "symbol": "circle"
         },
         "mode": "markers",
         "name": "Eswatini",
         "orientation": "v",
         "showlegend": true,
         "x": [
          74267.0
         ],
         "xaxis": "x",
         "y": [
          1425.0
         ],
         "yaxis": "y",
         "type": "scatter"
        },
        {
         "customdata": [
          [
           "Ethiopia",
           14.0
          ]
         ],
         "hovertemplate": "location=%{customdata[0]}<br>Total Cases=%{x}<br>Total Deaths=%{y}<br>size=%{marker.size}<br>New Cases=%{customdata[1]}<extra></extra>",
         "legendgroup": "Ethiopia",
         "marker": {
          "color": "#B6E880",
          "size": [
           0.007895107852812633
          ],
          "sizemode": "area",
          "sizeref": 0.25,
          "symbol": "circle"
         },
         "mode": "markers",
         "name": "Ethiopia",
         "orientation": "v",
         "showlegend": true,
         "x": [
          500116.0
         ],
         "xaxis": "x",
         "y": [
          7572.0
         ],
         "yaxis": "y",
         "type": "scatter"
        },
        {
         "customdata": [
          [
           "Europe",
           80366.0
          ]
         ],
         "hovertemplate": "location=%{customdata[0]}<br>Total Cases=%{x}<br>Total Deaths=%{y}<br>size=%{marker.size}<br>New Cases=%{customdata[1]}<extra></extra>",
         "legendgroup": "Europe",
         "marker": {
          "color": "#FF97FF",
          "size": [
           45.32130269279571
          ],
          "sizemode": "area",
          "sizeref": 0.25,
          "symbol": "circle"
         },
         "mode": "markers",
         "name": "Europe",
         "orientation": "v",
         "showlegend": true,
         "x": [
          2.48452416E8
         ],
         "xaxis": "x",
         "y": [
          2036768.0
         ],
         "yaxis": "y",
         "type": "scatter"
        },
        {
         "customdata": [
          [
           "European Union",
           38074.0
          ]
         ],
         "hovertemplate": "location=%{customdata[0]}<br>Total Cases=%{x}<br>Total Deaths=%{y}<br>size=%{marker.size}<br>New Cases=%{customdata[1]}<extra></extra>",
         "legendgroup": "European Union",
         "marker": {
          "color": "#FECB52",
          "size": [
           21.471309741999153
          ],
          "sizemode": "area",
          "sizeref": 0.25,
          "symbol": "circle"
         },
         "mode": "markers",
         "name": "European Union",
         "orientation": "v",
         "showlegend": true,
         "x": [
          1.84184098E8
         ],
         "xaxis": "x",
         "y": [
          1216114.0
         ],
         "yaxis": "y",
         "type": "scatter"
        },
        {
         "customdata": [
          [
           "Faeroe Islands",
           0.0
          ]
         ],
         "hovertemplate": "location=%{customdata[0]}<br>Total Cases=%{x}<br>Total Deaths=%{y}<br>size=%{marker.size}<br>New Cases=%{customdata[1]}<extra></extra>",
         "legendgroup": "Faeroe Islands",
         "marker": {
          "color": "#636efa",
          "size": [
           0.0
          ],
          "sizemode": "area",
          "sizeref": 0.25,
          "symbol": "circle"
         },
         "mode": "markers",
         "name": "Faeroe Islands",
         "orientation": "v",
         "showlegend": true,
         "x": [
          34658.0
         ],
         "xaxis": "x",
         "y": [
          28.0
         ],
         "yaxis": "y",
         "type": "scatter"
        },
        {
         "customdata": [
          [
           "Falkland Islands",
           0.0
          ]
         ],
         "hovertemplate": "location=%{customdata[0]}<br>Total Cases=%{x}<br>Total Deaths=%{y}<br>size=%{marker.size}<br>New Cases=%{customdata[1]}<extra></extra>",
         "legendgroup": "Falkland Islands",
         "marker": {
          "color": "#EF553B",
          "size": [
           0.0
          ],
          "sizemode": "area",
          "sizeref": 0.25,
          "symbol": "circle"
         },
         "mode": "markers",
         "name": "Falkland Islands",
         "orientation": "v",
         "showlegend": true,
         "x": [
          1930.0
         ],
         "xaxis": "x",
         "y": [
          null
         ],
         "yaxis": "y",
         "type": "scatter"
        },
        {
         "customdata": [
          [
           "Fiji",
           1.0
          ]
         ],
         "hovertemplate": "location=%{customdata[0]}<br>Total Cases=%{x}<br>Total Deaths=%{y}<br>size=%{marker.size}<br>New Cases=%{customdata[1]}<extra></extra>",
         "legendgroup": "Fiji",
         "marker": {
          "color": "#00cc96",
          "size": [
           5.639362752009022E-4
          ],
          "sizemode": "area",
          "sizeref": 0.25,
          "symbol": "circle"
         },
         "mode": "markers",
         "name": "Fiji",
         "orientation": "v",
         "showlegend": true,
         "x": [
          68898.0
         ],
         "xaxis": "x",
         "y": [
          883.0
         ],
         "yaxis": "y",
         "type": "scatter"
        },
        {
         "customdata": [
          [
           "Finland",
           668.0
          ]
         ],
         "hovertemplate": "location=%{customdata[0]}<br>Total Cases=%{x}<br>Total Deaths=%{y}<br>size=%{marker.size}<br>New Cases=%{customdata[1]}<extra></extra>",
         "legendgroup": "Finland",
         "marker": {
          "color": "#ab63fa",
          "size": [
           0.37670943183420275
          ],
          "sizemode": "area",
          "sizeref": 0.25,
          "symbol": "circle"
         },
         "mode": "markers",
         "name": "Finland",
         "orientation": "v",
         "showlegend": true,
         "x": [
          1463644.0
         ],
         "xaxis": "x",
         "y": [
          8967.0
         ],
         "yaxis": "y",
         "type": "scatter"
        },
        {
         "customdata": [
          [
           "France",
           6308.0
          ]
         ],
         "hovertemplate": "location=%{customdata[0]}<br>Total Cases=%{x}<br>Total Deaths=%{y}<br>size=%{marker.size}<br>New Cases=%{customdata[1]}<extra></extra>",
         "legendgroup": "France",
         "marker": {
          "color": "#FFA15A",
          "size": [
           3.5573100239672915
          ],
          "sizemode": "area",
          "sizeref": 0.25,
          "symbol": "circle"
         },
         "mode": "markers",
         "name": "France",
         "orientation": "v",
         "showlegend": true,
         "x": [
          3.9701767E7
         ],
         "xaxis": "x",
         "y": [
          165204.0
         ],
         "yaxis": "y",
         "type": "scatter"
        },
        {
         "customdata": [
          [
           "French Polynesia",
           0.0
          ]
         ],
         "hovertemplate": "location=%{customdata[0]}<br>Total Cases=%{x}<br>Total Deaths=%{y}<br>size=%{marker.size}<br>New Cases=%{customdata[1]}<extra></extra>",
         "legendgroup": "French Polynesia",
         "marker": {
          "color": "#19d3f3",
          "size": [
           0.0
          ],
          "sizemode": "area",
          "sizeref": 0.25,
          "symbol": "circle"
         },
         "mode": "markers",
         "name": "French Polynesia",
         "orientation": "v",
         "showlegend": true,
         "x": [
          78055.0
         ],
         "xaxis": "x",
         "y": [
          649.0
         ],
         "yaxis": "y",
         "type": "scatter"
        },
        {
         "customdata": [
          [
           "Gabon",
           0.0
          ]
         ],
         "hovertemplate": "location=%{customdata[0]}<br>Total Cases=%{x}<br>Total Deaths=%{y}<br>size=%{marker.size}<br>New Cases=%{customdata[1]}<extra></extra>",
         "legendgroup": "Gabon",
         "marker": {
          "color": "#FF6692",
          "size": [
           0.0
          ],
          "sizemode": "area",
          "sizeref": 0.25,
          "symbol": "circle"
         },
         "mode": "markers",
         "name": "Gabon",
         "orientation": "v",
         "showlegend": true,
         "x": [
          48981.0
         ],
         "xaxis": "x",
         "y": [
          306.0
         ],
         "yaxis": "y",
         "type": "scatter"
        },
        {
         "customdata": [
          [
           "Gambia",
           0.0
          ]
         ],
         "hovertemplate": "location=%{customdata[0]}<br>Total Cases=%{x}<br>Total Deaths=%{y}<br>size=%{marker.size}<br>New Cases=%{customdata[1]}<extra></extra>",
         "legendgroup": "Gambia",
         "marker": {
          "color": "#B6E880",
          "size": [
           0.0
          ],
          "sizemode": "area",
          "sizeref": 0.25,
          "symbol": "circle"
         },
         "mode": "markers",
         "name": "Gambia",
         "orientation": "v",
         "showlegend": true,
         "x": [
          12598.0
         ],
         "xaxis": "x",
         "y": [
          372.0
         ],
         "yaxis": "y",
         "type": "scatter"
        },
        {
         "customdata": [
          [
           "Georgia",
           0.0
          ]
         ],
         "hovertemplate": "location=%{customdata[0]}<br>Total Cases=%{x}<br>Total Deaths=%{y}<br>size=%{marker.size}<br>New Cases=%{customdata[1]}<extra></extra>",
         "legendgroup": "Georgia",
         "marker": {
          "color": "#FF97FF",
          "size": [
           0.0
          ],
          "sizemode": "area",
          "sizeref": 0.25,
          "symbol": "circle"
         },
         "mode": "markers",
         "name": "Georgia",
         "orientation": "v",
         "showlegend": true,
         "x": [
          1827537.0
         ],
         "xaxis": "x",
         "y": [
          16971.0
         ],
         "yaxis": "y",
         "type": "scatter"
        },
        {
         "customdata": [
          [
           "Germany",
           7829.0
          ]
         ],
         "hovertemplate": "location=%{customdata[0]}<br>Total Cases=%{x}<br>Total Deaths=%{y}<br>size=%{marker.size}<br>New Cases=%{customdata[1]}<extra></extra>",
         "legendgroup": "Germany",
         "marker": {
          "color": "#FECB52",
          "size": [
           4.415057098547864
          ],
          "sizemode": "area",
          "sizeref": 0.25,
          "symbol": "circle"
         },
         "mode": "markers",
         "name": "Germany",
         "orientation": "v",
         "showlegend": true,
         "x": [
          3.824906E7
         ],
         "xaxis": "x",
         "y": [
          168935.0
         ],
         "yaxis": "y",
         "type": "scatter"
        },
        {
         "customdata": [
          [
           "Ghana",
           0.0
          ]
         ],
         "hovertemplate": "location=%{customdata[0]}<br>Total Cases=%{x}<br>Total Deaths=%{y}<br>size=%{marker.size}<br>New Cases=%{customdata[1]}<extra></extra>",
         "legendgroup": "Ghana",
         "marker": {
          "color": "#636efa",
          "size": [
           0.0
          ],
          "sizemode": "area",
          "sizeref": 0.25,
          "symbol": "circle"
         },
         "mode": "markers",
         "name": "Ghana",
         "orientation": "v",
         "showlegend": true,
         "x": [
          171229.0
         ],
         "xaxis": "x",
         "y": [
          1462.0
         ],
         "yaxis": "y",
         "type": "scatter"
        },
        {
         "customdata": [
          [
           "Gibraltar",
           0.0
          ]
         ],
         "hovertemplate": "location=%{customdata[0]}<br>Total Cases=%{x}<br>Total Deaths=%{y}<br>size=%{marker.size}<br>New Cases=%{customdata[1]}<extra></extra>",
         "legendgroup": "Gibraltar",
         "marker": {
          "color": "#EF553B",
          "size": [
           0.0
          ],
          "sizemode": "area",
          "sizeref": 0.25,
          "symbol": "circle"
         },
         "mode": "markers",
         "name": "Gibraltar",
         "orientation": "v",
         "showlegend": true,
         "x": [
          20433.0
         ],
         "xaxis": "x",
         "y": [
          111.0
         ],
         "yaxis": "y",
         "type": "scatter"
        },
        {
         "customdata": [
          [
           "Greece",
           0.0
          ]
         ],
         "hovertemplate": "location=%{customdata[0]}<br>Total Cases=%{x}<br>Total Deaths=%{y}<br>size=%{marker.size}<br>New Cases=%{customdata[1]}<extra></extra>",
         "legendgroup": "Greece",
         "marker": {
          "color": "#00cc96",
          "size": [
           0.0
          ],
          "sizemode": "area",
          "sizeref": 0.25,
          "symbol": "circle"
         },
         "mode": "markers",
         "name": "Greece",
         "orientation": "v",
         "showlegend": true,
         "x": [
          5548487.0
         ],
         "xaxis": "x",
         "y": [
          34779.0
         ],
         "yaxis": "y",
         "type": "scatter"
        },
        {
         "customdata": [
          [
           "Greenland",
           0.0
          ]
         ],
         "hovertemplate": "location=%{customdata[0]}<br>Total Cases=%{x}<br>Total Deaths=%{y}<br>size=%{marker.size}<br>New Cases=%{customdata[1]}<extra></extra>",
         "legendgroup": "Greenland",
         "marker": {
          "color": "#ab63fa",
          "size": [
           0.0
          ],
          "sizemode": "area",
          "sizeref": 0.25,
          "symbol": "circle"
         },
         "mode": "markers",
         "name": "Greenland",
         "orientation": "v",
         "showlegend": true,
         "x": [
          11971.0
         ],
         "xaxis": "x",
         "y": [
          21.0
         ],
         "yaxis": "y",
         "type": "scatter"
        },
        {
         "customdata": [
          [
           "Grenada",
           0.0
          ]
         ],
         "hovertemplate": "location=%{customdata[0]}<br>Total Cases=%{x}<br>Total Deaths=%{y}<br>size=%{marker.size}<br>New Cases=%{customdata[1]}<extra></extra>",
         "legendgroup": "Grenada",
         "marker": {
          "color": "#FFA15A",
          "size": [
           0.0
          ],
          "sizemode": "area",
          "sizeref": 0.25,
          "symbol": "circle"
         },
         "mode": "markers",
         "name": "Grenada",
         "orientation": "v",
         "showlegend": true,
         "x": [
          19680.0
         ],
         "xaxis": "x",
         "y": [
          238.0
         ],
         "yaxis": "y",
         "type": "scatter"
        },
        {
         "customdata": [
          [
           "Guatemala",
           198.0
          ]
         ],
         "hovertemplate": "location=%{customdata[0]}<br>Total Cases=%{x}<br>Total Deaths=%{y}<br>size=%{marker.size}<br>New Cases=%{customdata[1]}<extra></extra>",
         "legendgroup": "Guatemala",
         "marker": {
          "color": "#19d3f3",
          "size": [
           0.11165938248977865
          ],
          "sizemode": "area",
          "sizeref": 0.25,
          "symbol": "circle"
         },
         "mode": "markers",
         "name": "Guatemala",
         "orientation": "v",
         "showlegend": true,
         "x": [
          1238247.0
         ],
         "xaxis": "x",
         "y": [
          20182.0
         ],
         "yaxis": "y",
         "type": "scatter"
        },
        {
         "customdata": [
          [
           "Guinea",
           0.0
          ]
         ],
         "hovertemplate": "location=%{customdata[0]}<br>Total Cases=%{x}<br>Total Deaths=%{y}<br>size=%{marker.size}<br>New Cases=%{customdata[1]}<extra></extra>",
         "legendgroup": "Guinea",
         "marker": {
          "color": "#FF6692",
          "size": [
           0.0
          ],
          "sizemode": "area",
          "sizeref": 0.25,
          "symbol": "circle"
         },
         "mode": "markers",
         "name": "Guinea",
         "orientation": "v",
         "showlegend": true,
         "x": [
          38267.0
         ],
         "xaxis": "x",
         "y": [
          467.0
         ],
         "yaxis": "y",
         "type": "scatter"
        },
        {
         "customdata": [
          [
           "Guinea-Bissau",
           0.0
          ]
         ],
         "hovertemplate": "location=%{customdata[0]}<br>Total Cases=%{x}<br>Total Deaths=%{y}<br>size=%{marker.size}<br>New Cases=%{customdata[1]}<extra></extra>",
         "legendgroup": "Guinea-Bissau",
         "marker": {
          "color": "#B6E880",
          "size": [
           0.0
          ],
          "sizemode": "area",
          "sizeref": 0.25,
          "symbol": "circle"
         },
         "mode": "markers",
         "name": "Guinea-Bissau",
         "orientation": "v",
         "showlegend": true,
         "x": [
          8960.0
         ],
         "xaxis": "x",
         "y": [
          176.0
         ],
         "yaxis": "y",
         "type": "scatter"
        },
        {
         "customdata": [
          [
           "Guyana",
           0.0
          ]
         ],
         "hovertemplate": "location=%{customdata[0]}<br>Total Cases=%{x}<br>Total Deaths=%{y}<br>size=%{marker.size}<br>New Cases=%{customdata[1]}<extra></extra>",
         "legendgroup": "Guyana",
         "marker": {
          "color": "#FF97FF",
          "size": [
           0.0
          ],
          "sizemode": "area",
          "sizeref": 0.25,
          "symbol": "circle"
         },
         "mode": "markers",
         "name": "Guyana",
         "orientation": "v",
         "showlegend": true,
         "x": [
          73075.0
         ],
         "xaxis": "x",
         "y": [
          1298.0
         ],
         "yaxis": "y",
         "type": "scatter"
        },
        {
         "customdata": [
          [
           "Haiti",
           0.0
          ]
         ],
         "hovertemplate": "location=%{customdata[0]}<br>Total Cases=%{x}<br>Total Deaths=%{y}<br>size=%{marker.size}<br>New Cases=%{customdata[1]}<extra></extra>",
         "legendgroup": "Haiti",
         "marker": {
          "color": "#FECB52",
          "size": [
           0.0
          ],
          "sizemode": "area",
          "sizeref": 0.25,
          "symbol": "circle"
         },
         "mode": "markers",
         "name": "Haiti",
         "orientation": "v",
         "showlegend": true,
         "x": [
          34202.0
         ],
         "xaxis": "x",
         "y": [
          860.0
         ],
         "yaxis": "y",
         "type": "scatter"
        },
        {
         "customdata": [
          [
           "High income",
           157348.0
          ]
         ],
         "hovertemplate": "location=%{customdata[0]}<br>Total Cases=%{x}<br>Total Deaths=%{y}<br>size=%{marker.size}<br>New Cases=%{customdata[1]}<extra></extra>",
         "legendgroup": "High income",
         "marker": {
          "color": "#636efa",
          "size": [
           88.73424503031157
          ],
          "sizemode": "area",
          "sizeref": 0.25,
          "symbol": "circle"
         },
         "mode": "markers",
         "name": "High income",
         "orientation": "v",
         "showlegend": true,
         "x": [
          4.31911049E8
         ],
         "xaxis": "x",
         "y": [
          2878426.0
         ],
         "yaxis": "y",
         "type": "scatter"
        },
        {
         "customdata": [
          [
           "Honduras",
           0.0
          ]
         ],
         "hovertemplate": "location=%{customdata[0]}<br>Total Cases=%{x}<br>Total Deaths=%{y}<br>size=%{marker.size}<br>New Cases=%{customdata[1]}<extra></extra>",
         "legendgroup": "Honduras",
         "marker": {
          "color": "#EF553B",
          "size": [
           0.0
          ],
          "sizemode": "area",
          "sizeref": 0.25,
          "symbol": "circle"
         },
         "mode": "markers",
         "name": "Honduras",
         "orientation": "v",
         "showlegend": true,
         "x": [
          472250.0
         ],
         "xaxis": "x",
         "y": [
          11111.0
         ],
         "yaxis": "y",
         "type": "scatter"
        },
        {
         "customdata": [
          [
           "Hong Kong",
           0.0
          ]
         ],
         "hovertemplate": "location=%{customdata[0]}<br>Total Cases=%{x}<br>Total Deaths=%{y}<br>size=%{marker.size}<br>New Cases=%{customdata[1]}<extra></extra>",
         "legendgroup": "Hong Kong",
         "marker": {
          "color": "#00cc96",
          "size": [
           0.0
          ],
          "sizemode": "area",
          "sizeref": 0.25,
          "symbol": "circle"
         },
         "mode": "markers",
         "name": "Hong Kong",
         "orientation": "v",
         "showlegend": true,
         "x": [
          2876106.0
         ],
         "xaxis": "x",
         "y": [
          13467.0
         ],
         "yaxis": "y",
         "type": "scatter"
        },
        {
         "customdata": [
          [
           "Hungary",
           0.0
          ]
         ],
         "hovertemplate": "location=%{customdata[0]}<br>Total Cases=%{x}<br>Total Deaths=%{y}<br>size=%{marker.size}<br>New Cases=%{customdata[1]}<extra></extra>",
         "legendgroup": "Hungary",
         "marker": {
          "color": "#ab63fa",
          "size": [
           0.0
          ],
          "sizemode": "area",
          "sizeref": 0.25,
          "symbol": "circle"
         },
         "mode": "markers",
         "name": "Hungary",
         "orientation": "v",
         "showlegend": true,
         "x": [
          2196804.0
         ],
         "xaxis": "x",
         "y": [
          48762.0
         ],
         "yaxis": "y",
         "type": "scatter"
        },
        {
         "customdata": [
          [
           "Iceland",
           0.0
          ]
         ],
         "hovertemplate": "location=%{customdata[0]}<br>Total Cases=%{x}<br>Total Deaths=%{y}<br>size=%{marker.size}<br>New Cases=%{customdata[1]}<extra></extra>",
         "legendgroup": "Iceland",
         "marker": {
          "color": "#FFA15A",
          "size": [
           0.0
          ],
          "sizemode": "area",
          "sizeref": 0.25,
          "symbol": "circle"
         },
         "mode": "markers",
         "name": "Iceland",
         "orientation": "v",
         "showlegend": true,
         "x": [
          209137.0
         ],
         "xaxis": "x",
         "y": [
          263.0
         ],
         "yaxis": "y",
         "type": "scatter"
        },
        {
         "customdata": [
          [
           "India",
           440.0
          ]
         ],
         "hovertemplate": "location=%{customdata[0]}<br>Total Cases=%{x}<br>Total Deaths=%{y}<br>size=%{marker.size}<br>New Cases=%{customdata[1]}<extra></extra>",
         "legendgroup": "India",
         "marker": {
          "color": "#19d3f3",
          "size": [
           0.24813196108839702
          ],
          "sizemode": "area",
          "sizeref": 0.25,
          "symbol": "circle"
         },
         "mode": "markers",
         "name": "India",
         "orientation": "v",
         "showlegend": true,
         "x": [
          4.4690738E7
         ],
         "xaxis": "x",
         "y": [
          530779.0
         ],
         "yaxis": "y",
         "type": "scatter"
        },
        {
         "customdata": [
          [
           "Indonesia",
           307.0
          ]
         ],
         "hovertemplate": "location=%{customdata[0]}<br>Total Cases=%{x}<br>Total Deaths=%{y}<br>size=%{marker.size}<br>New Cases=%{customdata[1]}<extra></extra>",
         "legendgroup": "Indonesia",
         "marker": {
          "color": "#FF6692",
          "size": [
           0.173128436486677
          ],
          "sizemode": "area",
          "sizeref": 0.25,
          "symbol": "circle"
         },
         "mode": "markers",
         "name": "Indonesia",
         "orientation": "v",
         "showlegend": true,
         "x": [
          6738225.0
         ],
         "xaxis": "x",
         "y": [
          160941.0
         ],
         "yaxis": "y",
         "type": "scatter"
        },
        {
         "customdata": [
          [
           "International",
           0.0
          ]
         ],
         "hovertemplate": "location=%{customdata[0]}<br>Total Cases=%{x}<br>Total Deaths=%{y}<br>size=%{marker.size}<br>New Cases=%{customdata[1]}<extra></extra>",
         "legendgroup": "International",
         "marker": {
          "color": "#B6E880",
          "size": [
           0.0
          ],
          "sizemode": "area",
          "sizeref": 0.25,
          "symbol": "circle"
         },
         "mode": "markers",
         "name": "International",
         "orientation": "v",
         "showlegend": true,
         "x": [
          721.0
         ],
         "xaxis": "x",
         "y": [
          15.0
         ],
         "yaxis": "y",
         "type": "scatter"
        },
        {
         "customdata": [
          [
           "Iran",
           315.0
          ]
         ],
         "hovertemplate": "location=%{customdata[0]}<br>Total Cases=%{x}<br>Total Deaths=%{y}<br>size=%{marker.size}<br>New Cases=%{customdata[1]}<extra></extra>",
         "legendgroup": "Iran",
         "marker": {
          "color": "#FF97FF",
          "size": [
           0.17763992668828424
          ],
          "sizemode": "area",
          "sizeref": 0.25,
          "symbol": "circle"
         },
         "mode": "markers",
         "name": "Iran",
         "orientation": "v",
         "showlegend": true,
         "x": [
          7572311.0
         ],
         "xaxis": "x",
         "y": [
          144933.0
         ],
         "yaxis": "y",
         "type": "scatter"
        },
        {
         "customdata": [
          [
           "Iraq",
           0.0
          ]
         ],
         "hovertemplate": "location=%{customdata[0]}<br>Total Cases=%{x}<br>Total Deaths=%{y}<br>size=%{marker.size}<br>New Cases=%{customdata[1]}<extra></extra>",
         "legendgroup": "Iraq",
         "marker": {
          "color": "#FECB52",
          "size": [
           0.0
          ],
          "sizemode": "area",
          "sizeref": 0.25,
          "symbol": "circle"
         },
         "mode": "markers",
         "name": "Iraq",
         "orientation": "v",
         "showlegend": true,
         "x": [
          2465545.0
         ],
         "xaxis": "x",
         "y": [
          25375.0
         ],
         "yaxis": "y",
         "type": "scatter"
        },
        {
         "customdata": [
          [
           "Ireland",
           0.0
          ]
         ],
         "hovertemplate": "location=%{customdata[0]}<br>Total Cases=%{x}<br>Total Deaths=%{y}<br>size=%{marker.size}<br>New Cases=%{customdata[1]}<extra></extra>",
         "legendgroup": "Ireland",
         "marker": {
          "color": "#636efa",
          "size": [
           0.0
          ],
          "sizemode": "area",
          "sizeref": 0.25,
          "symbol": "circle"
         },
         "mode": "markers",
         "name": "Ireland",
         "orientation": "v",
         "showlegend": true,
         "x": [
          1704502.0
         ],
         "xaxis": "x",
         "y": [
          8708.0
         ],
         "yaxis": "y",
         "type": "scatter"
        },
        {
         "customdata": [
          [
           "Isle of Man",
           0.0
          ]
         ],
         "hovertemplate": "location=%{customdata[0]}<br>Total Cases=%{x}<br>Total Deaths=%{y}<br>size=%{marker.size}<br>New Cases=%{customdata[1]}<extra></extra>",
         "legendgroup": "Isle of Man",
         "marker": {
          "color": "#EF553B",
          "size": [
           0.0
          ],
          "sizemode": "area",
          "sizeref": 0.25,
          "symbol": "circle"
         },
         "mode": "markers",
         "name": "Isle of Man",
         "orientation": "v",
         "showlegend": true,
         "x": [
          38008.0
         ],
         "xaxis": "x",
         "y": [
          116.0
         ],
         "yaxis": "y",
         "type": "scatter"
        },
        {
         "customdata": [
          [
           "Israel",
           660.0
          ]
         ],
         "hovertemplate": "location=%{customdata[0]}<br>Total Cases=%{x}<br>Total Deaths=%{y}<br>size=%{marker.size}<br>New Cases=%{customdata[1]}<extra></extra>",
         "legendgroup": "Israel",
         "marker": {
          "color": "#00cc96",
          "size": [
           0.3721979416325955
          ],
          "sizemode": "area",
          "sizeref": 0.25,
          "symbol": "circle"
         },
         "mode": "markers",
         "name": "Israel",
         "orientation": "v",
         "showlegend": true,
         "x": [
          4803824.0
         ],
         "xaxis": "x",
         "y": [
          12329.0
         ],
         "yaxis": "y",
         "type": "scatter"
        },
        {
         "customdata": [
          [
           "Italy",
           0.0
          ]
         ],
         "hovertemplate": "location=%{customdata[0]}<br>Total Cases=%{x}<br>Total Deaths=%{y}<br>size=%{marker.size}<br>New Cases=%{customdata[1]}<extra></extra>",
         "legendgroup": "Italy",
         "marker": {
          "color": "#ab63fa",
          "size": [
           0.0
          ],
          "sizemode": "area",
          "sizeref": 0.25,
          "symbol": "circle"
         },
         "mode": "markers",
         "name": "Italy",
         "orientation": "v",
         "showlegend": true,
         "x": [
          2.560351E7
         ],
         "xaxis": "x",
         "y": [
          188322.0
         ],
         "yaxis": "y",
         "type": "scatter"
        },
        {
         "customdata": [
          [
           "Jamaica",
           129.0
          ]
         ],
         "hovertemplate": "location=%{customdata[0]}<br>Total Cases=%{x}<br>Total Deaths=%{y}<br>size=%{marker.size}<br>New Cases=%{customdata[1]}<extra></extra>",
         "legendgroup": "Jamaica",
         "marker": {
          "color": "#FFA15A",
          "size": [
           0.0727477795009164
          ],
          "sizemode": "area",
          "sizeref": 0.25,
          "symbol": "circle"
         },
         "mode": "markers",
         "name": "Jamaica",
         "orientation": "v",
         "showlegend": true,
         "x": [
          154416.0
         ],
         "xaxis": "x",
         "y": [
          3514.0
         ],
         "yaxis": "y",
         "type": "scatter"
        },
        {
         "customdata": [
          [
           "Japan",
           9834.0
          ]
         ],
         "hovertemplate": "location=%{customdata[0]}<br>Total Cases=%{x}<br>Total Deaths=%{y}<br>size=%{marker.size}<br>New Cases=%{customdata[1]}<extra></extra>",
         "legendgroup": "Japan",
         "marker": {
          "color": "#19d3f3",
          "size": [
           5.545749330325673
          ],
          "sizemode": "area",
          "sizeref": 0.25,
          "symbol": "circle"
         },
         "mode": "markers",
         "name": "Japan",
         "orientation": "v",
         "showlegend": true,
         "x": [
          3.3320438E7
         ],
         "xaxis": "x",
         "y": [
          72997.0
         ],
         "yaxis": "y",
         "type": "scatter"
        },
        {
         "customdata": [
          [
           "Jordan",
           0.0
          ]
         ],
         "hovertemplate": "location=%{customdata[0]}<br>Total Cases=%{x}<br>Total Deaths=%{y}<br>size=%{marker.size}<br>New Cases=%{customdata[1]}<extra></extra>",
         "legendgroup": "Jordan",
         "marker": {
          "color": "#FF6692",
          "size": [
           0.0
          ],
          "sizemode": "area",
          "sizeref": 0.25,
          "symbol": "circle"
         },
         "mode": "markers",
         "name": "Jordan",
         "orientation": "v",
         "showlegend": true,
         "x": [
          1746997.0
         ],
         "xaxis": "x",
         "y": [
          14122.0
         ],
         "yaxis": "y",
         "type": "scatter"
        },
        {
         "customdata": [
          [
           "Kazakhstan",
           0.0
          ]
         ],
         "hovertemplate": "location=%{customdata[0]}<br>Total Cases=%{x}<br>Total Deaths=%{y}<br>size=%{marker.size}<br>New Cases=%{customdata[1]}<extra></extra>",
         "legendgroup": "Kazakhstan",
         "marker": {
          "color": "#B6E880",
          "size": [
           0.0
          ],
          "sizemode": "area",
          "sizeref": 0.25,
          "symbol": "circle"
         },
         "mode": "markers",
         "name": "Kazakhstan",
         "orientation": "v",
         "showlegend": true,
         "x": [
          1498668.0
         ],
         "xaxis": "x",
         "y": [
          19071.0
         ],
         "yaxis": "y",
         "type": "scatter"
        },
        {
         "customdata": [
          [
           "Kenya",
           0.0
          ]
         ],
         "hovertemplate": "location=%{customdata[0]}<br>Total Cases=%{x}<br>Total Deaths=%{y}<br>size=%{marker.size}<br>New Cases=%{customdata[1]}<extra></extra>",
         "legendgroup": "Kenya",
         "marker": {
          "color": "#FF97FF",
          "size": [
           0.0
          ],
          "sizemode": "area",
          "sizeref": 0.25,
          "symbol": "circle"
         },
         "mode": "markers",
         "name": "Kenya",
         "orientation": "v",
         "showlegend": true,
         "x": [
          342937.0
         ],
         "xaxis": "x",
         "y": [
          5688.0
         ],
         "yaxis": "y",
         "type": "scatter"
        },
        {
         "customdata": [
          [
           "Kiribati",
           0.0
          ]
         ],
         "hovertemplate": "location=%{customdata[0]}<br>Total Cases=%{x}<br>Total Deaths=%{y}<br>size=%{marker.size}<br>New Cases=%{customdata[1]}<extra></extra>",
         "legendgroup": "Kiribati",
         "marker": {
          "color": "#FECB52",
          "size": [
           0.0
          ],
          "sizemode": "area",
          "sizeref": 0.25,
          "symbol": "circle"
         },
         "mode": "markers",
         "name": "Kiribati",
         "orientation": "v",
         "showlegend": true,
         "x": [
          5014.0
         ],
         "xaxis": "x",
         "y": [
          18.0
         ],
         "yaxis": "y",
         "type": "scatter"
        },
        {
         "customdata": [
          [
           "Kosovo",
           21.0
          ]
         ],
         "hovertemplate": "location=%{customdata[0]}<br>Total Cases=%{x}<br>Total Deaths=%{y}<br>size=%{marker.size}<br>New Cases=%{customdata[1]}<extra></extra>",
         "legendgroup": "Kosovo",
         "marker": {
          "color": "#636efa",
          "size": [
           0.011842661779218949
          ],
          "sizemode": "area",
          "sizeref": 0.25,
          "symbol": "circle"
         },
         "mode": "markers",
         "name": "Kosovo",
         "orientation": "v",
         "showlegend": true,
         "x": [
          273312.0
         ],
         "xaxis": "x",
         "y": [
          3211.0
         ],
         "yaxis": "y",
         "type": "scatter"
        },
        {
         "customdata": [
          [
           "Kuwait",
           0.0
          ]
         ],
         "hovertemplate": "location=%{customdata[0]}<br>Total Cases=%{x}<br>Total Deaths=%{y}<br>size=%{marker.size}<br>New Cases=%{customdata[1]}<extra></extra>",
         "legendgroup": "Kuwait",
         "marker": {
          "color": "#EF553B",
          "size": [
           0.0
          ],
          "sizemode": "area",
          "sizeref": 0.25,
          "symbol": "circle"
         },
         "mode": "markers",
         "name": "Kuwait",
         "orientation": "v",
         "showlegend": true,
         "x": [
          663860.0
         ],
         "xaxis": "x",
         "y": [
          2570.0
         ],
         "yaxis": "y",
         "type": "scatter"
        },
        {
         "customdata": [
          [
           "Kyrgyzstan",
           0.0
          ]
         ],
         "hovertemplate": "location=%{customdata[0]}<br>Total Cases=%{x}<br>Total Deaths=%{y}<br>size=%{marker.size}<br>New Cases=%{customdata[1]}<extra></extra>",
         "legendgroup": "Kyrgyzstan",
         "marker": {
          "color": "#00cc96",
          "size": [
           0.0
          ],
          "sizemode": "area",
          "sizeref": 0.25,
          "symbol": "circle"
         },
         "mode": "markers",
         "name": "Kyrgyzstan",
         "orientation": "v",
         "showlegend": true,
         "x": [
          206708.0
         ],
         "xaxis": "x",
         "y": [
          2991.0
         ],
         "yaxis": "y",
         "type": "scatter"
        },
        {
         "customdata": [
          [
           "Laos",
           0.0
          ]
         ],
         "hovertemplate": "location=%{customdata[0]}<br>Total Cases=%{x}<br>Total Deaths=%{y}<br>size=%{marker.size}<br>New Cases=%{customdata[1]}<extra></extra>",
         "legendgroup": "Laos",
         "marker": {
          "color": "#ab63fa",
          "size": [
           0.0
          ],
          "sizemode": "area",
          "sizeref": 0.25,
          "symbol": "circle"
         },
         "mode": "markers",
         "name": "Laos",
         "orientation": "v",
         "showlegend": true,
         "x": [
          218023.0
         ],
         "xaxis": "x",
         "y": [
          758.0
         ],
         "yaxis": "y",
         "type": "scatter"
        },
        {
         "customdata": [
          [
           "Latvia",
           27.0
          ]
         ],
         "hovertemplate": "location=%{customdata[0]}<br>Total Cases=%{x}<br>Total Deaths=%{y}<br>size=%{marker.size}<br>New Cases=%{customdata[1]}<extra></extra>",
         "legendgroup": "Latvia",
         "marker": {
          "color": "#FFA15A",
          "size": [
           0.015226279430424362
          ],
          "sizemode": "area",
          "sizeref": 0.25,
          "symbol": "circle"
         },
         "mode": "markers",
         "name": "Latvia",
         "orientation": "v",
         "showlegend": true,
         "x": [
          976255.0
         ],
         "xaxis": "x",
         "y": [
          6269.0
         ],
         "yaxis": "y",
         "type": "scatter"
        },
        {
         "customdata": [
          [
           "Lebanon",
           179.0
          ]
         ],
         "hovertemplate": "location=%{customdata[0]}<br>Total Cases=%{x}<br>Total Deaths=%{y}<br>size=%{marker.size}<br>New Cases=%{customdata[1]}<extra></extra>",
         "legendgroup": "Lebanon",
         "marker": {
          "color": "#19d3f3",
          "size": [
           0.1009445932609615
          ],
          "sizemode": "area",
          "sizeref": 0.25,
          "symbol": "circle"
         },
         "mode": "markers",
         "name": "Lebanon",
         "orientation": "v",
         "showlegend": true,
         "x": [
          1232828.0
         ],
         "xaxis": "x",
         "y": [
          10841.0
         ],
         "yaxis": "y",
         "type": "scatter"
        },
        {
         "customdata": [
          [
           "Lesotho",
           0.0
          ]
         ],
         "hovertemplate": "location=%{customdata[0]}<br>Total Cases=%{x}<br>Total Deaths=%{y}<br>size=%{marker.size}<br>New Cases=%{customdata[1]}<extra></extra>",
         "legendgroup": "Lesotho",
         "marker": {
          "color": "#FF6692",
          "size": [
           0.0
          ],
          "sizemode": "area",
          "sizeref": 0.25,
          "symbol": "circle"
         },
         "mode": "markers",
         "name": "Lesotho",
         "orientation": "v",
         "showlegend": true,
         "x": [
          34790.0
         ],
         "xaxis": "x",
         "y": [
          723.0
         ],
         "yaxis": "y",
         "type": "scatter"
        },
        {
         "customdata": [
          [
           "Liberia",
           0.0
          ]
         ],
         "hovertemplate": "location=%{customdata[0]}<br>Total Cases=%{x}<br>Total Deaths=%{y}<br>size=%{marker.size}<br>New Cases=%{customdata[1]}<extra></extra>",
         "legendgroup": "Liberia",
         "marker": {
          "color": "#B6E880",
          "size": [
           0.0
          ],
          "sizemode": "area",
          "sizeref": 0.25,
          "symbol": "circle"
         },
         "mode": "markers",
         "name": "Liberia",
         "orientation": "v",
         "showlegend": true,
         "x": [
          8090.0
         ],
         "xaxis": "x",
         "y": [
          295.0
         ],
         "yaxis": "y",
         "type": "scatter"
        },
        {
         "customdata": [
          [
           "Libya",
           0.0
          ]
         ],
         "hovertemplate": "location=%{customdata[0]}<br>Total Cases=%{x}<br>Total Deaths=%{y}<br>size=%{marker.size}<br>New Cases=%{customdata[1]}<extra></extra>",
         "legendgroup": "Libya",
         "marker": {
          "color": "#FF97FF",
          "size": [
           0.0
          ],
          "sizemode": "area",
          "sizeref": 0.25,
          "symbol": "circle"
         },
         "mode": "markers",
         "name": "Libya",
         "orientation": "v",
         "showlegend": true,
         "x": [
          507187.0
         ],
         "xaxis": "x",
         "y": [
          6437.0
         ],
         "yaxis": "y",
         "type": "scatter"
        },
        {
         "customdata": [
          [
           "Liechtenstein",
           0.0
          ]
         ],
         "hovertemplate": "location=%{customdata[0]}<br>Total Cases=%{x}<br>Total Deaths=%{y}<br>size=%{marker.size}<br>New Cases=%{customdata[1]}<extra></extra>",
         "legendgroup": "Liechtenstein",
         "marker": {
          "color": "#FECB52",
          "size": [
           0.0
          ],
          "sizemode": "area",
          "sizeref": 0.25,
          "symbol": "circle"
         },
         "mode": "markers",
         "name": "Liechtenstein",
         "orientation": "v",
         "showlegend": true,
         "x": [
          21432.0
         ],
         "xaxis": "x",
         "y": [
          89.0
         ],
         "yaxis": "y",
         "type": "scatter"
        },
        {
         "customdata": [
          [
           "Lithuania",
           0.0
          ]
         ],
         "hovertemplate": "location=%{customdata[0]}<br>Total Cases=%{x}<br>Total Deaths=%{y}<br>size=%{marker.size}<br>New Cases=%{customdata[1]}<extra></extra>",
         "legendgroup": "Lithuania",
         "marker": {
          "color": "#636efa",
          "size": [
           0.0
          ],
          "sizemode": "area",
          "sizeref": 0.25,
          "symbol": "circle"
         },
         "mode": "markers",
         "name": "Lithuania",
         "orientation": "v",
         "showlegend": true,
         "x": [
          1307448.0
         ],
         "xaxis": "x",
         "y": [
          9596.0
         ],
         "yaxis": "y",
         "type": "scatter"
        },
        {
         "customdata": [
          [
           "Low income",
           15.0
          ]
         ],
         "hovertemplate": "location=%{customdata[0]}<br>Total Cases=%{x}<br>Total Deaths=%{y}<br>size=%{marker.size}<br>New Cases=%{customdata[1]}<extra></extra>",
         "legendgroup": "Low income",
         "marker": {
          "color": "#EF553B",
          "size": [
           0.008459044128013534
          ],
          "sizemode": "area",
          "sizeref": 0.25,
          "symbol": "circle"
         },
         "mode": "markers",
         "name": "Low income",
         "orientation": "v",
         "showlegend": true,
         "x": [
          2287497.0
         ],
         "xaxis": "x",
         "y": [
          47911.0
         ],
         "yaxis": "y",
         "type": "scatter"
        },
        {
         "customdata": [
          [
           "Lower middle income",
           1682.0
          ]
         ],
         "hovertemplate": "location=%{customdata[0]}<br>Total Cases=%{x}<br>Total Deaths=%{y}<br>size=%{marker.size}<br>New Cases=%{customdata[1]}<extra></extra>",
         "legendgroup": "Lower middle income",
         "marker": {
          "color": "#00cc96",
          "size": [
           0.9485408148879177
          ],
          "sizemode": "area",
          "sizeref": 0.25,
          "symbol": "circle"
         },
         "mode": "markers",
         "name": "Lower middle income",
         "orientation": "v",
         "showlegend": true,
         "x": [
          9.7175431E7
         ],
         "xaxis": "x",
         "y": [
          1346297.0
         ],
         "yaxis": "y",
         "type": "scatter"
        },
        {
         "customdata": [
          [
           "Luxembourg",
           0.0
          ]
         ],
         "hovertemplate": "location=%{customdata[0]}<br>Total Cases=%{x}<br>Total Deaths=%{y}<br>size=%{marker.size}<br>New Cases=%{customdata[1]}<extra></extra>",
         "legendgroup": "Luxembourg",
         "marker": {
          "color": "#ab63fa",
          "size": [
           0.0
          ],
          "sizemode": "area",
          "sizeref": 0.25,
          "symbol": "circle"
         },
         "mode": "markers",
         "name": "Luxembourg",
         "orientation": "v",
         "showlegend": true,
         "x": [
          317367.0
         ],
         "xaxis": "x",
         "y": [
          1220.0
         ],
         "yaxis": "y",
         "type": "scatter"
        },
        {
         "customdata": [
          [
           "Macao",
           0.0
          ]
         ],
         "hovertemplate": "location=%{customdata[0]}<br>Total Cases=%{x}<br>Total Deaths=%{y}<br>size=%{marker.size}<br>New Cases=%{customdata[1]}<extra></extra>",
         "legendgroup": "Macao",
         "marker": {
          "color": "#FFA15A",
          "size": [
           0.0
          ],
          "sizemode": "area",
          "sizeref": 0.25,
          "symbol": "circle"
         },
         "mode": "markers",
         "name": "Macao",
         "orientation": "v",
         "showlegend": true,
         "x": [
          3514.0
         ],
         "xaxis": "x",
         "y": [
          121.0
         ],
         "yaxis": "y",
         "type": "scatter"
        },
        {
         "customdata": [
          [
           "Madagascar",
           0.0
          ]
         ],
         "hovertemplate": "location=%{customdata[0]}<br>Total Cases=%{x}<br>Total Deaths=%{y}<br>size=%{marker.size}<br>New Cases=%{customdata[1]}<extra></extra>",
         "legendgroup": "Madagascar",
         "marker": {
          "color": "#19d3f3",
          "size": [
           0.0
          ],
          "sizemode": "area",
          "sizeref": 0.25,
          "symbol": "circle"
         },
         "mode": "markers",
         "name": "Madagascar",
         "orientation": "v",
         "showlegend": true,
         "x": [
          67889.0
         ],
         "xaxis": "x",
         "y": [
          1423.0
         ],
         "yaxis": "y",
         "type": "scatter"
        },
        {
         "customdata": [
          [
           "Malawi",
           0.0
          ]
         ],
         "hovertemplate": "location=%{customdata[0]}<br>Total Cases=%{x}<br>Total Deaths=%{y}<br>size=%{marker.size}<br>New Cases=%{customdata[1]}<extra></extra>",
         "legendgroup": "Malawi",
         "marker": {
          "color": "#FF6692",
          "size": [
           0.0
          ],
          "sizemode": "area",
          "sizeref": 0.25,
          "symbol": "circle"
         },
         "mode": "markers",
         "name": "Malawi",
         "orientation": "v",
         "showlegend": true,
         "x": [
          88707.0
         ],
         "xaxis": "x",
         "y": [
          2686.0
         ],
         "yaxis": "y",
         "type": "scatter"
        },
        {
         "customdata": [
          [
           "Malaysia",
           279.0
          ]
         ],
         "hovertemplate": "location=%{customdata[0]}<br>Total Cases=%{x}<br>Total Deaths=%{y}<br>size=%{marker.size}<br>New Cases=%{customdata[1]}<extra></extra>",
         "legendgroup": "Malaysia",
         "marker": {
          "color": "#B6E880",
          "size": [
           0.15733822078105175
          ],
          "sizemode": "area",
          "sizeref": 0.25,
          "symbol": "circle"
         },
         "mode": "markers",
         "name": "Malaysia",
         "orientation": "v",
         "showlegend": true,
         "x": [
          5044718.0
         ],
         "xaxis": "x",
         "y": [
          36967.0
         ],
         "yaxis": "y",
         "type": "scatter"
        },
        {
         "customdata": [
          [
           "Maldives",
           0.0
          ]
         ],
         "hovertemplate": "location=%{customdata[0]}<br>Total Cases=%{x}<br>Total Deaths=%{y}<br>size=%{marker.size}<br>New Cases=%{customdata[1]}<extra></extra>",
         "legendgroup": "Maldives",
         "marker": {
          "color": "#FF97FF",
          "size": [
           0.0
          ],
          "sizemode": "area",
          "sizeref": 0.25,
          "symbol": "circle"
         },
         "mode": "markers",
         "name": "Maldives",
         "orientation": "v",
         "showlegend": true,
         "x": [
          185738.0
         ],
         "xaxis": "x",
         "y": [
          311.0
         ],
         "yaxis": "y",
         "type": "scatter"
        },
        {
         "customdata": [
          [
           "Mali",
           1.0
          ]
         ],
         "hovertemplate": "location=%{customdata[0]}<br>Total Cases=%{x}<br>Total Deaths=%{y}<br>size=%{marker.size}<br>New Cases=%{customdata[1]}<extra></extra>",
         "legendgroup": "Mali",
         "marker": {
          "color": "#FECB52",
          "size": [
           5.639362752009022E-4
          ],
          "sizemode": "area",
          "sizeref": 0.25,
          "symbol": "circle"
         },
         "mode": "markers",
         "name": "Mali",
         "orientation": "v",
         "showlegend": true,
         "x": [
          33062.0
         ],
         "xaxis": "x",
         "y": [
          743.0
         ],
         "yaxis": "y",
         "type": "scatter"
        },
        {
         "customdata": [
          [
           "Malta",
           0.0
          ]
         ],
         "hovertemplate": "location=%{customdata[0]}<br>Total Cases=%{x}<br>Total Deaths=%{y}<br>size=%{marker.size}<br>New Cases=%{customdata[1]}<extra></extra>",
         "legendgroup": "Malta",
         "marker": {
          "color": "#636efa",
          "size": [
           0.0
          ],
          "sizemode": "area",
          "sizeref": 0.25,
          "symbol": "circle"
         },
         "mode": "markers",
         "name": "Malta",
         "orientation": "v",
         "showlegend": true,
         "x": [
          117610.0
         ],
         "xaxis": "x",
         "y": [
          828.0
         ],
         "yaxis": "y",
         "type": "scatter"
        },
        {
         "customdata": [
          [
           "Marshall Islands",
           0.0
          ]
         ],
         "hovertemplate": "location=%{customdata[0]}<br>Total Cases=%{x}<br>Total Deaths=%{y}<br>size=%{marker.size}<br>New Cases=%{customdata[1]}<extra></extra>",
         "legendgroup": "Marshall Islands",
         "marker": {
          "color": "#EF553B",
          "size": [
           0.0
          ],
          "sizemode": "area",
          "sizeref": 0.25,
          "symbol": "circle"
         },
         "mode": "markers",
         "name": "Marshall Islands",
         "orientation": "v",
         "showlegend": true,
         "x": [
          15649.0
         ],
         "xaxis": "x",
         "y": [
          17.0
         ],
         "yaxis": "y",
         "type": "scatter"
        },
        {
         "customdata": [
          [
           "Mauritania",
           0.0
          ]
         ],
         "hovertemplate": "location=%{customdata[0]}<br>Total Cases=%{x}<br>Total Deaths=%{y}<br>size=%{marker.size}<br>New Cases=%{customdata[1]}<extra></extra>",
         "legendgroup": "Mauritania",
         "marker": {
          "color": "#00cc96",
          "size": [
           0.0
          ],
          "sizemode": "area",
          "sizeref": 0.25,
          "symbol": "circle"
         },
         "mode": "markers",
         "name": "Mauritania",
         "orientation": "v",
         "showlegend": true,
         "x": [
          63668.0
         ],
         "xaxis": "x",
         "y": [
          997.0
         ],
         "yaxis": "y",
         "type": "scatter"
        },
        {
         "customdata": [
          [
           "Mauritius",
           0.0
          ]
         ],
         "hovertemplate": "location=%{customdata[0]}<br>Total Cases=%{x}<br>Total Deaths=%{y}<br>size=%{marker.size}<br>New Cases=%{customdata[1]}<extra></extra>",
         "legendgroup": "Mauritius",
         "marker": {
          "color": "#ab63fa",
          "size": [
           0.0
          ],
          "sizemode": "area",
          "sizeref": 0.25,
          "symbol": "circle"
         },
         "mode": "markers",
         "name": "Mauritius",
         "orientation": "v",
         "showlegend": true,
         "x": [
          296042.0
         ],
         "xaxis": "x",
         "y": [
          1044.0
         ],
         "yaxis": "y",
         "type": "scatter"
        },
        {
         "customdata": [
          [
           "Mexico",
           3809.0
          ]
         ],
         "hovertemplate": "location=%{customdata[0]}<br>Total Cases=%{x}<br>Total Deaths=%{y}<br>size=%{marker.size}<br>New Cases=%{customdata[1]}<extra></extra>",
         "legendgroup": "Mexico",
         "marker": {
          "color": "#FFA15A",
          "size": [
           2.148033272240237
          ],
          "sizemode": "area",
          "sizeref": 0.25,
          "symbol": "circle"
         },
         "mode": "markers",
         "name": "Mexico",
         "orientation": "v",
         "showlegend": true,
         "x": [
          7483444.0
         ],
         "xaxis": "x",
         "y": [
          333188.0
         ],
         "yaxis": "y",
         "type": "scatter"
        },
        {
         "customdata": [
          [
           "Micronesia (country)",
           0.0
          ]
         ],
         "hovertemplate": "location=%{customdata[0]}<br>Total Cases=%{x}<br>Total Deaths=%{y}<br>size=%{marker.size}<br>New Cases=%{customdata[1]}<extra></extra>",
         "legendgroup": "Micronesia (country)",
         "marker": {
          "color": "#19d3f3",
          "size": [
           0.0
          ],
          "sizemode": "area",
          "sizeref": 0.25,
          "symbol": "circle"
         },
         "mode": "markers",
         "name": "Micronesia (country)",
         "orientation": "v",
         "showlegend": true,
         "x": [
          23948.0
         ],
         "xaxis": "x",
         "y": [
          61.0
         ],
         "yaxis": "y",
         "type": "scatter"
        },
        {
         "customdata": [
          [
           "Moldova",
           0.0
          ]
         ],
         "hovertemplate": "location=%{customdata[0]}<br>Total Cases=%{x}<br>Total Deaths=%{y}<br>size=%{marker.size}<br>New Cases=%{customdata[1]}<extra></extra>",
         "legendgroup": "Moldova",
         "marker": {
          "color": "#FF6692",
          "size": [
           0.0
          ],
          "sizemode": "area",
          "sizeref": 0.25,
          "symbol": "circle"
         },
         "mode": "markers",
         "name": "Moldova",
         "orientation": "v",
         "showlegend": true,
         "x": [
          611140.0
         ],
         "xaxis": "x",
         "y": [
          12003.0
         ],
         "yaxis": "y",
         "type": "scatter"
        },
        {
         "customdata": [
          [
           "Monaco",
           0.0
          ]
         ],
         "hovertemplate": "location=%{customdata[0]}<br>Total Cases=%{x}<br>Total Deaths=%{y}<br>size=%{marker.size}<br>New Cases=%{customdata[1]}<extra></extra>",
         "legendgroup": "Monaco",
         "marker": {
          "color": "#B6E880",
          "size": [
           0.0
          ],
          "sizemode": "area",
          "sizeref": 0.25,
          "symbol": "circle"
         },
         "mode": "markers",
         "name": "Monaco",
         "orientation": "v",
         "showlegend": true,
         "x": [
          16121.0
         ],
         "xaxis": "x",
         "y": [
          67.0
         ],
         "yaxis": "y",
         "type": "scatter"
        },
        {
         "customdata": [
          [
           "Mongolia",
           0.0
          ]
         ],
         "hovertemplate": "location=%{customdata[0]}<br>Total Cases=%{x}<br>Total Deaths=%{y}<br>size=%{marker.size}<br>New Cases=%{customdata[1]}<extra></extra>",
         "legendgroup": "Mongolia",
         "marker": {
          "color": "#FF97FF",
          "size": [
           0.0
          ],
          "sizemode": "area",
          "sizeref": 0.25,
          "symbol": "circle"
         },
         "mode": "markers",
         "name": "Mongolia",
         "orientation": "v",
         "showlegend": true,
         "x": [
          1007900.0
         ],
         "xaxis": "x",
         "y": [
          2136.0
         ],
         "yaxis": "y",
         "type": "scatter"
        },
        {
         "customdata": [
          [
           "Montenegro",
           56.0
          ]
         ],
         "hovertemplate": "location=%{customdata[0]}<br>Total Cases=%{x}<br>Total Deaths=%{y}<br>size=%{marker.size}<br>New Cases=%{customdata[1]}<extra></extra>",
         "legendgroup": "Montenegro",
         "marker": {
          "color": "#FECB52",
          "size": [
           0.03158043141125053
          ],
          "sizemode": "area",
          "sizeref": 0.25,
          "symbol": "circle"
         },
         "mode": "markers",
         "name": "Montenegro",
         "orientation": "v",
         "showlegend": true,
         "x": [
          288808.0
         ],
         "xaxis": "x",
         "y": [
          2808.0
         ],
         "yaxis": "y",
         "type": "scatter"
        },
        {
         "customdata": [
          [
           "Montserrat",
           0.0
          ]
         ],
         "hovertemplate": "location=%{customdata[0]}<br>Total Cases=%{x}<br>Total Deaths=%{y}<br>size=%{marker.size}<br>New Cases=%{customdata[1]}<extra></extra>",
         "legendgroup": "Montserrat",
         "marker": {
          "color": "#636efa",
          "size": [
           0.0
          ],
          "sizemode": "area",
          "sizeref": 0.25,
          "symbol": "circle"
         },
         "mode": "markers",
         "name": "Montserrat",
         "orientation": "v",
         "showlegend": true,
         "x": [
          1403.0
         ],
         "xaxis": "x",
         "y": [
          8.0
         ],
         "yaxis": "y",
         "type": "scatter"
        },
        {
         "customdata": [
          [
           "Morocco",
           0.0
          ]
         ],
         "hovertemplate": "location=%{customdata[0]}<br>Total Cases=%{x}<br>Total Deaths=%{y}<br>size=%{marker.size}<br>New Cases=%{customdata[1]}<extra></extra>",
         "legendgroup": "Morocco",
         "marker": {
          "color": "#EF553B",
          "size": [
           0.0
          ],
          "sizemode": "area",
          "sizeref": 0.25,
          "symbol": "circle"
         },
         "mode": "markers",
         "name": "Morocco",
         "orientation": "v",
         "showlegend": true,
         "x": [
          1272490.0
         ],
         "xaxis": "x",
         "y": [
          16296.0
         ],
         "yaxis": "y",
         "type": "scatter"
        },
        {
         "customdata": [
          [
           "Mozambique",
           0.0
          ]
         ],
         "hovertemplate": "location=%{customdata[0]}<br>Total Cases=%{x}<br>Total Deaths=%{y}<br>size=%{marker.size}<br>New Cases=%{customdata[1]}<extra></extra>",
         "legendgroup": "Mozambique",
         "marker": {
          "color": "#00cc96",
          "size": [
           0.0
          ],
          "sizemode": "area",
          "sizeref": 0.25,
          "symbol": "circle"
         },
         "mode": "markers",
         "name": "Mozambique",
         "orientation": "v",
         "showlegend": true,
         "x": [
          233214.0
         ],
         "xaxis": "x",
         "y": [
          2242.0
         ],
         "yaxis": "y",
         "type": "scatter"
        },
        {
         "customdata": [
          [
           "Myanmar",
           1.0
          ]
         ],
         "hovertemplate": "location=%{customdata[0]}<br>Total Cases=%{x}<br>Total Deaths=%{y}<br>size=%{marker.size}<br>New Cases=%{customdata[1]}<extra></extra>",
         "legendgroup": "Myanmar",
         "marker": {
          "color": "#ab63fa",
          "size": [
           5.639362752009022E-4
          ],
          "sizemode": "area",
          "sizeref": 0.25,
          "symbol": "circle"
         },
         "mode": "markers",
         "name": "Myanmar",
         "orientation": "v",
         "showlegend": true,
         "x": [
          633950.0
         ],
         "xaxis": "x",
         "y": [
          19490.0
         ],
         "yaxis": "y",
         "type": "scatter"
        },
        {
         "customdata": [
          [
           "Namibia",
           0.0
          ]
         ],
         "hovertemplate": "location=%{customdata[0]}<br>Total Cases=%{x}<br>Total Deaths=%{y}<br>size=%{marker.size}<br>New Cases=%{customdata[1]}<extra></extra>",
         "legendgroup": "Namibia",
         "marker": {
          "color": "#FFA15A",
          "size": [
           0.0
          ],
          "sizemode": "area",
          "sizeref": 0.25,
          "symbol": "circle"
         },
         "mode": "markers",
         "name": "Namibia",
         "orientation": "v",
         "showlegend": true,
         "x": [
          171156.0
         ],
         "xaxis": "x",
         "y": [
          4090.0
         ],
         "yaxis": "y",
         "type": "scatter"
        },
        {
         "customdata": [
          [
           "Nauru",
           0.0
          ]
         ],
         "hovertemplate": "location=%{customdata[0]}<br>Total Cases=%{x}<br>Total Deaths=%{y}<br>size=%{marker.size}<br>New Cases=%{customdata[1]}<extra></extra>",
         "legendgroup": "Nauru",
         "marker": {
          "color": "#19d3f3",
          "size": [
           0.0
          ],
          "sizemode": "area",
          "sizeref": 0.25,
          "symbol": "circle"
         },
         "mode": "markers",
         "name": "Nauru",
         "orientation": "v",
         "showlegend": true,
         "x": [
          5247.0
         ],
         "xaxis": "x",
         "y": [
          1.0
         ],
         "yaxis": "y",
         "type": "scatter"
        },
        {
         "customdata": [
          [
           "Nepal",
           4.0
          ]
         ],
         "hovertemplate": "location=%{customdata[0]}<br>Total Cases=%{x}<br>Total Deaths=%{y}<br>size=%{marker.size}<br>New Cases=%{customdata[1]}<extra></extra>",
         "legendgroup": "Nepal",
         "marker": {
          "color": "#FF6692",
          "size": [
           0.002255745100803609
          ],
          "sizemode": "area",
          "sizeref": 0.25,
          "symbol": "circle"
         },
         "mode": "markers",
         "name": "Nepal",
         "orientation": "v",
         "showlegend": true,
         "x": [
          1001154.0
         ],
         "xaxis": "x",
         "y": [
          12020.0
         ],
         "yaxis": "y",
         "type": "scatter"
        },
        {
         "customdata": [
          [
           "Netherlands",
           0.0
          ]
         ],
         "hovertemplate": "location=%{customdata[0]}<br>Total Cases=%{x}<br>Total Deaths=%{y}<br>size=%{marker.size}<br>New Cases=%{customdata[1]}<extra></extra>",
         "legendgroup": "Netherlands",
         "marker": {
          "color": "#B6E880",
          "size": [
           0.0
          ],
          "sizemode": "area",
          "sizeref": 0.25,
          "symbol": "circle"
         },
         "mode": "markers",
         "name": "Netherlands",
         "orientation": "v",
         "showlegend": true,
         "x": [
          8611001.0
         ],
         "xaxis": "x",
         "y": [
          23081.0
         ],
         "yaxis": "y",
         "type": "scatter"
        },
        {
         "customdata": [
          [
           "New Caledonia",
           0.0
          ]
         ],
         "hovertemplate": "location=%{customdata[0]}<br>Total Cases=%{x}<br>Total Deaths=%{y}<br>size=%{marker.size}<br>New Cases=%{customdata[1]}<extra></extra>",
         "legendgroup": "New Caledonia",
         "marker": {
          "color": "#FF97FF",
          "size": [
           0.0
          ],
          "sizemode": "area",
          "sizeref": 0.25,
          "symbol": "circle"
         },
         "mode": "markers",
         "name": "New Caledonia",
         "orientation": "v",
         "showlegend": true,
         "x": [
          80017.0
         ],
         "xaxis": "x",
         "y": [
          314.0
         ],
         "yaxis": "y",
         "type": "scatter"
        },
        {
         "customdata": [
          [
           "New Zealand",
           1.0
          ]
         ],
         "hovertemplate": "location=%{customdata[0]}<br>Total Cases=%{x}<br>Total Deaths=%{y}<br>size=%{marker.size}<br>New Cases=%{customdata[1]}<extra></extra>",
         "legendgroup": "New Zealand",
         "marker": {
          "color": "#FECB52",
          "size": [
           5.639362752009022E-4
          ],
          "sizemode": "area",
          "sizeref": 0.25,
          "symbol": "circle"
         },
         "mode": "markers",
         "name": "New Zealand",
         "orientation": "v",
         "showlegend": true,
         "x": [
          2229083.0
         ],
         "xaxis": "x",
         "y": [
          2548.0
         ],
         "yaxis": "y",
         "type": "scatter"
        },
        {
         "customdata": [
          [
           "Nicaragua",
           0.0
          ]
         ],
         "hovertemplate": "location=%{customdata[0]}<br>Total Cases=%{x}<br>Total Deaths=%{y}<br>size=%{marker.size}<br>New Cases=%{customdata[1]}<extra></extra>",
         "legendgroup": "Nicaragua",
         "marker": {
          "color": "#636efa",
          "size": [
           0.0
          ],
          "sizemode": "area",
          "sizeref": 0.25,
          "symbol": "circle"
         },
         "mode": "markers",
         "name": "Nicaragua",
         "orientation": "v",
         "showlegend": true,
         "x": [
          15655.0
         ],
         "xaxis": "x",
         "y": [
          245.0
         ],
         "yaxis": "y",
         "type": "scatter"
        },
        {
         "customdata": [
          [
           "Niger",
           0.0
          ]
         ],
         "hovertemplate": "location=%{customdata[0]}<br>Total Cases=%{x}<br>Total Deaths=%{y}<br>size=%{marker.size}<br>New Cases=%{customdata[1]}<extra></extra>",
         "legendgroup": "Niger",
         "marker": {
          "color": "#EF553B",
          "size": [
           0.0
          ],
          "sizemode": "area",
          "sizeref": 0.25,
          "symbol": "circle"
         },
         "mode": "markers",
         "name": "Niger",
         "orientation": "v",
         "showlegend": true,
         "x": [
          9508.0
         ],
         "xaxis": "x",
         "y": [
          315.0
         ],
         "yaxis": "y",
         "type": "scatter"
        },
        {
         "customdata": [
          [
           "Nigeria",
           0.0
          ]
         ],
         "hovertemplate": "location=%{customdata[0]}<br>Total Cases=%{x}<br>Total Deaths=%{y}<br>size=%{marker.size}<br>New Cases=%{customdata[1]}<extra></extra>",
         "legendgroup": "Nigeria",
         "marker": {
          "color": "#00cc96",
          "size": [
           0.0
          ],
          "sizemode": "area",
          "sizeref": 0.25,
          "symbol": "circle"
         },
         "mode": "markers",
         "name": "Nigeria",
         "orientation": "v",
         "showlegend": true,
         "x": [
          266598.0
         ],
         "xaxis": "x",
         "y": [
          3155.0
         ],
         "yaxis": "y",
         "type": "scatter"
        },
        {
         "customdata": [
          [
           "North America",
           55271.0
          ]
         ],
         "hovertemplate": "location=%{customdata[0]}<br>Total Cases=%{x}<br>Total Deaths=%{y}<br>size=%{marker.size}<br>New Cases=%{customdata[1]}<extra></extra>",
         "legendgroup": "North America",
         "marker": {
          "color": "#ab63fa",
          "size": [
           31.16932186662907
          ],
          "sizemode": "area",
          "sizeref": 0.25,
          "symbol": "circle"
         },
         "mode": "markers",
         "name": "North America",
         "orientation": "v",
         "showlegend": true,
         "x": [
          1.22717115E8
         ],
         "xaxis": "x",
         "y": [
          1588112.0
         ],
         "yaxis": "y",
         "type": "scatter"
        },
        {
         "customdata": [
          [
           "North Korea",
           0.0
          ]
         ],
         "hovertemplate": "location=%{customdata[0]}<br>Total Cases=%{x}<br>Total Deaths=%{y}<br>size=%{marker.size}<br>New Cases=%{customdata[1]}<extra></extra>",
         "legendgroup": "North Korea",
         "marker": {
          "color": "#FFA15A",
          "size": [
           0.0
          ],
          "sizemode": "area",
          "sizeref": 0.25,
          "symbol": "circle"
         },
         "mode": "markers",
         "name": "North Korea",
         "orientation": "v",
         "showlegend": true,
         "x": [
          1.0
         ],
         "xaxis": "x",
         "y": [
          6.0
         ],
         "yaxis": "y",
         "type": "scatter"
        },
        {
         "customdata": [
          [
           "North Macedonia",
           0.0
          ]
         ],
         "hovertemplate": "location=%{customdata[0]}<br>Total Cases=%{x}<br>Total Deaths=%{y}<br>size=%{marker.size}<br>New Cases=%{customdata[1]}<extra></extra>",
         "legendgroup": "North Macedonia",
         "marker": {
          "color": "#19d3f3",
          "size": [
           0.0
          ],
          "sizemode": "area",
          "sizeref": 0.25,
          "symbol": "circle"
         },
         "mode": "markers",
         "name": "North Macedonia",
         "orientation": "v",
         "showlegend": true,
         "x": [
          346852.0
         ],
         "xaxis": "x",
         "y": [
          9662.0
         ],
         "yaxis": "y",
         "type": "scatter"
        },
        {
         "customdata": [
          [
           "Norway",
           53.0
          ]
         ],
         "hovertemplate": "location=%{customdata[0]}<br>Total Cases=%{x}<br>Total Deaths=%{y}<br>size=%{marker.size}<br>New Cases=%{customdata[1]}<extra></extra>",
         "legendgroup": "Norway",
         "marker": {
          "color": "#FF6692",
          "size": [
           0.029888622585647822
          ],
          "sizemode": "area",
          "sizeref": 0.25,
          "symbol": "circle"
         },
         "mode": "markers",
         "name": "Norway",
         "orientation": "v",
         "showlegend": true,
         "x": [
          1479506.0
         ],
         "xaxis": "x",
         "y": [
          5213.0
         ],
         "yaxis": "y",
         "type": "scatter"
        },
        {
         "customdata": [
          [
           "Oceania",
           13928.0
          ]
         ],
         "hovertemplate": "location=%{customdata[0]}<br>Total Cases=%{x}<br>Total Deaths=%{y}<br>size=%{marker.size}<br>New Cases=%{customdata[1]}<extra></extra>",
         "legendgroup": "Oceania",
         "marker": {
          "color": "#B6E880",
          "size": [
           7.854504440998166
          ],
          "sizemode": "area",
          "sizeref": 0.25,
          "symbol": "circle"
         },
         "mode": "markers",
         "name": "Oceania",
         "orientation": "v",
         "showlegend": true,
         "x": [
          1.4041456E7
         ],
         "xaxis": "x",
         "y": [
          24962.0
         ],
         "yaxis": "y",
         "type": "scatter"
        },
        {
         "customdata": [
          [
           "Oman",
           0.0
          ]
         ],
         "hovertemplate": "location=%{customdata[0]}<br>Total Cases=%{x}<br>Total Deaths=%{y}<br>size=%{marker.size}<br>New Cases=%{customdata[1]}<extra></extra>",
         "legendgroup": "Oman",
         "marker": {
          "color": "#FF97FF",
          "size": [
           0.0
          ],
          "sizemode": "area",
          "sizeref": 0.25,
          "symbol": "circle"
         },
         "mode": "markers",
         "name": "Oman",
         "orientation": "v",
         "showlegend": true,
         "x": [
          399449.0
         ],
         "xaxis": "x",
         "y": [
          4628.0
         ],
         "yaxis": "y",
         "type": "scatter"
        },
        {
         "customdata": [
          [
           "Pakistan",
           73.0
          ]
         ],
         "hovertemplate": "location=%{customdata[0]}<br>Total Cases=%{x}<br>Total Deaths=%{y}<br>size=%{marker.size}<br>New Cases=%{customdata[1]}<extra></extra>",
         "legendgroup": "Pakistan",
         "marker": {
          "color": "#FECB52",
          "size": [
           0.04116734808966587
          ],
          "sizemode": "area",
          "sizeref": 0.25,
          "symbol": "circle"
         },
         "mode": "markers",
         "name": "Pakistan",
         "orientation": "v",
         "showlegend": true,
         "x": [
          1577411.0
         ],
         "xaxis": "x",
         "y": [
          30644.0
         ],
         "yaxis": "y",
         "type": "scatter"
        },
        {
         "customdata": [
          [
           "Palau",
           0.0
          ]
         ],
         "hovertemplate": "location=%{customdata[0]}<br>Total Cases=%{x}<br>Total Deaths=%{y}<br>size=%{marker.size}<br>New Cases=%{customdata[1]}<extra></extra>",
         "legendgroup": "Palau",
         "marker": {
          "color": "#636efa",
          "size": [
           0.0
          ],
          "sizemode": "area",
          "sizeref": 0.25,
          "symbol": "circle"
         },
         "mode": "markers",
         "name": "Palau",
         "orientation": "v",
         "showlegend": true,
         "x": [
          5991.0
         ],
         "xaxis": "x",
         "y": [
          9.0
         ],
         "yaxis": "y",
         "type": "scatter"
        },
        {
         "customdata": [
          [
           "Palestine",
           0.0
          ]
         ],
         "hovertemplate": "location=%{customdata[0]}<br>Total Cases=%{x}<br>Total Deaths=%{y}<br>size=%{marker.size}<br>New Cases=%{customdata[1]}<extra></extra>",
         "legendgroup": "Palestine",
         "marker": {
          "color": "#EF553B",
          "size": [
           0.0
          ],
          "sizemode": "area",
          "sizeref": 0.25,
          "symbol": "circle"
         },
         "mode": "markers",
         "name": "Palestine",
         "orientation": "v",
         "showlegend": true,
         "x": [
          703228.0
         ],
         "xaxis": "x",
         "y": [
          5708.0
         ],
         "yaxis": "y",
         "type": "scatter"
        },
        {
         "customdata": [
          [
           "Panama",
           0.0
          ]
         ],
         "hovertemplate": "location=%{customdata[0]}<br>Total Cases=%{x}<br>Total Deaths=%{y}<br>size=%{marker.size}<br>New Cases=%{customdata[1]}<extra></extra>",
         "legendgroup": "Panama",
         "marker": {
          "color": "#00cc96",
          "size": [
           0.0
          ],
          "sizemode": "area",
          "sizeref": 0.25,
          "symbol": "circle"
         },
         "mode": "markers",
         "name": "Panama",
         "orientation": "v",
         "showlegend": true,
         "x": [
          1031731.0
         ],
         "xaxis": "x",
         "y": [
          8609.0
         ],
         "yaxis": "y",
         "type": "scatter"
        },
        {
         "customdata": [
          [
           "Papua New Guinea",
           0.0
          ]
         ],
         "hovertemplate": "location=%{customdata[0]}<br>Total Cases=%{x}<br>Total Deaths=%{y}<br>size=%{marker.size}<br>New Cases=%{customdata[1]}<extra></extra>",
         "legendgroup": "Papua New Guinea",
         "marker": {
          "color": "#ab63fa",
          "size": [
           0.0
          ],
          "sizemode": "area",
          "sizeref": 0.25,
          "symbol": "circle"
         },
         "mode": "markers",
         "name": "Papua New Guinea",
         "orientation": "v",
         "showlegend": true,
         "x": [
          46825.0
         ],
         "xaxis": "x",
         "y": [
          670.0
         ],
         "yaxis": "y",
         "type": "scatter"
        },
        {
         "customdata": [
          [
           "Paraguay",
           0.0
          ]
         ],
         "hovertemplate": "location=%{customdata[0]}<br>Total Cases=%{x}<br>Total Deaths=%{y}<br>size=%{marker.size}<br>New Cases=%{customdata[1]}<extra></extra>",
         "legendgroup": "Paraguay",
         "marker": {
          "color": "#FFA15A",
          "size": [
           0.0
          ],
          "sizemode": "area",
          "sizeref": 0.25,
          "symbol": "circle"
         },
         "mode": "markers",
         "name": "Paraguay",
         "orientation": "v",
         "showlegend": true,
         "x": [
          808401.0
         ],
         "xaxis": "x",
         "y": [
          19878.0
         ],
         "yaxis": "y",
         "type": "scatter"
        },
        {
         "customdata": [
          [
           "Peru",
           0.0
          ]
         ],
         "hovertemplate": "location=%{customdata[0]}<br>Total Cases=%{x}<br>Total Deaths=%{y}<br>size=%{marker.size}<br>New Cases=%{customdata[1]}<extra></extra>",
         "legendgroup": "Peru",
         "marker": {
          "color": "#19d3f3",
          "size": [
           0.0
          ],
          "sizemode": "area",
          "sizeref": 0.25,
          "symbol": "circle"
         },
         "mode": "markers",
         "name": "Peru",
         "orientation": "v",
         "showlegend": true,
         "x": [
          4487553.0
         ],
         "xaxis": "x",
         "y": [
          219539.0
         ],
         "yaxis": "y",
         "type": "scatter"
        },
        {
         "customdata": [
          [
           "Philippines",
           150.0
          ]
         ],
         "hovertemplate": "location=%{customdata[0]}<br>Total Cases=%{x}<br>Total Deaths=%{y}<br>size=%{marker.size}<br>New Cases=%{customdata[1]}<extra></extra>",
         "legendgroup": "Philippines",
         "marker": {
          "color": "#FF6692",
          "size": [
           0.08459044128013533
          ],
          "sizemode": "area",
          "sizeref": 0.25,
          "symbol": "circle"
         },
         "mode": "markers",
         "name": "Philippines",
         "orientation": "v",
         "showlegend": true,
         "x": [
          4077452.0
         ],
         "xaxis": "x",
         "y": [
          66188.0
         ],
         "yaxis": "y",
         "type": "scatter"
        },
        {
         "customdata": [
          [
           "Poland",
           3459.0
          ]
         ],
         "hovertemplate": "location=%{customdata[0]}<br>Total Cases=%{x}<br>Total Deaths=%{y}<br>size=%{marker.size}<br>New Cases=%{customdata[1]}<extra></extra>",
         "legendgroup": "Poland",
         "marker": {
          "color": "#B6E880",
          "size": [
           1.950655575919921
          ],
          "sizemode": "area",
          "sizeref": 0.25,
          "symbol": "circle"
         },
         "mode": "markers",
         "name": "Poland",
         "orientation": "v",
         "showlegend": true,
         "x": [
          6444960.0
         ],
         "xaxis": "x",
         "y": [
          119010.0
         ],
         "yaxis": "y",
         "type": "scatter"
        },
        {
         "customdata": [
          [
           "Portugal",
           0.0
          ]
         ],
         "hovertemplate": "location=%{customdata[0]}<br>Total Cases=%{x}<br>Total Deaths=%{y}<br>size=%{marker.size}<br>New Cases=%{customdata[1]}<extra></extra>",
         "legendgroup": "Portugal",
         "marker": {
          "color": "#FF97FF",
          "size": [
           0.0
          ],
          "sizemode": "area",
          "sizeref": 0.25,
          "symbol": "circle"
         },
         "mode": "markers",
         "name": "Portugal",
         "orientation": "v",
         "showlegend": true,
         "x": [
          5570473.0
         ],
         "xaxis": "x",
         "y": [
          26266.0
         ],
         "yaxis": "y",
         "type": "scatter"
        },
        {
         "customdata": [
          [
           "Qatar",
           108.0
          ]
         ],
         "hovertemplate": "location=%{customdata[0]}<br>Total Cases=%{x}<br>Total Deaths=%{y}<br>size=%{marker.size}<br>New Cases=%{customdata[1]}<extra></extra>",
         "legendgroup": "Qatar",
         "marker": {
          "color": "#FECB52",
          "size": [
           0.06090511772169745
          ],
          "sizemode": "area",
          "sizeref": 0.25,
          "symbol": "circle"
         },
         "mode": "markers",
         "name": "Qatar",
         "orientation": "v",
         "showlegend": true,
         "x": [
          495090.0
         ],
         "xaxis": "x",
         "y": [
          688.0
         ],
         "yaxis": "y",
         "type": "scatter"
        },
        {
         "customdata": [
          [
           "Romania",
           0.0
          ]
         ],
         "hovertemplate": "location=%{customdata[0]}<br>Total Cases=%{x}<br>Total Deaths=%{y}<br>size=%{marker.size}<br>New Cases=%{customdata[1]}<extra></extra>",
         "legendgroup": "Romania",
         "marker": {
          "color": "#636efa",
          "size": [
           0.0
          ],
          "sizemode": "area",
          "sizeref": 0.25,
          "symbol": "circle"
         },
         "mode": "markers",
         "name": "Romania",
         "orientation": "v",
         "showlegend": true,
         "x": [
          3346046.0
         ],
         "xaxis": "x",
         "y": [
          67736.0
         ],
         "yaxis": "y",
         "type": "scatter"
        },
        {
         "customdata": [
          [
           "Russia",
           12385.0
          ]
         ],
         "hovertemplate": "location=%{customdata[0]}<br>Total Cases=%{x}<br>Total Deaths=%{y}<br>size=%{marker.size}<br>New Cases=%{customdata[1]}<extra></extra>",
         "legendgroup": "Russia",
         "marker": {
          "color": "#EF553B",
          "size": [
           6.984350768363175
          ],
          "sizemode": "area",
          "sizeref": 0.25,
          "symbol": "circle"
         },
         "mode": "markers",
         "name": "Russia",
         "orientation": "v",
         "showlegend": true,
         "x": [
          2.2075858E7
         ],
         "xaxis": "x",
         "y": [
          388478.0
         ],
         "yaxis": "y",
         "type": "scatter"
        },
        {
         "customdata": [
          [
           "Rwanda",
           0.0
          ]
         ],
         "hovertemplate": "location=%{customdata[0]}<br>Total Cases=%{x}<br>Total Deaths=%{y}<br>size=%{marker.size}<br>New Cases=%{customdata[1]}<extra></extra>",
         "legendgroup": "Rwanda",
         "marker": {
          "color": "#00cc96",
          "size": [
           0.0
          ],
          "sizemode": "area",
          "sizeref": 0.25,
          "symbol": "circle"
         },
         "mode": "markers",
         "name": "Rwanda",
         "orientation": "v",
         "showlegend": true,
         "x": [
          133194.0
         ],
         "xaxis": "x",
         "y": [
          1468.0
         ],
         "yaxis": "y",
         "type": "scatter"
        },
        {
         "customdata": [
          [
           "Saint Helena",
           0.0
          ]
         ],
         "hovertemplate": "location=%{customdata[0]}<br>Total Cases=%{x}<br>Total Deaths=%{y}<br>size=%{marker.size}<br>New Cases=%{customdata[1]}<extra></extra>",
         "legendgroup": "Saint Helena",
         "marker": {
          "color": "#ab63fa",
          "size": [
           0.0
          ],
          "sizemode": "area",
          "sizeref": 0.25,
          "symbol": "circle"
         },
         "mode": "markers",
         "name": "Saint Helena",
         "orientation": "v",
         "showlegend": true,
         "x": [
          2166.0
         ],
         "xaxis": "x",
         "y": [
          null
         ],
         "yaxis": "y",
         "type": "scatter"
        },
        {
         "customdata": [
          [
           "Saint Kitts and Nevis",
           0.0
          ]
         ],
         "hovertemplate": "location=%{customdata[0]}<br>Total Cases=%{x}<br>Total Deaths=%{y}<br>size=%{marker.size}<br>New Cases=%{customdata[1]}<extra></extra>",
         "legendgroup": "Saint Kitts and Nevis",
         "marker": {
          "color": "#FFA15A",
          "size": [
           0.0
          ],
          "sizemode": "area",
          "sizeref": 0.25,
          "symbol": "circle"
         },
         "mode": "markers",
         "name": "Saint Kitts and Nevis",
         "orientation": "v",
         "showlegend": true,
         "x": [
          6597.0
         ],
         "xaxis": "x",
         "y": [
          47.0
         ],
         "yaxis": "y",
         "type": "scatter"
        },
        {
         "customdata": [
          [
           "Saint Lucia",
           0.0
          ]
         ],
         "hovertemplate": "location=%{customdata[0]}<br>Total Cases=%{x}<br>Total Deaths=%{y}<br>size=%{marker.size}<br>New Cases=%{customdata[1]}<extra></extra>",
         "legendgroup": "Saint Lucia",
         "marker": {
          "color": "#19d3f3",
          "size": [
           0.0
          ],
          "sizemode": "area",
          "sizeref": 0.25,
          "symbol": "circle"
         },
         "mode": "markers",
         "name": "Saint Lucia",
         "orientation": "v",
         "showlegend": true,
         "x": [
          30004.0
         ],
         "xaxis": "x",
         "y": [
          409.0
         ],
         "yaxis": "y",
         "type": "scatter"
        },
        {
         "customdata": [
          [
           "Saint Pierre and Miquelon",
           0.0
          ]
         ],
         "hovertemplate": "location=%{customdata[0]}<br>Total Cases=%{x}<br>Total Deaths=%{y}<br>size=%{marker.size}<br>New Cases=%{customdata[1]}<extra></extra>",
         "legendgroup": "Saint Pierre and Miquelon",
         "marker": {
          "color": "#FF6692",
          "size": [
           0.0
          ],
          "sizemode": "area",
          "sizeref": 0.25,
          "symbol": "circle"
         },
         "mode": "markers",
         "name": "Saint Pierre and Miquelon",
         "orientation": "v",
         "showlegend": true,
         "x": [
          3452.0
         ],
         "xaxis": "x",
         "y": [
          2.0
         ],
         "yaxis": "y",
         "type": "scatter"
        },
        {
         "customdata": [
          [
           "Saint Vincent and the Grenadines",
           0.0
          ]
         ],
         "hovertemplate": "location=%{customdata[0]}<br>Total Cases=%{x}<br>Total Deaths=%{y}<br>size=%{marker.size}<br>New Cases=%{customdata[1]}<extra></extra>",
         "legendgroup": "Saint Vincent and the Grenadines",
         "marker": {
          "color": "#B6E880",
          "size": [
           0.0
          ],
          "sizemode": "area",
          "sizeref": 0.25,
          "symbol": "circle"
         },
         "mode": "markers",
         "name": "Saint Vincent and the Grenadines",
         "orientation": "v",
         "showlegend": true,
         "x": [
          9589.0
         ],
         "xaxis": "x",
         "y": [
          123.0
         ],
         "yaxis": "y",
         "type": "scatter"
        },
        {
         "customdata": [
          [
           "Samoa",
           0.0
          ]
         ],
         "hovertemplate": "location=%{customdata[0]}<br>Total Cases=%{x}<br>Total Deaths=%{y}<br>size=%{marker.size}<br>New Cases=%{customdata[1]}<extra></extra>",
         "legendgroup": "Samoa",
         "marker": {
          "color": "#FF97FF",
          "size": [
           0.0
          ],
          "sizemode": "area",
          "sizeref": 0.25,
          "symbol": "circle"
         },
         "mode": "markers",
         "name": "Samoa",
         "orientation": "v",
         "showlegend": true,
         "x": [
          16607.0
         ],
         "xaxis": "x",
         "y": [
          29.0
         ],
         "yaxis": "y",
         "type": "scatter"
        },
        {
         "customdata": [
          [
           "San Marino",
           0.0
          ]
         ],
         "hovertemplate": "location=%{customdata[0]}<br>Total Cases=%{x}<br>Total Deaths=%{y}<br>size=%{marker.size}<br>New Cases=%{customdata[1]}<extra></extra>",
         "legendgroup": "San Marino",
         "marker": {
          "color": "#FECB52",
          "size": [
           0.0
          ],
          "sizemode": "area",
          "sizeref": 0.25,
          "symbol": "circle"
         },
         "mode": "markers",
         "name": "San Marino",
         "orientation": "v",
         "showlegend": true,
         "x": [
          23616.0
         ],
         "xaxis": "x",
         "y": [
          122.0
         ],
         "yaxis": "y",
         "type": "scatter"
        },
        {
         "customdata": [
          [
           "Sao Tome and Principe",
           0.0
          ]
         ],
         "hovertemplate": "location=%{customdata[0]}<br>Total Cases=%{x}<br>Total Deaths=%{y}<br>size=%{marker.size}<br>New Cases=%{customdata[1]}<extra></extra>",
         "legendgroup": "Sao Tome and Principe",
         "marker": {
          "color": "#636efa",
          "size": [
           0.0
          ],
          "sizemode": "area",
          "sizeref": 0.25,
          "symbol": "circle"
         },
         "mode": "markers",
         "name": "Sao Tome and Principe",
         "orientation": "v",
         "showlegend": true,
         "x": [
          6281.0
         ],
         "xaxis": "x",
         "y": [
          77.0
         ],
         "yaxis": "y",
         "type": "scatter"
        },
        {
         "customdata": [
          [
           "Saudi Arabia",
           83.0
          ]
         ],
         "hovertemplate": "location=%{customdata[0]}<br>Total Cases=%{x}<br>Total Deaths=%{y}<br>size=%{marker.size}<br>New Cases=%{customdata[1]}<extra></extra>",
         "legendgroup": "Saudi Arabia",
         "marker": {
          "color": "#EF553B",
          "size": [
           0.04680671084167489
          ],
          "sizemode": "area",
          "sizeref": 0.25,
          "symbol": "circle"
         },
         "mode": "markers",
         "name": "Saudi Arabia",
         "orientation": "v",
         "showlegend": true,
         "x": [
          830127.0
         ],
         "xaxis": "x",
         "y": [
          9618.0
         ],
         "yaxis": "y",
         "type": "scatter"
        },
        {
         "customdata": [
          [
           "Senegal",
           0.0
          ]
         ],
         "hovertemplate": "location=%{customdata[0]}<br>Total Cases=%{x}<br>Total Deaths=%{y}<br>size=%{marker.size}<br>New Cases=%{customdata[1]}<extra></extra>",
         "legendgroup": "Senegal",
         "marker": {
          "color": "#00cc96",
          "size": [
           0.0
          ],
          "sizemode": "area",
          "sizeref": 0.25,
          "symbol": "circle"
         },
         "mode": "markers",
         "name": "Senegal",
         "orientation": "v",
         "showlegend": true,
         "x": [
          88926.0
         ],
         "xaxis": "x",
         "y": [
          1971.0
         ],
         "yaxis": "y",
         "type": "scatter"
        },
        {
         "customdata": [
          [
           "Serbia",
           873.0
          ]
         ],
         "hovertemplate": "location=%{customdata[0]}<br>Total Cases=%{x}<br>Total Deaths=%{y}<br>size=%{marker.size}<br>New Cases=%{customdata[1]}<extra></extra>",
         "legendgroup": "Serbia",
         "marker": {
          "color": "#ab63fa",
          "size": [
           0.49231636825038766
          ],
          "sizemode": "area",
          "sizeref": 0.25,
          "symbol": "circle"
         },
         "mode": "markers",
         "name": "Serbia",
         "orientation": "v",
         "showlegend": true,
         "x": [
          2500142.0
         ],
         "xaxis": "x",
         "y": [
          17881.0
         ],
         "yaxis": "y",
         "type": "scatter"
        },
        {
         "customdata": [
          [
           "Seychelles",
           0.0
          ]
         ],
         "hovertemplate": "location=%{customdata[0]}<br>Total Cases=%{x}<br>Total Deaths=%{y}<br>size=%{marker.size}<br>New Cases=%{customdata[1]}<extra></extra>",
         "legendgroup": "Seychelles",
         "marker": {
          "color": "#FFA15A",
          "size": [
           0.0
          ],
          "sizemode": "area",
          "sizeref": 0.25,
          "symbol": "circle"
         },
         "mode": "markers",
         "name": "Seychelles",
         "orientation": "v",
         "showlegend": true,
         "x": [
          50665.0
         ],
         "xaxis": "x",
         "y": [
          172.0
         ],
         "yaxis": "y",
         "type": "scatter"
        },
        {
         "customdata": [
          [
           "Sierra Leone",
           0.0
          ]
         ],
         "hovertemplate": "location=%{customdata[0]}<br>Total Cases=%{x}<br>Total Deaths=%{y}<br>size=%{marker.size}<br>New Cases=%{customdata[1]}<extra></extra>",
         "legendgroup": "Sierra Leone",
         "marker": {
          "color": "#19d3f3",
          "size": [
           0.0
          ],
          "sizemode": "area",
          "sizeref": 0.25,
          "symbol": "circle"
         },
         "mode": "markers",
         "name": "Sierra Leone",
         "orientation": "v",
         "showlegend": true,
         "x": [
          7760.0
         ],
         "xaxis": "x",
         "y": [
          126.0
         ],
         "yaxis": "y",
         "type": "scatter"
        },
        {
         "customdata": [
          [
           "Singapore",
           0.0
          ]
         ],
         "hovertemplate": "location=%{customdata[0]}<br>Total Cases=%{x}<br>Total Deaths=%{y}<br>size=%{marker.size}<br>New Cases=%{customdata[1]}<extra></extra>",
         "legendgroup": "Singapore",
         "marker": {
          "color": "#FF6692",
          "size": [
           0.0
          ],
          "sizemode": "area",
          "sizeref": 0.25,
          "symbol": "circle"
         },
         "mode": "markers",
         "name": "Singapore",
         "orientation": "v",
         "showlegend": true,
         "x": [
          2235294.0
         ],
         "xaxis": "x",
         "y": [
          1722.0
         ],
         "yaxis": "y",
         "type": "scatter"
        },
        {
         "customdata": [
          [
           "Slovakia",
           262.0
          ]
         ],
         "hovertemplate": "location=%{customdata[0]}<br>Total Cases=%{x}<br>Total Deaths=%{y}<br>size=%{marker.size}<br>New Cases=%{customdata[1]}<extra></extra>",
         "legendgroup": "Slovakia",
         "marker": {
          "color": "#B6E880",
          "size": [
           0.1477513041026364
          ],
          "sizemode": "area",
          "sizeref": 0.25,
          "symbol": "circle"
         },
         "mode": "markers",
         "name": "Slovakia",
         "orientation": "v",
         "showlegend": true,
         "x": [
          2667551.0
         ],
         "xaxis": "x",
         "y": [
          21035.0
         ],
         "yaxis": "y",
         "type": "scatter"
        },
        {
         "customdata": [
          [
           "Slovenia",
           511.0
          ]
         ],
         "hovertemplate": "location=%{customdata[0]}<br>Total Cases=%{x}<br>Total Deaths=%{y}<br>size=%{marker.size}<br>New Cases=%{customdata[1]}<extra></extra>",
         "legendgroup": "Slovenia",
         "marker": {
          "color": "#FF97FF",
          "size": [
           0.2881714366276611
          ],
          "sizemode": "area",
          "sizeref": 0.25,
          "symbol": "circle"
         },
         "mode": "markers",
         "name": "Slovenia",
         "orientation": "v",
         "showlegend": true,
         "x": [
          1331707.0
         ],
         "xaxis": "x",
         "y": [
          7078.0
         ],
         "yaxis": "y",
         "type": "scatter"
        },
        {
         "customdata": [
          [
           "Solomon Islands",
           0.0
          ]
         ],
         "hovertemplate": "location=%{customdata[0]}<br>Total Cases=%{x}<br>Total Deaths=%{y}<br>size=%{marker.size}<br>New Cases=%{customdata[1]}<extra></extra>",
         "legendgroup": "Solomon Islands",
         "marker": {
          "color": "#FECB52",
          "size": [
           0.0
          ],
          "sizemode": "area",
          "sizeref": 0.25,
          "symbol": "circle"
         },
         "mode": "markers",
         "name": "Solomon Islands",
         "orientation": "v",
         "showlegend": true,
         "x": [
          24575.0
         ],
         "xaxis": "x",
         "y": [
          153.0
         ],
         "yaxis": "y",
         "type": "scatter"
        },
        {
         "customdata": [
          [
           "Somalia",
           0.0
          ]
         ],
         "hovertemplate": "location=%{customdata[0]}<br>Total Cases=%{x}<br>Total Deaths=%{y}<br>size=%{marker.size}<br>New Cases=%{customdata[1]}<extra></extra>",
         "legendgroup": "Somalia",
         "marker": {
          "color": "#636efa",
          "size": [
           0.0
          ],
          "sizemode": "area",
          "sizeref": 0.25,
          "symbol": "circle"
         },
         "mode": "markers",
         "name": "Somalia",
         "orientation": "v",
         "showlegend": true,
         "x": [
          27324.0
         ],
         "xaxis": "x",
         "y": [
          1361.0
         ],
         "yaxis": "y",
         "type": "scatter"
        },
        {
         "customdata": [
          [
           "South Africa",
           426.0
          ]
         ],
         "hovertemplate": "location=%{customdata[0]}<br>Total Cases=%{x}<br>Total Deaths=%{y}<br>size=%{marker.size}<br>New Cases=%{customdata[1]}<extra></extra>",
         "legendgroup": "South Africa",
         "marker": {
          "color": "#EF553B",
          "size": [
           0.24023685323558436
          ],
          "sizemode": "area",
          "sizeref": 0.25,
          "symbol": "circle"
         },
         "mode": "markers",
         "name": "South Africa",
         "orientation": "v",
         "showlegend": true,
         "x": [
          4067067.0
         ],
         "xaxis": "x",
         "y": [
          102595.0
         ],
         "yaxis": "y",
         "type": "scatter"
        },
        {
         "customdata": [
          [
           "South America",
           4001.0
          ]
         ],
         "hovertemplate": "location=%{customdata[0]}<br>Total Cases=%{x}<br>Total Deaths=%{y}<br>size=%{marker.size}<br>New Cases=%{customdata[1]}<extra></extra>",
         "legendgroup": "South America",
         "marker": {
          "color": "#00cc96",
          "size": [
           2.25630903707881
          ],
          "sizemode": "area",
          "sizeref": 0.25,
          "symbol": "circle"
         },
         "mode": "markers",
         "name": "South America",
         "orientation": "v",
         "showlegend": true,
         "x": [
          6.7963678E7
         ],
         "xaxis": "x",
         "y": [
          1350329.0
         ],
         "yaxis": "y",
         "type": "scatter"
        },
        {
         "customdata": [
          [
           "South Korea",
           10335.0
          ]
         ],
         "hovertemplate": "location=%{customdata[0]}<br>Total Cases=%{x}<br>Total Deaths=%{y}<br>size=%{marker.size}<br>New Cases=%{customdata[1]}<extra></extra>",
         "legendgroup": "South Korea",
         "marker": {
          "color": "#ab63fa",
          "size": [
           5.828281404201325
          ],
          "sizemode": "area",
          "sizeref": 0.25,
          "symbol": "circle"
         },
         "mode": "markers",
         "name": "South Korea",
         "orientation": "v",
         "showlegend": true,
         "x": [
          3.0615522E7
         ],
         "xaxis": "x",
         "y": [
          34093.0
         ],
         "yaxis": "y",
         "type": "scatter"
        },
        {
         "customdata": [
          [
           "South Sudan",
           0.0
          ]
         ],
         "hovertemplate": "location=%{customdata[0]}<br>Total Cases=%{x}<br>Total Deaths=%{y}<br>size=%{marker.size}<br>New Cases=%{customdata[1]}<extra></extra>",
         "legendgroup": "South Sudan",
         "marker": {
          "color": "#FFA15A",
          "size": [
           0.0
          ],
          "sizemode": "area",
          "sizeref": 0.25,
          "symbol": "circle"
         },
         "mode": "markers",
         "name": "South Sudan",
         "orientation": "v",
         "showlegend": true,
         "x": [
          18368.0
         ],
         "xaxis": "x",
         "y": [
          138.0
         ],
         "yaxis": "y",
         "type": "scatter"
        },
        {
         "customdata": [
          [
           "Spain",
           0.0
          ]
         ],
         "hovertemplate": "location=%{customdata[0]}<br>Total Cases=%{x}<br>Total Deaths=%{y}<br>size=%{marker.size}<br>New Cases=%{customdata[1]}<extra></extra>",
         "legendgroup": "Spain",
         "marker": {
          "color": "#19d3f3",
          "size": [
           0.0
          ],
          "sizemode": "area",
          "sizeref": 0.25,
          "symbol": "circle"
         },
         "mode": "markers",
         "name": "Spain",
         "orientation": "v",
         "showlegend": true,
         "x": [
          1.3770429E7
         ],
         "xaxis": "x",
         "y": [
          119479.0
         ],
         "yaxis": "y",
         "type": "scatter"
        },
        {
         "customdata": [
          [
           "Sri Lanka",
           2.0
          ]
         ],
         "hovertemplate": "location=%{customdata[0]}<br>Total Cases=%{x}<br>Total Deaths=%{y}<br>size=%{marker.size}<br>New Cases=%{customdata[1]}<extra></extra>",
         "legendgroup": "Sri Lanka",
         "marker": {
          "color": "#FF6692",
          "size": [
           0.0011278725504018045
          ],
          "sizemode": "area",
          "sizeref": 0.25,
          "symbol": "circle"
         },
         "mode": "markers",
         "name": "Sri Lanka",
         "orientation": "v",
         "showlegend": true,
         "x": [
          672039.0
         ],
         "xaxis": "x",
         "y": [
          16830.0
         ],
         "yaxis": "y",
         "type": "scatter"
        },
        {
         "customdata": [
          [
           "Sudan",
           0.0
          ]
         ],
         "hovertemplate": "location=%{customdata[0]}<br>Total Cases=%{x}<br>Total Deaths=%{y}<br>size=%{marker.size}<br>New Cases=%{customdata[1]}<extra></extra>",
         "legendgroup": "Sudan",
         "marker": {
          "color": "#B6E880",
          "size": [
           0.0
          ],
          "sizemode": "area",
          "sizeref": 0.25,
          "symbol": "circle"
         },
         "mode": "markers",
         "name": "Sudan",
         "orientation": "v",
         "showlegend": true,
         "x": [
          63829.0
         ],
         "xaxis": "x",
         "y": [
          5017.0
         ],
         "yaxis": "y",
         "type": "scatter"
        },
        {
         "customdata": [
          [
           "Suriname",
           0.0
          ]
         ],
         "hovertemplate": "location=%{customdata[0]}<br>Total Cases=%{x}<br>Total Deaths=%{y}<br>size=%{marker.size}<br>New Cases=%{customdata[1]}<extra></extra>",
         "legendgroup": "Suriname",
         "marker": {
          "color": "#FF97FF",
          "size": [
           0.0
          ],
          "sizemode": "area",
          "sizeref": 0.25,
          "symbol": "circle"
         },
         "mode": "markers",
         "name": "Suriname",
         "orientation": "v",
         "showlegend": true,
         "x": [
          82467.0
         ],
         "xaxis": "x",
         "y": [
          1404.0
         ],
         "yaxis": "y",
         "type": "scatter"
        },
        {
         "customdata": [
          [
           "Sweden",
           804.0
          ]
         ],
         "hovertemplate": "location=%{customdata[0]}<br>Total Cases=%{x}<br>Total Deaths=%{y}<br>size=%{marker.size}<br>New Cases=%{customdata[1]}<extra></extra>",
         "legendgroup": "Sweden",
         "marker": {
          "color": "#FECB52",
          "size": [
           0.45340476526152546
          ],
          "sizemode": "area",
          "sizeref": 0.25,
          "symbol": "circle"
         },
         "mode": "markers",
         "name": "Sweden",
         "orientation": "v",
         "showlegend": true,
         "x": [
          2699339.0
         ],
         "xaxis": "x",
         "y": [
          23777.0
         ],
         "yaxis": "y",
         "type": "scatter"
        },
        {
         "customdata": [
          [
           "Switzerland",
           0.0
          ]
         ],
         "hovertemplate": "location=%{customdata[0]}<br>Total Cases=%{x}<br>Total Deaths=%{y}<br>size=%{marker.size}<br>New Cases=%{customdata[1]}<extra></extra>",
         "legendgroup": "Switzerland",
         "marker": {
          "color": "#636efa",
          "size": [
           0.0
          ],
          "sizemode": "area",
          "sizeref": 0.25,
          "symbol": "circle"
         },
         "mode": "markers",
         "name": "Switzerland",
         "orientation": "v",
         "showlegend": true,
         "x": [
          4413911.0
         ],
         "xaxis": "x",
         "y": [
          14210.0
         ],
         "yaxis": "y",
         "type": "scatter"
        },
        {
         "customdata": [
          [
           "Syria",
           0.0
          ]
         ],
         "hovertemplate": "location=%{customdata[0]}<br>Total Cases=%{x}<br>Total Deaths=%{y}<br>size=%{marker.size}<br>New Cases=%{customdata[1]}<extra></extra>",
         "legendgroup": "Syria",
         "marker": {
          "color": "#EF553B",
          "size": [
           0.0
          ],
          "sizemode": "area",
          "sizeref": 0.25,
          "symbol": "circle"
         },
         "mode": "markers",
         "name": "Syria",
         "orientation": "v",
         "showlegend": true,
         "x": [
          57467.0
         ],
         "xaxis": "x",
         "y": [
          3164.0
         ],
         "yaxis": "y",
         "type": "scatter"
        },
        {
         "customdata": [
          [
           "Taiwan",
           0.0
          ]
         ],
         "hovertemplate": "location=%{customdata[0]}<br>Total Cases=%{x}<br>Total Deaths=%{y}<br>size=%{marker.size}<br>New Cases=%{customdata[1]}<extra></extra>",
         "legendgroup": "Taiwan",
         "marker": {
          "color": "#00cc96",
          "size": [
           0.0
          ],
          "sizemode": "area",
          "sizeref": 0.25,
          "symbol": "circle"
         },
         "mode": "markers",
         "name": "Taiwan",
         "orientation": "v",
         "showlegend": true,
         "x": [
          9970937.0
         ],
         "xaxis": "x",
         "y": [
          17672.0
         ],
         "yaxis": "y",
         "type": "scatter"
        },
        {
         "customdata": [
          [
           "Tajikistan",
           0.0
          ]
         ],
         "hovertemplate": "location=%{customdata[0]}<br>Total Cases=%{x}<br>Total Deaths=%{y}<br>size=%{marker.size}<br>New Cases=%{customdata[1]}<extra></extra>",
         "legendgroup": "Tajikistan",
         "marker": {
          "color": "#ab63fa",
          "size": [
           0.0
          ],
          "sizemode": "area",
          "sizeref": 0.25,
          "symbol": "circle"
         },
         "mode": "markers",
         "name": "Tajikistan",
         "orientation": "v",
         "showlegend": true,
         "x": [
          17786.0
         ],
         "xaxis": "x",
         "y": [
          125.0
         ],
         "yaxis": "y",
         "type": "scatter"
        },
        {
         "customdata": [
          [
           "Tanzania",
           0.0
          ]
         ],
         "hovertemplate": "location=%{customdata[0]}<br>Total Cases=%{x}<br>Total Deaths=%{y}<br>size=%{marker.size}<br>New Cases=%{customdata[1]}<extra></extra>",
         "legendgroup": "Tanzania",
         "marker": {
          "color": "#FFA15A",
          "size": [
           0.0
          ],
          "sizemode": "area",
          "sizeref": 0.25,
          "symbol": "circle"
         },
         "mode": "markers",
         "name": "Tanzania",
         "orientation": "v",
         "showlegend": true,
         "x": [
          42906.0
         ],
         "xaxis": "x",
         "y": [
          846.0
         ],
         "yaxis": "y",
         "type": "scatter"
        },
        {
         "customdata": [
          [
           "Thailand",
           0.0
          ]
         ],
         "hovertemplate": "location=%{customdata[0]}<br>Total Cases=%{x}<br>Total Deaths=%{y}<br>size=%{marker.size}<br>New Cases=%{customdata[1]}<extra></extra>",
         "legendgroup": "Thailand",
         "marker": {
          "color": "#19d3f3",
          "size": [
           0.0
          ],
          "sizemode": "area",
          "sizeref": 0.25,
          "symbol": "circle"
         },
         "mode": "markers",
         "name": "Thailand",
         "orientation": "v",
         "showlegend": true,
         "x": [
          4728182.0
         ],
         "xaxis": "x",
         "y": [
          33918.0
         ],
         "yaxis": "y",
         "type": "scatter"
        },
        {
         "customdata": [
          [
           "Timor",
           0.0
          ]
         ],
         "hovertemplate": "location=%{customdata[0]}<br>Total Cases=%{x}<br>Total Deaths=%{y}<br>size=%{marker.size}<br>New Cases=%{customdata[1]}<extra></extra>",
         "legendgroup": "Timor",
         "marker": {
          "color": "#FF6692",
          "size": [
           0.0
          ],
          "sizemode": "area",
          "sizeref": 0.25,
          "symbol": "circle"
         },
         "mode": "markers",
         "name": "Timor",
         "orientation": "v",
         "showlegend": true,
         "x": [
          23419.0
         ],
         "xaxis": "x",
         "y": [
          138.0
         ],
         "yaxis": "y",
         "type": "scatter"
        },
        {
         "customdata": [
          [
           "Togo",
           0.0
          ]
         ],
         "hovertemplate": "location=%{customdata[0]}<br>Total Cases=%{x}<br>Total Deaths=%{y}<br>size=%{marker.size}<br>New Cases=%{customdata[1]}<extra></extra>",
         "legendgroup": "Togo",
         "marker": {
          "color": "#B6E880",
          "size": [
           0.0
          ],
          "sizemode": "area",
          "sizeref": 0.25,
          "symbol": "circle"
         },
         "mode": "markers",
         "name": "Togo",
         "orientation": "v",
         "showlegend": true,
         "x": [
          39396.0
         ],
         "xaxis": "x",
         "y": [
          290.0
         ],
         "yaxis": "y",
         "type": "scatter"
        },
        {
         "customdata": [
          [
           "Tonga",
           0.0
          ]
         ],
         "hovertemplate": "location=%{customdata[0]}<br>Total Cases=%{x}<br>Total Deaths=%{y}<br>size=%{marker.size}<br>New Cases=%{customdata[1]}<extra></extra>",
         "legendgroup": "Tonga",
         "marker": {
          "color": "#FF97FF",
          "size": [
           0.0
          ],
          "sizemode": "area",
          "sizeref": 0.25,
          "symbol": "circle"
         },
         "mode": "markers",
         "name": "Tonga",
         "orientation": "v",
         "showlegend": true,
         "x": [
          16810.0
         ],
         "xaxis": "x",
         "y": [
          13.0
         ],
         "yaxis": "y",
         "type": "scatter"
        },
        {
         "customdata": [
          [
           "Trinidad and Tobago",
           0.0
          ]
         ],
         "hovertemplate": "location=%{customdata[0]}<br>Total Cases=%{x}<br>Total Deaths=%{y}<br>size=%{marker.size}<br>New Cases=%{customdata[1]}<extra></extra>",
         "legendgroup": "Trinidad and Tobago",
         "marker": {
          "color": "#FECB52",
          "size": [
           0.0
          ],
          "sizemode": "area",
          "sizeref": 0.25,
          "symbol": "circle"
         },
         "mode": "markers",
         "name": "Trinidad and Tobago",
         "orientation": "v",
         "showlegend": true,
         "x": [
          189918.0
         ],
         "xaxis": "x",
         "y": [
          4355.0
         ],
         "yaxis": "y",
         "type": "scatter"
        },
        {
         "customdata": [
          [
           "Tunisia",
           0.0
          ]
         ],
         "hovertemplate": "location=%{customdata[0]}<br>Total Cases=%{x}<br>Total Deaths=%{y}<br>size=%{marker.size}<br>New Cases=%{customdata[1]}<extra></extra>",
         "legendgroup": "Tunisia",
         "marker": {
          "color": "#636efa",
          "size": [
           0.0
          ],
          "sizemode": "area",
          "sizeref": 0.25,
          "symbol": "circle"
         },
         "mode": "markers",
         "name": "Tunisia",
         "orientation": "v",
         "showlegend": true,
         "x": [
          1151126.0
         ],
         "xaxis": "x",
         "y": [
          29341.0
         ],
         "yaxis": "y",
         "type": "scatter"
        },
        {
         "customdata": [
          [
           "Turkey",
           0.0
          ]
         ],
         "hovertemplate": "location=%{customdata[0]}<br>Total Cases=%{x}<br>Total Deaths=%{y}<br>size=%{marker.size}<br>New Cases=%{customdata[1]}<extra></extra>",
         "legendgroup": "Turkey",
         "marker": {
          "color": "#EF553B",
          "size": [
           0.0
          ],
          "sizemode": "area",
          "sizeref": 0.25,
          "symbol": "circle"
         },
         "mode": "markers",
         "name": "Turkey",
         "orientation": "v",
         "showlegend": true,
         "x": [
          1.7042722E7
         ],
         "xaxis": "x",
         "y": [
          101492.0
         ],
         "yaxis": "y",
         "type": "scatter"
        },
        {
         "customdata": [
          [
           "Turks and Caicos Islands",
           4.0
          ]
         ],
         "hovertemplate": "location=%{customdata[0]}<br>Total Cases=%{x}<br>Total Deaths=%{y}<br>size=%{marker.size}<br>New Cases=%{customdata[1]}<extra></extra>",
         "legendgroup": "Turks and Caicos Islands",
         "marker": {
          "color": "#00cc96",
          "size": [
           0.002255745100803609
          ],
          "sizemode": "area",
          "sizeref": 0.25,
          "symbol": "circle"
         },
         "mode": "markers",
         "name": "Turks and Caicos Islands",
         "orientation": "v",
         "showlegend": true,
         "x": [
          6561.0
         ],
         "xaxis": "x",
         "y": [
          38.0
         ],
         "yaxis": "y",
         "type": "scatter"
        },
        {
         "customdata": [
          [
           "Tuvalu",
           0.0
          ]
         ],
         "hovertemplate": "location=%{customdata[0]}<br>Total Cases=%{x}<br>Total Deaths=%{y}<br>size=%{marker.size}<br>New Cases=%{customdata[1]}<extra></extra>",
         "legendgroup": "Tuvalu",
         "marker": {
          "color": "#ab63fa",
          "size": [
           0.0
          ],
          "sizemode": "area",
          "sizeref": 0.25,
          "symbol": "circle"
         },
         "mode": "markers",
         "name": "Tuvalu",
         "orientation": "v",
         "showlegend": true,
         "x": [
          2805.0
         ],
         "xaxis": "x",
         "y": [
          null
         ],
         "yaxis": "y",
         "type": "scatter"
        },
        {
         "customdata": [
          [
           "Uganda",
           0.0
          ]
         ],
         "hovertemplate": "location=%{customdata[0]}<br>Total Cases=%{x}<br>Total Deaths=%{y}<br>size=%{marker.size}<br>New Cases=%{customdata[1]}<extra></extra>",
         "legendgroup": "Uganda",
         "marker": {
          "color": "#FFA15A",
          "size": [
           0.0
          ],
          "sizemode": "area",
          "sizeref": 0.25,
          "symbol": "circle"
         },
         "mode": "markers",
         "name": "Uganda",
         "orientation": "v",
         "showlegend": true,
         "x": [
          170544.0
         ],
         "xaxis": "x",
         "y": [
          3630.0
         ],
         "yaxis": "y",
         "type": "scatter"
        },
        {
         "customdata": [
          [
           "Ukraine",
           111.0
          ]
         ],
         "hovertemplate": "location=%{customdata[0]}<br>Total Cases=%{x}<br>Total Deaths=%{y}<br>size=%{marker.size}<br>New Cases=%{customdata[1]}<extra></extra>",
         "legendgroup": "Ukraine",
         "marker": {
          "color": "#19d3f3",
          "size": [
           0.06259692654730015
          ],
          "sizemode": "area",
          "sizeref": 0.25,
          "symbol": "circle"
         },
         "mode": "markers",
         "name": "Ukraine",
         "orientation": "v",
         "showlegend": true,
         "x": [
          5711929.0
         ],
         "xaxis": "x",
         "y": [
          119283.0
         ],
         "yaxis": "y",
         "type": "scatter"
        },
        {
         "customdata": [
          [
           "United Arab Emirates",
           145.0
          ]
         ],
         "hovertemplate": "location=%{customdata[0]}<br>Total Cases=%{x}<br>Total Deaths=%{y}<br>size=%{marker.size}<br>New Cases=%{customdata[1]}<extra></extra>",
         "legendgroup": "United Arab Emirates",
         "marker": {
          "color": "#FF6692",
          "size": [
           0.08177075990413082
          ],
          "sizemode": "area",
          "sizeref": 0.25,
          "symbol": "circle"
         },
         "mode": "markers",
         "name": "United Arab Emirates",
         "orientation": "v",
         "showlegend": true,
         "x": [
          1053213.0
         ],
         "xaxis": "x",
         "y": [
          2349.0
         ],
         "yaxis": "y",
         "type": "scatter"
        },
        {
         "customdata": [
          [
           "United Kingdom",
           28779.0
          ]
         ],
         "hovertemplate": "location=%{customdata[0]}<br>Total Cases=%{x}<br>Total Deaths=%{y}<br>size=%{marker.size}<br>New Cases=%{customdata[1]}<extra></extra>",
         "legendgroup": "United Kingdom",
         "marker": {
          "color": "#B6E880",
          "size": [
           16.22952206400677
          ],
          "sizemode": "area",
          "sizeref": 0.25,
          "symbol": "circle"
         },
         "mode": "markers",
         "name": "United Kingdom",
         "orientation": "v",
         "showlegend": true,
         "x": [
          2.4425313E7
         ],
         "xaxis": "x",
         "y": [
          219948.0
         ],
         "yaxis": "y",
         "type": "scatter"
        },
        {
         "customdata": [
          [
           "United States",
           46931.0
          ]
         ],
         "hovertemplate": "location=%{customdata[0]}<br>Total Cases=%{x}<br>Total Deaths=%{y}<br>size=%{marker.size}<br>New Cases=%{customdata[1]}<extra></extra>",
         "legendgroup": "United States",
         "marker": {
          "color": "#FF97FF",
          "size": [
           26.466093331453543
          ],
          "sizemode": "area",
          "sizeref": 0.25,
          "symbol": "circle"
         },
         "mode": "markers",
         "name": "United States",
         "orientation": "v",
         "showlegend": true,
         "x": [
          1.03802702E8
         ],
         "xaxis": "x",
         "y": [
          1123836.0
         ],
         "yaxis": "y",
         "type": "scatter"
        },
        {
         "customdata": [
          [
           "Upper middle income",
           18280.0
          ]
         ],
         "hovertemplate": "location=%{customdata[0]}<br>Total Cases=%{x}<br>Total Deaths=%{y}<br>size=%{marker.size}<br>New Cases=%{customdata[1]}<extra></extra>",
         "legendgroup": "Upper middle income",
         "marker": {
          "color": "#FECB52",
          "size": [
           10.308755110672493
          ],
          "sizemode": "area",
          "sizeref": 0.25,
          "symbol": "circle"
         },
         "mode": "markers",
         "name": "Upper middle income",
         "orientation": "v",
         "showlegend": true,
         "x": [
          1.45057512E8
         ],
         "xaxis": "x",
         "y": [
          2608854.0
         ],
         "yaxis": "y",
         "type": "scatter"
        },
        {
         "customdata": [
          [
           "Uruguay",
           0.0
          ]
         ],
         "hovertemplate": "location=%{customdata[0]}<br>Total Cases=%{x}<br>Total Deaths=%{y}<br>size=%{marker.size}<br>New Cases=%{customdata[1]}<extra></extra>",
         "legendgroup": "Uruguay",
         "marker": {
          "color": "#636efa",
          "size": [
           0.0
          ],
          "sizemode": "area",
          "sizeref": 0.25,
          "symbol": "circle"
         },
         "mode": "markers",
         "name": "Uruguay",
         "orientation": "v",
         "showlegend": true,
         "x": [
          1034303.0
         ],
         "xaxis": "x",
         "y": [
          7617.0
         ],
         "yaxis": "y",
         "type": "scatter"
        },
        {
         "customdata": [
          [
           "Uzbekistan",
           0.0
          ]
         ],
         "hovertemplate": "location=%{customdata[0]}<br>Total Cases=%{x}<br>Total Deaths=%{y}<br>size=%{marker.size}<br>New Cases=%{customdata[1]}<extra></extra>",
         "legendgroup": "Uzbekistan",
         "marker": {
          "color": "#EF553B",
          "size": [
           0.0
          ],
          "sizemode": "area",
          "sizeref": 0.25,
          "symbol": "circle"
         },
         "mode": "markers",
         "name": "Uzbekistan",
         "orientation": "v",
         "showlegend": true,
         "x": [
          251247.0
         ],
         "xaxis": "x",
         "y": [
          1637.0
         ],
         "yaxis": "y",
         "type": "scatter"
        },
        {
         "customdata": [
          [
           "Vanuatu",
           0.0
          ]
         ],
         "hovertemplate": "location=%{customdata[0]}<br>Total Cases=%{x}<br>Total Deaths=%{y}<br>size=%{marker.size}<br>New Cases=%{customdata[1]}<extra></extra>",
         "legendgroup": "Vanuatu",
         "marker": {
          "color": "#00cc96",
          "size": [
           0.0
          ],
          "sizemode": "area",
          "sizeref": 0.25,
          "symbol": "circle"
         },
         "mode": "markers",
         "name": "Vanuatu",
         "orientation": "v",
         "showlegend": true,
         "x": [
          12014.0
         ],
         "xaxis": "x",
         "y": [
          14.0
         ],
         "yaxis": "y",
         "type": "scatter"
        },
        {
         "customdata": [
          [
           "Vatican",
           0.0
          ]
         ],
         "hovertemplate": "location=%{customdata[0]}<br>Total Cases=%{x}<br>Total Deaths=%{y}<br>size=%{marker.size}<br>New Cases=%{customdata[1]}<extra></extra>",
         "legendgroup": "Vatican",
         "marker": {
          "color": "#ab63fa",
          "size": [
           0.0
          ],
          "sizemode": "area",
          "sizeref": 0.25,
          "symbol": "circle"
         },
         "mode": "markers",
         "name": "Vatican",
         "orientation": "v",
         "showlegend": true,
         "x": [
          29.0
         ],
         "xaxis": "x",
         "y": [
          null
         ],
         "yaxis": "y",
         "type": "scatter"
        },
        {
         "customdata": [
          [
           "Venezuela",
           5.0
          ]
         ],
         "hovertemplate": "location=%{customdata[0]}<br>Total Cases=%{x}<br>Total Deaths=%{y}<br>size=%{marker.size}<br>New Cases=%{customdata[1]}<extra></extra>",
         "legendgroup": "Venezuela",
         "marker": {
          "color": "#FFA15A",
          "size": [
           0.0028196813760045115
          ],
          "sizemode": "area",
          "sizeref": 0.25,
          "symbol": "circle"
         },
         "mode": "markers",
         "name": "Venezuela",
         "orientation": "v",
         "showlegend": true,
         "x": [
          552162.0
         ],
         "xaxis": "x",
         "y": [
          5854.0
         ],
         "yaxis": "y",
         "type": "scatter"
        },
        {
         "customdata": [
          [
           "Vietnam",
           0.0
          ]
         ],
         "hovertemplate": "location=%{customdata[0]}<br>Total Cases=%{x}<br>Total Deaths=%{y}<br>size=%{marker.size}<br>New Cases=%{customdata[1]}<extra></extra>",
         "legendgroup": "Vietnam",
         "marker": {
          "color": "#19d3f3",
          "size": [
           0.0
          ],
          "sizemode": "area",
          "sizeref": 0.25,
          "symbol": "circle"
         },
         "mode": "markers",
         "name": "Vietnam",
         "orientation": "v",
         "showlegend": true,
         "x": [
          1.1526994E7
         ],
         "xaxis": "x",
         "y": [
          43186.0
         ],
         "yaxis": "y",
         "type": "scatter"
        },
        {
         "customdata": [
          [
           "Wallis and Futuna",
           0.0
          ]
         ],
         "hovertemplate": "location=%{customdata[0]}<br>Total Cases=%{x}<br>Total Deaths=%{y}<br>size=%{marker.size}<br>New Cases=%{customdata[1]}<extra></extra>",
         "legendgroup": "Wallis and Futuna",
         "marker": {
          "color": "#FF6692",
          "size": [
           0.0
          ],
          "sizemode": "area",
          "sizeref": 0.25,
          "symbol": "circle"
         },
         "mode": "markers",
         "name": "Wallis and Futuna",
         "orientation": "v",
         "showlegend": true,
         "x": [
          3427.0
         ],
         "xaxis": "x",
         "y": [
          7.0
         ],
         "yaxis": "y",
         "type": "scatter"
        },
        {
         "customdata": [
          [
           "World",
           177325.0
          ]
         ],
         "hovertemplate": "location=%{customdata[0]}<br>Total Cases=%{x}<br>Total Deaths=%{y}<br>size=%{marker.size}<br>New Cases=%{customdata[1]}<extra></extra>",
         "legendgroup": "World",
         "marker": {
          "color": "#B6E880",
          "size": [
           100.0
          ],
          "sizemode": "area",
          "sizeref": 0.25,
          "symbol": "circle"
         },
         "mode": "markers",
         "name": "World",
         "orientation": "v",
         "showlegend": true,
         "x": [
          6.76467356E8
         ],
         "xaxis": "x",
         "y": [
          6881575.0
         ],
         "yaxis": "y",
         "type": "scatter"
        },
        {
         "customdata": [
          [
           "Yemen",
           0.0
          ]
         ],
         "hovertemplate": "location=%{customdata[0]}<br>Total Cases=%{x}<br>Total Deaths=%{y}<br>size=%{marker.size}<br>New Cases=%{customdata[1]}<extra></extra>",
         "legendgroup": "Yemen",
         "marker": {
          "color": "#FF97FF",
          "size": [
           0.0
          ],
          "sizemode": "area",
          "sizeref": 0.25,
          "symbol": "circle"
         },
         "mode": "markers",
         "name": "Yemen",
         "orientation": "v",
         "showlegend": true,
         "x": [
          11945.0
         ],
         "xaxis": "x",
         "y": [
          2159.0
         ],
         "yaxis": "y",
         "type": "scatter"
        },
        {
         "customdata": [
          [
           "Zambia",
           0.0
          ]
         ],
         "hovertemplate": "location=%{customdata[0]}<br>Total Cases=%{x}<br>Total Deaths=%{y}<br>size=%{marker.size}<br>New Cases=%{customdata[1]}<extra></extra>",
         "legendgroup": "Zambia",
         "marker": {
          "color": "#FECB52",
          "size": [
           0.0
          ],
          "sizemode": "area",
          "sizeref": 0.25,
          "symbol": "circle"
         },
         "mode": "markers",
         "name": "Zambia",
         "orientation": "v",
         "showlegend": true,
         "x": [
          343135.0
         ],
         "xaxis": "x",
         "y": [
          4057.0
         ],
         "yaxis": "y",
         "type": "scatter"
        },
        {
         "customdata": [
          [
           "Zimbabwe",
           0.0
          ]
         ],
         "hovertemplate": "location=%{customdata[0]}<br>Total Cases=%{x}<br>Total Deaths=%{y}<br>size=%{marker.size}<br>New Cases=%{customdata[1]}<extra></extra>",
         "legendgroup": "Zimbabwe",
         "marker": {
          "color": "#636efa",
          "size": [
           0.0
          ],
          "sizemode": "area",
          "sizeref": 0.25,
          "symbol": "circle"
         },
         "mode": "markers",
         "name": "Zimbabwe",
         "orientation": "v",
         "showlegend": true,
         "x": [
          264276.0
         ],
         "xaxis": "x",
         "y": [
          5671.0
         ],
         "yaxis": "y",
         "type": "scatter"
        }
       ],
       "layout": {
        "template": {
         "data": {
          "histogram2dcontour": [
           {
            "type": "histogram2dcontour",
            "colorbar": {
             "outlinewidth": 0,
             "ticks": ""
            },
            "colorscale": [
             [
              0.0,
              "#0d0887"
             ],
             [
              0.1111111111111111,
              "#46039f"
             ],
             [
              0.2222222222222222,
              "#7201a8"
             ],
             [
              0.3333333333333333,
              "#9c179e"
             ],
             [
              0.4444444444444444,
              "#bd3786"
             ],
             [
              0.5555555555555556,
              "#d8576b"
             ],
             [
              0.6666666666666666,
              "#ed7953"
             ],
             [
              0.7777777777777778,
              "#fb9f3a"
             ],
             [
              0.8888888888888888,
              "#fdca26"
             ],
             [
              1.0,
              "#f0f921"
             ]
            ]
           }
          ],
          "choropleth": [
           {
            "type": "choropleth",
            "colorbar": {
             "outlinewidth": 0,
             "ticks": ""
            }
           }
          ],
          "histogram2d": [
           {
            "type": "histogram2d",
            "colorbar": {
             "outlinewidth": 0,
             "ticks": ""
            },
            "colorscale": [
             [
              0.0,
              "#0d0887"
             ],
             [
              0.1111111111111111,
              "#46039f"
             ],
             [
              0.2222222222222222,
              "#7201a8"
             ],
             [
              0.3333333333333333,
              "#9c179e"
             ],
             [
              0.4444444444444444,
              "#bd3786"
             ],
             [
              0.5555555555555556,
              "#d8576b"
             ],
             [
              0.6666666666666666,
              "#ed7953"
             ],
             [
              0.7777777777777778,
              "#fb9f3a"
             ],
             [
              0.8888888888888888,
              "#fdca26"
             ],
             [
              1.0,
              "#f0f921"
             ]
            ]
           }
          ],
          "heatmap": [
           {
            "type": "heatmap",
            "colorbar": {
             "outlinewidth": 0,
             "ticks": ""
            },
            "colorscale": [
             [
              0.0,
              "#0d0887"
             ],
             [
              0.1111111111111111,
              "#46039f"
             ],
             [
              0.2222222222222222,
              "#7201a8"
             ],
             [
              0.3333333333333333,
              "#9c179e"
             ],
             [
              0.4444444444444444,
              "#bd3786"
             ],
             [
              0.5555555555555556,
              "#d8576b"
             ],
             [
              0.6666666666666666,
              "#ed7953"
             ],
             [
              0.7777777777777778,
              "#fb9f3a"
             ],
             [
              0.8888888888888888,
              "#fdca26"
             ],
             [
              1.0,
              "#f0f921"
             ]
            ]
           }
          ],
          "heatmapgl": [
           {
            "type": "heatmapgl",
            "colorbar": {
             "outlinewidth": 0,
             "ticks": ""
            },
            "colorscale": [
             [
              0.0,
              "#0d0887"
             ],
             [
              0.1111111111111111,
              "#46039f"
             ],
             [
              0.2222222222222222,
              "#7201a8"
             ],
             [
              0.3333333333333333,
              "#9c179e"
             ],
             [
              0.4444444444444444,
              "#bd3786"
             ],
             [
              0.5555555555555556,
              "#d8576b"
             ],
             [
              0.6666666666666666,
              "#ed7953"
             ],
             [
              0.7777777777777778,
              "#fb9f3a"
             ],
             [
              0.8888888888888888,
              "#fdca26"
             ],
             [
              1.0,
              "#f0f921"
             ]
            ]
           }
          ],
          "contourcarpet": [
           {
            "type": "contourcarpet",
            "colorbar": {
             "outlinewidth": 0,
             "ticks": ""
            }
           }
          ],
          "contour": [
           {
            "type": "contour",
            "colorbar": {
             "outlinewidth": 0,
             "ticks": ""
            },
            "colorscale": [
             [
              0.0,
              "#0d0887"
             ],
             [
              0.1111111111111111,
              "#46039f"
             ],
             [
              0.2222222222222222,
              "#7201a8"
             ],
             [
              0.3333333333333333,
              "#9c179e"
             ],
             [
              0.4444444444444444,
              "#bd3786"
             ],
             [
              0.5555555555555556,
              "#d8576b"
             ],
             [
              0.6666666666666666,
              "#ed7953"
             ],
             [
              0.7777777777777778,
              "#fb9f3a"
             ],
             [
              0.8888888888888888,
              "#fdca26"
             ],
             [
              1.0,
              "#f0f921"
             ]
            ]
           }
          ],
          "surface": [
           {
            "type": "surface",
            "colorbar": {
             "outlinewidth": 0,
             "ticks": ""
            },
            "colorscale": [
             [
              0.0,
              "#0d0887"
             ],
             [
              0.1111111111111111,
              "#46039f"
             ],
             [
              0.2222222222222222,
              "#7201a8"
             ],
             [
              0.3333333333333333,
              "#9c179e"
             ],
             [
              0.4444444444444444,
              "#bd3786"
             ],
             [
              0.5555555555555556,
              "#d8576b"
             ],
             [
              0.6666666666666666,
              "#ed7953"
             ],
             [
              0.7777777777777778,
              "#fb9f3a"
             ],
             [
              0.8888888888888888,
              "#fdca26"
             ],
             [
              1.0,
              "#f0f921"
             ]
            ]
           }
          ],
          "mesh3d": [
           {
            "type": "mesh3d",
            "colorbar": {
             "outlinewidth": 0,
             "ticks": ""
            }
           }
          ],
          "scatter": [
           {
            "marker": {
             "line": {
              "color": "#283442"
             }
            },
            "type": "scatter"
           }
          ],
          "parcoords": [
           {
            "type": "parcoords",
            "line": {
             "colorbar": {
              "outlinewidth": 0,
              "ticks": ""
             }
            }
           }
          ],
          "scatterpolargl": [
           {
            "type": "scatterpolargl",
            "marker": {
             "colorbar": {
              "outlinewidth": 0,
              "ticks": ""
             }
            }
           }
          ],
          "bar": [
           {
            "error_x": {
             "color": "#f2f5fa"
            },
            "error_y": {
             "color": "#f2f5fa"
            },
            "marker": {
             "line": {
              "color": "rgb(17,17,17)",
              "width": 0.5
             },
             "pattern": {
              "fillmode": "overlay",
              "size": 10,
              "solidity": 0.2
             }
            },
            "type": "bar"
           }
          ],
          "scattergeo": [
           {
            "type": "scattergeo",
            "marker": {
             "colorbar": {
              "outlinewidth": 0,
              "ticks": ""
             }
            }
           }
          ],
          "scatterpolar": [
           {
            "type": "scatterpolar",
            "marker": {
             "colorbar": {
              "outlinewidth": 0,
              "ticks": ""
             }
            }
           }
          ],
          "histogram": [
           {
            "marker": {
             "pattern": {
              "fillmode": "overlay",
              "size": 10,
              "solidity": 0.2
             }
            },
            "type": "histogram"
           }
          ],
          "scattergl": [
           {
            "marker": {
             "line": {
              "color": "#283442"
             }
            },
            "type": "scattergl"
           }
          ],
          "scatter3d": [
           {
            "type": "scatter3d",
            "line": {
             "colorbar": {
              "outlinewidth": 0,
              "ticks": ""
             }
            },
            "marker": {
             "colorbar": {
              "outlinewidth": 0,
              "ticks": ""
             }
            }
           }
          ],
          "scattermapbox": [
           {
            "type": "scattermapbox",
            "marker": {
             "colorbar": {
              "outlinewidth": 0,
              "ticks": ""
             }
            }
           }
          ],
          "scatterternary": [
           {
            "type": "scatterternary",
            "marker": {
             "colorbar": {
              "outlinewidth": 0,
              "ticks": ""
             }
            }
           }
          ],
          "scattercarpet": [
           {
            "type": "scattercarpet",
            "marker": {
             "colorbar": {
              "outlinewidth": 0,
              "ticks": ""
             }
            }
           }
          ],
          "carpet": [
           {
            "aaxis": {
             "endlinecolor": "#A2B1C6",
             "gridcolor": "#506784",
             "linecolor": "#506784",
             "minorgridcolor": "#506784",
             "startlinecolor": "#A2B1C6"
            },
            "baxis": {
             "endlinecolor": "#A2B1C6",
             "gridcolor": "#506784",
             "linecolor": "#506784",
             "minorgridcolor": "#506784",
             "startlinecolor": "#A2B1C6"
            },
            "type": "carpet"
           }
          ],
          "table": [
           {
            "cells": {
             "fill": {
              "color": "#506784"
             },
             "line": {
              "color": "rgb(17,17,17)"
             }
            },
            "header": {
             "fill": {
              "color": "#2a3f5f"
             },
             "line": {
              "color": "rgb(17,17,17)"
             }
            },
            "type": "table"
           }
          ],
          "barpolar": [
           {
            "marker": {
             "line": {
              "color": "rgb(17,17,17)",
              "width": 0.5
             },
             "pattern": {
              "fillmode": "overlay",
              "size": 10,
              "solidity": 0.2
             }
            },
            "type": "barpolar"
           }
          ],
          "pie": [
           {
            "automargin": true,
            "type": "pie"
           }
          ]
         },
         "layout": {
          "autotypenumbers": "strict",
          "colorway": [
           "#636efa",
           "#EF553B",
           "#00cc96",
           "#ab63fa",
           "#FFA15A",
           "#19d3f3",
           "#FF6692",
           "#B6E880",
           "#FF97FF",
           "#FECB52"
          ],
          "font": {
           "color": "#f2f5fa"
          },
          "hovermode": "closest",
          "hoverlabel": {
           "align": "left"
          },
          "paper_bgcolor": "rgb(17,17,17)",
          "plot_bgcolor": "rgb(17,17,17)",
          "polar": {
           "bgcolor": "rgb(17,17,17)",
           "angularaxis": {
            "gridcolor": "#506784",
            "linecolor": "#506784",
            "ticks": ""
           },
           "radialaxis": {
            "gridcolor": "#506784",
            "linecolor": "#506784",
            "ticks": ""
           }
          },
          "ternary": {
           "bgcolor": "rgb(17,17,17)",
           "aaxis": {
            "gridcolor": "#506784",
            "linecolor": "#506784",
            "ticks": ""
           },
           "baxis": {
            "gridcolor": "#506784",
            "linecolor": "#506784",
            "ticks": ""
           },
           "caxis": {
            "gridcolor": "#506784",
            "linecolor": "#506784",
            "ticks": ""
           }
          },
          "coloraxis": {
           "colorbar": {
            "outlinewidth": 0,
            "ticks": ""
           }
          },
          "colorscale": {
           "sequential": [
            [
             0.0,
             "#0d0887"
            ],
            [
             0.1111111111111111,
             "#46039f"
            ],
            [
             0.2222222222222222,
             "#7201a8"
            ],
            [
             0.3333333333333333,
             "#9c179e"
            ],
            [
             0.4444444444444444,
             "#bd3786"
            ],
            [
             0.5555555555555556,
             "#d8576b"
            ],
            [
             0.6666666666666666,
             "#ed7953"
            ],
            [
             0.7777777777777778,
             "#fb9f3a"
            ],
            [
             0.8888888888888888,
             "#fdca26"
            ],
            [
             1.0,
             "#f0f921"
            ]
           ],
           "sequentialminus": [
            [
             0.0,
             "#0d0887"
            ],
            [
             0.1111111111111111,
             "#46039f"
            ],
            [
             0.2222222222222222,
             "#7201a8"
            ],
            [
             0.3333333333333333,
             "#9c179e"
            ],
            [
             0.4444444444444444,
             "#bd3786"
            ],
            [
             0.5555555555555556,
             "#d8576b"
            ],
            [
             0.6666666666666666,
             "#ed7953"
            ],
            [
             0.7777777777777778,
             "#fb9f3a"
            ],
            [
             0.8888888888888888,
             "#fdca26"
            ],
            [
             1.0,
             "#f0f921"
            ]
           ],
           "diverging": [
            [
             0,
             "#8e0152"
            ],
            [
             0.1,
             "#c51b7d"
            ],
            [
             0.2,
             "#de77ae"
            ],
            [
             0.3,
             "#f1b6da"
            ],
            [
             0.4,
             "#fde0ef"
            ],
            [
             0.5,
             "#f7f7f7"
            ],
            [
             0.6,
             "#e6f5d0"
            ],
            [
             0.7,
             "#b8e186"
            ],
            [
             0.8,
             "#7fbc41"
            ],
            [
             0.9,
             "#4d9221"
            ],
            [
             1,
             "#276419"
            ]
           ]
          },
          "xaxis": {
           "gridcolor": "#283442",
           "linecolor": "#506784",
           "ticks": "",
           "title": {
            "standoff": 15
           },
           "zerolinecolor": "#283442",
           "automargin": true,
           "zerolinewidth": 2
          },
          "yaxis": {
           "gridcolor": "#283442",
           "linecolor": "#506784",
           "ticks": "",
           "title": {
            "standoff": 15
           },
           "zerolinecolor": "#283442",
           "automargin": true,
           "zerolinewidth": 2
          },
          "scene": {
           "xaxis": {
            "backgroundcolor": "rgb(17,17,17)",
            "gridcolor": "#506784",
            "linecolor": "#506784",
            "showbackground": true,
            "ticks": "",
            "zerolinecolor": "#C8D4E3",
            "gridwidth": 2
           },
           "yaxis": {
            "backgroundcolor": "rgb(17,17,17)",
            "gridcolor": "#506784",
            "linecolor": "#506784",
            "showbackground": true,
            "ticks": "",
            "zerolinecolor": "#C8D4E3",
            "gridwidth": 2
           },
           "zaxis": {
            "backgroundcolor": "rgb(17,17,17)",
            "gridcolor": "#506784",
            "linecolor": "#506784",
            "showbackground": true,
            "ticks": "",
            "zerolinecolor": "#C8D4E3",
            "gridwidth": 2
           }
          },
          "shapedefaults": {
           "line": {
            "color": "#f2f5fa"
           }
          },
          "annotationdefaults": {
           "arrowcolor": "#f2f5fa",
           "arrowhead": 0,
           "arrowwidth": 1
          },
          "geo": {
           "bgcolor": "rgb(17,17,17)",
           "landcolor": "rgb(17,17,17)",
           "subunitcolor": "#506784",
           "showland": true,
           "showlakes": true,
           "lakecolor": "rgb(17,17,17)"
          },
          "title": {
           "x": 0.05
          },
          "updatemenudefaults": {
           "bgcolor": "#506784",
           "borderwidth": 0
          },
          "sliderdefaults": {
           "bgcolor": "#C8D4E3",
           "borderwidth": 1,
           "bordercolor": "rgb(17,17,17)",
           "tickwidth": 0
          },
          "mapbox": {
           "style": "dark"
          }
         }
        },
        "xaxis": {
         "anchor": "y",
         "domain": [
          0.0,
          1.0
         ],
         "title": {
          "text": "Total Cases"
         }
        },
        "yaxis": {
         "anchor": "x",
         "domain": [
          0.0,
          1.0
         ],
         "title": {
          "text": "Total Deaths"
         }
        },
        "legend": {
         "title": {
          "text": "location"
         },
         "tracegroupgap": 0,
         "itemsizing": "constant"
        },
        "title": {
         "text": "Scatter Plot of Total Cases vs Total Deaths on 2023-03-09 (Colored by Location, Sized by New Cases)"
        }
       },
       "config": {
        "plotlyServerURL": "https://plot.ly"
       }
      },
      "text/html": "<div>                            <div id=\"fa4cfb34-139c-4205-8deb-3bec243bbbfa\" class=\"plotly-graph-div\" style=\"height:525px; width:100%;\"></div>            <script type=\"text/javascript\">                require([\"plotly\"], function(Plotly) {                    window.PLOTLYENV=window.PLOTLYENV || {};                                    if (document.getElementById(\"fa4cfb34-139c-4205-8deb-3bec243bbbfa\")) {                    Plotly.newPlot(                        \"fa4cfb34-139c-4205-8deb-3bec243bbbfa\",                        [{\"customdata\":[[\"Afghanistan\",0.0]],\"hovertemplate\":\"location=%{customdata[0]}<br>Total Cases=%{x}<br>Total Deaths=%{y}<br>size=%{marker.size}<br>New Cases=%{customdata[1]}<extra></extra>\",\"legendgroup\":\"Afghanistan\",\"marker\":{\"color\":\"#636efa\",\"size\":[0.0],\"sizemode\":\"area\",\"sizeref\":0.25,\"symbol\":\"circle\"},\"mode\":\"markers\",\"name\":\"Afghanistan\",\"orientation\":\"v\",\"showlegend\":true,\"x\":[209451.0],\"xaxis\":\"x\",\"y\":[7896.0],\"yaxis\":\"y\",\"type\":\"scatter\"},{\"customdata\":[[\"Africa\",451.0]],\"hovertemplate\":\"location=%{customdata[0]}<br>Total Cases=%{x}<br>Total Deaths=%{y}<br>size=%{marker.size}<br>New Cases=%{customdata[1]}<extra></extra>\",\"legendgroup\":\"Africa\",\"marker\":{\"color\":\"#EF553B\",\"size\":[0.2543352601156069],\"sizemode\":\"area\",\"sizeref\":0.25,\"symbol\":\"circle\"},\"mode\":\"markers\",\"name\":\"Africa\",\"orientation\":\"v\",\"showlegend\":true,\"x\":[12524604.0],\"xaxis\":\"x\",\"y\":[257705.0],\"yaxis\":\"y\",\"type\":\"scatter\"},{\"customdata\":[[\"Albania\",14.0]],\"hovertemplate\":\"location=%{customdata[0]}<br>Total Cases=%{x}<br>Total Deaths=%{y}<br>size=%{marker.size}<br>New Cases=%{customdata[1]}<extra></extra>\",\"legendgroup\":\"Albania\",\"marker\":{\"color\":\"#00cc96\",\"size\":[0.007895107852812633],\"sizemode\":\"area\",\"sizeref\":0.25,\"symbol\":\"circle\"},\"mode\":\"markers\",\"name\":\"Albania\",\"orientation\":\"v\",\"showlegend\":true,\"x\":[334457.0],\"xaxis\":\"x\",\"y\":[3598.0],\"yaxis\":\"y\",\"type\":\"scatter\"},{\"customdata\":[[\"Algeria\",2.0]],\"hovertemplate\":\"location=%{customdata[0]}<br>Total Cases=%{x}<br>Total Deaths=%{y}<br>size=%{marker.size}<br>New Cases=%{customdata[1]}<extra></extra>\",\"legendgroup\":\"Algeria\",\"marker\":{\"color\":\"#ab63fa\",\"size\":[0.0011278725504018045],\"sizemode\":\"area\",\"sizeref\":0.25,\"symbol\":\"circle\"},\"mode\":\"markers\",\"name\":\"Algeria\",\"orientation\":\"v\",\"showlegend\":true,\"x\":[271496.0],\"xaxis\":\"x\",\"y\":[6881.0],\"yaxis\":\"y\",\"type\":\"scatter\"},{\"customdata\":[[\"Andorra\",0.0]],\"hovertemplate\":\"location=%{customdata[0]}<br>Total Cases=%{x}<br>Total Deaths=%{y}<br>size=%{marker.size}<br>New Cases=%{customdata[1]}<extra></extra>\",\"legendgroup\":\"Andorra\",\"marker\":{\"color\":\"#FFA15A\",\"size\":[0.0],\"sizemode\":\"area\",\"sizeref\":0.25,\"symbol\":\"circle\"},\"mode\":\"markers\",\"name\":\"Andorra\",\"orientation\":\"v\",\"showlegend\":true,\"x\":[47890.0],\"xaxis\":\"x\",\"y\":[165.0],\"yaxis\":\"y\",\"type\":\"scatter\"},{\"customdata\":[[\"Angola\",0.0]],\"hovertemplate\":\"location=%{customdata[0]}<br>Total Cases=%{x}<br>Total Deaths=%{y}<br>size=%{marker.size}<br>New Cases=%{customdata[1]}<extra></extra>\",\"legendgroup\":\"Angola\",\"marker\":{\"color\":\"#19d3f3\",\"size\":[0.0],\"sizemode\":\"area\",\"sizeref\":0.25,\"symbol\":\"circle\"},\"mode\":\"markers\",\"name\":\"Angola\",\"orientation\":\"v\",\"showlegend\":true,\"x\":[105288.0],\"xaxis\":\"x\",\"y\":[1933.0],\"yaxis\":\"y\",\"type\":\"scatter\"},{\"customdata\":[[\"Anguilla\",0.0]],\"hovertemplate\":\"location=%{customdata[0]}<br>Total Cases=%{x}<br>Total Deaths=%{y}<br>size=%{marker.size}<br>New Cases=%{customdata[1]}<extra></extra>\",\"legendgroup\":\"Anguilla\",\"marker\":{\"color\":\"#FF6692\",\"size\":[0.0],\"sizemode\":\"area\",\"sizeref\":0.25,\"symbol\":\"circle\"},\"mode\":\"markers\",\"name\":\"Anguilla\",\"orientation\":\"v\",\"showlegend\":true,\"x\":[3904.0],\"xaxis\":\"x\",\"y\":[12.0],\"yaxis\":\"y\",\"type\":\"scatter\"},{\"customdata\":[[\"Antigua and Barbuda\",0.0]],\"hovertemplate\":\"location=%{customdata[0]}<br>Total Cases=%{x}<br>Total Deaths=%{y}<br>size=%{marker.size}<br>New Cases=%{customdata[1]}<extra></extra>\",\"legendgroup\":\"Antigua and Barbuda\",\"marker\":{\"color\":\"#B6E880\",\"size\":[0.0],\"sizemode\":\"area\",\"sizeref\":0.25,\"symbol\":\"circle\"},\"mode\":\"markers\",\"name\":\"Antigua and Barbuda\",\"orientation\":\"v\",\"showlegend\":true,\"x\":[9106.0],\"xaxis\":\"x\",\"y\":[146.0],\"yaxis\":\"y\",\"type\":\"scatter\"},{\"customdata\":[[\"Argentina\",0.0]],\"hovertemplate\":\"location=%{customdata[0]}<br>Total Cases=%{x}<br>Total Deaths=%{y}<br>size=%{marker.size}<br>New Cases=%{customdata[1]}<extra></extra>\",\"legendgroup\":\"Argentina\",\"marker\":{\"color\":\"#FF97FF\",\"size\":[0.0],\"sizemode\":\"area\",\"sizeref\":0.25,\"symbol\":\"circle\"},\"mode\":\"markers\",\"name\":\"Argentina\",\"orientation\":\"v\",\"showlegend\":true,\"x\":[10044957.0],\"xaxis\":\"x\",\"y\":[130472.0],\"yaxis\":\"y\",\"type\":\"scatter\"},{\"customdata\":[[\"Armenia\",0.0]],\"hovertemplate\":\"location=%{customdata[0]}<br>Total Cases=%{x}<br>Total Deaths=%{y}<br>size=%{marker.size}<br>New Cases=%{customdata[1]}<extra></extra>\",\"legendgroup\":\"Armenia\",\"marker\":{\"color\":\"#FECB52\",\"size\":[0.0],\"sizemode\":\"area\",\"sizeref\":0.25,\"symbol\":\"circle\"},\"mode\":\"markers\",\"name\":\"Armenia\",\"orientation\":\"v\",\"showlegend\":true,\"x\":[447308.0],\"xaxis\":\"x\",\"y\":[8727.0],\"yaxis\":\"y\",\"type\":\"scatter\"},{\"customdata\":[[\"Aruba\",0.0]],\"hovertemplate\":\"location=%{customdata[0]}<br>Total Cases=%{x}<br>Total Deaths=%{y}<br>size=%{marker.size}<br>New Cases=%{customdata[1]}<extra></extra>\",\"legendgroup\":\"Aruba\",\"marker\":{\"color\":\"#636efa\",\"size\":[0.0],\"sizemode\":\"area\",\"sizeref\":0.25,\"symbol\":\"circle\"},\"mode\":\"markers\",\"name\":\"Aruba\",\"orientation\":\"v\",\"showlegend\":true,\"x\":[44044.0],\"xaxis\":\"x\",\"y\":[282.0],\"yaxis\":\"y\",\"type\":\"scatter\"},{\"customdata\":[[\"Asia\",23308.0]],\"hovertemplate\":\"location=%{customdata[0]}<br>Total Cases=%{x}<br>Total Deaths=%{y}<br>size=%{marker.size}<br>New Cases=%{customdata[1]}<extra></extra>\",\"legendgroup\":\"Asia\",\"marker\":{\"color\":\"#EF553B\",\"size\":[13.14422670238263],\"sizemode\":\"area\",\"sizeref\":0.25,\"symbol\":\"circle\"},\"mode\":\"markers\",\"name\":\"Asia\",\"orientation\":\"v\",\"showlegend\":true,\"x\":[210767366.0],\"xaxis\":\"x\",\"y\":[1623684.0],\"yaxis\":\"y\",\"type\":\"scatter\"},{\"customdata\":[[\"Australia\",13926.0]],\"hovertemplate\":\"location=%{customdata[0]}<br>Total Cases=%{x}<br>Total Deaths=%{y}<br>size=%{marker.size}<br>New Cases=%{customdata[1]}<extra></extra>\",\"legendgroup\":\"Australia\",\"marker\":{\"color\":\"#00cc96\",\"size\":[7.853376568447766],\"sizemode\":\"area\",\"sizeref\":0.25,\"symbol\":\"circle\"},\"mode\":\"markers\",\"name\":\"Australia\",\"orientation\":\"v\",\"showlegend\":true,\"x\":[11399460.0],\"xaxis\":\"x\",\"y\":[19574.0],\"yaxis\":\"y\",\"type\":\"scatter\"},{\"customdata\":[[\"Austria\",5283.0]],\"hovertemplate\":\"location=%{customdata[0]}<br>Total Cases=%{x}<br>Total Deaths=%{y}<br>size=%{marker.size}<br>New Cases=%{customdata[1]}<extra></extra>\",\"legendgroup\":\"Austria\",\"marker\":{\"color\":\"#ab63fa\",\"size\":[2.9792753418863667],\"sizemode\":\"area\",\"sizeref\":0.25,\"symbol\":\"circle\"},\"mode\":\"markers\",\"name\":\"Austria\",\"orientation\":\"v\",\"showlegend\":true,\"x\":[5961143.0],\"xaxis\":\"x\",\"y\":[21970.0],\"yaxis\":\"y\",\"type\":\"scatter\"},{\"customdata\":[[\"Azerbaijan\",6.0]],\"hovertemplate\":\"location=%{customdata[0]}<br>Total Cases=%{x}<br>Total Deaths=%{y}<br>size=%{marker.size}<br>New Cases=%{customdata[1]}<extra></extra>\",\"legendgroup\":\"Azerbaijan\",\"marker\":{\"color\":\"#FFA15A\",\"size\":[0.0033836176512054136],\"sizemode\":\"area\",\"sizeref\":0.25,\"symbol\":\"circle\"},\"mode\":\"markers\",\"name\":\"Azerbaijan\",\"orientation\":\"v\",\"showlegend\":true,\"x\":[828825.0],\"xaxis\":\"x\",\"y\":[10138.0],\"yaxis\":\"y\",\"type\":\"scatter\"},{\"customdata\":[[\"Bahamas\",0.0]],\"hovertemplate\":\"location=%{customdata[0]}<br>Total Cases=%{x}<br>Total Deaths=%{y}<br>size=%{marker.size}<br>New Cases=%{customdata[1]}<extra></extra>\",\"legendgroup\":\"Bahamas\",\"marker\":{\"color\":\"#19d3f3\",\"size\":[0.0],\"sizemode\":\"area\",\"sizeref\":0.25,\"symbol\":\"circle\"},\"mode\":\"markers\",\"name\":\"Bahamas\",\"orientation\":\"v\",\"showlegend\":true,\"x\":[37491.0],\"xaxis\":\"x\",\"y\":[833.0],\"yaxis\":\"y\",\"type\":\"scatter\"},{\"customdata\":[[\"Bahrain\",387.0]],\"hovertemplate\":\"location=%{customdata[0]}<br>Total Cases=%{x}<br>Total Deaths=%{y}<br>size=%{marker.size}<br>New Cases=%{customdata[1]}<extra></extra>\",\"legendgroup\":\"Bahrain\",\"marker\":{\"color\":\"#FF6692\",\"size\":[0.21824333850274918],\"sizemode\":\"area\",\"sizeref\":0.25,\"symbol\":\"circle\"},\"mode\":\"markers\",\"name\":\"Bahrain\",\"orientation\":\"v\",\"showlegend\":true,\"x\":[710693.0],\"xaxis\":\"x\",\"y\":[1553.0],\"yaxis\":\"y\",\"type\":\"scatter\"},{\"customdata\":[[\"Bangladesh\",0.0]],\"hovertemplate\":\"location=%{customdata[0]}<br>Total Cases=%{x}<br>Total Deaths=%{y}<br>size=%{marker.size}<br>New Cases=%{customdata[1]}<extra></extra>\",\"legendgroup\":\"Bangladesh\",\"marker\":{\"color\":\"#B6E880\",\"size\":[0.0],\"sizemode\":\"area\",\"sizeref\":0.25,\"symbol\":\"circle\"},\"mode\":\"markers\",\"name\":\"Bangladesh\",\"orientation\":\"v\",\"showlegend\":true,\"x\":[2037871.0],\"xaxis\":\"x\",\"y\":[29445.0],\"yaxis\":\"y\",\"type\":\"scatter\"},{\"customdata\":[[\"Barbados\",153.0]],\"hovertemplate\":\"location=%{customdata[0]}<br>Total Cases=%{x}<br>Total Deaths=%{y}<br>size=%{marker.size}<br>New Cases=%{customdata[1]}<extra></extra>\",\"legendgroup\":\"Barbados\",\"marker\":{\"color\":\"#FF97FF\",\"size\":[0.08628225010573806],\"sizemode\":\"area\",\"sizeref\":0.25,\"symbol\":\"circle\"},\"mode\":\"markers\",\"name\":\"Barbados\",\"orientation\":\"v\",\"showlegend\":true,\"x\":[106798.0],\"xaxis\":\"x\",\"y\":[579.0],\"yaxis\":\"y\",\"type\":\"scatter\"},{\"customdata\":[[\"Belarus\",0.0]],\"hovertemplate\":\"location=%{customdata[0]}<br>Total Cases=%{x}<br>Total Deaths=%{y}<br>size=%{marker.size}<br>New Cases=%{customdata[1]}<extra></extra>\",\"legendgroup\":\"Belarus\",\"marker\":{\"color\":\"#FECB52\",\"size\":[0.0],\"sizemode\":\"area\",\"sizeref\":0.25,\"symbol\":\"circle\"},\"mode\":\"markers\",\"name\":\"Belarus\",\"orientation\":\"v\",\"showlegend\":true,\"x\":[994037.0],\"xaxis\":\"x\",\"y\":[7118.0],\"yaxis\":\"y\",\"type\":\"scatter\"},{\"customdata\":[[\"Belgium\",11570.0]],\"hovertemplate\":\"location=%{customdata[0]}<br>Total Cases=%{x}<br>Total Deaths=%{y}<br>size=%{marker.size}<br>New Cases=%{customdata[1]}<extra></extra>\",\"legendgroup\":\"Belgium\",\"marker\":{\"color\":\"#636efa\",\"size\":[6.5247427040744395],\"sizemode\":\"area\",\"sizeref\":0.25,\"symbol\":\"circle\"},\"mode\":\"markers\",\"name\":\"Belgium\",\"orientation\":\"v\",\"showlegend\":true,\"x\":[4739365.0],\"xaxis\":\"x\",\"y\":[33814.0],\"yaxis\":\"y\",\"type\":\"scatter\"},{\"customdata\":[[\"Belize\",0.0]],\"hovertemplate\":\"location=%{customdata[0]}<br>Total Cases=%{x}<br>Total Deaths=%{y}<br>size=%{marker.size}<br>New Cases=%{customdata[1]}<extra></extra>\",\"legendgroup\":\"Belize\",\"marker\":{\"color\":\"#EF553B\",\"size\":[0.0],\"sizemode\":\"area\",\"sizeref\":0.25,\"symbol\":\"circle\"},\"mode\":\"markers\",\"name\":\"Belize\",\"orientation\":\"v\",\"showlegend\":true,\"x\":[70757.0],\"xaxis\":\"x\",\"y\":[688.0],\"yaxis\":\"y\",\"type\":\"scatter\"},{\"customdata\":[[\"Benin\",0.0]],\"hovertemplate\":\"location=%{customdata[0]}<br>Total Cases=%{x}<br>Total Deaths=%{y}<br>size=%{marker.size}<br>New Cases=%{customdata[1]}<extra></extra>\",\"legendgroup\":\"Benin\",\"marker\":{\"color\":\"#00cc96\",\"size\":[0.0],\"sizemode\":\"area\",\"sizeref\":0.25,\"symbol\":\"circle\"},\"mode\":\"markers\",\"name\":\"Benin\",\"orientation\":\"v\",\"showlegend\":true,\"x\":[27999.0],\"xaxis\":\"x\",\"y\":[163.0],\"yaxis\":\"y\",\"type\":\"scatter\"},{\"customdata\":[[\"Bermuda\",0.0]],\"hovertemplate\":\"location=%{customdata[0]}<br>Total Cases=%{x}<br>Total Deaths=%{y}<br>size=%{marker.size}<br>New Cases=%{customdata[1]}<extra></extra>\",\"legendgroup\":\"Bermuda\",\"marker\":{\"color\":\"#ab63fa\",\"size\":[0.0],\"sizemode\":\"area\",\"sizeref\":0.25,\"symbol\":\"circle\"},\"mode\":\"markers\",\"name\":\"Bermuda\",\"orientation\":\"v\",\"showlegend\":true,\"x\":[18828.0],\"xaxis\":\"x\",\"y\":[160.0],\"yaxis\":\"y\",\"type\":\"scatter\"},{\"customdata\":[[\"Bhutan\",0.0]],\"hovertemplate\":\"location=%{customdata[0]}<br>Total Cases=%{x}<br>Total Deaths=%{y}<br>size=%{marker.size}<br>New Cases=%{customdata[1]}<extra></extra>\",\"legendgroup\":\"Bhutan\",\"marker\":{\"color\":\"#FFA15A\",\"size\":[0.0],\"sizemode\":\"area\",\"sizeref\":0.25,\"symbol\":\"circle\"},\"mode\":\"markers\",\"name\":\"Bhutan\",\"orientation\":\"v\",\"showlegend\":true,\"x\":[62627.0],\"xaxis\":\"x\",\"y\":[21.0],\"yaxis\":\"y\",\"type\":\"scatter\"},{\"customdata\":[[\"Bolivia\",90.0]],\"hovertemplate\":\"location=%{customdata[0]}<br>Total Cases=%{x}<br>Total Deaths=%{y}<br>size=%{marker.size}<br>New Cases=%{customdata[1]}<extra></extra>\",\"legendgroup\":\"Bolivia\",\"marker\":{\"color\":\"#19d3f3\",\"size\":[0.0507542647680812],\"sizemode\":\"area\",\"sizeref\":0.25,\"symbol\":\"circle\"},\"mode\":\"markers\",\"name\":\"Bolivia\",\"orientation\":\"v\",\"showlegend\":true,\"x\":[1194277.0],\"xaxis\":\"x\",\"y\":[22365.0],\"yaxis\":\"y\",\"type\":\"scatter\"},{\"customdata\":[[\"Bonaire Sint Eustatius and Saba\",0.0]],\"hovertemplate\":\"location=%{customdata[0]}<br>Total Cases=%{x}<br>Total Deaths=%{y}<br>size=%{marker.size}<br>New Cases=%{customdata[1]}<extra></extra>\",\"legendgroup\":\"Bonaire Sint Eustatius and Saba\",\"marker\":{\"color\":\"#FF6692\",\"size\":[0.0],\"sizemode\":\"area\",\"sizeref\":0.25,\"symbol\":\"circle\"},\"mode\":\"markers\",\"name\":\"Bonaire Sint Eustatius and Saba\",\"orientation\":\"v\",\"showlegend\":true,\"x\":[11804.0],\"xaxis\":\"x\",\"y\":[41.0],\"yaxis\":\"y\",\"type\":\"scatter\"},{\"customdata\":[[\"Bosnia and Herzegovina\",0.0]],\"hovertemplate\":\"location=%{customdata[0]}<br>Total Cases=%{x}<br>Total Deaths=%{y}<br>size=%{marker.size}<br>New Cases=%{customdata[1]}<extra></extra>\",\"legendgroup\":\"Bosnia and Herzegovina\",\"marker\":{\"color\":\"#B6E880\",\"size\":[0.0],\"sizemode\":\"area\",\"sizeref\":0.25,\"symbol\":\"circle\"},\"mode\":\"markers\",\"name\":\"Bosnia and Herzegovina\",\"orientation\":\"v\",\"showlegend\":true,\"x\":[401729.0],\"xaxis\":\"x\",\"y\":[16280.0],\"yaxis\":\"y\",\"type\":\"scatter\"},{\"customdata\":[[\"Botswana\",0.0]],\"hovertemplate\":\"location=%{customdata[0]}<br>Total Cases=%{x}<br>Total Deaths=%{y}<br>size=%{marker.size}<br>New Cases=%{customdata[1]}<extra></extra>\",\"legendgroup\":\"Botswana\",\"marker\":{\"color\":\"#FF97FF\",\"size\":[0.0],\"sizemode\":\"area\",\"sizeref\":0.25,\"symbol\":\"circle\"},\"mode\":\"markers\",\"name\":\"Botswana\",\"orientation\":\"v\",\"showlegend\":true,\"x\":[329758.0],\"xaxis\":\"x\",\"y\":[2801.0],\"yaxis\":\"y\",\"type\":\"scatter\"},{\"customdata\":[[\"Brazil\",0.0]],\"hovertemplate\":\"location=%{customdata[0]}<br>Total Cases=%{x}<br>Total Deaths=%{y}<br>size=%{marker.size}<br>New Cases=%{customdata[1]}<extra></extra>\",\"legendgroup\":\"Brazil\",\"marker\":{\"color\":\"#FECB52\",\"size\":[0.0],\"sizemode\":\"area\",\"sizeref\":0.25,\"symbol\":\"circle\"},\"mode\":\"markers\",\"name\":\"Brazil\",\"orientation\":\"v\",\"showlegend\":true,\"x\":[37076053.0],\"xaxis\":\"x\",\"y\":[699276.0],\"yaxis\":\"y\",\"type\":\"scatter\"},{\"customdata\":[[\"British Virgin Islands\",0.0]],\"hovertemplate\":\"location=%{customdata[0]}<br>Total Cases=%{x}<br>Total Deaths=%{y}<br>size=%{marker.size}<br>New Cases=%{customdata[1]}<extra></extra>\",\"legendgroup\":\"British Virgin Islands\",\"marker\":{\"color\":\"#636efa\",\"size\":[0.0],\"sizemode\":\"area\",\"sizeref\":0.25,\"symbol\":\"circle\"},\"mode\":\"markers\",\"name\":\"British Virgin Islands\",\"orientation\":\"v\",\"showlegend\":true,\"x\":[7305.0],\"xaxis\":\"x\",\"y\":[64.0],\"yaxis\":\"y\",\"type\":\"scatter\"},{\"customdata\":[[\"Brunei\",0.0]],\"hovertemplate\":\"location=%{customdata[0]}<br>Total Cases=%{x}<br>Total Deaths=%{y}<br>size=%{marker.size}<br>New Cases=%{customdata[1]}<extra></extra>\",\"legendgroup\":\"Brunei\",\"marker\":{\"color\":\"#EF553B\",\"size\":[0.0],\"sizemode\":\"area\",\"sizeref\":0.25,\"symbol\":\"circle\"},\"mode\":\"markers\",\"name\":\"Brunei\",\"orientation\":\"v\",\"showlegend\":true,\"x\":[279661.0],\"xaxis\":\"x\",\"y\":[225.0],\"yaxis\":\"y\",\"type\":\"scatter\"},{\"customdata\":[[\"Bulgaria\",72.0]],\"hovertemplate\":\"location=%{customdata[0]}<br>Total Cases=%{x}<br>Total Deaths=%{y}<br>size=%{marker.size}<br>New Cases=%{customdata[1]}<extra></extra>\",\"legendgroup\":\"Bulgaria\",\"marker\":{\"color\":\"#00cc96\",\"size\":[0.04060341181446497],\"sizemode\":\"area\",\"sizeref\":0.25,\"symbol\":\"circle\"},\"mode\":\"markers\",\"name\":\"Bulgaria\",\"orientation\":\"v\",\"showlegend\":true,\"x\":[1297523.0],\"xaxis\":\"x\",\"y\":[38228.0],\"yaxis\":\"y\",\"type\":\"scatter\"},{\"customdata\":[[\"Burkina Faso\",0.0]],\"hovertemplate\":\"location=%{customdata[0]}<br>Total Cases=%{x}<br>Total Deaths=%{y}<br>size=%{marker.size}<br>New Cases=%{customdata[1]}<extra></extra>\",\"legendgroup\":\"Burkina Faso\",\"marker\":{\"color\":\"#ab63fa\",\"size\":[0.0],\"sizemode\":\"area\",\"sizeref\":0.25,\"symbol\":\"circle\"},\"mode\":\"markers\",\"name\":\"Burkina Faso\",\"orientation\":\"v\",\"showlegend\":true,\"x\":[22056.0],\"xaxis\":\"x\",\"y\":[396.0],\"yaxis\":\"y\",\"type\":\"scatter\"},{\"customdata\":[[\"Burundi\",0.0]],\"hovertemplate\":\"location=%{customdata[0]}<br>Total Cases=%{x}<br>Total Deaths=%{y}<br>size=%{marker.size}<br>New Cases=%{customdata[1]}<extra></extra>\",\"legendgroup\":\"Burundi\",\"marker\":{\"color\":\"#FFA15A\",\"size\":[0.0],\"sizemode\":\"area\",\"sizeref\":0.25,\"symbol\":\"circle\"},\"mode\":\"markers\",\"name\":\"Burundi\",\"orientation\":\"v\",\"showlegend\":true,\"x\":[53631.0],\"xaxis\":\"x\",\"y\":[38.0],\"yaxis\":\"y\",\"type\":\"scatter\"},{\"customdata\":[[\"Cambodia\",0.0]],\"hovertemplate\":\"location=%{customdata[0]}<br>Total Cases=%{x}<br>Total Deaths=%{y}<br>size=%{marker.size}<br>New Cases=%{customdata[1]}<extra></extra>\",\"legendgroup\":\"Cambodia\",\"marker\":{\"color\":\"#19d3f3\",\"size\":[0.0],\"sizemode\":\"area\",\"sizeref\":0.25,\"symbol\":\"circle\"},\"mode\":\"markers\",\"name\":\"Cambodia\",\"orientation\":\"v\",\"showlegend\":true,\"x\":[138719.0],\"xaxis\":\"x\",\"y\":[3056.0],\"yaxis\":\"y\",\"type\":\"scatter\"},{\"customdata\":[[\"Cameroon\",0.0]],\"hovertemplate\":\"location=%{customdata[0]}<br>Total Cases=%{x}<br>Total Deaths=%{y}<br>size=%{marker.size}<br>New Cases=%{customdata[1]}<extra></extra>\",\"legendgroup\":\"Cameroon\",\"marker\":{\"color\":\"#FF6692\",\"size\":[0.0],\"sizemode\":\"area\",\"sizeref\":0.25,\"symbol\":\"circle\"},\"mode\":\"markers\",\"name\":\"Cameroon\",\"orientation\":\"v\",\"showlegend\":true,\"x\":[124392.0],\"xaxis\":\"x\",\"y\":[1965.0],\"yaxis\":\"y\",\"type\":\"scatter\"},{\"customdata\":[[\"Canada\",4041.0]],\"hovertemplate\":\"location=%{customdata[0]}<br>Total Cases=%{x}<br>Total Deaths=%{y}<br>size=%{marker.size}<br>New Cases=%{customdata[1]}<extra></extra>\",\"legendgroup\":\"Canada\",\"marker\":{\"color\":\"#B6E880\",\"size\":[2.2788664880868463],\"sizemode\":\"area\",\"sizeref\":0.25,\"symbol\":\"circle\"},\"mode\":\"markers\",\"name\":\"Canada\",\"orientation\":\"v\",\"showlegend\":true,\"x\":[4617095.0],\"xaxis\":\"x\",\"y\":[51720.0],\"yaxis\":\"y\",\"type\":\"scatter\"},{\"customdata\":[[\"Cape Verde\",0.0]],\"hovertemplate\":\"location=%{customdata[0]}<br>Total Cases=%{x}<br>Total Deaths=%{y}<br>size=%{marker.size}<br>New Cases=%{customdata[1]}<extra></extra>\",\"legendgroup\":\"Cape Verde\",\"marker\":{\"color\":\"#FF97FF\",\"size\":[0.0],\"sizemode\":\"area\",\"sizeref\":0.25,\"symbol\":\"circle\"},\"mode\":\"markers\",\"name\":\"Cape Verde\",\"orientation\":\"v\",\"showlegend\":true,\"x\":[63244.0],\"xaxis\":\"x\",\"y\":[413.0],\"yaxis\":\"y\",\"type\":\"scatter\"},{\"customdata\":[[\"Cayman Islands\",0.0]],\"hovertemplate\":\"location=%{customdata[0]}<br>Total Cases=%{x}<br>Total Deaths=%{y}<br>size=%{marker.size}<br>New Cases=%{customdata[1]}<extra></extra>\",\"legendgroup\":\"Cayman Islands\",\"marker\":{\"color\":\"#FECB52\",\"size\":[0.0],\"sizemode\":\"area\",\"sizeref\":0.25,\"symbol\":\"circle\"},\"mode\":\"markers\",\"name\":\"Cayman Islands\",\"orientation\":\"v\",\"showlegend\":true,\"x\":[31472.0],\"xaxis\":\"x\",\"y\":[37.0],\"yaxis\":\"y\",\"type\":\"scatter\"},{\"customdata\":[[\"Central African Republic\",0.0]],\"hovertemplate\":\"location=%{customdata[0]}<br>Total Cases=%{x}<br>Total Deaths=%{y}<br>size=%{marker.size}<br>New Cases=%{customdata[1]}<extra></extra>\",\"legendgroup\":\"Central African Republic\",\"marker\":{\"color\":\"#636efa\",\"size\":[0.0],\"sizemode\":\"area\",\"sizeref\":0.25,\"symbol\":\"circle\"},\"mode\":\"markers\",\"name\":\"Central African Republic\",\"orientation\":\"v\",\"showlegend\":true,\"x\":[15368.0],\"xaxis\":\"x\",\"y\":[113.0],\"yaxis\":\"y\",\"type\":\"scatter\"},{\"customdata\":[[\"Chad\",0.0]],\"hovertemplate\":\"location=%{customdata[0]}<br>Total Cases=%{x}<br>Total Deaths=%{y}<br>size=%{marker.size}<br>New Cases=%{customdata[1]}<extra></extra>\",\"legendgroup\":\"Chad\",\"marker\":{\"color\":\"#EF553B\",\"size\":[0.0],\"sizemode\":\"area\",\"sizeref\":0.25,\"symbol\":\"circle\"},\"mode\":\"markers\",\"name\":\"Chad\",\"orientation\":\"v\",\"showlegend\":true,\"x\":[7679.0],\"xaxis\":\"x\",\"y\":[194.0],\"yaxis\":\"y\",\"type\":\"scatter\"},{\"customdata\":[[\"Chile\",3906.0]],\"hovertemplate\":\"location=%{customdata[0]}<br>Total Cases=%{x}<br>Total Deaths=%{y}<br>size=%{marker.size}<br>New Cases=%{customdata[1]}<extra></extra>\",\"legendgroup\":\"Chile\",\"marker\":{\"color\":\"#00cc96\",\"size\":[2.2027350909347243],\"sizemode\":\"area\",\"sizeref\":0.25,\"symbol\":\"circle\"},\"mode\":\"markers\",\"name\":\"Chile\",\"orientation\":\"v\",\"showlegend\":true,\"x\":[5192286.0],\"xaxis\":\"x\",\"y\":[64273.0],\"yaxis\":\"y\",\"type\":\"scatter\"},{\"customdata\":[[\"China\",0.0]],\"hovertemplate\":\"location=%{customdata[0]}<br>Total Cases=%{x}<br>Total Deaths=%{y}<br>size=%{marker.size}<br>New Cases=%{customdata[1]}<extra></extra>\",\"legendgroup\":\"China\",\"marker\":{\"color\":\"#ab63fa\",\"size\":[0.0],\"sizemode\":\"area\",\"sizeref\":0.25,\"symbol\":\"circle\"},\"mode\":\"markers\",\"name\":\"China\",\"orientation\":\"v\",\"showlegend\":true,\"x\":[2023904.0],\"xaxis\":\"x\",\"y\":[87468.0],\"yaxis\":\"y\",\"type\":\"scatter\"},{\"customdata\":[[\"Colombia\",0.0]],\"hovertemplate\":\"location=%{customdata[0]}<br>Total Cases=%{x}<br>Total Deaths=%{y}<br>size=%{marker.size}<br>New Cases=%{customdata[1]}<extra></extra>\",\"legendgroup\":\"Colombia\",\"marker\":{\"color\":\"#FFA15A\",\"size\":[0.0],\"sizemode\":\"area\",\"sizeref\":0.25,\"symbol\":\"circle\"},\"mode\":\"markers\",\"name\":\"Colombia\",\"orientation\":\"v\",\"showlegend\":true,\"x\":[6359093.0],\"xaxis\":\"x\",\"y\":[142339.0],\"yaxis\":\"y\",\"type\":\"scatter\"},{\"customdata\":[[\"Comoros\",0.0]],\"hovertemplate\":\"location=%{customdata[0]}<br>Total Cases=%{x}<br>Total Deaths=%{y}<br>size=%{marker.size}<br>New Cases=%{customdata[1]}<extra></extra>\",\"legendgroup\":\"Comoros\",\"marker\":{\"color\":\"#19d3f3\",\"size\":[0.0],\"sizemode\":\"area\",\"sizeref\":0.25,\"symbol\":\"circle\"},\"mode\":\"markers\",\"name\":\"Comoros\",\"orientation\":\"v\",\"showlegend\":true,\"x\":[9008.0],\"xaxis\":\"x\",\"y\":[161.0],\"yaxis\":\"y\",\"type\":\"scatter\"},{\"customdata\":[[\"Congo\",0.0]],\"hovertemplate\":\"location=%{customdata[0]}<br>Total Cases=%{x}<br>Total Deaths=%{y}<br>size=%{marker.size}<br>New Cases=%{customdata[1]}<extra></extra>\",\"legendgroup\":\"Congo\",\"marker\":{\"color\":\"#FF6692\",\"size\":[0.0],\"sizemode\":\"area\",\"sizeref\":0.25,\"symbol\":\"circle\"},\"mode\":\"markers\",\"name\":\"Congo\",\"orientation\":\"v\",\"showlegend\":true,\"x\":[25087.0],\"xaxis\":\"x\",\"y\":[388.0],\"yaxis\":\"y\",\"type\":\"scatter\"},{\"customdata\":[[\"Cook Islands\",0.0]],\"hovertemplate\":\"location=%{customdata[0]}<br>Total Cases=%{x}<br>Total Deaths=%{y}<br>size=%{marker.size}<br>New Cases=%{customdata[1]}<extra></extra>\",\"legendgroup\":\"Cook Islands\",\"marker\":{\"color\":\"#B6E880\",\"size\":[0.0],\"sizemode\":\"area\",\"sizeref\":0.25,\"symbol\":\"circle\"},\"mode\":\"markers\",\"name\":\"Cook Islands\",\"orientation\":\"v\",\"showlegend\":true,\"x\":[7031.0],\"xaxis\":\"x\",\"y\":[2.0],\"yaxis\":\"y\",\"type\":\"scatter\"},{\"customdata\":[[\"Costa Rica\",0.0]],\"hovertemplate\":\"location=%{customdata[0]}<br>Total Cases=%{x}<br>Total Deaths=%{y}<br>size=%{marker.size}<br>New Cases=%{customdata[1]}<extra></extra>\",\"legendgroup\":\"Costa Rica\",\"marker\":{\"color\":\"#FF97FF\",\"size\":[0.0],\"sizemode\":\"area\",\"sizeref\":0.25,\"symbol\":\"circle\"},\"mode\":\"markers\",\"name\":\"Costa Rica\",\"orientation\":\"v\",\"showlegend\":true,\"x\":[1209725.0],\"xaxis\":\"x\",\"y\":[9245.0],\"yaxis\":\"y\",\"type\":\"scatter\"},{\"customdata\":[[\"Cote d'Ivoire\",8.0]],\"hovertemplate\":\"location=%{customdata[0]}<br>Total Cases=%{x}<br>Total Deaths=%{y}<br>size=%{marker.size}<br>New Cases=%{customdata[1]}<extra></extra>\",\"legendgroup\":\"Cote d'Ivoire\",\"marker\":{\"color\":\"#FECB52\",\"size\":[0.004511490201607218],\"sizemode\":\"area\",\"sizeref\":0.25,\"symbol\":\"circle\"},\"mode\":\"markers\",\"name\":\"Cote d'Ivoire\",\"orientation\":\"v\",\"showlegend\":true,\"x\":[88263.0],\"xaxis\":\"x\",\"y\":[834.0],\"yaxis\":\"y\",\"type\":\"scatter\"},{\"customdata\":[[\"Croatia\",0.0]],\"hovertemplate\":\"location=%{customdata[0]}<br>Total Cases=%{x}<br>Total Deaths=%{y}<br>size=%{marker.size}<br>New Cases=%{customdata[1]}<extra></extra>\",\"legendgroup\":\"Croatia\",\"marker\":{\"color\":\"#636efa\",\"size\":[0.0],\"sizemode\":\"area\",\"sizeref\":0.25,\"symbol\":\"circle\"},\"mode\":\"markers\",\"name\":\"Croatia\",\"orientation\":\"v\",\"showlegend\":true,\"x\":[1269326.0],\"xaxis\":\"x\",\"y\":[17987.0],\"yaxis\":\"y\",\"type\":\"scatter\"},{\"customdata\":[[\"Cuba\",6.0]],\"hovertemplate\":\"location=%{customdata[0]}<br>Total Cases=%{x}<br>Total Deaths=%{y}<br>size=%{marker.size}<br>New Cases=%{customdata[1]}<extra></extra>\",\"legendgroup\":\"Cuba\",\"marker\":{\"color\":\"#EF553B\",\"size\":[0.0033836176512054136],\"sizemode\":\"area\",\"sizeref\":0.25,\"symbol\":\"circle\"},\"mode\":\"markers\",\"name\":\"Cuba\",\"orientation\":\"v\",\"showlegend\":true,\"x\":[1112643.0],\"xaxis\":\"x\",\"y\":[8530.0],\"yaxis\":\"y\",\"type\":\"scatter\"},{\"customdata\":[[\"Curacao\",0.0]],\"hovertemplate\":\"location=%{customdata[0]}<br>Total Cases=%{x}<br>Total Deaths=%{y}<br>size=%{marker.size}<br>New Cases=%{customdata[1]}<extra></extra>\",\"legendgroup\":\"Curacao\",\"marker\":{\"color\":\"#00cc96\",\"size\":[0.0],\"sizemode\":\"area\",\"sizeref\":0.25,\"symbol\":\"circle\"},\"mode\":\"markers\",\"name\":\"Curacao\",\"orientation\":\"v\",\"showlegend\":true,\"x\":[45986.0],\"xaxis\":\"x\",\"y\":[301.0],\"yaxis\":\"y\",\"type\":\"scatter\"},{\"customdata\":[[\"Cyprus\",0.0]],\"hovertemplate\":\"location=%{customdata[0]}<br>Total Cases=%{x}<br>Total Deaths=%{y}<br>size=%{marker.size}<br>New Cases=%{customdata[1]}<extra></extra>\",\"legendgroup\":\"Cyprus\",\"marker\":{\"color\":\"#ab63fa\",\"size\":[0.0],\"sizemode\":\"area\",\"sizeref\":0.25,\"symbol\":\"circle\"},\"mode\":\"markers\",\"name\":\"Cyprus\",\"orientation\":\"v\",\"showlegend\":true,\"x\":[650685.0],\"xaxis\":\"x\",\"y\":[1330.0],\"yaxis\":\"y\",\"type\":\"scatter\"},{\"customdata\":[[\"Czechia\",1142.0]],\"hovertemplate\":\"location=%{customdata[0]}<br>Total Cases=%{x}<br>Total Deaths=%{y}<br>size=%{marker.size}<br>New Cases=%{customdata[1]}<extra></extra>\",\"legendgroup\":\"Czechia\",\"marker\":{\"color\":\"#FFA15A\",\"size\":[0.6440152262794304],\"sizemode\":\"area\",\"sizeref\":0.25,\"symbol\":\"circle\"},\"mode\":\"markers\",\"name\":\"Czechia\",\"orientation\":\"v\",\"showlegend\":true,\"x\":[4618256.0],\"xaxis\":\"x\",\"y\":[42491.0],\"yaxis\":\"y\",\"type\":\"scatter\"},{\"customdata\":[[\"Democratic Republic of Congo\",0.0]],\"hovertemplate\":\"location=%{customdata[0]}<br>Total Cases=%{x}<br>Total Deaths=%{y}<br>size=%{marker.size}<br>New Cases=%{customdata[1]}<extra></extra>\",\"legendgroup\":\"Democratic Republic of Congo\",\"marker\":{\"color\":\"#19d3f3\",\"size\":[0.0],\"sizemode\":\"area\",\"sizeref\":0.25,\"symbol\":\"circle\"},\"mode\":\"markers\",\"name\":\"Democratic Republic of Congo\",\"orientation\":\"v\",\"showlegend\":true,\"x\":[95749.0],\"xaxis\":\"x\",\"y\":[1464.0],\"yaxis\":\"y\",\"type\":\"scatter\"},{\"customdata\":[[\"Denmark\",139.0]],\"hovertemplate\":\"location=%{customdata[0]}<br>Total Cases=%{x}<br>Total Deaths=%{y}<br>size=%{marker.size}<br>New Cases=%{customdata[1]}<extra></extra>\",\"legendgroup\":\"Denmark\",\"marker\":{\"color\":\"#FF6692\",\"size\":[0.07838714225292542],\"sizemode\":\"area\",\"sizeref\":0.25,\"symbol\":\"circle\"},\"mode\":\"markers\",\"name\":\"Denmark\",\"orientation\":\"v\",\"showlegend\":true,\"x\":[3404407.0],\"xaxis\":\"x\",\"y\":[8296.0],\"yaxis\":\"y\",\"type\":\"scatter\"},{\"customdata\":[[\"Djibouti\",0.0]],\"hovertemplate\":\"location=%{customdata[0]}<br>Total Cases=%{x}<br>Total Deaths=%{y}<br>size=%{marker.size}<br>New Cases=%{customdata[1]}<extra></extra>\",\"legendgroup\":\"Djibouti\",\"marker\":{\"color\":\"#B6E880\",\"size\":[0.0],\"sizemode\":\"area\",\"sizeref\":0.25,\"symbol\":\"circle\"},\"mode\":\"markers\",\"name\":\"Djibouti\",\"orientation\":\"v\",\"showlegend\":true,\"x\":[15690.0],\"xaxis\":\"x\",\"y\":[189.0],\"yaxis\":\"y\",\"type\":\"scatter\"},{\"customdata\":[[\"Dominica\",0.0]],\"hovertemplate\":\"location=%{customdata[0]}<br>Total Cases=%{x}<br>Total Deaths=%{y}<br>size=%{marker.size}<br>New Cases=%{customdata[1]}<extra></extra>\",\"legendgroup\":\"Dominica\",\"marker\":{\"color\":\"#FF97FF\",\"size\":[0.0],\"sizemode\":\"area\",\"sizeref\":0.25,\"symbol\":\"circle\"},\"mode\":\"markers\",\"name\":\"Dominica\",\"orientation\":\"v\",\"showlegend\":true,\"x\":[15760.0],\"xaxis\":\"x\",\"y\":[74.0],\"yaxis\":\"y\",\"type\":\"scatter\"},{\"customdata\":[[\"Dominican Republic\",0.0]],\"hovertemplate\":\"location=%{customdata[0]}<br>Total Cases=%{x}<br>Total Deaths=%{y}<br>size=%{marker.size}<br>New Cases=%{customdata[1]}<extra></extra>\",\"legendgroup\":\"Dominican Republic\",\"marker\":{\"color\":\"#FECB52\",\"size\":[0.0],\"sizemode\":\"area\",\"sizeref\":0.25,\"symbol\":\"circle\"},\"mode\":\"markers\",\"name\":\"Dominican Republic\",\"orientation\":\"v\",\"showlegend\":true,\"x\":[660790.0],\"xaxis\":\"x\",\"y\":[4384.0],\"yaxis\":\"y\",\"type\":\"scatter\"},{\"customdata\":[[\"Ecuador\",0.0]],\"hovertemplate\":\"location=%{customdata[0]}<br>Total Cases=%{x}<br>Total Deaths=%{y}<br>size=%{marker.size}<br>New Cases=%{customdata[1]}<extra></extra>\",\"legendgroup\":\"Ecuador\",\"marker\":{\"color\":\"#636efa\",\"size\":[0.0],\"sizemode\":\"area\",\"sizeref\":0.25,\"symbol\":\"circle\"},\"mode\":\"markers\",\"name\":\"Ecuador\",\"orientation\":\"v\",\"showlegend\":true,\"x\":[1057121.0],\"xaxis\":\"x\",\"y\":[36014.0],\"yaxis\":\"y\",\"type\":\"scatter\"},{\"customdata\":[[\"Egypt\",0.0]],\"hovertemplate\":\"location=%{customdata[0]}<br>Total Cases=%{x}<br>Total Deaths=%{y}<br>size=%{marker.size}<br>New Cases=%{customdata[1]}<extra></extra>\",\"legendgroup\":\"Egypt\",\"marker\":{\"color\":\"#EF553B\",\"size\":[0.0],\"sizemode\":\"area\",\"sizeref\":0.25,\"symbol\":\"circle\"},\"mode\":\"markers\",\"name\":\"Egypt\",\"orientation\":\"v\",\"showlegend\":true,\"x\":[515759.0],\"xaxis\":\"x\",\"y\":[24812.0],\"yaxis\":\"y\",\"type\":\"scatter\"},{\"customdata\":[[\"El Salvador\",0.0]],\"hovertemplate\":\"location=%{customdata[0]}<br>Total Cases=%{x}<br>Total Deaths=%{y}<br>size=%{marker.size}<br>New Cases=%{customdata[1]}<extra></extra>\",\"legendgroup\":\"El Salvador\",\"marker\":{\"color\":\"#00cc96\",\"size\":[0.0],\"sizemode\":\"area\",\"sizeref\":0.25,\"symbol\":\"circle\"},\"mode\":\"markers\",\"name\":\"El Salvador\",\"orientation\":\"v\",\"showlegend\":true,\"x\":[201785.0],\"xaxis\":\"x\",\"y\":[4230.0],\"yaxis\":\"y\",\"type\":\"scatter\"},{\"customdata\":[[\"Equatorial Guinea\",0.0]],\"hovertemplate\":\"location=%{customdata[0]}<br>Total Cases=%{x}<br>Total Deaths=%{y}<br>size=%{marker.size}<br>New Cases=%{customdata[1]}<extra></extra>\",\"legendgroup\":\"Equatorial Guinea\",\"marker\":{\"color\":\"#ab63fa\",\"size\":[0.0],\"sizemode\":\"area\",\"sizeref\":0.25,\"symbol\":\"circle\"},\"mode\":\"markers\",\"name\":\"Equatorial Guinea\",\"orientation\":\"v\",\"showlegend\":true,\"x\":[17229.0],\"xaxis\":\"x\",\"y\":[183.0],\"yaxis\":\"y\",\"type\":\"scatter\"},{\"customdata\":[[\"Eritrea\",0.0]],\"hovertemplate\":\"location=%{customdata[0]}<br>Total Cases=%{x}<br>Total Deaths=%{y}<br>size=%{marker.size}<br>New Cases=%{customdata[1]}<extra></extra>\",\"legendgroup\":\"Eritrea\",\"marker\":{\"color\":\"#FFA15A\",\"size\":[0.0],\"sizemode\":\"area\",\"sizeref\":0.25,\"symbol\":\"circle\"},\"mode\":\"markers\",\"name\":\"Eritrea\",\"orientation\":\"v\",\"showlegend\":true,\"x\":[10189.0],\"xaxis\":\"x\",\"y\":[103.0],\"yaxis\":\"y\",\"type\":\"scatter\"},{\"customdata\":[[\"Estonia\",0.0]],\"hovertemplate\":\"location=%{customdata[0]}<br>Total Cases=%{x}<br>Total Deaths=%{y}<br>size=%{marker.size}<br>New Cases=%{customdata[1]}<extra></extra>\",\"legendgroup\":\"Estonia\",\"marker\":{\"color\":\"#19d3f3\",\"size\":[0.0],\"sizemode\":\"area\",\"sizeref\":0.25,\"symbol\":\"circle\"},\"mode\":\"markers\",\"name\":\"Estonia\",\"orientation\":\"v\",\"showlegend\":true,\"x\":[615433.0],\"xaxis\":\"x\",\"y\":[2946.0],\"yaxis\":\"y\",\"type\":\"scatter\"},{\"customdata\":[[\"Eswatini\",0.0]],\"hovertemplate\":\"location=%{customdata[0]}<br>Total Cases=%{x}<br>Total Deaths=%{y}<br>size=%{marker.size}<br>New Cases=%{customdata[1]}<extra></extra>\",\"legendgroup\":\"Eswatini\",\"marker\":{\"color\":\"#FF6692\",\"size\":[0.0],\"sizemode\":\"area\",\"sizeref\":0.25,\"symbol\":\"circle\"},\"mode\":\"markers\",\"name\":\"Eswatini\",\"orientation\":\"v\",\"showlegend\":true,\"x\":[74267.0],\"xaxis\":\"x\",\"y\":[1425.0],\"yaxis\":\"y\",\"type\":\"scatter\"},{\"customdata\":[[\"Ethiopia\",14.0]],\"hovertemplate\":\"location=%{customdata[0]}<br>Total Cases=%{x}<br>Total Deaths=%{y}<br>size=%{marker.size}<br>New Cases=%{customdata[1]}<extra></extra>\",\"legendgroup\":\"Ethiopia\",\"marker\":{\"color\":\"#B6E880\",\"size\":[0.007895107852812633],\"sizemode\":\"area\",\"sizeref\":0.25,\"symbol\":\"circle\"},\"mode\":\"markers\",\"name\":\"Ethiopia\",\"orientation\":\"v\",\"showlegend\":true,\"x\":[500116.0],\"xaxis\":\"x\",\"y\":[7572.0],\"yaxis\":\"y\",\"type\":\"scatter\"},{\"customdata\":[[\"Europe\",80366.0]],\"hovertemplate\":\"location=%{customdata[0]}<br>Total Cases=%{x}<br>Total Deaths=%{y}<br>size=%{marker.size}<br>New Cases=%{customdata[1]}<extra></extra>\",\"legendgroup\":\"Europe\",\"marker\":{\"color\":\"#FF97FF\",\"size\":[45.32130269279571],\"sizemode\":\"area\",\"sizeref\":0.25,\"symbol\":\"circle\"},\"mode\":\"markers\",\"name\":\"Europe\",\"orientation\":\"v\",\"showlegend\":true,\"x\":[248452416.0],\"xaxis\":\"x\",\"y\":[2036768.0],\"yaxis\":\"y\",\"type\":\"scatter\"},{\"customdata\":[[\"European Union\",38074.0]],\"hovertemplate\":\"location=%{customdata[0]}<br>Total Cases=%{x}<br>Total Deaths=%{y}<br>size=%{marker.size}<br>New Cases=%{customdata[1]}<extra></extra>\",\"legendgroup\":\"European Union\",\"marker\":{\"color\":\"#FECB52\",\"size\":[21.471309741999153],\"sizemode\":\"area\",\"sizeref\":0.25,\"symbol\":\"circle\"},\"mode\":\"markers\",\"name\":\"European Union\",\"orientation\":\"v\",\"showlegend\":true,\"x\":[184184098.0],\"xaxis\":\"x\",\"y\":[1216114.0],\"yaxis\":\"y\",\"type\":\"scatter\"},{\"customdata\":[[\"Faeroe Islands\",0.0]],\"hovertemplate\":\"location=%{customdata[0]}<br>Total Cases=%{x}<br>Total Deaths=%{y}<br>size=%{marker.size}<br>New Cases=%{customdata[1]}<extra></extra>\",\"legendgroup\":\"Faeroe Islands\",\"marker\":{\"color\":\"#636efa\",\"size\":[0.0],\"sizemode\":\"area\",\"sizeref\":0.25,\"symbol\":\"circle\"},\"mode\":\"markers\",\"name\":\"Faeroe Islands\",\"orientation\":\"v\",\"showlegend\":true,\"x\":[34658.0],\"xaxis\":\"x\",\"y\":[28.0],\"yaxis\":\"y\",\"type\":\"scatter\"},{\"customdata\":[[\"Falkland Islands\",0.0]],\"hovertemplate\":\"location=%{customdata[0]}<br>Total Cases=%{x}<br>Total Deaths=%{y}<br>size=%{marker.size}<br>New Cases=%{customdata[1]}<extra></extra>\",\"legendgroup\":\"Falkland Islands\",\"marker\":{\"color\":\"#EF553B\",\"size\":[0.0],\"sizemode\":\"area\",\"sizeref\":0.25,\"symbol\":\"circle\"},\"mode\":\"markers\",\"name\":\"Falkland Islands\",\"orientation\":\"v\",\"showlegend\":true,\"x\":[1930.0],\"xaxis\":\"x\",\"y\":[null],\"yaxis\":\"y\",\"type\":\"scatter\"},{\"customdata\":[[\"Fiji\",1.0]],\"hovertemplate\":\"location=%{customdata[0]}<br>Total Cases=%{x}<br>Total Deaths=%{y}<br>size=%{marker.size}<br>New Cases=%{customdata[1]}<extra></extra>\",\"legendgroup\":\"Fiji\",\"marker\":{\"color\":\"#00cc96\",\"size\":[0.0005639362752009022],\"sizemode\":\"area\",\"sizeref\":0.25,\"symbol\":\"circle\"},\"mode\":\"markers\",\"name\":\"Fiji\",\"orientation\":\"v\",\"showlegend\":true,\"x\":[68898.0],\"xaxis\":\"x\",\"y\":[883.0],\"yaxis\":\"y\",\"type\":\"scatter\"},{\"customdata\":[[\"Finland\",668.0]],\"hovertemplate\":\"location=%{customdata[0]}<br>Total Cases=%{x}<br>Total Deaths=%{y}<br>size=%{marker.size}<br>New Cases=%{customdata[1]}<extra></extra>\",\"legendgroup\":\"Finland\",\"marker\":{\"color\":\"#ab63fa\",\"size\":[0.37670943183420275],\"sizemode\":\"area\",\"sizeref\":0.25,\"symbol\":\"circle\"},\"mode\":\"markers\",\"name\":\"Finland\",\"orientation\":\"v\",\"showlegend\":true,\"x\":[1463644.0],\"xaxis\":\"x\",\"y\":[8967.0],\"yaxis\":\"y\",\"type\":\"scatter\"},{\"customdata\":[[\"France\",6308.0]],\"hovertemplate\":\"location=%{customdata[0]}<br>Total Cases=%{x}<br>Total Deaths=%{y}<br>size=%{marker.size}<br>New Cases=%{customdata[1]}<extra></extra>\",\"legendgroup\":\"France\",\"marker\":{\"color\":\"#FFA15A\",\"size\":[3.5573100239672915],\"sizemode\":\"area\",\"sizeref\":0.25,\"symbol\":\"circle\"},\"mode\":\"markers\",\"name\":\"France\",\"orientation\":\"v\",\"showlegend\":true,\"x\":[39701767.0],\"xaxis\":\"x\",\"y\":[165204.0],\"yaxis\":\"y\",\"type\":\"scatter\"},{\"customdata\":[[\"French Polynesia\",0.0]],\"hovertemplate\":\"location=%{customdata[0]}<br>Total Cases=%{x}<br>Total Deaths=%{y}<br>size=%{marker.size}<br>New Cases=%{customdata[1]}<extra></extra>\",\"legendgroup\":\"French Polynesia\",\"marker\":{\"color\":\"#19d3f3\",\"size\":[0.0],\"sizemode\":\"area\",\"sizeref\":0.25,\"symbol\":\"circle\"},\"mode\":\"markers\",\"name\":\"French Polynesia\",\"orientation\":\"v\",\"showlegend\":true,\"x\":[78055.0],\"xaxis\":\"x\",\"y\":[649.0],\"yaxis\":\"y\",\"type\":\"scatter\"},{\"customdata\":[[\"Gabon\",0.0]],\"hovertemplate\":\"location=%{customdata[0]}<br>Total Cases=%{x}<br>Total Deaths=%{y}<br>size=%{marker.size}<br>New Cases=%{customdata[1]}<extra></extra>\",\"legendgroup\":\"Gabon\",\"marker\":{\"color\":\"#FF6692\",\"size\":[0.0],\"sizemode\":\"area\",\"sizeref\":0.25,\"symbol\":\"circle\"},\"mode\":\"markers\",\"name\":\"Gabon\",\"orientation\":\"v\",\"showlegend\":true,\"x\":[48981.0],\"xaxis\":\"x\",\"y\":[306.0],\"yaxis\":\"y\",\"type\":\"scatter\"},{\"customdata\":[[\"Gambia\",0.0]],\"hovertemplate\":\"location=%{customdata[0]}<br>Total Cases=%{x}<br>Total Deaths=%{y}<br>size=%{marker.size}<br>New Cases=%{customdata[1]}<extra></extra>\",\"legendgroup\":\"Gambia\",\"marker\":{\"color\":\"#B6E880\",\"size\":[0.0],\"sizemode\":\"area\",\"sizeref\":0.25,\"symbol\":\"circle\"},\"mode\":\"markers\",\"name\":\"Gambia\",\"orientation\":\"v\",\"showlegend\":true,\"x\":[12598.0],\"xaxis\":\"x\",\"y\":[372.0],\"yaxis\":\"y\",\"type\":\"scatter\"},{\"customdata\":[[\"Georgia\",0.0]],\"hovertemplate\":\"location=%{customdata[0]}<br>Total Cases=%{x}<br>Total Deaths=%{y}<br>size=%{marker.size}<br>New Cases=%{customdata[1]}<extra></extra>\",\"legendgroup\":\"Georgia\",\"marker\":{\"color\":\"#FF97FF\",\"size\":[0.0],\"sizemode\":\"area\",\"sizeref\":0.25,\"symbol\":\"circle\"},\"mode\":\"markers\",\"name\":\"Georgia\",\"orientation\":\"v\",\"showlegend\":true,\"x\":[1827537.0],\"xaxis\":\"x\",\"y\":[16971.0],\"yaxis\":\"y\",\"type\":\"scatter\"},{\"customdata\":[[\"Germany\",7829.0]],\"hovertemplate\":\"location=%{customdata[0]}<br>Total Cases=%{x}<br>Total Deaths=%{y}<br>size=%{marker.size}<br>New Cases=%{customdata[1]}<extra></extra>\",\"legendgroup\":\"Germany\",\"marker\":{\"color\":\"#FECB52\",\"size\":[4.415057098547864],\"sizemode\":\"area\",\"sizeref\":0.25,\"symbol\":\"circle\"},\"mode\":\"markers\",\"name\":\"Germany\",\"orientation\":\"v\",\"showlegend\":true,\"x\":[38249060.0],\"xaxis\":\"x\",\"y\":[168935.0],\"yaxis\":\"y\",\"type\":\"scatter\"},{\"customdata\":[[\"Ghana\",0.0]],\"hovertemplate\":\"location=%{customdata[0]}<br>Total Cases=%{x}<br>Total Deaths=%{y}<br>size=%{marker.size}<br>New Cases=%{customdata[1]}<extra></extra>\",\"legendgroup\":\"Ghana\",\"marker\":{\"color\":\"#636efa\",\"size\":[0.0],\"sizemode\":\"area\",\"sizeref\":0.25,\"symbol\":\"circle\"},\"mode\":\"markers\",\"name\":\"Ghana\",\"orientation\":\"v\",\"showlegend\":true,\"x\":[171229.0],\"xaxis\":\"x\",\"y\":[1462.0],\"yaxis\":\"y\",\"type\":\"scatter\"},{\"customdata\":[[\"Gibraltar\",0.0]],\"hovertemplate\":\"location=%{customdata[0]}<br>Total Cases=%{x}<br>Total Deaths=%{y}<br>size=%{marker.size}<br>New Cases=%{customdata[1]}<extra></extra>\",\"legendgroup\":\"Gibraltar\",\"marker\":{\"color\":\"#EF553B\",\"size\":[0.0],\"sizemode\":\"area\",\"sizeref\":0.25,\"symbol\":\"circle\"},\"mode\":\"markers\",\"name\":\"Gibraltar\",\"orientation\":\"v\",\"showlegend\":true,\"x\":[20433.0],\"xaxis\":\"x\",\"y\":[111.0],\"yaxis\":\"y\",\"type\":\"scatter\"},{\"customdata\":[[\"Greece\",0.0]],\"hovertemplate\":\"location=%{customdata[0]}<br>Total Cases=%{x}<br>Total Deaths=%{y}<br>size=%{marker.size}<br>New Cases=%{customdata[1]}<extra></extra>\",\"legendgroup\":\"Greece\",\"marker\":{\"color\":\"#00cc96\",\"size\":[0.0],\"sizemode\":\"area\",\"sizeref\":0.25,\"symbol\":\"circle\"},\"mode\":\"markers\",\"name\":\"Greece\",\"orientation\":\"v\",\"showlegend\":true,\"x\":[5548487.0],\"xaxis\":\"x\",\"y\":[34779.0],\"yaxis\":\"y\",\"type\":\"scatter\"},{\"customdata\":[[\"Greenland\",0.0]],\"hovertemplate\":\"location=%{customdata[0]}<br>Total Cases=%{x}<br>Total Deaths=%{y}<br>size=%{marker.size}<br>New Cases=%{customdata[1]}<extra></extra>\",\"legendgroup\":\"Greenland\",\"marker\":{\"color\":\"#ab63fa\",\"size\":[0.0],\"sizemode\":\"area\",\"sizeref\":0.25,\"symbol\":\"circle\"},\"mode\":\"markers\",\"name\":\"Greenland\",\"orientation\":\"v\",\"showlegend\":true,\"x\":[11971.0],\"xaxis\":\"x\",\"y\":[21.0],\"yaxis\":\"y\",\"type\":\"scatter\"},{\"customdata\":[[\"Grenada\",0.0]],\"hovertemplate\":\"location=%{customdata[0]}<br>Total Cases=%{x}<br>Total Deaths=%{y}<br>size=%{marker.size}<br>New Cases=%{customdata[1]}<extra></extra>\",\"legendgroup\":\"Grenada\",\"marker\":{\"color\":\"#FFA15A\",\"size\":[0.0],\"sizemode\":\"area\",\"sizeref\":0.25,\"symbol\":\"circle\"},\"mode\":\"markers\",\"name\":\"Grenada\",\"orientation\":\"v\",\"showlegend\":true,\"x\":[19680.0],\"xaxis\":\"x\",\"y\":[238.0],\"yaxis\":\"y\",\"type\":\"scatter\"},{\"customdata\":[[\"Guatemala\",198.0]],\"hovertemplate\":\"location=%{customdata[0]}<br>Total Cases=%{x}<br>Total Deaths=%{y}<br>size=%{marker.size}<br>New Cases=%{customdata[1]}<extra></extra>\",\"legendgroup\":\"Guatemala\",\"marker\":{\"color\":\"#19d3f3\",\"size\":[0.11165938248977865],\"sizemode\":\"area\",\"sizeref\":0.25,\"symbol\":\"circle\"},\"mode\":\"markers\",\"name\":\"Guatemala\",\"orientation\":\"v\",\"showlegend\":true,\"x\":[1238247.0],\"xaxis\":\"x\",\"y\":[20182.0],\"yaxis\":\"y\",\"type\":\"scatter\"},{\"customdata\":[[\"Guinea\",0.0]],\"hovertemplate\":\"location=%{customdata[0]}<br>Total Cases=%{x}<br>Total Deaths=%{y}<br>size=%{marker.size}<br>New Cases=%{customdata[1]}<extra></extra>\",\"legendgroup\":\"Guinea\",\"marker\":{\"color\":\"#FF6692\",\"size\":[0.0],\"sizemode\":\"area\",\"sizeref\":0.25,\"symbol\":\"circle\"},\"mode\":\"markers\",\"name\":\"Guinea\",\"orientation\":\"v\",\"showlegend\":true,\"x\":[38267.0],\"xaxis\":\"x\",\"y\":[467.0],\"yaxis\":\"y\",\"type\":\"scatter\"},{\"customdata\":[[\"Guinea-Bissau\",0.0]],\"hovertemplate\":\"location=%{customdata[0]}<br>Total Cases=%{x}<br>Total Deaths=%{y}<br>size=%{marker.size}<br>New Cases=%{customdata[1]}<extra></extra>\",\"legendgroup\":\"Guinea-Bissau\",\"marker\":{\"color\":\"#B6E880\",\"size\":[0.0],\"sizemode\":\"area\",\"sizeref\":0.25,\"symbol\":\"circle\"},\"mode\":\"markers\",\"name\":\"Guinea-Bissau\",\"orientation\":\"v\",\"showlegend\":true,\"x\":[8960.0],\"xaxis\":\"x\",\"y\":[176.0],\"yaxis\":\"y\",\"type\":\"scatter\"},{\"customdata\":[[\"Guyana\",0.0]],\"hovertemplate\":\"location=%{customdata[0]}<br>Total Cases=%{x}<br>Total Deaths=%{y}<br>size=%{marker.size}<br>New Cases=%{customdata[1]}<extra></extra>\",\"legendgroup\":\"Guyana\",\"marker\":{\"color\":\"#FF97FF\",\"size\":[0.0],\"sizemode\":\"area\",\"sizeref\":0.25,\"symbol\":\"circle\"},\"mode\":\"markers\",\"name\":\"Guyana\",\"orientation\":\"v\",\"showlegend\":true,\"x\":[73075.0],\"xaxis\":\"x\",\"y\":[1298.0],\"yaxis\":\"y\",\"type\":\"scatter\"},{\"customdata\":[[\"Haiti\",0.0]],\"hovertemplate\":\"location=%{customdata[0]}<br>Total Cases=%{x}<br>Total Deaths=%{y}<br>size=%{marker.size}<br>New Cases=%{customdata[1]}<extra></extra>\",\"legendgroup\":\"Haiti\",\"marker\":{\"color\":\"#FECB52\",\"size\":[0.0],\"sizemode\":\"area\",\"sizeref\":0.25,\"symbol\":\"circle\"},\"mode\":\"markers\",\"name\":\"Haiti\",\"orientation\":\"v\",\"showlegend\":true,\"x\":[34202.0],\"xaxis\":\"x\",\"y\":[860.0],\"yaxis\":\"y\",\"type\":\"scatter\"},{\"customdata\":[[\"High income\",157348.0]],\"hovertemplate\":\"location=%{customdata[0]}<br>Total Cases=%{x}<br>Total Deaths=%{y}<br>size=%{marker.size}<br>New Cases=%{customdata[1]}<extra></extra>\",\"legendgroup\":\"High income\",\"marker\":{\"color\":\"#636efa\",\"size\":[88.73424503031157],\"sizemode\":\"area\",\"sizeref\":0.25,\"symbol\":\"circle\"},\"mode\":\"markers\",\"name\":\"High income\",\"orientation\":\"v\",\"showlegend\":true,\"x\":[431911049.0],\"xaxis\":\"x\",\"y\":[2878426.0],\"yaxis\":\"y\",\"type\":\"scatter\"},{\"customdata\":[[\"Honduras\",0.0]],\"hovertemplate\":\"location=%{customdata[0]}<br>Total Cases=%{x}<br>Total Deaths=%{y}<br>size=%{marker.size}<br>New Cases=%{customdata[1]}<extra></extra>\",\"legendgroup\":\"Honduras\",\"marker\":{\"color\":\"#EF553B\",\"size\":[0.0],\"sizemode\":\"area\",\"sizeref\":0.25,\"symbol\":\"circle\"},\"mode\":\"markers\",\"name\":\"Honduras\",\"orientation\":\"v\",\"showlegend\":true,\"x\":[472250.0],\"xaxis\":\"x\",\"y\":[11111.0],\"yaxis\":\"y\",\"type\":\"scatter\"},{\"customdata\":[[\"Hong Kong\",0.0]],\"hovertemplate\":\"location=%{customdata[0]}<br>Total Cases=%{x}<br>Total Deaths=%{y}<br>size=%{marker.size}<br>New Cases=%{customdata[1]}<extra></extra>\",\"legendgroup\":\"Hong Kong\",\"marker\":{\"color\":\"#00cc96\",\"size\":[0.0],\"sizemode\":\"area\",\"sizeref\":0.25,\"symbol\":\"circle\"},\"mode\":\"markers\",\"name\":\"Hong Kong\",\"orientation\":\"v\",\"showlegend\":true,\"x\":[2876106.0],\"xaxis\":\"x\",\"y\":[13467.0],\"yaxis\":\"y\",\"type\":\"scatter\"},{\"customdata\":[[\"Hungary\",0.0]],\"hovertemplate\":\"location=%{customdata[0]}<br>Total Cases=%{x}<br>Total Deaths=%{y}<br>size=%{marker.size}<br>New Cases=%{customdata[1]}<extra></extra>\",\"legendgroup\":\"Hungary\",\"marker\":{\"color\":\"#ab63fa\",\"size\":[0.0],\"sizemode\":\"area\",\"sizeref\":0.25,\"symbol\":\"circle\"},\"mode\":\"markers\",\"name\":\"Hungary\",\"orientation\":\"v\",\"showlegend\":true,\"x\":[2196804.0],\"xaxis\":\"x\",\"y\":[48762.0],\"yaxis\":\"y\",\"type\":\"scatter\"},{\"customdata\":[[\"Iceland\",0.0]],\"hovertemplate\":\"location=%{customdata[0]}<br>Total Cases=%{x}<br>Total Deaths=%{y}<br>size=%{marker.size}<br>New Cases=%{customdata[1]}<extra></extra>\",\"legendgroup\":\"Iceland\",\"marker\":{\"color\":\"#FFA15A\",\"size\":[0.0],\"sizemode\":\"area\",\"sizeref\":0.25,\"symbol\":\"circle\"},\"mode\":\"markers\",\"name\":\"Iceland\",\"orientation\":\"v\",\"showlegend\":true,\"x\":[209137.0],\"xaxis\":\"x\",\"y\":[263.0],\"yaxis\":\"y\",\"type\":\"scatter\"},{\"customdata\":[[\"India\",440.0]],\"hovertemplate\":\"location=%{customdata[0]}<br>Total Cases=%{x}<br>Total Deaths=%{y}<br>size=%{marker.size}<br>New Cases=%{customdata[1]}<extra></extra>\",\"legendgroup\":\"India\",\"marker\":{\"color\":\"#19d3f3\",\"size\":[0.24813196108839702],\"sizemode\":\"area\",\"sizeref\":0.25,\"symbol\":\"circle\"},\"mode\":\"markers\",\"name\":\"India\",\"orientation\":\"v\",\"showlegend\":true,\"x\":[44690738.0],\"xaxis\":\"x\",\"y\":[530779.0],\"yaxis\":\"y\",\"type\":\"scatter\"},{\"customdata\":[[\"Indonesia\",307.0]],\"hovertemplate\":\"location=%{customdata[0]}<br>Total Cases=%{x}<br>Total Deaths=%{y}<br>size=%{marker.size}<br>New Cases=%{customdata[1]}<extra></extra>\",\"legendgroup\":\"Indonesia\",\"marker\":{\"color\":\"#FF6692\",\"size\":[0.173128436486677],\"sizemode\":\"area\",\"sizeref\":0.25,\"symbol\":\"circle\"},\"mode\":\"markers\",\"name\":\"Indonesia\",\"orientation\":\"v\",\"showlegend\":true,\"x\":[6738225.0],\"xaxis\":\"x\",\"y\":[160941.0],\"yaxis\":\"y\",\"type\":\"scatter\"},{\"customdata\":[[\"International\",0.0]],\"hovertemplate\":\"location=%{customdata[0]}<br>Total Cases=%{x}<br>Total Deaths=%{y}<br>size=%{marker.size}<br>New Cases=%{customdata[1]}<extra></extra>\",\"legendgroup\":\"International\",\"marker\":{\"color\":\"#B6E880\",\"size\":[0.0],\"sizemode\":\"area\",\"sizeref\":0.25,\"symbol\":\"circle\"},\"mode\":\"markers\",\"name\":\"International\",\"orientation\":\"v\",\"showlegend\":true,\"x\":[721.0],\"xaxis\":\"x\",\"y\":[15.0],\"yaxis\":\"y\",\"type\":\"scatter\"},{\"customdata\":[[\"Iran\",315.0]],\"hovertemplate\":\"location=%{customdata[0]}<br>Total Cases=%{x}<br>Total Deaths=%{y}<br>size=%{marker.size}<br>New Cases=%{customdata[1]}<extra></extra>\",\"legendgroup\":\"Iran\",\"marker\":{\"color\":\"#FF97FF\",\"size\":[0.17763992668828424],\"sizemode\":\"area\",\"sizeref\":0.25,\"symbol\":\"circle\"},\"mode\":\"markers\",\"name\":\"Iran\",\"orientation\":\"v\",\"showlegend\":true,\"x\":[7572311.0],\"xaxis\":\"x\",\"y\":[144933.0],\"yaxis\":\"y\",\"type\":\"scatter\"},{\"customdata\":[[\"Iraq\",0.0]],\"hovertemplate\":\"location=%{customdata[0]}<br>Total Cases=%{x}<br>Total Deaths=%{y}<br>size=%{marker.size}<br>New Cases=%{customdata[1]}<extra></extra>\",\"legendgroup\":\"Iraq\",\"marker\":{\"color\":\"#FECB52\",\"size\":[0.0],\"sizemode\":\"area\",\"sizeref\":0.25,\"symbol\":\"circle\"},\"mode\":\"markers\",\"name\":\"Iraq\",\"orientation\":\"v\",\"showlegend\":true,\"x\":[2465545.0],\"xaxis\":\"x\",\"y\":[25375.0],\"yaxis\":\"y\",\"type\":\"scatter\"},{\"customdata\":[[\"Ireland\",0.0]],\"hovertemplate\":\"location=%{customdata[0]}<br>Total Cases=%{x}<br>Total Deaths=%{y}<br>size=%{marker.size}<br>New Cases=%{customdata[1]}<extra></extra>\",\"legendgroup\":\"Ireland\",\"marker\":{\"color\":\"#636efa\",\"size\":[0.0],\"sizemode\":\"area\",\"sizeref\":0.25,\"symbol\":\"circle\"},\"mode\":\"markers\",\"name\":\"Ireland\",\"orientation\":\"v\",\"showlegend\":true,\"x\":[1704502.0],\"xaxis\":\"x\",\"y\":[8708.0],\"yaxis\":\"y\",\"type\":\"scatter\"},{\"customdata\":[[\"Isle of Man\",0.0]],\"hovertemplate\":\"location=%{customdata[0]}<br>Total Cases=%{x}<br>Total Deaths=%{y}<br>size=%{marker.size}<br>New Cases=%{customdata[1]}<extra></extra>\",\"legendgroup\":\"Isle of Man\",\"marker\":{\"color\":\"#EF553B\",\"size\":[0.0],\"sizemode\":\"area\",\"sizeref\":0.25,\"symbol\":\"circle\"},\"mode\":\"markers\",\"name\":\"Isle of Man\",\"orientation\":\"v\",\"showlegend\":true,\"x\":[38008.0],\"xaxis\":\"x\",\"y\":[116.0],\"yaxis\":\"y\",\"type\":\"scatter\"},{\"customdata\":[[\"Israel\",660.0]],\"hovertemplate\":\"location=%{customdata[0]}<br>Total Cases=%{x}<br>Total Deaths=%{y}<br>size=%{marker.size}<br>New Cases=%{customdata[1]}<extra></extra>\",\"legendgroup\":\"Israel\",\"marker\":{\"color\":\"#00cc96\",\"size\":[0.3721979416325955],\"sizemode\":\"area\",\"sizeref\":0.25,\"symbol\":\"circle\"},\"mode\":\"markers\",\"name\":\"Israel\",\"orientation\":\"v\",\"showlegend\":true,\"x\":[4803824.0],\"xaxis\":\"x\",\"y\":[12329.0],\"yaxis\":\"y\",\"type\":\"scatter\"},{\"customdata\":[[\"Italy\",0.0]],\"hovertemplate\":\"location=%{customdata[0]}<br>Total Cases=%{x}<br>Total Deaths=%{y}<br>size=%{marker.size}<br>New Cases=%{customdata[1]}<extra></extra>\",\"legendgroup\":\"Italy\",\"marker\":{\"color\":\"#ab63fa\",\"size\":[0.0],\"sizemode\":\"area\",\"sizeref\":0.25,\"symbol\":\"circle\"},\"mode\":\"markers\",\"name\":\"Italy\",\"orientation\":\"v\",\"showlegend\":true,\"x\":[25603510.0],\"xaxis\":\"x\",\"y\":[188322.0],\"yaxis\":\"y\",\"type\":\"scatter\"},{\"customdata\":[[\"Jamaica\",129.0]],\"hovertemplate\":\"location=%{customdata[0]}<br>Total Cases=%{x}<br>Total Deaths=%{y}<br>size=%{marker.size}<br>New Cases=%{customdata[1]}<extra></extra>\",\"legendgroup\":\"Jamaica\",\"marker\":{\"color\":\"#FFA15A\",\"size\":[0.0727477795009164],\"sizemode\":\"area\",\"sizeref\":0.25,\"symbol\":\"circle\"},\"mode\":\"markers\",\"name\":\"Jamaica\",\"orientation\":\"v\",\"showlegend\":true,\"x\":[154416.0],\"xaxis\":\"x\",\"y\":[3514.0],\"yaxis\":\"y\",\"type\":\"scatter\"},{\"customdata\":[[\"Japan\",9834.0]],\"hovertemplate\":\"location=%{customdata[0]}<br>Total Cases=%{x}<br>Total Deaths=%{y}<br>size=%{marker.size}<br>New Cases=%{customdata[1]}<extra></extra>\",\"legendgroup\":\"Japan\",\"marker\":{\"color\":\"#19d3f3\",\"size\":[5.545749330325673],\"sizemode\":\"area\",\"sizeref\":0.25,\"symbol\":\"circle\"},\"mode\":\"markers\",\"name\":\"Japan\",\"orientation\":\"v\",\"showlegend\":true,\"x\":[33320438.0],\"xaxis\":\"x\",\"y\":[72997.0],\"yaxis\":\"y\",\"type\":\"scatter\"},{\"customdata\":[[\"Jordan\",0.0]],\"hovertemplate\":\"location=%{customdata[0]}<br>Total Cases=%{x}<br>Total Deaths=%{y}<br>size=%{marker.size}<br>New Cases=%{customdata[1]}<extra></extra>\",\"legendgroup\":\"Jordan\",\"marker\":{\"color\":\"#FF6692\",\"size\":[0.0],\"sizemode\":\"area\",\"sizeref\":0.25,\"symbol\":\"circle\"},\"mode\":\"markers\",\"name\":\"Jordan\",\"orientation\":\"v\",\"showlegend\":true,\"x\":[1746997.0],\"xaxis\":\"x\",\"y\":[14122.0],\"yaxis\":\"y\",\"type\":\"scatter\"},{\"customdata\":[[\"Kazakhstan\",0.0]],\"hovertemplate\":\"location=%{customdata[0]}<br>Total Cases=%{x}<br>Total Deaths=%{y}<br>size=%{marker.size}<br>New Cases=%{customdata[1]}<extra></extra>\",\"legendgroup\":\"Kazakhstan\",\"marker\":{\"color\":\"#B6E880\",\"size\":[0.0],\"sizemode\":\"area\",\"sizeref\":0.25,\"symbol\":\"circle\"},\"mode\":\"markers\",\"name\":\"Kazakhstan\",\"orientation\":\"v\",\"showlegend\":true,\"x\":[1498668.0],\"xaxis\":\"x\",\"y\":[19071.0],\"yaxis\":\"y\",\"type\":\"scatter\"},{\"customdata\":[[\"Kenya\",0.0]],\"hovertemplate\":\"location=%{customdata[0]}<br>Total Cases=%{x}<br>Total Deaths=%{y}<br>size=%{marker.size}<br>New Cases=%{customdata[1]}<extra></extra>\",\"legendgroup\":\"Kenya\",\"marker\":{\"color\":\"#FF97FF\",\"size\":[0.0],\"sizemode\":\"area\",\"sizeref\":0.25,\"symbol\":\"circle\"},\"mode\":\"markers\",\"name\":\"Kenya\",\"orientation\":\"v\",\"showlegend\":true,\"x\":[342937.0],\"xaxis\":\"x\",\"y\":[5688.0],\"yaxis\":\"y\",\"type\":\"scatter\"},{\"customdata\":[[\"Kiribati\",0.0]],\"hovertemplate\":\"location=%{customdata[0]}<br>Total Cases=%{x}<br>Total Deaths=%{y}<br>size=%{marker.size}<br>New Cases=%{customdata[1]}<extra></extra>\",\"legendgroup\":\"Kiribati\",\"marker\":{\"color\":\"#FECB52\",\"size\":[0.0],\"sizemode\":\"area\",\"sizeref\":0.25,\"symbol\":\"circle\"},\"mode\":\"markers\",\"name\":\"Kiribati\",\"orientation\":\"v\",\"showlegend\":true,\"x\":[5014.0],\"xaxis\":\"x\",\"y\":[18.0],\"yaxis\":\"y\",\"type\":\"scatter\"},{\"customdata\":[[\"Kosovo\",21.0]],\"hovertemplate\":\"location=%{customdata[0]}<br>Total Cases=%{x}<br>Total Deaths=%{y}<br>size=%{marker.size}<br>New Cases=%{customdata[1]}<extra></extra>\",\"legendgroup\":\"Kosovo\",\"marker\":{\"color\":\"#636efa\",\"size\":[0.011842661779218949],\"sizemode\":\"area\",\"sizeref\":0.25,\"symbol\":\"circle\"},\"mode\":\"markers\",\"name\":\"Kosovo\",\"orientation\":\"v\",\"showlegend\":true,\"x\":[273312.0],\"xaxis\":\"x\",\"y\":[3211.0],\"yaxis\":\"y\",\"type\":\"scatter\"},{\"customdata\":[[\"Kuwait\",0.0]],\"hovertemplate\":\"location=%{customdata[0]}<br>Total Cases=%{x}<br>Total Deaths=%{y}<br>size=%{marker.size}<br>New Cases=%{customdata[1]}<extra></extra>\",\"legendgroup\":\"Kuwait\",\"marker\":{\"color\":\"#EF553B\",\"size\":[0.0],\"sizemode\":\"area\",\"sizeref\":0.25,\"symbol\":\"circle\"},\"mode\":\"markers\",\"name\":\"Kuwait\",\"orientation\":\"v\",\"showlegend\":true,\"x\":[663860.0],\"xaxis\":\"x\",\"y\":[2570.0],\"yaxis\":\"y\",\"type\":\"scatter\"},{\"customdata\":[[\"Kyrgyzstan\",0.0]],\"hovertemplate\":\"location=%{customdata[0]}<br>Total Cases=%{x}<br>Total Deaths=%{y}<br>size=%{marker.size}<br>New Cases=%{customdata[1]}<extra></extra>\",\"legendgroup\":\"Kyrgyzstan\",\"marker\":{\"color\":\"#00cc96\",\"size\":[0.0],\"sizemode\":\"area\",\"sizeref\":0.25,\"symbol\":\"circle\"},\"mode\":\"markers\",\"name\":\"Kyrgyzstan\",\"orientation\":\"v\",\"showlegend\":true,\"x\":[206708.0],\"xaxis\":\"x\",\"y\":[2991.0],\"yaxis\":\"y\",\"type\":\"scatter\"},{\"customdata\":[[\"Laos\",0.0]],\"hovertemplate\":\"location=%{customdata[0]}<br>Total Cases=%{x}<br>Total Deaths=%{y}<br>size=%{marker.size}<br>New Cases=%{customdata[1]}<extra></extra>\",\"legendgroup\":\"Laos\",\"marker\":{\"color\":\"#ab63fa\",\"size\":[0.0],\"sizemode\":\"area\",\"sizeref\":0.25,\"symbol\":\"circle\"},\"mode\":\"markers\",\"name\":\"Laos\",\"orientation\":\"v\",\"showlegend\":true,\"x\":[218023.0],\"xaxis\":\"x\",\"y\":[758.0],\"yaxis\":\"y\",\"type\":\"scatter\"},{\"customdata\":[[\"Latvia\",27.0]],\"hovertemplate\":\"location=%{customdata[0]}<br>Total Cases=%{x}<br>Total Deaths=%{y}<br>size=%{marker.size}<br>New Cases=%{customdata[1]}<extra></extra>\",\"legendgroup\":\"Latvia\",\"marker\":{\"color\":\"#FFA15A\",\"size\":[0.015226279430424362],\"sizemode\":\"area\",\"sizeref\":0.25,\"symbol\":\"circle\"},\"mode\":\"markers\",\"name\":\"Latvia\",\"orientation\":\"v\",\"showlegend\":true,\"x\":[976255.0],\"xaxis\":\"x\",\"y\":[6269.0],\"yaxis\":\"y\",\"type\":\"scatter\"},{\"customdata\":[[\"Lebanon\",179.0]],\"hovertemplate\":\"location=%{customdata[0]}<br>Total Cases=%{x}<br>Total Deaths=%{y}<br>size=%{marker.size}<br>New Cases=%{customdata[1]}<extra></extra>\",\"legendgroup\":\"Lebanon\",\"marker\":{\"color\":\"#19d3f3\",\"size\":[0.1009445932609615],\"sizemode\":\"area\",\"sizeref\":0.25,\"symbol\":\"circle\"},\"mode\":\"markers\",\"name\":\"Lebanon\",\"orientation\":\"v\",\"showlegend\":true,\"x\":[1232828.0],\"xaxis\":\"x\",\"y\":[10841.0],\"yaxis\":\"y\",\"type\":\"scatter\"},{\"customdata\":[[\"Lesotho\",0.0]],\"hovertemplate\":\"location=%{customdata[0]}<br>Total Cases=%{x}<br>Total Deaths=%{y}<br>size=%{marker.size}<br>New Cases=%{customdata[1]}<extra></extra>\",\"legendgroup\":\"Lesotho\",\"marker\":{\"color\":\"#FF6692\",\"size\":[0.0],\"sizemode\":\"area\",\"sizeref\":0.25,\"symbol\":\"circle\"},\"mode\":\"markers\",\"name\":\"Lesotho\",\"orientation\":\"v\",\"showlegend\":true,\"x\":[34790.0],\"xaxis\":\"x\",\"y\":[723.0],\"yaxis\":\"y\",\"type\":\"scatter\"},{\"customdata\":[[\"Liberia\",0.0]],\"hovertemplate\":\"location=%{customdata[0]}<br>Total Cases=%{x}<br>Total Deaths=%{y}<br>size=%{marker.size}<br>New Cases=%{customdata[1]}<extra></extra>\",\"legendgroup\":\"Liberia\",\"marker\":{\"color\":\"#B6E880\",\"size\":[0.0],\"sizemode\":\"area\",\"sizeref\":0.25,\"symbol\":\"circle\"},\"mode\":\"markers\",\"name\":\"Liberia\",\"orientation\":\"v\",\"showlegend\":true,\"x\":[8090.0],\"xaxis\":\"x\",\"y\":[295.0],\"yaxis\":\"y\",\"type\":\"scatter\"},{\"customdata\":[[\"Libya\",0.0]],\"hovertemplate\":\"location=%{customdata[0]}<br>Total Cases=%{x}<br>Total Deaths=%{y}<br>size=%{marker.size}<br>New Cases=%{customdata[1]}<extra></extra>\",\"legendgroup\":\"Libya\",\"marker\":{\"color\":\"#FF97FF\",\"size\":[0.0],\"sizemode\":\"area\",\"sizeref\":0.25,\"symbol\":\"circle\"},\"mode\":\"markers\",\"name\":\"Libya\",\"orientation\":\"v\",\"showlegend\":true,\"x\":[507187.0],\"xaxis\":\"x\",\"y\":[6437.0],\"yaxis\":\"y\",\"type\":\"scatter\"},{\"customdata\":[[\"Liechtenstein\",0.0]],\"hovertemplate\":\"location=%{customdata[0]}<br>Total Cases=%{x}<br>Total Deaths=%{y}<br>size=%{marker.size}<br>New Cases=%{customdata[1]}<extra></extra>\",\"legendgroup\":\"Liechtenstein\",\"marker\":{\"color\":\"#FECB52\",\"size\":[0.0],\"sizemode\":\"area\",\"sizeref\":0.25,\"symbol\":\"circle\"},\"mode\":\"markers\",\"name\":\"Liechtenstein\",\"orientation\":\"v\",\"showlegend\":true,\"x\":[21432.0],\"xaxis\":\"x\",\"y\":[89.0],\"yaxis\":\"y\",\"type\":\"scatter\"},{\"customdata\":[[\"Lithuania\",0.0]],\"hovertemplate\":\"location=%{customdata[0]}<br>Total Cases=%{x}<br>Total Deaths=%{y}<br>size=%{marker.size}<br>New Cases=%{customdata[1]}<extra></extra>\",\"legendgroup\":\"Lithuania\",\"marker\":{\"color\":\"#636efa\",\"size\":[0.0],\"sizemode\":\"area\",\"sizeref\":0.25,\"symbol\":\"circle\"},\"mode\":\"markers\",\"name\":\"Lithuania\",\"orientation\":\"v\",\"showlegend\":true,\"x\":[1307448.0],\"xaxis\":\"x\",\"y\":[9596.0],\"yaxis\":\"y\",\"type\":\"scatter\"},{\"customdata\":[[\"Low income\",15.0]],\"hovertemplate\":\"location=%{customdata[0]}<br>Total Cases=%{x}<br>Total Deaths=%{y}<br>size=%{marker.size}<br>New Cases=%{customdata[1]}<extra></extra>\",\"legendgroup\":\"Low income\",\"marker\":{\"color\":\"#EF553B\",\"size\":[0.008459044128013534],\"sizemode\":\"area\",\"sizeref\":0.25,\"symbol\":\"circle\"},\"mode\":\"markers\",\"name\":\"Low income\",\"orientation\":\"v\",\"showlegend\":true,\"x\":[2287497.0],\"xaxis\":\"x\",\"y\":[47911.0],\"yaxis\":\"y\",\"type\":\"scatter\"},{\"customdata\":[[\"Lower middle income\",1682.0]],\"hovertemplate\":\"location=%{customdata[0]}<br>Total Cases=%{x}<br>Total Deaths=%{y}<br>size=%{marker.size}<br>New Cases=%{customdata[1]}<extra></extra>\",\"legendgroup\":\"Lower middle income\",\"marker\":{\"color\":\"#00cc96\",\"size\":[0.9485408148879177],\"sizemode\":\"area\",\"sizeref\":0.25,\"symbol\":\"circle\"},\"mode\":\"markers\",\"name\":\"Lower middle income\",\"orientation\":\"v\",\"showlegend\":true,\"x\":[97175431.0],\"xaxis\":\"x\",\"y\":[1346297.0],\"yaxis\":\"y\",\"type\":\"scatter\"},{\"customdata\":[[\"Luxembourg\",0.0]],\"hovertemplate\":\"location=%{customdata[0]}<br>Total Cases=%{x}<br>Total Deaths=%{y}<br>size=%{marker.size}<br>New Cases=%{customdata[1]}<extra></extra>\",\"legendgroup\":\"Luxembourg\",\"marker\":{\"color\":\"#ab63fa\",\"size\":[0.0],\"sizemode\":\"area\",\"sizeref\":0.25,\"symbol\":\"circle\"},\"mode\":\"markers\",\"name\":\"Luxembourg\",\"orientation\":\"v\",\"showlegend\":true,\"x\":[317367.0],\"xaxis\":\"x\",\"y\":[1220.0],\"yaxis\":\"y\",\"type\":\"scatter\"},{\"customdata\":[[\"Macao\",0.0]],\"hovertemplate\":\"location=%{customdata[0]}<br>Total Cases=%{x}<br>Total Deaths=%{y}<br>size=%{marker.size}<br>New Cases=%{customdata[1]}<extra></extra>\",\"legendgroup\":\"Macao\",\"marker\":{\"color\":\"#FFA15A\",\"size\":[0.0],\"sizemode\":\"area\",\"sizeref\":0.25,\"symbol\":\"circle\"},\"mode\":\"markers\",\"name\":\"Macao\",\"orientation\":\"v\",\"showlegend\":true,\"x\":[3514.0],\"xaxis\":\"x\",\"y\":[121.0],\"yaxis\":\"y\",\"type\":\"scatter\"},{\"customdata\":[[\"Madagascar\",0.0]],\"hovertemplate\":\"location=%{customdata[0]}<br>Total Cases=%{x}<br>Total Deaths=%{y}<br>size=%{marker.size}<br>New Cases=%{customdata[1]}<extra></extra>\",\"legendgroup\":\"Madagascar\",\"marker\":{\"color\":\"#19d3f3\",\"size\":[0.0],\"sizemode\":\"area\",\"sizeref\":0.25,\"symbol\":\"circle\"},\"mode\":\"markers\",\"name\":\"Madagascar\",\"orientation\":\"v\",\"showlegend\":true,\"x\":[67889.0],\"xaxis\":\"x\",\"y\":[1423.0],\"yaxis\":\"y\",\"type\":\"scatter\"},{\"customdata\":[[\"Malawi\",0.0]],\"hovertemplate\":\"location=%{customdata[0]}<br>Total Cases=%{x}<br>Total Deaths=%{y}<br>size=%{marker.size}<br>New Cases=%{customdata[1]}<extra></extra>\",\"legendgroup\":\"Malawi\",\"marker\":{\"color\":\"#FF6692\",\"size\":[0.0],\"sizemode\":\"area\",\"sizeref\":0.25,\"symbol\":\"circle\"},\"mode\":\"markers\",\"name\":\"Malawi\",\"orientation\":\"v\",\"showlegend\":true,\"x\":[88707.0],\"xaxis\":\"x\",\"y\":[2686.0],\"yaxis\":\"y\",\"type\":\"scatter\"},{\"customdata\":[[\"Malaysia\",279.0]],\"hovertemplate\":\"location=%{customdata[0]}<br>Total Cases=%{x}<br>Total Deaths=%{y}<br>size=%{marker.size}<br>New Cases=%{customdata[1]}<extra></extra>\",\"legendgroup\":\"Malaysia\",\"marker\":{\"color\":\"#B6E880\",\"size\":[0.15733822078105175],\"sizemode\":\"area\",\"sizeref\":0.25,\"symbol\":\"circle\"},\"mode\":\"markers\",\"name\":\"Malaysia\",\"orientation\":\"v\",\"showlegend\":true,\"x\":[5044718.0],\"xaxis\":\"x\",\"y\":[36967.0],\"yaxis\":\"y\",\"type\":\"scatter\"},{\"customdata\":[[\"Maldives\",0.0]],\"hovertemplate\":\"location=%{customdata[0]}<br>Total Cases=%{x}<br>Total Deaths=%{y}<br>size=%{marker.size}<br>New Cases=%{customdata[1]}<extra></extra>\",\"legendgroup\":\"Maldives\",\"marker\":{\"color\":\"#FF97FF\",\"size\":[0.0],\"sizemode\":\"area\",\"sizeref\":0.25,\"symbol\":\"circle\"},\"mode\":\"markers\",\"name\":\"Maldives\",\"orientation\":\"v\",\"showlegend\":true,\"x\":[185738.0],\"xaxis\":\"x\",\"y\":[311.0],\"yaxis\":\"y\",\"type\":\"scatter\"},{\"customdata\":[[\"Mali\",1.0]],\"hovertemplate\":\"location=%{customdata[0]}<br>Total Cases=%{x}<br>Total Deaths=%{y}<br>size=%{marker.size}<br>New Cases=%{customdata[1]}<extra></extra>\",\"legendgroup\":\"Mali\",\"marker\":{\"color\":\"#FECB52\",\"size\":[0.0005639362752009022],\"sizemode\":\"area\",\"sizeref\":0.25,\"symbol\":\"circle\"},\"mode\":\"markers\",\"name\":\"Mali\",\"orientation\":\"v\",\"showlegend\":true,\"x\":[33062.0],\"xaxis\":\"x\",\"y\":[743.0],\"yaxis\":\"y\",\"type\":\"scatter\"},{\"customdata\":[[\"Malta\",0.0]],\"hovertemplate\":\"location=%{customdata[0]}<br>Total Cases=%{x}<br>Total Deaths=%{y}<br>size=%{marker.size}<br>New Cases=%{customdata[1]}<extra></extra>\",\"legendgroup\":\"Malta\",\"marker\":{\"color\":\"#636efa\",\"size\":[0.0],\"sizemode\":\"area\",\"sizeref\":0.25,\"symbol\":\"circle\"},\"mode\":\"markers\",\"name\":\"Malta\",\"orientation\":\"v\",\"showlegend\":true,\"x\":[117610.0],\"xaxis\":\"x\",\"y\":[828.0],\"yaxis\":\"y\",\"type\":\"scatter\"},{\"customdata\":[[\"Marshall Islands\",0.0]],\"hovertemplate\":\"location=%{customdata[0]}<br>Total Cases=%{x}<br>Total Deaths=%{y}<br>size=%{marker.size}<br>New Cases=%{customdata[1]}<extra></extra>\",\"legendgroup\":\"Marshall Islands\",\"marker\":{\"color\":\"#EF553B\",\"size\":[0.0],\"sizemode\":\"area\",\"sizeref\":0.25,\"symbol\":\"circle\"},\"mode\":\"markers\",\"name\":\"Marshall Islands\",\"orientation\":\"v\",\"showlegend\":true,\"x\":[15649.0],\"xaxis\":\"x\",\"y\":[17.0],\"yaxis\":\"y\",\"type\":\"scatter\"},{\"customdata\":[[\"Mauritania\",0.0]],\"hovertemplate\":\"location=%{customdata[0]}<br>Total Cases=%{x}<br>Total Deaths=%{y}<br>size=%{marker.size}<br>New Cases=%{customdata[1]}<extra></extra>\",\"legendgroup\":\"Mauritania\",\"marker\":{\"color\":\"#00cc96\",\"size\":[0.0],\"sizemode\":\"area\",\"sizeref\":0.25,\"symbol\":\"circle\"},\"mode\":\"markers\",\"name\":\"Mauritania\",\"orientation\":\"v\",\"showlegend\":true,\"x\":[63668.0],\"xaxis\":\"x\",\"y\":[997.0],\"yaxis\":\"y\",\"type\":\"scatter\"},{\"customdata\":[[\"Mauritius\",0.0]],\"hovertemplate\":\"location=%{customdata[0]}<br>Total Cases=%{x}<br>Total Deaths=%{y}<br>size=%{marker.size}<br>New Cases=%{customdata[1]}<extra></extra>\",\"legendgroup\":\"Mauritius\",\"marker\":{\"color\":\"#ab63fa\",\"size\":[0.0],\"sizemode\":\"area\",\"sizeref\":0.25,\"symbol\":\"circle\"},\"mode\":\"markers\",\"name\":\"Mauritius\",\"orientation\":\"v\",\"showlegend\":true,\"x\":[296042.0],\"xaxis\":\"x\",\"y\":[1044.0],\"yaxis\":\"y\",\"type\":\"scatter\"},{\"customdata\":[[\"Mexico\",3809.0]],\"hovertemplate\":\"location=%{customdata[0]}<br>Total Cases=%{x}<br>Total Deaths=%{y}<br>size=%{marker.size}<br>New Cases=%{customdata[1]}<extra></extra>\",\"legendgroup\":\"Mexico\",\"marker\":{\"color\":\"#FFA15A\",\"size\":[2.148033272240237],\"sizemode\":\"area\",\"sizeref\":0.25,\"symbol\":\"circle\"},\"mode\":\"markers\",\"name\":\"Mexico\",\"orientation\":\"v\",\"showlegend\":true,\"x\":[7483444.0],\"xaxis\":\"x\",\"y\":[333188.0],\"yaxis\":\"y\",\"type\":\"scatter\"},{\"customdata\":[[\"Micronesia (country)\",0.0]],\"hovertemplate\":\"location=%{customdata[0]}<br>Total Cases=%{x}<br>Total Deaths=%{y}<br>size=%{marker.size}<br>New Cases=%{customdata[1]}<extra></extra>\",\"legendgroup\":\"Micronesia (country)\",\"marker\":{\"color\":\"#19d3f3\",\"size\":[0.0],\"sizemode\":\"area\",\"sizeref\":0.25,\"symbol\":\"circle\"},\"mode\":\"markers\",\"name\":\"Micronesia (country)\",\"orientation\":\"v\",\"showlegend\":true,\"x\":[23948.0],\"xaxis\":\"x\",\"y\":[61.0],\"yaxis\":\"y\",\"type\":\"scatter\"},{\"customdata\":[[\"Moldova\",0.0]],\"hovertemplate\":\"location=%{customdata[0]}<br>Total Cases=%{x}<br>Total Deaths=%{y}<br>size=%{marker.size}<br>New Cases=%{customdata[1]}<extra></extra>\",\"legendgroup\":\"Moldova\",\"marker\":{\"color\":\"#FF6692\",\"size\":[0.0],\"sizemode\":\"area\",\"sizeref\":0.25,\"symbol\":\"circle\"},\"mode\":\"markers\",\"name\":\"Moldova\",\"orientation\":\"v\",\"showlegend\":true,\"x\":[611140.0],\"xaxis\":\"x\",\"y\":[12003.0],\"yaxis\":\"y\",\"type\":\"scatter\"},{\"customdata\":[[\"Monaco\",0.0]],\"hovertemplate\":\"location=%{customdata[0]}<br>Total Cases=%{x}<br>Total Deaths=%{y}<br>size=%{marker.size}<br>New Cases=%{customdata[1]}<extra></extra>\",\"legendgroup\":\"Monaco\",\"marker\":{\"color\":\"#B6E880\",\"size\":[0.0],\"sizemode\":\"area\",\"sizeref\":0.25,\"symbol\":\"circle\"},\"mode\":\"markers\",\"name\":\"Monaco\",\"orientation\":\"v\",\"showlegend\":true,\"x\":[16121.0],\"xaxis\":\"x\",\"y\":[67.0],\"yaxis\":\"y\",\"type\":\"scatter\"},{\"customdata\":[[\"Mongolia\",0.0]],\"hovertemplate\":\"location=%{customdata[0]}<br>Total Cases=%{x}<br>Total Deaths=%{y}<br>size=%{marker.size}<br>New Cases=%{customdata[1]}<extra></extra>\",\"legendgroup\":\"Mongolia\",\"marker\":{\"color\":\"#FF97FF\",\"size\":[0.0],\"sizemode\":\"area\",\"sizeref\":0.25,\"symbol\":\"circle\"},\"mode\":\"markers\",\"name\":\"Mongolia\",\"orientation\":\"v\",\"showlegend\":true,\"x\":[1007900.0],\"xaxis\":\"x\",\"y\":[2136.0],\"yaxis\":\"y\",\"type\":\"scatter\"},{\"customdata\":[[\"Montenegro\",56.0]],\"hovertemplate\":\"location=%{customdata[0]}<br>Total Cases=%{x}<br>Total Deaths=%{y}<br>size=%{marker.size}<br>New Cases=%{customdata[1]}<extra></extra>\",\"legendgroup\":\"Montenegro\",\"marker\":{\"color\":\"#FECB52\",\"size\":[0.03158043141125053],\"sizemode\":\"area\",\"sizeref\":0.25,\"symbol\":\"circle\"},\"mode\":\"markers\",\"name\":\"Montenegro\",\"orientation\":\"v\",\"showlegend\":true,\"x\":[288808.0],\"xaxis\":\"x\",\"y\":[2808.0],\"yaxis\":\"y\",\"type\":\"scatter\"},{\"customdata\":[[\"Montserrat\",0.0]],\"hovertemplate\":\"location=%{customdata[0]}<br>Total Cases=%{x}<br>Total Deaths=%{y}<br>size=%{marker.size}<br>New Cases=%{customdata[1]}<extra></extra>\",\"legendgroup\":\"Montserrat\",\"marker\":{\"color\":\"#636efa\",\"size\":[0.0],\"sizemode\":\"area\",\"sizeref\":0.25,\"symbol\":\"circle\"},\"mode\":\"markers\",\"name\":\"Montserrat\",\"orientation\":\"v\",\"showlegend\":true,\"x\":[1403.0],\"xaxis\":\"x\",\"y\":[8.0],\"yaxis\":\"y\",\"type\":\"scatter\"},{\"customdata\":[[\"Morocco\",0.0]],\"hovertemplate\":\"location=%{customdata[0]}<br>Total Cases=%{x}<br>Total Deaths=%{y}<br>size=%{marker.size}<br>New Cases=%{customdata[1]}<extra></extra>\",\"legendgroup\":\"Morocco\",\"marker\":{\"color\":\"#EF553B\",\"size\":[0.0],\"sizemode\":\"area\",\"sizeref\":0.25,\"symbol\":\"circle\"},\"mode\":\"markers\",\"name\":\"Morocco\",\"orientation\":\"v\",\"showlegend\":true,\"x\":[1272490.0],\"xaxis\":\"x\",\"y\":[16296.0],\"yaxis\":\"y\",\"type\":\"scatter\"},{\"customdata\":[[\"Mozambique\",0.0]],\"hovertemplate\":\"location=%{customdata[0]}<br>Total Cases=%{x}<br>Total Deaths=%{y}<br>size=%{marker.size}<br>New Cases=%{customdata[1]}<extra></extra>\",\"legendgroup\":\"Mozambique\",\"marker\":{\"color\":\"#00cc96\",\"size\":[0.0],\"sizemode\":\"area\",\"sizeref\":0.25,\"symbol\":\"circle\"},\"mode\":\"markers\",\"name\":\"Mozambique\",\"orientation\":\"v\",\"showlegend\":true,\"x\":[233214.0],\"xaxis\":\"x\",\"y\":[2242.0],\"yaxis\":\"y\",\"type\":\"scatter\"},{\"customdata\":[[\"Myanmar\",1.0]],\"hovertemplate\":\"location=%{customdata[0]}<br>Total Cases=%{x}<br>Total Deaths=%{y}<br>size=%{marker.size}<br>New Cases=%{customdata[1]}<extra></extra>\",\"legendgroup\":\"Myanmar\",\"marker\":{\"color\":\"#ab63fa\",\"size\":[0.0005639362752009022],\"sizemode\":\"area\",\"sizeref\":0.25,\"symbol\":\"circle\"},\"mode\":\"markers\",\"name\":\"Myanmar\",\"orientation\":\"v\",\"showlegend\":true,\"x\":[633950.0],\"xaxis\":\"x\",\"y\":[19490.0],\"yaxis\":\"y\",\"type\":\"scatter\"},{\"customdata\":[[\"Namibia\",0.0]],\"hovertemplate\":\"location=%{customdata[0]}<br>Total Cases=%{x}<br>Total Deaths=%{y}<br>size=%{marker.size}<br>New Cases=%{customdata[1]}<extra></extra>\",\"legendgroup\":\"Namibia\",\"marker\":{\"color\":\"#FFA15A\",\"size\":[0.0],\"sizemode\":\"area\",\"sizeref\":0.25,\"symbol\":\"circle\"},\"mode\":\"markers\",\"name\":\"Namibia\",\"orientation\":\"v\",\"showlegend\":true,\"x\":[171156.0],\"xaxis\":\"x\",\"y\":[4090.0],\"yaxis\":\"y\",\"type\":\"scatter\"},{\"customdata\":[[\"Nauru\",0.0]],\"hovertemplate\":\"location=%{customdata[0]}<br>Total Cases=%{x}<br>Total Deaths=%{y}<br>size=%{marker.size}<br>New Cases=%{customdata[1]}<extra></extra>\",\"legendgroup\":\"Nauru\",\"marker\":{\"color\":\"#19d3f3\",\"size\":[0.0],\"sizemode\":\"area\",\"sizeref\":0.25,\"symbol\":\"circle\"},\"mode\":\"markers\",\"name\":\"Nauru\",\"orientation\":\"v\",\"showlegend\":true,\"x\":[5247.0],\"xaxis\":\"x\",\"y\":[1.0],\"yaxis\":\"y\",\"type\":\"scatter\"},{\"customdata\":[[\"Nepal\",4.0]],\"hovertemplate\":\"location=%{customdata[0]}<br>Total Cases=%{x}<br>Total Deaths=%{y}<br>size=%{marker.size}<br>New Cases=%{customdata[1]}<extra></extra>\",\"legendgroup\":\"Nepal\",\"marker\":{\"color\":\"#FF6692\",\"size\":[0.002255745100803609],\"sizemode\":\"area\",\"sizeref\":0.25,\"symbol\":\"circle\"},\"mode\":\"markers\",\"name\":\"Nepal\",\"orientation\":\"v\",\"showlegend\":true,\"x\":[1001154.0],\"xaxis\":\"x\",\"y\":[12020.0],\"yaxis\":\"y\",\"type\":\"scatter\"},{\"customdata\":[[\"Netherlands\",0.0]],\"hovertemplate\":\"location=%{customdata[0]}<br>Total Cases=%{x}<br>Total Deaths=%{y}<br>size=%{marker.size}<br>New Cases=%{customdata[1]}<extra></extra>\",\"legendgroup\":\"Netherlands\",\"marker\":{\"color\":\"#B6E880\",\"size\":[0.0],\"sizemode\":\"area\",\"sizeref\":0.25,\"symbol\":\"circle\"},\"mode\":\"markers\",\"name\":\"Netherlands\",\"orientation\":\"v\",\"showlegend\":true,\"x\":[8611001.0],\"xaxis\":\"x\",\"y\":[23081.0],\"yaxis\":\"y\",\"type\":\"scatter\"},{\"customdata\":[[\"New Caledonia\",0.0]],\"hovertemplate\":\"location=%{customdata[0]}<br>Total Cases=%{x}<br>Total Deaths=%{y}<br>size=%{marker.size}<br>New Cases=%{customdata[1]}<extra></extra>\",\"legendgroup\":\"New Caledonia\",\"marker\":{\"color\":\"#FF97FF\",\"size\":[0.0],\"sizemode\":\"area\",\"sizeref\":0.25,\"symbol\":\"circle\"},\"mode\":\"markers\",\"name\":\"New Caledonia\",\"orientation\":\"v\",\"showlegend\":true,\"x\":[80017.0],\"xaxis\":\"x\",\"y\":[314.0],\"yaxis\":\"y\",\"type\":\"scatter\"},{\"customdata\":[[\"New Zealand\",1.0]],\"hovertemplate\":\"location=%{customdata[0]}<br>Total Cases=%{x}<br>Total Deaths=%{y}<br>size=%{marker.size}<br>New Cases=%{customdata[1]}<extra></extra>\",\"legendgroup\":\"New Zealand\",\"marker\":{\"color\":\"#FECB52\",\"size\":[0.0005639362752009022],\"sizemode\":\"area\",\"sizeref\":0.25,\"symbol\":\"circle\"},\"mode\":\"markers\",\"name\":\"New Zealand\",\"orientation\":\"v\",\"showlegend\":true,\"x\":[2229083.0],\"xaxis\":\"x\",\"y\":[2548.0],\"yaxis\":\"y\",\"type\":\"scatter\"},{\"customdata\":[[\"Nicaragua\",0.0]],\"hovertemplate\":\"location=%{customdata[0]}<br>Total Cases=%{x}<br>Total Deaths=%{y}<br>size=%{marker.size}<br>New Cases=%{customdata[1]}<extra></extra>\",\"legendgroup\":\"Nicaragua\",\"marker\":{\"color\":\"#636efa\",\"size\":[0.0],\"sizemode\":\"area\",\"sizeref\":0.25,\"symbol\":\"circle\"},\"mode\":\"markers\",\"name\":\"Nicaragua\",\"orientation\":\"v\",\"showlegend\":true,\"x\":[15655.0],\"xaxis\":\"x\",\"y\":[245.0],\"yaxis\":\"y\",\"type\":\"scatter\"},{\"customdata\":[[\"Niger\",0.0]],\"hovertemplate\":\"location=%{customdata[0]}<br>Total Cases=%{x}<br>Total Deaths=%{y}<br>size=%{marker.size}<br>New Cases=%{customdata[1]}<extra></extra>\",\"legendgroup\":\"Niger\",\"marker\":{\"color\":\"#EF553B\",\"size\":[0.0],\"sizemode\":\"area\",\"sizeref\":0.25,\"symbol\":\"circle\"},\"mode\":\"markers\",\"name\":\"Niger\",\"orientation\":\"v\",\"showlegend\":true,\"x\":[9508.0],\"xaxis\":\"x\",\"y\":[315.0],\"yaxis\":\"y\",\"type\":\"scatter\"},{\"customdata\":[[\"Nigeria\",0.0]],\"hovertemplate\":\"location=%{customdata[0]}<br>Total Cases=%{x}<br>Total Deaths=%{y}<br>size=%{marker.size}<br>New Cases=%{customdata[1]}<extra></extra>\",\"legendgroup\":\"Nigeria\",\"marker\":{\"color\":\"#00cc96\",\"size\":[0.0],\"sizemode\":\"area\",\"sizeref\":0.25,\"symbol\":\"circle\"},\"mode\":\"markers\",\"name\":\"Nigeria\",\"orientation\":\"v\",\"showlegend\":true,\"x\":[266598.0],\"xaxis\":\"x\",\"y\":[3155.0],\"yaxis\":\"y\",\"type\":\"scatter\"},{\"customdata\":[[\"North America\",55271.0]],\"hovertemplate\":\"location=%{customdata[0]}<br>Total Cases=%{x}<br>Total Deaths=%{y}<br>size=%{marker.size}<br>New Cases=%{customdata[1]}<extra></extra>\",\"legendgroup\":\"North America\",\"marker\":{\"color\":\"#ab63fa\",\"size\":[31.16932186662907],\"sizemode\":\"area\",\"sizeref\":0.25,\"symbol\":\"circle\"},\"mode\":\"markers\",\"name\":\"North America\",\"orientation\":\"v\",\"showlegend\":true,\"x\":[122717115.0],\"xaxis\":\"x\",\"y\":[1588112.0],\"yaxis\":\"y\",\"type\":\"scatter\"},{\"customdata\":[[\"North Korea\",0.0]],\"hovertemplate\":\"location=%{customdata[0]}<br>Total Cases=%{x}<br>Total Deaths=%{y}<br>size=%{marker.size}<br>New Cases=%{customdata[1]}<extra></extra>\",\"legendgroup\":\"North Korea\",\"marker\":{\"color\":\"#FFA15A\",\"size\":[0.0],\"sizemode\":\"area\",\"sizeref\":0.25,\"symbol\":\"circle\"},\"mode\":\"markers\",\"name\":\"North Korea\",\"orientation\":\"v\",\"showlegend\":true,\"x\":[1.0],\"xaxis\":\"x\",\"y\":[6.0],\"yaxis\":\"y\",\"type\":\"scatter\"},{\"customdata\":[[\"North Macedonia\",0.0]],\"hovertemplate\":\"location=%{customdata[0]}<br>Total Cases=%{x}<br>Total Deaths=%{y}<br>size=%{marker.size}<br>New Cases=%{customdata[1]}<extra></extra>\",\"legendgroup\":\"North Macedonia\",\"marker\":{\"color\":\"#19d3f3\",\"size\":[0.0],\"sizemode\":\"area\",\"sizeref\":0.25,\"symbol\":\"circle\"},\"mode\":\"markers\",\"name\":\"North Macedonia\",\"orientation\":\"v\",\"showlegend\":true,\"x\":[346852.0],\"xaxis\":\"x\",\"y\":[9662.0],\"yaxis\":\"y\",\"type\":\"scatter\"},{\"customdata\":[[\"Norway\",53.0]],\"hovertemplate\":\"location=%{customdata[0]}<br>Total Cases=%{x}<br>Total Deaths=%{y}<br>size=%{marker.size}<br>New Cases=%{customdata[1]}<extra></extra>\",\"legendgroup\":\"Norway\",\"marker\":{\"color\":\"#FF6692\",\"size\":[0.029888622585647822],\"sizemode\":\"area\",\"sizeref\":0.25,\"symbol\":\"circle\"},\"mode\":\"markers\",\"name\":\"Norway\",\"orientation\":\"v\",\"showlegend\":true,\"x\":[1479506.0],\"xaxis\":\"x\",\"y\":[5213.0],\"yaxis\":\"y\",\"type\":\"scatter\"},{\"customdata\":[[\"Oceania\",13928.0]],\"hovertemplate\":\"location=%{customdata[0]}<br>Total Cases=%{x}<br>Total Deaths=%{y}<br>size=%{marker.size}<br>New Cases=%{customdata[1]}<extra></extra>\",\"legendgroup\":\"Oceania\",\"marker\":{\"color\":\"#B6E880\",\"size\":[7.854504440998166],\"sizemode\":\"area\",\"sizeref\":0.25,\"symbol\":\"circle\"},\"mode\":\"markers\",\"name\":\"Oceania\",\"orientation\":\"v\",\"showlegend\":true,\"x\":[14041456.0],\"xaxis\":\"x\",\"y\":[24962.0],\"yaxis\":\"y\",\"type\":\"scatter\"},{\"customdata\":[[\"Oman\",0.0]],\"hovertemplate\":\"location=%{customdata[0]}<br>Total Cases=%{x}<br>Total Deaths=%{y}<br>size=%{marker.size}<br>New Cases=%{customdata[1]}<extra></extra>\",\"legendgroup\":\"Oman\",\"marker\":{\"color\":\"#FF97FF\",\"size\":[0.0],\"sizemode\":\"area\",\"sizeref\":0.25,\"symbol\":\"circle\"},\"mode\":\"markers\",\"name\":\"Oman\",\"orientation\":\"v\",\"showlegend\":true,\"x\":[399449.0],\"xaxis\":\"x\",\"y\":[4628.0],\"yaxis\":\"y\",\"type\":\"scatter\"},{\"customdata\":[[\"Pakistan\",73.0]],\"hovertemplate\":\"location=%{customdata[0]}<br>Total Cases=%{x}<br>Total Deaths=%{y}<br>size=%{marker.size}<br>New Cases=%{customdata[1]}<extra></extra>\",\"legendgroup\":\"Pakistan\",\"marker\":{\"color\":\"#FECB52\",\"size\":[0.04116734808966587],\"sizemode\":\"area\",\"sizeref\":0.25,\"symbol\":\"circle\"},\"mode\":\"markers\",\"name\":\"Pakistan\",\"orientation\":\"v\",\"showlegend\":true,\"x\":[1577411.0],\"xaxis\":\"x\",\"y\":[30644.0],\"yaxis\":\"y\",\"type\":\"scatter\"},{\"customdata\":[[\"Palau\",0.0]],\"hovertemplate\":\"location=%{customdata[0]}<br>Total Cases=%{x}<br>Total Deaths=%{y}<br>size=%{marker.size}<br>New Cases=%{customdata[1]}<extra></extra>\",\"legendgroup\":\"Palau\",\"marker\":{\"color\":\"#636efa\",\"size\":[0.0],\"sizemode\":\"area\",\"sizeref\":0.25,\"symbol\":\"circle\"},\"mode\":\"markers\",\"name\":\"Palau\",\"orientation\":\"v\",\"showlegend\":true,\"x\":[5991.0],\"xaxis\":\"x\",\"y\":[9.0],\"yaxis\":\"y\",\"type\":\"scatter\"},{\"customdata\":[[\"Palestine\",0.0]],\"hovertemplate\":\"location=%{customdata[0]}<br>Total Cases=%{x}<br>Total Deaths=%{y}<br>size=%{marker.size}<br>New Cases=%{customdata[1]}<extra></extra>\",\"legendgroup\":\"Palestine\",\"marker\":{\"color\":\"#EF553B\",\"size\":[0.0],\"sizemode\":\"area\",\"sizeref\":0.25,\"symbol\":\"circle\"},\"mode\":\"markers\",\"name\":\"Palestine\",\"orientation\":\"v\",\"showlegend\":true,\"x\":[703228.0],\"xaxis\":\"x\",\"y\":[5708.0],\"yaxis\":\"y\",\"type\":\"scatter\"},{\"customdata\":[[\"Panama\",0.0]],\"hovertemplate\":\"location=%{customdata[0]}<br>Total Cases=%{x}<br>Total Deaths=%{y}<br>size=%{marker.size}<br>New Cases=%{customdata[1]}<extra></extra>\",\"legendgroup\":\"Panama\",\"marker\":{\"color\":\"#00cc96\",\"size\":[0.0],\"sizemode\":\"area\",\"sizeref\":0.25,\"symbol\":\"circle\"},\"mode\":\"markers\",\"name\":\"Panama\",\"orientation\":\"v\",\"showlegend\":true,\"x\":[1031731.0],\"xaxis\":\"x\",\"y\":[8609.0],\"yaxis\":\"y\",\"type\":\"scatter\"},{\"customdata\":[[\"Papua New Guinea\",0.0]],\"hovertemplate\":\"location=%{customdata[0]}<br>Total Cases=%{x}<br>Total Deaths=%{y}<br>size=%{marker.size}<br>New Cases=%{customdata[1]}<extra></extra>\",\"legendgroup\":\"Papua New Guinea\",\"marker\":{\"color\":\"#ab63fa\",\"size\":[0.0],\"sizemode\":\"area\",\"sizeref\":0.25,\"symbol\":\"circle\"},\"mode\":\"markers\",\"name\":\"Papua New Guinea\",\"orientation\":\"v\",\"showlegend\":true,\"x\":[46825.0],\"xaxis\":\"x\",\"y\":[670.0],\"yaxis\":\"y\",\"type\":\"scatter\"},{\"customdata\":[[\"Paraguay\",0.0]],\"hovertemplate\":\"location=%{customdata[0]}<br>Total Cases=%{x}<br>Total Deaths=%{y}<br>size=%{marker.size}<br>New Cases=%{customdata[1]}<extra></extra>\",\"legendgroup\":\"Paraguay\",\"marker\":{\"color\":\"#FFA15A\",\"size\":[0.0],\"sizemode\":\"area\",\"sizeref\":0.25,\"symbol\":\"circle\"},\"mode\":\"markers\",\"name\":\"Paraguay\",\"orientation\":\"v\",\"showlegend\":true,\"x\":[808401.0],\"xaxis\":\"x\",\"y\":[19878.0],\"yaxis\":\"y\",\"type\":\"scatter\"},{\"customdata\":[[\"Peru\",0.0]],\"hovertemplate\":\"location=%{customdata[0]}<br>Total Cases=%{x}<br>Total Deaths=%{y}<br>size=%{marker.size}<br>New Cases=%{customdata[1]}<extra></extra>\",\"legendgroup\":\"Peru\",\"marker\":{\"color\":\"#19d3f3\",\"size\":[0.0],\"sizemode\":\"area\",\"sizeref\":0.25,\"symbol\":\"circle\"},\"mode\":\"markers\",\"name\":\"Peru\",\"orientation\":\"v\",\"showlegend\":true,\"x\":[4487553.0],\"xaxis\":\"x\",\"y\":[219539.0],\"yaxis\":\"y\",\"type\":\"scatter\"},{\"customdata\":[[\"Philippines\",150.0]],\"hovertemplate\":\"location=%{customdata[0]}<br>Total Cases=%{x}<br>Total Deaths=%{y}<br>size=%{marker.size}<br>New Cases=%{customdata[1]}<extra></extra>\",\"legendgroup\":\"Philippines\",\"marker\":{\"color\":\"#FF6692\",\"size\":[0.08459044128013533],\"sizemode\":\"area\",\"sizeref\":0.25,\"symbol\":\"circle\"},\"mode\":\"markers\",\"name\":\"Philippines\",\"orientation\":\"v\",\"showlegend\":true,\"x\":[4077452.0],\"xaxis\":\"x\",\"y\":[66188.0],\"yaxis\":\"y\",\"type\":\"scatter\"},{\"customdata\":[[\"Poland\",3459.0]],\"hovertemplate\":\"location=%{customdata[0]}<br>Total Cases=%{x}<br>Total Deaths=%{y}<br>size=%{marker.size}<br>New Cases=%{customdata[1]}<extra></extra>\",\"legendgroup\":\"Poland\",\"marker\":{\"color\":\"#B6E880\",\"size\":[1.950655575919921],\"sizemode\":\"area\",\"sizeref\":0.25,\"symbol\":\"circle\"},\"mode\":\"markers\",\"name\":\"Poland\",\"orientation\":\"v\",\"showlegend\":true,\"x\":[6444960.0],\"xaxis\":\"x\",\"y\":[119010.0],\"yaxis\":\"y\",\"type\":\"scatter\"},{\"customdata\":[[\"Portugal\",0.0]],\"hovertemplate\":\"location=%{customdata[0]}<br>Total Cases=%{x}<br>Total Deaths=%{y}<br>size=%{marker.size}<br>New Cases=%{customdata[1]}<extra></extra>\",\"legendgroup\":\"Portugal\",\"marker\":{\"color\":\"#FF97FF\",\"size\":[0.0],\"sizemode\":\"area\",\"sizeref\":0.25,\"symbol\":\"circle\"},\"mode\":\"markers\",\"name\":\"Portugal\",\"orientation\":\"v\",\"showlegend\":true,\"x\":[5570473.0],\"xaxis\":\"x\",\"y\":[26266.0],\"yaxis\":\"y\",\"type\":\"scatter\"},{\"customdata\":[[\"Qatar\",108.0]],\"hovertemplate\":\"location=%{customdata[0]}<br>Total Cases=%{x}<br>Total Deaths=%{y}<br>size=%{marker.size}<br>New Cases=%{customdata[1]}<extra></extra>\",\"legendgroup\":\"Qatar\",\"marker\":{\"color\":\"#FECB52\",\"size\":[0.06090511772169745],\"sizemode\":\"area\",\"sizeref\":0.25,\"symbol\":\"circle\"},\"mode\":\"markers\",\"name\":\"Qatar\",\"orientation\":\"v\",\"showlegend\":true,\"x\":[495090.0],\"xaxis\":\"x\",\"y\":[688.0],\"yaxis\":\"y\",\"type\":\"scatter\"},{\"customdata\":[[\"Romania\",0.0]],\"hovertemplate\":\"location=%{customdata[0]}<br>Total Cases=%{x}<br>Total Deaths=%{y}<br>size=%{marker.size}<br>New Cases=%{customdata[1]}<extra></extra>\",\"legendgroup\":\"Romania\",\"marker\":{\"color\":\"#636efa\",\"size\":[0.0],\"sizemode\":\"area\",\"sizeref\":0.25,\"symbol\":\"circle\"},\"mode\":\"markers\",\"name\":\"Romania\",\"orientation\":\"v\",\"showlegend\":true,\"x\":[3346046.0],\"xaxis\":\"x\",\"y\":[67736.0],\"yaxis\":\"y\",\"type\":\"scatter\"},{\"customdata\":[[\"Russia\",12385.0]],\"hovertemplate\":\"location=%{customdata[0]}<br>Total Cases=%{x}<br>Total Deaths=%{y}<br>size=%{marker.size}<br>New Cases=%{customdata[1]}<extra></extra>\",\"legendgroup\":\"Russia\",\"marker\":{\"color\":\"#EF553B\",\"size\":[6.984350768363175],\"sizemode\":\"area\",\"sizeref\":0.25,\"symbol\":\"circle\"},\"mode\":\"markers\",\"name\":\"Russia\",\"orientation\":\"v\",\"showlegend\":true,\"x\":[22075858.0],\"xaxis\":\"x\",\"y\":[388478.0],\"yaxis\":\"y\",\"type\":\"scatter\"},{\"customdata\":[[\"Rwanda\",0.0]],\"hovertemplate\":\"location=%{customdata[0]}<br>Total Cases=%{x}<br>Total Deaths=%{y}<br>size=%{marker.size}<br>New Cases=%{customdata[1]}<extra></extra>\",\"legendgroup\":\"Rwanda\",\"marker\":{\"color\":\"#00cc96\",\"size\":[0.0],\"sizemode\":\"area\",\"sizeref\":0.25,\"symbol\":\"circle\"},\"mode\":\"markers\",\"name\":\"Rwanda\",\"orientation\":\"v\",\"showlegend\":true,\"x\":[133194.0],\"xaxis\":\"x\",\"y\":[1468.0],\"yaxis\":\"y\",\"type\":\"scatter\"},{\"customdata\":[[\"Saint Helena\",0.0]],\"hovertemplate\":\"location=%{customdata[0]}<br>Total Cases=%{x}<br>Total Deaths=%{y}<br>size=%{marker.size}<br>New Cases=%{customdata[1]}<extra></extra>\",\"legendgroup\":\"Saint Helena\",\"marker\":{\"color\":\"#ab63fa\",\"size\":[0.0],\"sizemode\":\"area\",\"sizeref\":0.25,\"symbol\":\"circle\"},\"mode\":\"markers\",\"name\":\"Saint Helena\",\"orientation\":\"v\",\"showlegend\":true,\"x\":[2166.0],\"xaxis\":\"x\",\"y\":[null],\"yaxis\":\"y\",\"type\":\"scatter\"},{\"customdata\":[[\"Saint Kitts and Nevis\",0.0]],\"hovertemplate\":\"location=%{customdata[0]}<br>Total Cases=%{x}<br>Total Deaths=%{y}<br>size=%{marker.size}<br>New Cases=%{customdata[1]}<extra></extra>\",\"legendgroup\":\"Saint Kitts and Nevis\",\"marker\":{\"color\":\"#FFA15A\",\"size\":[0.0],\"sizemode\":\"area\",\"sizeref\":0.25,\"symbol\":\"circle\"},\"mode\":\"markers\",\"name\":\"Saint Kitts and Nevis\",\"orientation\":\"v\",\"showlegend\":true,\"x\":[6597.0],\"xaxis\":\"x\",\"y\":[47.0],\"yaxis\":\"y\",\"type\":\"scatter\"},{\"customdata\":[[\"Saint Lucia\",0.0]],\"hovertemplate\":\"location=%{customdata[0]}<br>Total Cases=%{x}<br>Total Deaths=%{y}<br>size=%{marker.size}<br>New Cases=%{customdata[1]}<extra></extra>\",\"legendgroup\":\"Saint Lucia\",\"marker\":{\"color\":\"#19d3f3\",\"size\":[0.0],\"sizemode\":\"area\",\"sizeref\":0.25,\"symbol\":\"circle\"},\"mode\":\"markers\",\"name\":\"Saint Lucia\",\"orientation\":\"v\",\"showlegend\":true,\"x\":[30004.0],\"xaxis\":\"x\",\"y\":[409.0],\"yaxis\":\"y\",\"type\":\"scatter\"},{\"customdata\":[[\"Saint Pierre and Miquelon\",0.0]],\"hovertemplate\":\"location=%{customdata[0]}<br>Total Cases=%{x}<br>Total Deaths=%{y}<br>size=%{marker.size}<br>New Cases=%{customdata[1]}<extra></extra>\",\"legendgroup\":\"Saint Pierre and Miquelon\",\"marker\":{\"color\":\"#FF6692\",\"size\":[0.0],\"sizemode\":\"area\",\"sizeref\":0.25,\"symbol\":\"circle\"},\"mode\":\"markers\",\"name\":\"Saint Pierre and Miquelon\",\"orientation\":\"v\",\"showlegend\":true,\"x\":[3452.0],\"xaxis\":\"x\",\"y\":[2.0],\"yaxis\":\"y\",\"type\":\"scatter\"},{\"customdata\":[[\"Saint Vincent and the Grenadines\",0.0]],\"hovertemplate\":\"location=%{customdata[0]}<br>Total Cases=%{x}<br>Total Deaths=%{y}<br>size=%{marker.size}<br>New Cases=%{customdata[1]}<extra></extra>\",\"legendgroup\":\"Saint Vincent and the Grenadines\",\"marker\":{\"color\":\"#B6E880\",\"size\":[0.0],\"sizemode\":\"area\",\"sizeref\":0.25,\"symbol\":\"circle\"},\"mode\":\"markers\",\"name\":\"Saint Vincent and the Grenadines\",\"orientation\":\"v\",\"showlegend\":true,\"x\":[9589.0],\"xaxis\":\"x\",\"y\":[123.0],\"yaxis\":\"y\",\"type\":\"scatter\"},{\"customdata\":[[\"Samoa\",0.0]],\"hovertemplate\":\"location=%{customdata[0]}<br>Total Cases=%{x}<br>Total Deaths=%{y}<br>size=%{marker.size}<br>New Cases=%{customdata[1]}<extra></extra>\",\"legendgroup\":\"Samoa\",\"marker\":{\"color\":\"#FF97FF\",\"size\":[0.0],\"sizemode\":\"area\",\"sizeref\":0.25,\"symbol\":\"circle\"},\"mode\":\"markers\",\"name\":\"Samoa\",\"orientation\":\"v\",\"showlegend\":true,\"x\":[16607.0],\"xaxis\":\"x\",\"y\":[29.0],\"yaxis\":\"y\",\"type\":\"scatter\"},{\"customdata\":[[\"San Marino\",0.0]],\"hovertemplate\":\"location=%{customdata[0]}<br>Total Cases=%{x}<br>Total Deaths=%{y}<br>size=%{marker.size}<br>New Cases=%{customdata[1]}<extra></extra>\",\"legendgroup\":\"San Marino\",\"marker\":{\"color\":\"#FECB52\",\"size\":[0.0],\"sizemode\":\"area\",\"sizeref\":0.25,\"symbol\":\"circle\"},\"mode\":\"markers\",\"name\":\"San Marino\",\"orientation\":\"v\",\"showlegend\":true,\"x\":[23616.0],\"xaxis\":\"x\",\"y\":[122.0],\"yaxis\":\"y\",\"type\":\"scatter\"},{\"customdata\":[[\"Sao Tome and Principe\",0.0]],\"hovertemplate\":\"location=%{customdata[0]}<br>Total Cases=%{x}<br>Total Deaths=%{y}<br>size=%{marker.size}<br>New Cases=%{customdata[1]}<extra></extra>\",\"legendgroup\":\"Sao Tome and Principe\",\"marker\":{\"color\":\"#636efa\",\"size\":[0.0],\"sizemode\":\"area\",\"sizeref\":0.25,\"symbol\":\"circle\"},\"mode\":\"markers\",\"name\":\"Sao Tome and Principe\",\"orientation\":\"v\",\"showlegend\":true,\"x\":[6281.0],\"xaxis\":\"x\",\"y\":[77.0],\"yaxis\":\"y\",\"type\":\"scatter\"},{\"customdata\":[[\"Saudi Arabia\",83.0]],\"hovertemplate\":\"location=%{customdata[0]}<br>Total Cases=%{x}<br>Total Deaths=%{y}<br>size=%{marker.size}<br>New Cases=%{customdata[1]}<extra></extra>\",\"legendgroup\":\"Saudi Arabia\",\"marker\":{\"color\":\"#EF553B\",\"size\":[0.04680671084167489],\"sizemode\":\"area\",\"sizeref\":0.25,\"symbol\":\"circle\"},\"mode\":\"markers\",\"name\":\"Saudi Arabia\",\"orientation\":\"v\",\"showlegend\":true,\"x\":[830127.0],\"xaxis\":\"x\",\"y\":[9618.0],\"yaxis\":\"y\",\"type\":\"scatter\"},{\"customdata\":[[\"Senegal\",0.0]],\"hovertemplate\":\"location=%{customdata[0]}<br>Total Cases=%{x}<br>Total Deaths=%{y}<br>size=%{marker.size}<br>New Cases=%{customdata[1]}<extra></extra>\",\"legendgroup\":\"Senegal\",\"marker\":{\"color\":\"#00cc96\",\"size\":[0.0],\"sizemode\":\"area\",\"sizeref\":0.25,\"symbol\":\"circle\"},\"mode\":\"markers\",\"name\":\"Senegal\",\"orientation\":\"v\",\"showlegend\":true,\"x\":[88926.0],\"xaxis\":\"x\",\"y\":[1971.0],\"yaxis\":\"y\",\"type\":\"scatter\"},{\"customdata\":[[\"Serbia\",873.0]],\"hovertemplate\":\"location=%{customdata[0]}<br>Total Cases=%{x}<br>Total Deaths=%{y}<br>size=%{marker.size}<br>New Cases=%{customdata[1]}<extra></extra>\",\"legendgroup\":\"Serbia\",\"marker\":{\"color\":\"#ab63fa\",\"size\":[0.49231636825038766],\"sizemode\":\"area\",\"sizeref\":0.25,\"symbol\":\"circle\"},\"mode\":\"markers\",\"name\":\"Serbia\",\"orientation\":\"v\",\"showlegend\":true,\"x\":[2500142.0],\"xaxis\":\"x\",\"y\":[17881.0],\"yaxis\":\"y\",\"type\":\"scatter\"},{\"customdata\":[[\"Seychelles\",0.0]],\"hovertemplate\":\"location=%{customdata[0]}<br>Total Cases=%{x}<br>Total Deaths=%{y}<br>size=%{marker.size}<br>New Cases=%{customdata[1]}<extra></extra>\",\"legendgroup\":\"Seychelles\",\"marker\":{\"color\":\"#FFA15A\",\"size\":[0.0],\"sizemode\":\"area\",\"sizeref\":0.25,\"symbol\":\"circle\"},\"mode\":\"markers\",\"name\":\"Seychelles\",\"orientation\":\"v\",\"showlegend\":true,\"x\":[50665.0],\"xaxis\":\"x\",\"y\":[172.0],\"yaxis\":\"y\",\"type\":\"scatter\"},{\"customdata\":[[\"Sierra Leone\",0.0]],\"hovertemplate\":\"location=%{customdata[0]}<br>Total Cases=%{x}<br>Total Deaths=%{y}<br>size=%{marker.size}<br>New Cases=%{customdata[1]}<extra></extra>\",\"legendgroup\":\"Sierra Leone\",\"marker\":{\"color\":\"#19d3f3\",\"size\":[0.0],\"sizemode\":\"area\",\"sizeref\":0.25,\"symbol\":\"circle\"},\"mode\":\"markers\",\"name\":\"Sierra Leone\",\"orientation\":\"v\",\"showlegend\":true,\"x\":[7760.0],\"xaxis\":\"x\",\"y\":[126.0],\"yaxis\":\"y\",\"type\":\"scatter\"},{\"customdata\":[[\"Singapore\",0.0]],\"hovertemplate\":\"location=%{customdata[0]}<br>Total Cases=%{x}<br>Total Deaths=%{y}<br>size=%{marker.size}<br>New Cases=%{customdata[1]}<extra></extra>\",\"legendgroup\":\"Singapore\",\"marker\":{\"color\":\"#FF6692\",\"size\":[0.0],\"sizemode\":\"area\",\"sizeref\":0.25,\"symbol\":\"circle\"},\"mode\":\"markers\",\"name\":\"Singapore\",\"orientation\":\"v\",\"showlegend\":true,\"x\":[2235294.0],\"xaxis\":\"x\",\"y\":[1722.0],\"yaxis\":\"y\",\"type\":\"scatter\"},{\"customdata\":[[\"Slovakia\",262.0]],\"hovertemplate\":\"location=%{customdata[0]}<br>Total Cases=%{x}<br>Total Deaths=%{y}<br>size=%{marker.size}<br>New Cases=%{customdata[1]}<extra></extra>\",\"legendgroup\":\"Slovakia\",\"marker\":{\"color\":\"#B6E880\",\"size\":[0.1477513041026364],\"sizemode\":\"area\",\"sizeref\":0.25,\"symbol\":\"circle\"},\"mode\":\"markers\",\"name\":\"Slovakia\",\"orientation\":\"v\",\"showlegend\":true,\"x\":[2667551.0],\"xaxis\":\"x\",\"y\":[21035.0],\"yaxis\":\"y\",\"type\":\"scatter\"},{\"customdata\":[[\"Slovenia\",511.0]],\"hovertemplate\":\"location=%{customdata[0]}<br>Total Cases=%{x}<br>Total Deaths=%{y}<br>size=%{marker.size}<br>New Cases=%{customdata[1]}<extra></extra>\",\"legendgroup\":\"Slovenia\",\"marker\":{\"color\":\"#FF97FF\",\"size\":[0.2881714366276611],\"sizemode\":\"area\",\"sizeref\":0.25,\"symbol\":\"circle\"},\"mode\":\"markers\",\"name\":\"Slovenia\",\"orientation\":\"v\",\"showlegend\":true,\"x\":[1331707.0],\"xaxis\":\"x\",\"y\":[7078.0],\"yaxis\":\"y\",\"type\":\"scatter\"},{\"customdata\":[[\"Solomon Islands\",0.0]],\"hovertemplate\":\"location=%{customdata[0]}<br>Total Cases=%{x}<br>Total Deaths=%{y}<br>size=%{marker.size}<br>New Cases=%{customdata[1]}<extra></extra>\",\"legendgroup\":\"Solomon Islands\",\"marker\":{\"color\":\"#FECB52\",\"size\":[0.0],\"sizemode\":\"area\",\"sizeref\":0.25,\"symbol\":\"circle\"},\"mode\":\"markers\",\"name\":\"Solomon Islands\",\"orientation\":\"v\",\"showlegend\":true,\"x\":[24575.0],\"xaxis\":\"x\",\"y\":[153.0],\"yaxis\":\"y\",\"type\":\"scatter\"},{\"customdata\":[[\"Somalia\",0.0]],\"hovertemplate\":\"location=%{customdata[0]}<br>Total Cases=%{x}<br>Total Deaths=%{y}<br>size=%{marker.size}<br>New Cases=%{customdata[1]}<extra></extra>\",\"legendgroup\":\"Somalia\",\"marker\":{\"color\":\"#636efa\",\"size\":[0.0],\"sizemode\":\"area\",\"sizeref\":0.25,\"symbol\":\"circle\"},\"mode\":\"markers\",\"name\":\"Somalia\",\"orientation\":\"v\",\"showlegend\":true,\"x\":[27324.0],\"xaxis\":\"x\",\"y\":[1361.0],\"yaxis\":\"y\",\"type\":\"scatter\"},{\"customdata\":[[\"South Africa\",426.0]],\"hovertemplate\":\"location=%{customdata[0]}<br>Total Cases=%{x}<br>Total Deaths=%{y}<br>size=%{marker.size}<br>New Cases=%{customdata[1]}<extra></extra>\",\"legendgroup\":\"South Africa\",\"marker\":{\"color\":\"#EF553B\",\"size\":[0.24023685323558436],\"sizemode\":\"area\",\"sizeref\":0.25,\"symbol\":\"circle\"},\"mode\":\"markers\",\"name\":\"South Africa\",\"orientation\":\"v\",\"showlegend\":true,\"x\":[4067067.0],\"xaxis\":\"x\",\"y\":[102595.0],\"yaxis\":\"y\",\"type\":\"scatter\"},{\"customdata\":[[\"South America\",4001.0]],\"hovertemplate\":\"location=%{customdata[0]}<br>Total Cases=%{x}<br>Total Deaths=%{y}<br>size=%{marker.size}<br>New Cases=%{customdata[1]}<extra></extra>\",\"legendgroup\":\"South America\",\"marker\":{\"color\":\"#00cc96\",\"size\":[2.25630903707881],\"sizemode\":\"area\",\"sizeref\":0.25,\"symbol\":\"circle\"},\"mode\":\"markers\",\"name\":\"South America\",\"orientation\":\"v\",\"showlegend\":true,\"x\":[67963678.0],\"xaxis\":\"x\",\"y\":[1350329.0],\"yaxis\":\"y\",\"type\":\"scatter\"},{\"customdata\":[[\"South Korea\",10335.0]],\"hovertemplate\":\"location=%{customdata[0]}<br>Total Cases=%{x}<br>Total Deaths=%{y}<br>size=%{marker.size}<br>New Cases=%{customdata[1]}<extra></extra>\",\"legendgroup\":\"South Korea\",\"marker\":{\"color\":\"#ab63fa\",\"size\":[5.828281404201325],\"sizemode\":\"area\",\"sizeref\":0.25,\"symbol\":\"circle\"},\"mode\":\"markers\",\"name\":\"South Korea\",\"orientation\":\"v\",\"showlegend\":true,\"x\":[30615522.0],\"xaxis\":\"x\",\"y\":[34093.0],\"yaxis\":\"y\",\"type\":\"scatter\"},{\"customdata\":[[\"South Sudan\",0.0]],\"hovertemplate\":\"location=%{customdata[0]}<br>Total Cases=%{x}<br>Total Deaths=%{y}<br>size=%{marker.size}<br>New Cases=%{customdata[1]}<extra></extra>\",\"legendgroup\":\"South Sudan\",\"marker\":{\"color\":\"#FFA15A\",\"size\":[0.0],\"sizemode\":\"area\",\"sizeref\":0.25,\"symbol\":\"circle\"},\"mode\":\"markers\",\"name\":\"South Sudan\",\"orientation\":\"v\",\"showlegend\":true,\"x\":[18368.0],\"xaxis\":\"x\",\"y\":[138.0],\"yaxis\":\"y\",\"type\":\"scatter\"},{\"customdata\":[[\"Spain\",0.0]],\"hovertemplate\":\"location=%{customdata[0]}<br>Total Cases=%{x}<br>Total Deaths=%{y}<br>size=%{marker.size}<br>New Cases=%{customdata[1]}<extra></extra>\",\"legendgroup\":\"Spain\",\"marker\":{\"color\":\"#19d3f3\",\"size\":[0.0],\"sizemode\":\"area\",\"sizeref\":0.25,\"symbol\":\"circle\"},\"mode\":\"markers\",\"name\":\"Spain\",\"orientation\":\"v\",\"showlegend\":true,\"x\":[13770429.0],\"xaxis\":\"x\",\"y\":[119479.0],\"yaxis\":\"y\",\"type\":\"scatter\"},{\"customdata\":[[\"Sri Lanka\",2.0]],\"hovertemplate\":\"location=%{customdata[0]}<br>Total Cases=%{x}<br>Total Deaths=%{y}<br>size=%{marker.size}<br>New Cases=%{customdata[1]}<extra></extra>\",\"legendgroup\":\"Sri Lanka\",\"marker\":{\"color\":\"#FF6692\",\"size\":[0.0011278725504018045],\"sizemode\":\"area\",\"sizeref\":0.25,\"symbol\":\"circle\"},\"mode\":\"markers\",\"name\":\"Sri Lanka\",\"orientation\":\"v\",\"showlegend\":true,\"x\":[672039.0],\"xaxis\":\"x\",\"y\":[16830.0],\"yaxis\":\"y\",\"type\":\"scatter\"},{\"customdata\":[[\"Sudan\",0.0]],\"hovertemplate\":\"location=%{customdata[0]}<br>Total Cases=%{x}<br>Total Deaths=%{y}<br>size=%{marker.size}<br>New Cases=%{customdata[1]}<extra></extra>\",\"legendgroup\":\"Sudan\",\"marker\":{\"color\":\"#B6E880\",\"size\":[0.0],\"sizemode\":\"area\",\"sizeref\":0.25,\"symbol\":\"circle\"},\"mode\":\"markers\",\"name\":\"Sudan\",\"orientation\":\"v\",\"showlegend\":true,\"x\":[63829.0],\"xaxis\":\"x\",\"y\":[5017.0],\"yaxis\":\"y\",\"type\":\"scatter\"},{\"customdata\":[[\"Suriname\",0.0]],\"hovertemplate\":\"location=%{customdata[0]}<br>Total Cases=%{x}<br>Total Deaths=%{y}<br>size=%{marker.size}<br>New Cases=%{customdata[1]}<extra></extra>\",\"legendgroup\":\"Suriname\",\"marker\":{\"color\":\"#FF97FF\",\"size\":[0.0],\"sizemode\":\"area\",\"sizeref\":0.25,\"symbol\":\"circle\"},\"mode\":\"markers\",\"name\":\"Suriname\",\"orientation\":\"v\",\"showlegend\":true,\"x\":[82467.0],\"xaxis\":\"x\",\"y\":[1404.0],\"yaxis\":\"y\",\"type\":\"scatter\"},{\"customdata\":[[\"Sweden\",804.0]],\"hovertemplate\":\"location=%{customdata[0]}<br>Total Cases=%{x}<br>Total Deaths=%{y}<br>size=%{marker.size}<br>New Cases=%{customdata[1]}<extra></extra>\",\"legendgroup\":\"Sweden\",\"marker\":{\"color\":\"#FECB52\",\"size\":[0.45340476526152546],\"sizemode\":\"area\",\"sizeref\":0.25,\"symbol\":\"circle\"},\"mode\":\"markers\",\"name\":\"Sweden\",\"orientation\":\"v\",\"showlegend\":true,\"x\":[2699339.0],\"xaxis\":\"x\",\"y\":[23777.0],\"yaxis\":\"y\",\"type\":\"scatter\"},{\"customdata\":[[\"Switzerland\",0.0]],\"hovertemplate\":\"location=%{customdata[0]}<br>Total Cases=%{x}<br>Total Deaths=%{y}<br>size=%{marker.size}<br>New Cases=%{customdata[1]}<extra></extra>\",\"legendgroup\":\"Switzerland\",\"marker\":{\"color\":\"#636efa\",\"size\":[0.0],\"sizemode\":\"area\",\"sizeref\":0.25,\"symbol\":\"circle\"},\"mode\":\"markers\",\"name\":\"Switzerland\",\"orientation\":\"v\",\"showlegend\":true,\"x\":[4413911.0],\"xaxis\":\"x\",\"y\":[14210.0],\"yaxis\":\"y\",\"type\":\"scatter\"},{\"customdata\":[[\"Syria\",0.0]],\"hovertemplate\":\"location=%{customdata[0]}<br>Total Cases=%{x}<br>Total Deaths=%{y}<br>size=%{marker.size}<br>New Cases=%{customdata[1]}<extra></extra>\",\"legendgroup\":\"Syria\",\"marker\":{\"color\":\"#EF553B\",\"size\":[0.0],\"sizemode\":\"area\",\"sizeref\":0.25,\"symbol\":\"circle\"},\"mode\":\"markers\",\"name\":\"Syria\",\"orientation\":\"v\",\"showlegend\":true,\"x\":[57467.0],\"xaxis\":\"x\",\"y\":[3164.0],\"yaxis\":\"y\",\"type\":\"scatter\"},{\"customdata\":[[\"Taiwan\",0.0]],\"hovertemplate\":\"location=%{customdata[0]}<br>Total Cases=%{x}<br>Total Deaths=%{y}<br>size=%{marker.size}<br>New Cases=%{customdata[1]}<extra></extra>\",\"legendgroup\":\"Taiwan\",\"marker\":{\"color\":\"#00cc96\",\"size\":[0.0],\"sizemode\":\"area\",\"sizeref\":0.25,\"symbol\":\"circle\"},\"mode\":\"markers\",\"name\":\"Taiwan\",\"orientation\":\"v\",\"showlegend\":true,\"x\":[9970937.0],\"xaxis\":\"x\",\"y\":[17672.0],\"yaxis\":\"y\",\"type\":\"scatter\"},{\"customdata\":[[\"Tajikistan\",0.0]],\"hovertemplate\":\"location=%{customdata[0]}<br>Total Cases=%{x}<br>Total Deaths=%{y}<br>size=%{marker.size}<br>New Cases=%{customdata[1]}<extra></extra>\",\"legendgroup\":\"Tajikistan\",\"marker\":{\"color\":\"#ab63fa\",\"size\":[0.0],\"sizemode\":\"area\",\"sizeref\":0.25,\"symbol\":\"circle\"},\"mode\":\"markers\",\"name\":\"Tajikistan\",\"orientation\":\"v\",\"showlegend\":true,\"x\":[17786.0],\"xaxis\":\"x\",\"y\":[125.0],\"yaxis\":\"y\",\"type\":\"scatter\"},{\"customdata\":[[\"Tanzania\",0.0]],\"hovertemplate\":\"location=%{customdata[0]}<br>Total Cases=%{x}<br>Total Deaths=%{y}<br>size=%{marker.size}<br>New Cases=%{customdata[1]}<extra></extra>\",\"legendgroup\":\"Tanzania\",\"marker\":{\"color\":\"#FFA15A\",\"size\":[0.0],\"sizemode\":\"area\",\"sizeref\":0.25,\"symbol\":\"circle\"},\"mode\":\"markers\",\"name\":\"Tanzania\",\"orientation\":\"v\",\"showlegend\":true,\"x\":[42906.0],\"xaxis\":\"x\",\"y\":[846.0],\"yaxis\":\"y\",\"type\":\"scatter\"},{\"customdata\":[[\"Thailand\",0.0]],\"hovertemplate\":\"location=%{customdata[0]}<br>Total Cases=%{x}<br>Total Deaths=%{y}<br>size=%{marker.size}<br>New Cases=%{customdata[1]}<extra></extra>\",\"legendgroup\":\"Thailand\",\"marker\":{\"color\":\"#19d3f3\",\"size\":[0.0],\"sizemode\":\"area\",\"sizeref\":0.25,\"symbol\":\"circle\"},\"mode\":\"markers\",\"name\":\"Thailand\",\"orientation\":\"v\",\"showlegend\":true,\"x\":[4728182.0],\"xaxis\":\"x\",\"y\":[33918.0],\"yaxis\":\"y\",\"type\":\"scatter\"},{\"customdata\":[[\"Timor\",0.0]],\"hovertemplate\":\"location=%{customdata[0]}<br>Total Cases=%{x}<br>Total Deaths=%{y}<br>size=%{marker.size}<br>New Cases=%{customdata[1]}<extra></extra>\",\"legendgroup\":\"Timor\",\"marker\":{\"color\":\"#FF6692\",\"size\":[0.0],\"sizemode\":\"area\",\"sizeref\":0.25,\"symbol\":\"circle\"},\"mode\":\"markers\",\"name\":\"Timor\",\"orientation\":\"v\",\"showlegend\":true,\"x\":[23419.0],\"xaxis\":\"x\",\"y\":[138.0],\"yaxis\":\"y\",\"type\":\"scatter\"},{\"customdata\":[[\"Togo\",0.0]],\"hovertemplate\":\"location=%{customdata[0]}<br>Total Cases=%{x}<br>Total Deaths=%{y}<br>size=%{marker.size}<br>New Cases=%{customdata[1]}<extra></extra>\",\"legendgroup\":\"Togo\",\"marker\":{\"color\":\"#B6E880\",\"size\":[0.0],\"sizemode\":\"area\",\"sizeref\":0.25,\"symbol\":\"circle\"},\"mode\":\"markers\",\"name\":\"Togo\",\"orientation\":\"v\",\"showlegend\":true,\"x\":[39396.0],\"xaxis\":\"x\",\"y\":[290.0],\"yaxis\":\"y\",\"type\":\"scatter\"},{\"customdata\":[[\"Tonga\",0.0]],\"hovertemplate\":\"location=%{customdata[0]}<br>Total Cases=%{x}<br>Total Deaths=%{y}<br>size=%{marker.size}<br>New Cases=%{customdata[1]}<extra></extra>\",\"legendgroup\":\"Tonga\",\"marker\":{\"color\":\"#FF97FF\",\"size\":[0.0],\"sizemode\":\"area\",\"sizeref\":0.25,\"symbol\":\"circle\"},\"mode\":\"markers\",\"name\":\"Tonga\",\"orientation\":\"v\",\"showlegend\":true,\"x\":[16810.0],\"xaxis\":\"x\",\"y\":[13.0],\"yaxis\":\"y\",\"type\":\"scatter\"},{\"customdata\":[[\"Trinidad and Tobago\",0.0]],\"hovertemplate\":\"location=%{customdata[0]}<br>Total Cases=%{x}<br>Total Deaths=%{y}<br>size=%{marker.size}<br>New Cases=%{customdata[1]}<extra></extra>\",\"legendgroup\":\"Trinidad and Tobago\",\"marker\":{\"color\":\"#FECB52\",\"size\":[0.0],\"sizemode\":\"area\",\"sizeref\":0.25,\"symbol\":\"circle\"},\"mode\":\"markers\",\"name\":\"Trinidad and Tobago\",\"orientation\":\"v\",\"showlegend\":true,\"x\":[189918.0],\"xaxis\":\"x\",\"y\":[4355.0],\"yaxis\":\"y\",\"type\":\"scatter\"},{\"customdata\":[[\"Tunisia\",0.0]],\"hovertemplate\":\"location=%{customdata[0]}<br>Total Cases=%{x}<br>Total Deaths=%{y}<br>size=%{marker.size}<br>New Cases=%{customdata[1]}<extra></extra>\",\"legendgroup\":\"Tunisia\",\"marker\":{\"color\":\"#636efa\",\"size\":[0.0],\"sizemode\":\"area\",\"sizeref\":0.25,\"symbol\":\"circle\"},\"mode\":\"markers\",\"name\":\"Tunisia\",\"orientation\":\"v\",\"showlegend\":true,\"x\":[1151126.0],\"xaxis\":\"x\",\"y\":[29341.0],\"yaxis\":\"y\",\"type\":\"scatter\"},{\"customdata\":[[\"Turkey\",0.0]],\"hovertemplate\":\"location=%{customdata[0]}<br>Total Cases=%{x}<br>Total Deaths=%{y}<br>size=%{marker.size}<br>New Cases=%{customdata[1]}<extra></extra>\",\"legendgroup\":\"Turkey\",\"marker\":{\"color\":\"#EF553B\",\"size\":[0.0],\"sizemode\":\"area\",\"sizeref\":0.25,\"symbol\":\"circle\"},\"mode\":\"markers\",\"name\":\"Turkey\",\"orientation\":\"v\",\"showlegend\":true,\"x\":[17042722.0],\"xaxis\":\"x\",\"y\":[101492.0],\"yaxis\":\"y\",\"type\":\"scatter\"},{\"customdata\":[[\"Turks and Caicos Islands\",4.0]],\"hovertemplate\":\"location=%{customdata[0]}<br>Total Cases=%{x}<br>Total Deaths=%{y}<br>size=%{marker.size}<br>New Cases=%{customdata[1]}<extra></extra>\",\"legendgroup\":\"Turks and Caicos Islands\",\"marker\":{\"color\":\"#00cc96\",\"size\":[0.002255745100803609],\"sizemode\":\"area\",\"sizeref\":0.25,\"symbol\":\"circle\"},\"mode\":\"markers\",\"name\":\"Turks and Caicos Islands\",\"orientation\":\"v\",\"showlegend\":true,\"x\":[6561.0],\"xaxis\":\"x\",\"y\":[38.0],\"yaxis\":\"y\",\"type\":\"scatter\"},{\"customdata\":[[\"Tuvalu\",0.0]],\"hovertemplate\":\"location=%{customdata[0]}<br>Total Cases=%{x}<br>Total Deaths=%{y}<br>size=%{marker.size}<br>New Cases=%{customdata[1]}<extra></extra>\",\"legendgroup\":\"Tuvalu\",\"marker\":{\"color\":\"#ab63fa\",\"size\":[0.0],\"sizemode\":\"area\",\"sizeref\":0.25,\"symbol\":\"circle\"},\"mode\":\"markers\",\"name\":\"Tuvalu\",\"orientation\":\"v\",\"showlegend\":true,\"x\":[2805.0],\"xaxis\":\"x\",\"y\":[null],\"yaxis\":\"y\",\"type\":\"scatter\"},{\"customdata\":[[\"Uganda\",0.0]],\"hovertemplate\":\"location=%{customdata[0]}<br>Total Cases=%{x}<br>Total Deaths=%{y}<br>size=%{marker.size}<br>New Cases=%{customdata[1]}<extra></extra>\",\"legendgroup\":\"Uganda\",\"marker\":{\"color\":\"#FFA15A\",\"size\":[0.0],\"sizemode\":\"area\",\"sizeref\":0.25,\"symbol\":\"circle\"},\"mode\":\"markers\",\"name\":\"Uganda\",\"orientation\":\"v\",\"showlegend\":true,\"x\":[170544.0],\"xaxis\":\"x\",\"y\":[3630.0],\"yaxis\":\"y\",\"type\":\"scatter\"},{\"customdata\":[[\"Ukraine\",111.0]],\"hovertemplate\":\"location=%{customdata[0]}<br>Total Cases=%{x}<br>Total Deaths=%{y}<br>size=%{marker.size}<br>New Cases=%{customdata[1]}<extra></extra>\",\"legendgroup\":\"Ukraine\",\"marker\":{\"color\":\"#19d3f3\",\"size\":[0.06259692654730015],\"sizemode\":\"area\",\"sizeref\":0.25,\"symbol\":\"circle\"},\"mode\":\"markers\",\"name\":\"Ukraine\",\"orientation\":\"v\",\"showlegend\":true,\"x\":[5711929.0],\"xaxis\":\"x\",\"y\":[119283.0],\"yaxis\":\"y\",\"type\":\"scatter\"},{\"customdata\":[[\"United Arab Emirates\",145.0]],\"hovertemplate\":\"location=%{customdata[0]}<br>Total Cases=%{x}<br>Total Deaths=%{y}<br>size=%{marker.size}<br>New Cases=%{customdata[1]}<extra></extra>\",\"legendgroup\":\"United Arab Emirates\",\"marker\":{\"color\":\"#FF6692\",\"size\":[0.08177075990413082],\"sizemode\":\"area\",\"sizeref\":0.25,\"symbol\":\"circle\"},\"mode\":\"markers\",\"name\":\"United Arab Emirates\",\"orientation\":\"v\",\"showlegend\":true,\"x\":[1053213.0],\"xaxis\":\"x\",\"y\":[2349.0],\"yaxis\":\"y\",\"type\":\"scatter\"},{\"customdata\":[[\"United Kingdom\",28779.0]],\"hovertemplate\":\"location=%{customdata[0]}<br>Total Cases=%{x}<br>Total Deaths=%{y}<br>size=%{marker.size}<br>New Cases=%{customdata[1]}<extra></extra>\",\"legendgroup\":\"United Kingdom\",\"marker\":{\"color\":\"#B6E880\",\"size\":[16.22952206400677],\"sizemode\":\"area\",\"sizeref\":0.25,\"symbol\":\"circle\"},\"mode\":\"markers\",\"name\":\"United Kingdom\",\"orientation\":\"v\",\"showlegend\":true,\"x\":[24425313.0],\"xaxis\":\"x\",\"y\":[219948.0],\"yaxis\":\"y\",\"type\":\"scatter\"},{\"customdata\":[[\"United States\",46931.0]],\"hovertemplate\":\"location=%{customdata[0]}<br>Total Cases=%{x}<br>Total Deaths=%{y}<br>size=%{marker.size}<br>New Cases=%{customdata[1]}<extra></extra>\",\"legendgroup\":\"United States\",\"marker\":{\"color\":\"#FF97FF\",\"size\":[26.466093331453543],\"sizemode\":\"area\",\"sizeref\":0.25,\"symbol\":\"circle\"},\"mode\":\"markers\",\"name\":\"United States\",\"orientation\":\"v\",\"showlegend\":true,\"x\":[103802702.0],\"xaxis\":\"x\",\"y\":[1123836.0],\"yaxis\":\"y\",\"type\":\"scatter\"},{\"customdata\":[[\"Upper middle income\",18280.0]],\"hovertemplate\":\"location=%{customdata[0]}<br>Total Cases=%{x}<br>Total Deaths=%{y}<br>size=%{marker.size}<br>New Cases=%{customdata[1]}<extra></extra>\",\"legendgroup\":\"Upper middle income\",\"marker\":{\"color\":\"#FECB52\",\"size\":[10.308755110672493],\"sizemode\":\"area\",\"sizeref\":0.25,\"symbol\":\"circle\"},\"mode\":\"markers\",\"name\":\"Upper middle income\",\"orientation\":\"v\",\"showlegend\":true,\"x\":[145057512.0],\"xaxis\":\"x\",\"y\":[2608854.0],\"yaxis\":\"y\",\"type\":\"scatter\"},{\"customdata\":[[\"Uruguay\",0.0]],\"hovertemplate\":\"location=%{customdata[0]}<br>Total Cases=%{x}<br>Total Deaths=%{y}<br>size=%{marker.size}<br>New Cases=%{customdata[1]}<extra></extra>\",\"legendgroup\":\"Uruguay\",\"marker\":{\"color\":\"#636efa\",\"size\":[0.0],\"sizemode\":\"area\",\"sizeref\":0.25,\"symbol\":\"circle\"},\"mode\":\"markers\",\"name\":\"Uruguay\",\"orientation\":\"v\",\"showlegend\":true,\"x\":[1034303.0],\"xaxis\":\"x\",\"y\":[7617.0],\"yaxis\":\"y\",\"type\":\"scatter\"},{\"customdata\":[[\"Uzbekistan\",0.0]],\"hovertemplate\":\"location=%{customdata[0]}<br>Total Cases=%{x}<br>Total Deaths=%{y}<br>size=%{marker.size}<br>New Cases=%{customdata[1]}<extra></extra>\",\"legendgroup\":\"Uzbekistan\",\"marker\":{\"color\":\"#EF553B\",\"size\":[0.0],\"sizemode\":\"area\",\"sizeref\":0.25,\"symbol\":\"circle\"},\"mode\":\"markers\",\"name\":\"Uzbekistan\",\"orientation\":\"v\",\"showlegend\":true,\"x\":[251247.0],\"xaxis\":\"x\",\"y\":[1637.0],\"yaxis\":\"y\",\"type\":\"scatter\"},{\"customdata\":[[\"Vanuatu\",0.0]],\"hovertemplate\":\"location=%{customdata[0]}<br>Total Cases=%{x}<br>Total Deaths=%{y}<br>size=%{marker.size}<br>New Cases=%{customdata[1]}<extra></extra>\",\"legendgroup\":\"Vanuatu\",\"marker\":{\"color\":\"#00cc96\",\"size\":[0.0],\"sizemode\":\"area\",\"sizeref\":0.25,\"symbol\":\"circle\"},\"mode\":\"markers\",\"name\":\"Vanuatu\",\"orientation\":\"v\",\"showlegend\":true,\"x\":[12014.0],\"xaxis\":\"x\",\"y\":[14.0],\"yaxis\":\"y\",\"type\":\"scatter\"},{\"customdata\":[[\"Vatican\",0.0]],\"hovertemplate\":\"location=%{customdata[0]}<br>Total Cases=%{x}<br>Total Deaths=%{y}<br>size=%{marker.size}<br>New Cases=%{customdata[1]}<extra></extra>\",\"legendgroup\":\"Vatican\",\"marker\":{\"color\":\"#ab63fa\",\"size\":[0.0],\"sizemode\":\"area\",\"sizeref\":0.25,\"symbol\":\"circle\"},\"mode\":\"markers\",\"name\":\"Vatican\",\"orientation\":\"v\",\"showlegend\":true,\"x\":[29.0],\"xaxis\":\"x\",\"y\":[null],\"yaxis\":\"y\",\"type\":\"scatter\"},{\"customdata\":[[\"Venezuela\",5.0]],\"hovertemplate\":\"location=%{customdata[0]}<br>Total Cases=%{x}<br>Total Deaths=%{y}<br>size=%{marker.size}<br>New Cases=%{customdata[1]}<extra></extra>\",\"legendgroup\":\"Venezuela\",\"marker\":{\"color\":\"#FFA15A\",\"size\":[0.0028196813760045115],\"sizemode\":\"area\",\"sizeref\":0.25,\"symbol\":\"circle\"},\"mode\":\"markers\",\"name\":\"Venezuela\",\"orientation\":\"v\",\"showlegend\":true,\"x\":[552162.0],\"xaxis\":\"x\",\"y\":[5854.0],\"yaxis\":\"y\",\"type\":\"scatter\"},{\"customdata\":[[\"Vietnam\",0.0]],\"hovertemplate\":\"location=%{customdata[0]}<br>Total Cases=%{x}<br>Total Deaths=%{y}<br>size=%{marker.size}<br>New Cases=%{customdata[1]}<extra></extra>\",\"legendgroup\":\"Vietnam\",\"marker\":{\"color\":\"#19d3f3\",\"size\":[0.0],\"sizemode\":\"area\",\"sizeref\":0.25,\"symbol\":\"circle\"},\"mode\":\"markers\",\"name\":\"Vietnam\",\"orientation\":\"v\",\"showlegend\":true,\"x\":[11526994.0],\"xaxis\":\"x\",\"y\":[43186.0],\"yaxis\":\"y\",\"type\":\"scatter\"},{\"customdata\":[[\"Wallis and Futuna\",0.0]],\"hovertemplate\":\"location=%{customdata[0]}<br>Total Cases=%{x}<br>Total Deaths=%{y}<br>size=%{marker.size}<br>New Cases=%{customdata[1]}<extra></extra>\",\"legendgroup\":\"Wallis and Futuna\",\"marker\":{\"color\":\"#FF6692\",\"size\":[0.0],\"sizemode\":\"area\",\"sizeref\":0.25,\"symbol\":\"circle\"},\"mode\":\"markers\",\"name\":\"Wallis and Futuna\",\"orientation\":\"v\",\"showlegend\":true,\"x\":[3427.0],\"xaxis\":\"x\",\"y\":[7.0],\"yaxis\":\"y\",\"type\":\"scatter\"},{\"customdata\":[[\"World\",177325.0]],\"hovertemplate\":\"location=%{customdata[0]}<br>Total Cases=%{x}<br>Total Deaths=%{y}<br>size=%{marker.size}<br>New Cases=%{customdata[1]}<extra></extra>\",\"legendgroup\":\"World\",\"marker\":{\"color\":\"#B6E880\",\"size\":[100.0],\"sizemode\":\"area\",\"sizeref\":0.25,\"symbol\":\"circle\"},\"mode\":\"markers\",\"name\":\"World\",\"orientation\":\"v\",\"showlegend\":true,\"x\":[676467356.0],\"xaxis\":\"x\",\"y\":[6881575.0],\"yaxis\":\"y\",\"type\":\"scatter\"},{\"customdata\":[[\"Yemen\",0.0]],\"hovertemplate\":\"location=%{customdata[0]}<br>Total Cases=%{x}<br>Total Deaths=%{y}<br>size=%{marker.size}<br>New Cases=%{customdata[1]}<extra></extra>\",\"legendgroup\":\"Yemen\",\"marker\":{\"color\":\"#FF97FF\",\"size\":[0.0],\"sizemode\":\"area\",\"sizeref\":0.25,\"symbol\":\"circle\"},\"mode\":\"markers\",\"name\":\"Yemen\",\"orientation\":\"v\",\"showlegend\":true,\"x\":[11945.0],\"xaxis\":\"x\",\"y\":[2159.0],\"yaxis\":\"y\",\"type\":\"scatter\"},{\"customdata\":[[\"Zambia\",0.0]],\"hovertemplate\":\"location=%{customdata[0]}<br>Total Cases=%{x}<br>Total Deaths=%{y}<br>size=%{marker.size}<br>New Cases=%{customdata[1]}<extra></extra>\",\"legendgroup\":\"Zambia\",\"marker\":{\"color\":\"#FECB52\",\"size\":[0.0],\"sizemode\":\"area\",\"sizeref\":0.25,\"symbol\":\"circle\"},\"mode\":\"markers\",\"name\":\"Zambia\",\"orientation\":\"v\",\"showlegend\":true,\"x\":[343135.0],\"xaxis\":\"x\",\"y\":[4057.0],\"yaxis\":\"y\",\"type\":\"scatter\"},{\"customdata\":[[\"Zimbabwe\",0.0]],\"hovertemplate\":\"location=%{customdata[0]}<br>Total Cases=%{x}<br>Total Deaths=%{y}<br>size=%{marker.size}<br>New Cases=%{customdata[1]}<extra></extra>\",\"legendgroup\":\"Zimbabwe\",\"marker\":{\"color\":\"#636efa\",\"size\":[0.0],\"sizemode\":\"area\",\"sizeref\":0.25,\"symbol\":\"circle\"},\"mode\":\"markers\",\"name\":\"Zimbabwe\",\"orientation\":\"v\",\"showlegend\":true,\"x\":[264276.0],\"xaxis\":\"x\",\"y\":[5671.0],\"yaxis\":\"y\",\"type\":\"scatter\"}],                        {\"template\":{\"data\":{\"histogram2dcontour\":[{\"type\":\"histogram2dcontour\",\"colorbar\":{\"outlinewidth\":0,\"ticks\":\"\"},\"colorscale\":[[0.0,\"#0d0887\"],[0.1111111111111111,\"#46039f\"],[0.2222222222222222,\"#7201a8\"],[0.3333333333333333,\"#9c179e\"],[0.4444444444444444,\"#bd3786\"],[0.5555555555555556,\"#d8576b\"],[0.6666666666666666,\"#ed7953\"],[0.7777777777777778,\"#fb9f3a\"],[0.8888888888888888,\"#fdca26\"],[1.0,\"#f0f921\"]]}],\"choropleth\":[{\"type\":\"choropleth\",\"colorbar\":{\"outlinewidth\":0,\"ticks\":\"\"}}],\"histogram2d\":[{\"type\":\"histogram2d\",\"colorbar\":{\"outlinewidth\":0,\"ticks\":\"\"},\"colorscale\":[[0.0,\"#0d0887\"],[0.1111111111111111,\"#46039f\"],[0.2222222222222222,\"#7201a8\"],[0.3333333333333333,\"#9c179e\"],[0.4444444444444444,\"#bd3786\"],[0.5555555555555556,\"#d8576b\"],[0.6666666666666666,\"#ed7953\"],[0.7777777777777778,\"#fb9f3a\"],[0.8888888888888888,\"#fdca26\"],[1.0,\"#f0f921\"]]}],\"heatmap\":[{\"type\":\"heatmap\",\"colorbar\":{\"outlinewidth\":0,\"ticks\":\"\"},\"colorscale\":[[0.0,\"#0d0887\"],[0.1111111111111111,\"#46039f\"],[0.2222222222222222,\"#7201a8\"],[0.3333333333333333,\"#9c179e\"],[0.4444444444444444,\"#bd3786\"],[0.5555555555555556,\"#d8576b\"],[0.6666666666666666,\"#ed7953\"],[0.7777777777777778,\"#fb9f3a\"],[0.8888888888888888,\"#fdca26\"],[1.0,\"#f0f921\"]]}],\"heatmapgl\":[{\"type\":\"heatmapgl\",\"colorbar\":{\"outlinewidth\":0,\"ticks\":\"\"},\"colorscale\":[[0.0,\"#0d0887\"],[0.1111111111111111,\"#46039f\"],[0.2222222222222222,\"#7201a8\"],[0.3333333333333333,\"#9c179e\"],[0.4444444444444444,\"#bd3786\"],[0.5555555555555556,\"#d8576b\"],[0.6666666666666666,\"#ed7953\"],[0.7777777777777778,\"#fb9f3a\"],[0.8888888888888888,\"#fdca26\"],[1.0,\"#f0f921\"]]}],\"contourcarpet\":[{\"type\":\"contourcarpet\",\"colorbar\":{\"outlinewidth\":0,\"ticks\":\"\"}}],\"contour\":[{\"type\":\"contour\",\"colorbar\":{\"outlinewidth\":0,\"ticks\":\"\"},\"colorscale\":[[0.0,\"#0d0887\"],[0.1111111111111111,\"#46039f\"],[0.2222222222222222,\"#7201a8\"],[0.3333333333333333,\"#9c179e\"],[0.4444444444444444,\"#bd3786\"],[0.5555555555555556,\"#d8576b\"],[0.6666666666666666,\"#ed7953\"],[0.7777777777777778,\"#fb9f3a\"],[0.8888888888888888,\"#fdca26\"],[1.0,\"#f0f921\"]]}],\"surface\":[{\"type\":\"surface\",\"colorbar\":{\"outlinewidth\":0,\"ticks\":\"\"},\"colorscale\":[[0.0,\"#0d0887\"],[0.1111111111111111,\"#46039f\"],[0.2222222222222222,\"#7201a8\"],[0.3333333333333333,\"#9c179e\"],[0.4444444444444444,\"#bd3786\"],[0.5555555555555556,\"#d8576b\"],[0.6666666666666666,\"#ed7953\"],[0.7777777777777778,\"#fb9f3a\"],[0.8888888888888888,\"#fdca26\"],[1.0,\"#f0f921\"]]}],\"mesh3d\":[{\"type\":\"mesh3d\",\"colorbar\":{\"outlinewidth\":0,\"ticks\":\"\"}}],\"scatter\":[{\"marker\":{\"line\":{\"color\":\"#283442\"}},\"type\":\"scatter\"}],\"parcoords\":[{\"type\":\"parcoords\",\"line\":{\"colorbar\":{\"outlinewidth\":0,\"ticks\":\"\"}}}],\"scatterpolargl\":[{\"type\":\"scatterpolargl\",\"marker\":{\"colorbar\":{\"outlinewidth\":0,\"ticks\":\"\"}}}],\"bar\":[{\"error_x\":{\"color\":\"#f2f5fa\"},\"error_y\":{\"color\":\"#f2f5fa\"},\"marker\":{\"line\":{\"color\":\"rgb(17,17,17)\",\"width\":0.5},\"pattern\":{\"fillmode\":\"overlay\",\"size\":10,\"solidity\":0.2}},\"type\":\"bar\"}],\"scattergeo\":[{\"type\":\"scattergeo\",\"marker\":{\"colorbar\":{\"outlinewidth\":0,\"ticks\":\"\"}}}],\"scatterpolar\":[{\"type\":\"scatterpolar\",\"marker\":{\"colorbar\":{\"outlinewidth\":0,\"ticks\":\"\"}}}],\"histogram\":[{\"marker\":{\"pattern\":{\"fillmode\":\"overlay\",\"size\":10,\"solidity\":0.2}},\"type\":\"histogram\"}],\"scattergl\":[{\"marker\":{\"line\":{\"color\":\"#283442\"}},\"type\":\"scattergl\"}],\"scatter3d\":[{\"type\":\"scatter3d\",\"line\":{\"colorbar\":{\"outlinewidth\":0,\"ticks\":\"\"}},\"marker\":{\"colorbar\":{\"outlinewidth\":0,\"ticks\":\"\"}}}],\"scattermapbox\":[{\"type\":\"scattermapbox\",\"marker\":{\"colorbar\":{\"outlinewidth\":0,\"ticks\":\"\"}}}],\"scatterternary\":[{\"type\":\"scatterternary\",\"marker\":{\"colorbar\":{\"outlinewidth\":0,\"ticks\":\"\"}}}],\"scattercarpet\":[{\"type\":\"scattercarpet\",\"marker\":{\"colorbar\":{\"outlinewidth\":0,\"ticks\":\"\"}}}],\"carpet\":[{\"aaxis\":{\"endlinecolor\":\"#A2B1C6\",\"gridcolor\":\"#506784\",\"linecolor\":\"#506784\",\"minorgridcolor\":\"#506784\",\"startlinecolor\":\"#A2B1C6\"},\"baxis\":{\"endlinecolor\":\"#A2B1C6\",\"gridcolor\":\"#506784\",\"linecolor\":\"#506784\",\"minorgridcolor\":\"#506784\",\"startlinecolor\":\"#A2B1C6\"},\"type\":\"carpet\"}],\"table\":[{\"cells\":{\"fill\":{\"color\":\"#506784\"},\"line\":{\"color\":\"rgb(17,17,17)\"}},\"header\":{\"fill\":{\"color\":\"#2a3f5f\"},\"line\":{\"color\":\"rgb(17,17,17)\"}},\"type\":\"table\"}],\"barpolar\":[{\"marker\":{\"line\":{\"color\":\"rgb(17,17,17)\",\"width\":0.5},\"pattern\":{\"fillmode\":\"overlay\",\"size\":10,\"solidity\":0.2}},\"type\":\"barpolar\"}],\"pie\":[{\"automargin\":true,\"type\":\"pie\"}]},\"layout\":{\"autotypenumbers\":\"strict\",\"colorway\":[\"#636efa\",\"#EF553B\",\"#00cc96\",\"#ab63fa\",\"#FFA15A\",\"#19d3f3\",\"#FF6692\",\"#B6E880\",\"#FF97FF\",\"#FECB52\"],\"font\":{\"color\":\"#f2f5fa\"},\"hovermode\":\"closest\",\"hoverlabel\":{\"align\":\"left\"},\"paper_bgcolor\":\"rgb(17,17,17)\",\"plot_bgcolor\":\"rgb(17,17,17)\",\"polar\":{\"bgcolor\":\"rgb(17,17,17)\",\"angularaxis\":{\"gridcolor\":\"#506784\",\"linecolor\":\"#506784\",\"ticks\":\"\"},\"radialaxis\":{\"gridcolor\":\"#506784\",\"linecolor\":\"#506784\",\"ticks\":\"\"}},\"ternary\":{\"bgcolor\":\"rgb(17,17,17)\",\"aaxis\":{\"gridcolor\":\"#506784\",\"linecolor\":\"#506784\",\"ticks\":\"\"},\"baxis\":{\"gridcolor\":\"#506784\",\"linecolor\":\"#506784\",\"ticks\":\"\"},\"caxis\":{\"gridcolor\":\"#506784\",\"linecolor\":\"#506784\",\"ticks\":\"\"}},\"coloraxis\":{\"colorbar\":{\"outlinewidth\":0,\"ticks\":\"\"}},\"colorscale\":{\"sequential\":[[0.0,\"#0d0887\"],[0.1111111111111111,\"#46039f\"],[0.2222222222222222,\"#7201a8\"],[0.3333333333333333,\"#9c179e\"],[0.4444444444444444,\"#bd3786\"],[0.5555555555555556,\"#d8576b\"],[0.6666666666666666,\"#ed7953\"],[0.7777777777777778,\"#fb9f3a\"],[0.8888888888888888,\"#fdca26\"],[1.0,\"#f0f921\"]],\"sequentialminus\":[[0.0,\"#0d0887\"],[0.1111111111111111,\"#46039f\"],[0.2222222222222222,\"#7201a8\"],[0.3333333333333333,\"#9c179e\"],[0.4444444444444444,\"#bd3786\"],[0.5555555555555556,\"#d8576b\"],[0.6666666666666666,\"#ed7953\"],[0.7777777777777778,\"#fb9f3a\"],[0.8888888888888888,\"#fdca26\"],[1.0,\"#f0f921\"]],\"diverging\":[[0,\"#8e0152\"],[0.1,\"#c51b7d\"],[0.2,\"#de77ae\"],[0.3,\"#f1b6da\"],[0.4,\"#fde0ef\"],[0.5,\"#f7f7f7\"],[0.6,\"#e6f5d0\"],[0.7,\"#b8e186\"],[0.8,\"#7fbc41\"],[0.9,\"#4d9221\"],[1,\"#276419\"]]},\"xaxis\":{\"gridcolor\":\"#283442\",\"linecolor\":\"#506784\",\"ticks\":\"\",\"title\":{\"standoff\":15},\"zerolinecolor\":\"#283442\",\"automargin\":true,\"zerolinewidth\":2},\"yaxis\":{\"gridcolor\":\"#283442\",\"linecolor\":\"#506784\",\"ticks\":\"\",\"title\":{\"standoff\":15},\"zerolinecolor\":\"#283442\",\"automargin\":true,\"zerolinewidth\":2},\"scene\":{\"xaxis\":{\"backgroundcolor\":\"rgb(17,17,17)\",\"gridcolor\":\"#506784\",\"linecolor\":\"#506784\",\"showbackground\":true,\"ticks\":\"\",\"zerolinecolor\":\"#C8D4E3\",\"gridwidth\":2},\"yaxis\":{\"backgroundcolor\":\"rgb(17,17,17)\",\"gridcolor\":\"#506784\",\"linecolor\":\"#506784\",\"showbackground\":true,\"ticks\":\"\",\"zerolinecolor\":\"#C8D4E3\",\"gridwidth\":2},\"zaxis\":{\"backgroundcolor\":\"rgb(17,17,17)\",\"gridcolor\":\"#506784\",\"linecolor\":\"#506784\",\"showbackground\":true,\"ticks\":\"\",\"zerolinecolor\":\"#C8D4E3\",\"gridwidth\":2}},\"shapedefaults\":{\"line\":{\"color\":\"#f2f5fa\"}},\"annotationdefaults\":{\"arrowcolor\":\"#f2f5fa\",\"arrowhead\":0,\"arrowwidth\":1},\"geo\":{\"bgcolor\":\"rgb(17,17,17)\",\"landcolor\":\"rgb(17,17,17)\",\"subunitcolor\":\"#506784\",\"showland\":true,\"showlakes\":true,\"lakecolor\":\"rgb(17,17,17)\"},\"title\":{\"x\":0.05},\"updatemenudefaults\":{\"bgcolor\":\"#506784\",\"borderwidth\":0},\"sliderdefaults\":{\"bgcolor\":\"#C8D4E3\",\"borderwidth\":1,\"bordercolor\":\"rgb(17,17,17)\",\"tickwidth\":0},\"mapbox\":{\"style\":\"dark\"}}},\"xaxis\":{\"anchor\":\"y\",\"domain\":[0.0,1.0],\"title\":{\"text\":\"Total Cases\"}},\"yaxis\":{\"anchor\":\"x\",\"domain\":[0.0,1.0],\"title\":{\"text\":\"Total Deaths\"}},\"legend\":{\"title\":{\"text\":\"location\"},\"tracegroupgap\":0,\"itemsizing\":\"constant\"},\"title\":{\"text\":\"Scatter Plot of Total Cases vs Total Deaths on 2023-03-09 (Colored by Location, Sized by New Cases)\"}},                        {\"responsive\": true}                    ).then(function(){\n                            \nvar gd = document.getElementById('fa4cfb34-139c-4205-8deb-3bec243bbbfa');\nvar x = new MutationObserver(function (mutations, observer) {{\n        var display = window.getComputedStyle(gd).display;\n        if (!display || display === 'none') {{\n            console.log([gd, 'removed!']);\n            Plotly.purge(gd);\n            observer.disconnect();\n        }}\n}});\n\n// Listen for the removal of the full notebook cells\nvar notebookContainer = gd.closest('#notebook-container');\nif (notebookContainer) {{\n    x.observe(notebookContainer, {childList: true});\n}}\n\n// Listen for the clearing of the current output cell\nvar outputEl = gd.closest('.output');\nif (outputEl) {{\n    x.observe(outputEl, {childList: true});\n}}\n\n                        })                };                });            </script>        </div>"
     },
     "metadata": {},
     "output_type": "display_data"
    }
   ],
   "source": [
    "import pandas as pd\n",
    "import plotly.express as px\n",
    "\n",
    "# Load the data from the CSV file\n",
    "data = pd.read_csv(\"full_data.csv\")\n",
    "\n",
    "# Filter the data for the latest date\n",
    "latest_date = data['date'].max()\n",
    "latest_data = data[data['date'] == latest_date]\n",
    "\n",
    "# Handle NaN values in new_cases by replacing them with 0\n",
    "latest_data['new_cases'].fillna(0, inplace=True)\n",
    "\n",
    "# Calculate a size factor for the new_cases - this will control the size of the scatter plot points\n",
    "# You might need to adjust the scaling factor to get a desirable visual result\n",
    "latest_data['size'] = latest_data['new_cases'] / latest_data['new_cases'].max() * 100\n",
    "\n",
    "# Create scatter plot for total_cases vs total_deaths\n",
    "# Colors are based on location and sizes are based on new_cases\n",
    "fig_location_new_cases = px.scatter(\n",
    "    latest_data,\n",
    "    x='total_cases',\n",
    "    y='total_deaths',\n",
    "    color='location',  # Assigning colors based on location\n",
    "    size='size',  # Adjusting sizes based on new_cases\n",
    "    hover_data=['location', 'new_cases'],\n",
    "    labels={\n",
    "        'total_cases': 'Total Cases',\n",
    "        'total_deaths': 'Total Deaths',\n",
    "        'new_cases': 'New Cases'\n",
    "    },\n",
    "    title=f\"Scatter Plot of Total Cases vs Total Deaths on {latest_date} (Colored by Location, Sized by New Cases)\"\n",
    ")\n",
    "\n",
    "# Show the plot\n",
    "fig_location_new_cases.show()"
   ],
   "metadata": {
    "collapsed": false,
    "ExecuteTime": {
     "end_time": "2023-11-08T07:00:15.045429Z",
     "start_time": "2023-11-08T07:00:14.492720Z"
    }
   }
  },
  {
   "cell_type": "code",
   "execution_count": null,
   "outputs": [],
   "source": [],
   "metadata": {
    "collapsed": false
   }
  }
 ],
 "metadata": {
  "kernelspec": {
   "display_name": "Python 3 (ipykernel)",
   "language": "python",
   "name": "python3"
  },
  "language_info": {
   "codemirror_mode": {
    "name": "ipython",
    "version": 3
   },
   "file_extension": ".py",
   "mimetype": "text/x-python",
   "name": "python",
   "nbconvert_exporter": "python",
   "pygments_lexer": "ipython3",
   "version": "3.10.9"
  },
  "latex_envs": {
   "LaTeX_envs_menu_present": true,
   "autoclose": false,
   "autocomplete": true,
   "bibliofile": "biblio.bib",
   "cite_by": "apalike",
   "current_citInitial": 1,
   "eqLabelWithNumbers": true,
   "eqNumInitial": 1,
   "hotkeys": {
    "equation": "Ctrl-E",
    "itemize": "Ctrl-I"
   },
   "labels_anchors": false,
   "latex_user_defs": false,
   "report_style_numbering": false,
   "user_envs_cfg": false
  },
  "toc": {
   "base_numbering": 1,
   "nav_menu": {},
   "number_sections": true,
   "sideBar": true,
   "skip_h1_title": false,
   "title_cell": "Table of Contents",
   "title_sidebar": "Contents",
   "toc_cell": false,
   "toc_position": {},
   "toc_section_display": true,
   "toc_window_display": false
  },
  "vscode": {
   "interpreter": {
    "hash": "1a1af0ee75eeea9e2e1ee996c87e7a2b11a0bebd85af04bb136d915cefc0abce"
   }
  }
 },
 "nbformat": 4,
 "nbformat_minor": 1
}
