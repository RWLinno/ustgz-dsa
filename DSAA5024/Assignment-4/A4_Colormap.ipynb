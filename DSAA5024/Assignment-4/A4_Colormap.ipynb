{
 "cells": [
  {
   "cell_type": "code",
   "execution_count": 1,
   "metadata": {},
   "outputs": [],
   "source": [
    "import pandas as pd\n",
    "import plotly.express as px\n",
    "import plotly.io as pio\n",
    "pio.renderers.default = 'browser'"
   ]
  },
  {
   "cell_type": "code",
   "execution_count": 2,
   "metadata": {},
   "outputs": [
    {
     "name": "stdout",
     "output_type": "stream",
     "text": [
      "         date     location  new_cases  new_deaths  total_cases  total_deaths  \\\n",
      "0  2020-02-24  Afghanistan        5.0         NaN          5.0           NaN   \n",
      "1  2020-02-25  Afghanistan        0.0         NaN          5.0           NaN   \n",
      "2  2020-02-26  Afghanistan        0.0         NaN          5.0           NaN   \n",
      "3  2020-02-27  Afghanistan        0.0         NaN          5.0           NaN   \n",
      "4  2020-02-28  Afghanistan        0.0         NaN          5.0           NaN   \n",
      "\n",
      "   weekly_cases  weekly_deaths  biweekly_cases  biweekly_deaths  \n",
      "0           NaN            NaN             NaN              NaN  \n",
      "1           NaN            NaN             NaN              NaN  \n",
      "2           NaN            NaN             NaN              NaN  \n",
      "3           NaN            NaN             NaN              NaN  \n",
      "4           NaN            NaN             NaN              NaN  \n"
     ]
    }
   ],
   "source": [
    "# Load the data\n",
    "#url = \"https://github.com/owid/covid-19-data/tree/master/public/data/jhu/new_cases.csv\"\n",
    "#data = pd.read_csv(url)\n",
    "df = pd.read_csv(\"full_data-2.csv\")\n",
    "\n",
    "# Get the latest date in the data\n",
    "latest_date = df['date'].max()\n",
    "\n",
    "# Filter the data for the latest date\n",
    "latest_data = df[df['date'] == latest_date].copy()\n",
    "\n",
    "# Fill NaN values in the 'new_cases' column with 0 or any appropriate value\n",
    "latest_data['new_cases'] = latest_data['new_cases'].fillna(0)\n",
    "\n",
    "# Calculate case-fatality rate (optional, just for additional info)\n",
    "latest_data['case_fatality_rate'] = (latest_data['total_deaths'] / latest_data['total_cases']) * 100\n",
    "\n",
    "print(df.head())\n",
    "#print(latest_data)"
   ]
  },
  {
   "cell_type": "code",
   "execution_count": 3,
   "metadata": {},
   "outputs": [],
   "source": [
    "# Create a scatter plot for total_cases vs total_deaths\n",
    "# Assign colors based on new_cases using a sequential colormap\n",
    "fig = px.scatter(\n",
    "    latest_data,\n",
    "    x='total_cases',\n",
    "    y='total_deaths',\n",
    "    text='location',\n",
    "    color='new_cases',  # Sequential colormap based on 'new_cases'\n",
    "    size='new_cases',  # Adjust point size based on 'new_cases'\n",
    "    hover_data={\n",
    "        'location': True,\n",
    "        'case_fatality_rate': ':.2f',\n",
    "        'total_cases': True,\n",
    "        'total_deaths': True,\n",
    "        'new_cases': True\n",
    "    },\n",
    "    labels={'total_cases': 'Total Cases', 'total_deaths': 'Total Deaths'},\n",
    "    title='COVID-19 Total Cases vs Total Deaths (Colored by New Cases)',\n",
    "    log_x=True,\n",
    "    log_y=True,\n",
    "    color_continuous_scale='Viridis'  # Sequential colormap for new_cases\n",
    ")\n",
    "\n",
    "# Adjust the layout for better display\n",
    "fig.update_traces(marker=dict(opacity=0.7))\n",
    "fig.update_layout(\n",
    "    hovermode='closest',\n",
    "    width=2400,  # Set the width of the figure\n",
    "    height=1600,  # Set the height of the figure\n",
    ")\n",
    "\n",
    "# Show the plot\n",
    "fig.show()"
   ]
  },
  {
   "cell_type": "code",
   "execution_count": null,
   "metadata": {},
   "outputs": [],
   "source": []
  }
 ],
 "metadata": {
  "kernelspec": {
   "display_name": "Python 3",
   "language": "python",
   "name": "python3"
  },
  "language_info": {
   "codemirror_mode": {
    "name": "ipython",
    "version": 3
   },
   "file_extension": ".py",
   "mimetype": "text/x-python",
   "name": "python",
   "nbconvert_exporter": "python",
   "pygments_lexer": "ipython3",
   "version": "3.6.5"
  }
 },
 "nbformat": 4,
 "nbformat_minor": 2
}
