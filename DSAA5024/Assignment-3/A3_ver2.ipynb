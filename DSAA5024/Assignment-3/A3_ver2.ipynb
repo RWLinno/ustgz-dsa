{
 "cells": [
  {
   "cell_type": "code",
   "execution_count": 6,
   "metadata": {},
   "outputs": [
    {
     "data": {
      "application/vnd.plotly.v1+json": {
       "config": {
        "plotlyServerURL": "https://plot.ly"
       },
       "data": [
        {
         "customdata": [
          [
           "Afghanistan",
           3.7698554793245203
          ],
          [
           "Africa",
           2.057590004442456
          ],
          [
           "Albania",
           1.075773567304616
          ],
          [
           "Algeria",
           2.534475646050034
          ],
          [
           "Andorra",
           0.34453956984756734
          ],
          [
           "Angola",
           1.835916723653218
          ],
          [
           "Anguilla",
           0.3073770491803279
          ],
          [
           "Antigua and Barbuda",
           1.6033384581594552
          ],
          [
           "Argentina",
           1.2988806223859395
          ],
          [
           "Armenia",
           1.951004676866946
          ],
          [
           "Aruba",
           0.640268822087004
          ],
          [
           "Asia",
           0.7703678376850807
          ],
          [
           "Australia",
           0.1717098880122392
          ],
          [
           "Austria",
           0.3685534804315213
          ],
          [
           "Azerbaijan",
           1.2231773896781588
          ],
          [
           "Bahamas",
           2.2218665813128484
          ],
          [
           "Bahrain",
           0.21851910740643288
          ],
          [
           "Bangladesh",
           1.4448902801011447
          ],
          [
           "Barbados",
           0.5421449839884642
          ],
          [
           "Belarus",
           0.7160699249625517
          ],
          [
           "Belgium",
           0.7134711084712826
          ],
          [
           "Belize",
           0.972341959099453
          ],
          [
           "Benin",
           0.5821636487017393
          ],
          [
           "Bermuda",
           0.8497981729339281
          ],
          [
           "Bhutan",
           0.033531863253868144
          ],
          [
           "Bolivia",
           1.872681128414932
          ],
          [
           "Bonaire Sint Eustatius and Saba",
           0.3473398847848187
          ],
          [
           "Bosnia and Herzegovina",
           4.052483141620346
          ],
          [
           "Botswana",
           0.849410780026565
          ],
          [
           "Brazil",
           1.8860583676477103
          ],
          [
           "British Virgin Islands",
           0.8761122518822724
          ],
          [
           "Brunei",
           0.0804545503305788
          ],
          [
           "Bulgaria",
           2.946229084185791
          ],
          [
           "Burkina Faso",
           1.7954298150163224
          ],
          [
           "Burundi",
           0.07085454308142679
          ],
          [
           "Cambodia",
           2.203014727614818
          ],
          [
           "Cameroon",
           1.5796835809376808
          ],
          [
           "Canada",
           1.1201848781539043
          ],
          [
           "Cape Verde",
           0.6530263740433875
          ],
          [
           "Cayman Islands",
           0.1175648195221149
          ],
          [
           "Central African Republic",
           0.7352941176470588
          ],
          [
           "Chad",
           2.526370621174632
          ],
          [
           "Chile",
           1.2378555418557453
          ],
          [
           "China",
           4.321746485999336
          ],
          [
           "Colombia",
           2.2383538029715875
          ],
          [
           "Comoros",
           1.7873001776198933
          ],
          [
           "Congo",
           1.5466177701598436
          ],
          [
           "Cook Islands",
           0.028445455838429813
          ],
          [
           "Costa Rica",
           0.7642232738845605
          ],
          [
           "Cote d'Ivoire",
           0.9449033003636857
          ],
          [
           "Croatia",
           1.4170512539725808
          ],
          [
           "Cuba",
           0.7666430292555654
          ],
          [
           "Curacao",
           0.6545470360544514
          ],
          [
           "Cyprus",
           0.2043999784842128
          ],
          [
           "Czechia",
           0.920065929649634
          ],
          [
           "Democratic Republic of Congo",
           1.5289976918818995
          ],
          [
           "Denmark",
           0.24368414234843247
          ],
          [
           "Djibouti",
           1.2045889101338432
          ],
          [
           "Dominica",
           0.46954314720812185
          ],
          [
           "Dominican Republic",
           0.6634482967357254
          ],
          [
           "Ecuador",
           3.4068001676250876
          ],
          [
           "Egypt",
           4.810774024302048
          ],
          [
           "El Salvador",
           2.0962906063384295
          ],
          [
           "Equatorial Guinea",
           1.062162632770329
          ],
          [
           "Eritrea",
           1.0108941014819903
          ],
          [
           "Estonia",
           0.478687363206068
          ],
          [
           "Eswatini",
           1.9187526088303013
          ],
          [
           "Ethiopia",
           1.5140487406921594
          ],
          [
           "Europe",
           0.8197819255659804
          ],
          [
           "European Union",
           0.6602708991739341
          ],
          [
           "Faeroe Islands",
           0.08078942812626233
          ],
          [
           "Falkland Islands",
           null
          ],
          [
           "Fiji",
           1.2816046909924816
          ],
          [
           "Finland",
           0.6126489774835957
          ],
          [
           "France",
           0.416112461694715
          ],
          [
           "French Polynesia",
           0.8314649926333996
          ],
          [
           "Gabon",
           0.6247320389538801
          ],
          [
           "Gambia",
           2.95284965867598
          ],
          [
           "Georgia",
           0.9286268896334247
          ],
          [
           "Germany",
           0.44167098485557554
          ],
          [
           "Ghana",
           0.8538273306507659
          ],
          [
           "Gibraltar",
           0.543238878285127
          ],
          [
           "Greece",
           0.6268195275576928
          ],
          [
           "Greenland",
           0.1754239411912121
          ],
          [
           "Grenada",
           1.2093495934959348
          ],
          [
           "Guatemala",
           1.6298848291172923
          ],
          [
           "Guinea",
           1.2203726448375884
          ],
          [
           "Guinea-Bissau",
           1.9642857142857142
          ],
          [
           "Guyana",
           1.776257269928156
          ],
          [
           "Haiti",
           2.51447283784574
          ],
          [
           "High income",
           0.6664395381096166
          ],
          [
           "Honduras",
           2.352779248279513
          ],
          [
           "Hong Kong",
           0.46823726246529157
          ],
          [
           "Hungary",
           2.2196791338690205
          ],
          [
           "Iceland",
           0.1257548879442662
          ],
          [
           "India",
           1.1876711456409603
          ],
          [
           "Indonesia",
           2.388477677726701
          ],
          [
           "International",
           2.0804438280166435
          ],
          [
           "Iran",
           1.9139863642684514
          ],
          [
           "Iraq",
           1.029184216876999
          ],
          [
           "Ireland",
           0.5108823574275654
          ],
          [
           "Isle of Man",
           0.3051989054935803
          ],
          [
           "Israel",
           0.2566497024037517
          ],
          [
           "Italy",
           0.7355319641720999
          ],
          [
           "Jamaica",
           2.275670914931095
          ],
          [
           "Japan",
           0.21907575164528148
          ],
          [
           "Jordan",
           0.8083585718807761
          ],
          [
           "Kazakhstan",
           1.2725300066459015
          ],
          [
           "Kenya",
           1.65861368123008
          ],
          [
           "Kiribati",
           0.35899481451934584
          ],
          [
           "Kosovo",
           1.174847792998478
          ],
          [
           "Kuwait",
           0.3871298165275811
          ],
          [
           "Kyrgyzstan",
           1.4469686707819727
          ],
          [
           "Laos",
           0.3476697412658298
          ],
          [
           "Latvia",
           0.6421477994991063
          ],
          [
           "Lebanon",
           0.8793603000580779
          ],
          [
           "Lesotho",
           2.0781833860304686
          ],
          [
           "Liberia",
           3.646477132262052
          ],
          [
           "Libya",
           1.2691571353366706
          ],
          [
           "Liechtenstein",
           0.41526689063083244
          ],
          [
           "Lithuania",
           0.7339488836267293
          ],
          [
           "Low income",
           2.094472692204624
          ],
          [
           "Lower middle income",
           1.3854294096210389
          ],
          [
           "Luxembourg",
           0.38441299820082114
          ],
          [
           "Macao",
           3.44336937962436
          ],
          [
           "Madagascar",
           2.0960685825391447
          ],
          [
           "Malawi",
           3.027945934368201
          ],
          [
           "Malaysia",
           0.7327862528688422
          ],
          [
           "Maldives",
           0.16744015764140885
          ],
          [
           "Mali",
           2.247292964732926
          ],
          [
           "Malta",
           0.7040217668565598
          ],
          [
           "Marshall Islands",
           0.10863313949773148
          ],
          [
           "Mauritania",
           1.565935791920588
          ],
          [
           "Mauritius",
           0.35265266414900587
          ],
          [
           "Mexico",
           4.45233504787368
          ],
          [
           "Micronesia (country)",
           0.2547185568732253
          ],
          [
           "Moldova",
           1.9640344274634292
          ],
          [
           "Monaco",
           0.41560697227219157
          ],
          [
           "Mongolia",
           0.21192578628832226
          ],
          [
           "Montenegro",
           0.9722722362261434
          ],
          [
           "Montserrat",
           0.5702066999287242
          ],
          [
           "Morocco",
           1.280638747652241
          ],
          [
           "Mozambique",
           0.9613488041026695
          ],
          [
           "Myanmar",
           3.0743749507058915
          ],
          [
           "Namibia",
           2.3896328495641406
          ],
          [
           "Nauru",
           0.01905850962454736
          ],
          [
           "Nepal",
           1.2006144908775274
          ],
          [
           "Netherlands",
           0.2680408468190864
          ],
          [
           "New Caledonia",
           0.3924166114700626
          ],
          [
           "New Zealand",
           0.1143070939933596
          ],
          [
           "Nicaragua",
           1.5649952091983392
          ],
          [
           "Niger",
           3.3129995793016405
          ],
          [
           "Nigeria",
           1.1834297331562877
          ],
          [
           "North America",
           1.2941242955393795
          ],
          [
           "North Korea",
           600
          ],
          [
           "North Macedonia",
           2.7856261460219347
          ],
          [
           "Norway",
           0.3523473375572657
          ],
          [
           "Oceania",
           0.17777358701262888
          ],
          [
           "Oman",
           1.1585959659430867
          ],
          [
           "Pakistan",
           1.9426769561008514
          ],
          [
           "Palau",
           0.15022533800701052
          ],
          [
           "Palestine",
           0.8116855415313383
          ],
          [
           "Panama",
           0.8344229261309393
          ],
          [
           "Papua New Guinea",
           1.430859583555793
          ],
          [
           "Paraguay",
           2.458928180445101
          ],
          [
           "Peru",
           4.8921762038242225
          ],
          [
           "Philippines",
           1.6232686491465749
          ],
          [
           "Poland",
           1.8465591718179786
          ],
          [
           "Portugal",
           0.47152189769163233
          ],
          [
           "Qatar",
           0.1389646326930457
          ],
          [
           "Romania",
           2.024359497747491
          ],
          [
           "Russia",
           1.7597413427826905
          ],
          [
           "Rwanda",
           1.1021517485772632
          ],
          [
           "Saint Helena",
           null
          ],
          [
           "Saint Kitts and Nevis",
           0.7124450507806579
          ],
          [
           "Saint Lucia",
           1.3631515797893614
          ],
          [
           "Saint Pierre and Miquelon",
           0.057937427578215524
          ],
          [
           "Saint Vincent and the Grenadines",
           1.2827197830847845
          ],
          [
           "Samoa",
           0.17462515806587584
          ],
          [
           "San Marino",
           0.51659891598916
          ],
          [
           "Sao Tome and Principe",
           1.2259194395796849
          ],
          [
           "Saudi Arabia",
           1.1586178982252113
          ],
          [
           "Senegal",
           2.2164496322785237
          ],
          [
           "Serbia",
           0.7151993766754048
          ],
          [
           "Seychelles",
           0.3394848514753775
          ],
          [
           "Sierra Leone",
           1.6237113402061858
          ],
          [
           "Singapore",
           0.07703684615983401
          ],
          [
           "Slovakia",
           0.7885509967756943
          ],
          [
           "Slovenia",
           0.5314982950453816
          ],
          [
           "Solomon Islands",
           0.6225839267548322
          ],
          [
           "Somalia",
           4.980969111403894
          ],
          [
           "South Africa",
           2.522579539505988
          ],
          [
           "South America",
           1.9868392054944408
          ],
          [
           "South Korea",
           0.11135854551165254
          ],
          [
           "South Sudan",
           0.7513066202090593
          ],
          [
           "Spain",
           0.8676490761471556
          ],
          [
           "Sri Lanka",
           2.5043189457754687
          ],
          [
           "Sudan",
           7.860063607451158
          ],
          [
           "Suriname",
           1.702499181490778
          ],
          [
           "Sweden",
           0.880845273602167
          ],
          [
           "Switzerland",
           0.3219367132685729
          ],
          [
           "Syria",
           5.505768528024779
          ],
          [
           "Taiwan",
           0.1772350983663822
          ],
          [
           "Tajikistan",
           0.7027999550208028
          ],
          [
           "Tanzania",
           1.9717522024891625
          ],
          [
           "Thailand",
           0.7173581727606932
          ],
          [
           "Timor",
           0.5892651266066016
          ],
          [
           "Togo",
           0.7361153416590517
          ],
          [
           "Tonga",
           0.07733491969066032
          ],
          [
           "Trinidad and Tobago",
           2.2930949146473742
          ],
          [
           "Tunisia",
           2.548895603087759
          ],
          [
           "Turkey",
           0.5955151999780316
          ],
          [
           "Turks and Caicos Islands",
           0.5791800030483159
          ],
          [
           "Tuvalu",
           null
          ],
          [
           "Uganda",
           2.128482972136223
          ],
          [
           "Ukraine",
           2.0883137728077505
          ],
          [
           "United Arab Emirates",
           0.22303180838064096
          ],
          [
           "United Kingdom",
           0.9004920428245893
          ],
          [
           "United States",
           1.0826654589395948
          ],
          [
           "Upper middle income",
           1.7984963095189446
          ],
          [
           "Uruguay",
           0.7364379683709706
          ],
          [
           "Uzbekistan",
           0.6515500682595216
          ],
          [
           "Vanuatu",
           0.1165307141668054
          ],
          [
           "Vatican",
           null
          ],
          [
           "Venezuela",
           1.0601961018686545
          ],
          [
           "Vietnam",
           0.3746510148265888
          ],
          [
           "Wallis and Futuna",
           0.20426028596440038
          ],
          [
           "World",
           1.0172811650056917
          ],
          [
           "Yemen",
           18.07450816241105
          ],
          [
           "Zambia",
           1.1823334839057513
          ],
          [
           "Zimbabwe",
           2.1458626587355645
          ]
         ],
         "hovertemplate": "Total Cases=%{x}<br>Total Deaths=%{y}<br>location=%{customdata[0]}<br>case_fatality_rate=%{customdata[1]:.2f}<extra></extra>",
         "legendgroup": "",
         "marker": {
          "color": "#636efa",
          "opacity": 0.7,
          "size": 20,
          "symbol": "circle"
         },
         "mode": "markers+text",
         "name": "",
         "orientation": "v",
         "showlegend": false,
         "text": [
          "Afghanistan",
          "Africa",
          "Albania",
          "Algeria",
          "Andorra",
          "Angola",
          "Anguilla",
          "Antigua and Barbuda",
          "Argentina",
          "Armenia",
          "Aruba",
          "Asia",
          "Australia",
          "Austria",
          "Azerbaijan",
          "Bahamas",
          "Bahrain",
          "Bangladesh",
          "Barbados",
          "Belarus",
          "Belgium",
          "Belize",
          "Benin",
          "Bermuda",
          "Bhutan",
          "Bolivia",
          "Bonaire Sint Eustatius and Saba",
          "Bosnia and Herzegovina",
          "Botswana",
          "Brazil",
          "British Virgin Islands",
          "Brunei",
          "Bulgaria",
          "Burkina Faso",
          "Burundi",
          "Cambodia",
          "Cameroon",
          "Canada",
          "Cape Verde",
          "Cayman Islands",
          "Central African Republic",
          "Chad",
          "Chile",
          "China",
          "Colombia",
          "Comoros",
          "Congo",
          "Cook Islands",
          "Costa Rica",
          "Cote d'Ivoire",
          "Croatia",
          "Cuba",
          "Curacao",
          "Cyprus",
          "Czechia",
          "Democratic Republic of Congo",
          "Denmark",
          "Djibouti",
          "Dominica",
          "Dominican Republic",
          "Ecuador",
          "Egypt",
          "El Salvador",
          "Equatorial Guinea",
          "Eritrea",
          "Estonia",
          "Eswatini",
          "Ethiopia",
          "Europe",
          "European Union",
          "Faeroe Islands",
          "Falkland Islands",
          "Fiji",
          "Finland",
          "France",
          "French Polynesia",
          "Gabon",
          "Gambia",
          "Georgia",
          "Germany",
          "Ghana",
          "Gibraltar",
          "Greece",
          "Greenland",
          "Grenada",
          "Guatemala",
          "Guinea",
          "Guinea-Bissau",
          "Guyana",
          "Haiti",
          "High income",
          "Honduras",
          "Hong Kong",
          "Hungary",
          "Iceland",
          "India",
          "Indonesia",
          "International",
          "Iran",
          "Iraq",
          "Ireland",
          "Isle of Man",
          "Israel",
          "Italy",
          "Jamaica",
          "Japan",
          "Jordan",
          "Kazakhstan",
          "Kenya",
          "Kiribati",
          "Kosovo",
          "Kuwait",
          "Kyrgyzstan",
          "Laos",
          "Latvia",
          "Lebanon",
          "Lesotho",
          "Liberia",
          "Libya",
          "Liechtenstein",
          "Lithuania",
          "Low income",
          "Lower middle income",
          "Luxembourg",
          "Macao",
          "Madagascar",
          "Malawi",
          "Malaysia",
          "Maldives",
          "Mali",
          "Malta",
          "Marshall Islands",
          "Mauritania",
          "Mauritius",
          "Mexico",
          "Micronesia (country)",
          "Moldova",
          "Monaco",
          "Mongolia",
          "Montenegro",
          "Montserrat",
          "Morocco",
          "Mozambique",
          "Myanmar",
          "Namibia",
          "Nauru",
          "Nepal",
          "Netherlands",
          "New Caledonia",
          "New Zealand",
          "Nicaragua",
          "Niger",
          "Nigeria",
          "North America",
          "North Korea",
          "North Macedonia",
          "Norway",
          "Oceania",
          "Oman",
          "Pakistan",
          "Palau",
          "Palestine",
          "Panama",
          "Papua New Guinea",
          "Paraguay",
          "Peru",
          "Philippines",
          "Poland",
          "Portugal",
          "Qatar",
          "Romania",
          "Russia",
          "Rwanda",
          "Saint Helena",
          "Saint Kitts and Nevis",
          "Saint Lucia",
          "Saint Pierre and Miquelon",
          "Saint Vincent and the Grenadines",
          "Samoa",
          "San Marino",
          "Sao Tome and Principe",
          "Saudi Arabia",
          "Senegal",
          "Serbia",
          "Seychelles",
          "Sierra Leone",
          "Singapore",
          "Slovakia",
          "Slovenia",
          "Solomon Islands",
          "Somalia",
          "South Africa",
          "South America",
          "South Korea",
          "South Sudan",
          "Spain",
          "Sri Lanka",
          "Sudan",
          "Suriname",
          "Sweden",
          "Switzerland",
          "Syria",
          "Taiwan",
          "Tajikistan",
          "Tanzania",
          "Thailand",
          "Timor",
          "Togo",
          "Tonga",
          "Trinidad and Tobago",
          "Tunisia",
          "Turkey",
          "Turks and Caicos Islands",
          "Tuvalu",
          "Uganda",
          "Ukraine",
          "United Arab Emirates",
          "United Kingdom",
          "United States",
          "Upper middle income",
          "Uruguay",
          "Uzbekistan",
          "Vanuatu",
          "Vatican",
          "Venezuela",
          "Vietnam",
          "Wallis and Futuna",
          "World",
          "Yemen",
          "Zambia",
          "Zimbabwe"
         ],
         "type": "scatter",
         "x": [
          209451,
          12524604,
          334457,
          271496,
          47890,
          105288,
          3904,
          9106,
          10044957,
          447308,
          44044,
          210767366,
          11399460,
          5961143,
          828825,
          37491,
          710693,
          2037871,
          106798,
          994037,
          4739365,
          70757,
          27999,
          18828,
          62627,
          1194277,
          11804,
          401729,
          329758,
          37076053,
          7305,
          279661,
          1297523,
          22056,
          53631,
          138719,
          124392,
          4617095,
          63244,
          31472,
          15368,
          7679,
          5192286,
          2023904,
          6359093,
          9008,
          25087,
          7031,
          1209725,
          88263,
          1269326,
          1112643,
          45986,
          650685,
          4618256,
          95749,
          3404407,
          15690,
          15760,
          660790,
          1057121,
          515759,
          201785,
          17229,
          10189,
          615433,
          74267,
          500116,
          248452416,
          184184098,
          34658,
          1930,
          68898,
          1463644,
          39701767,
          78055,
          48981,
          12598,
          1827537,
          38249060,
          171229,
          20433,
          5548487,
          11971,
          19680,
          1238247,
          38267,
          8960,
          73075,
          34202,
          431911049,
          472250,
          2876106,
          2196804,
          209137,
          44690738,
          6738225,
          721,
          7572311,
          2465545,
          1704502,
          38008,
          4803824,
          25603510,
          154416,
          33320438,
          1746997,
          1498668,
          342937,
          5014,
          273312,
          663860,
          206708,
          218023,
          976255,
          1232828,
          34790,
          8090,
          507187,
          21432,
          1307448,
          2287497,
          97175431,
          317367,
          3514,
          67889,
          88707,
          5044718,
          185738,
          33062,
          117610,
          15649,
          63668,
          296042,
          7483444,
          23948,
          611140,
          16121,
          1007900,
          288808,
          1403,
          1272490,
          233214,
          633950,
          171156,
          5247,
          1001154,
          8611001,
          80017,
          2229083,
          15655,
          9508,
          266598,
          122717115,
          1,
          346852,
          1479506,
          14041456,
          399449,
          1577411,
          5991,
          703228,
          1031731,
          46825,
          808401,
          4487553,
          4077452,
          6444960,
          5570473,
          495090,
          3346046,
          22075858,
          133194,
          2166,
          6597,
          30004,
          3452,
          9589,
          16607,
          23616,
          6281,
          830127,
          88926,
          2500142,
          50665,
          7760,
          2235294,
          2667551,
          1331707,
          24575,
          27324,
          4067067,
          67963678,
          30615522,
          18368,
          13770429,
          672039,
          63829,
          82467,
          2699339,
          4413911,
          57467,
          9970937,
          17786,
          42906,
          4728182,
          23419,
          39396,
          16810,
          189918,
          1151126,
          17042722,
          6561,
          2805,
          170544,
          5711929,
          1053213,
          24425313,
          103802702,
          145057512,
          1034303,
          251247,
          12014,
          29,
          552162,
          11526994,
          3427,
          676467356,
          11945,
          343135,
          264276
         ],
         "xaxis": "x",
         "y": [
          7896,
          257705,
          3598,
          6881,
          165,
          1933,
          12,
          146,
          130472,
          8727,
          282,
          1623684,
          19574,
          21970,
          10138,
          833,
          1553,
          29445,
          579,
          7118,
          33814,
          688,
          163,
          160,
          21,
          22365,
          41,
          16280,
          2801,
          699276,
          64,
          225,
          38228,
          396,
          38,
          3056,
          1965,
          51720,
          413,
          37,
          113,
          194,
          64273,
          87468,
          142339,
          161,
          388,
          2,
          9245,
          834,
          17987,
          8530,
          301,
          1330,
          42491,
          1464,
          8296,
          189,
          74,
          4384,
          36014,
          24812,
          4230,
          183,
          103,
          2946,
          1425,
          7572,
          2036768,
          1216114,
          28,
          null,
          883,
          8967,
          165204,
          649,
          306,
          372,
          16971,
          168935,
          1462,
          111,
          34779,
          21,
          238,
          20182,
          467,
          176,
          1298,
          860,
          2878426,
          11111,
          13467,
          48762,
          263,
          530779,
          160941,
          15,
          144933,
          25375,
          8708,
          116,
          12329,
          188322,
          3514,
          72997,
          14122,
          19071,
          5688,
          18,
          3211,
          2570,
          2991,
          758,
          6269,
          10841,
          723,
          295,
          6437,
          89,
          9596,
          47911,
          1346297,
          1220,
          121,
          1423,
          2686,
          36967,
          311,
          743,
          828,
          17,
          997,
          1044,
          333188,
          61,
          12003,
          67,
          2136,
          2808,
          8,
          16296,
          2242,
          19490,
          4090,
          1,
          12020,
          23081,
          314,
          2548,
          245,
          315,
          3155,
          1588112,
          6,
          9662,
          5213,
          24962,
          4628,
          30644,
          9,
          5708,
          8609,
          670,
          19878,
          219539,
          66188,
          119010,
          26266,
          688,
          67736,
          388478,
          1468,
          null,
          47,
          409,
          2,
          123,
          29,
          122,
          77,
          9618,
          1971,
          17881,
          172,
          126,
          1722,
          21035,
          7078,
          153,
          1361,
          102595,
          1350329,
          34093,
          138,
          119479,
          16830,
          5017,
          1404,
          23777,
          14210,
          3164,
          17672,
          125,
          846,
          33918,
          138,
          290,
          13,
          4355,
          29341,
          101492,
          38,
          null,
          3630,
          119283,
          2349,
          219948,
          1123836,
          2608854,
          7617,
          1637,
          14,
          null,
          5854,
          43186,
          7,
          6881575,
          2159,
          4057,
          5671
         ],
         "yaxis": "y"
        }
       ],
       "layout": {
        "height": 3200,
        "hovermode": "closest",
        "legend": {
         "tracegroupgap": 0
        },
        "template": {
         "data": {
          "bar": [
           {
            "error_x": {
             "color": "#2a3f5f"
            },
            "error_y": {
             "color": "#2a3f5f"
            },
            "marker": {
             "line": {
              "color": "#E5ECF6",
              "width": 0.5
             },
             "pattern": {
              "fillmode": "overlay",
              "size": 10,
              "solidity": 0.2
             }
            },
            "type": "bar"
           }
          ],
          "barpolar": [
           {
            "marker": {
             "line": {
              "color": "#E5ECF6",
              "width": 0.5
             },
             "pattern": {
              "fillmode": "overlay",
              "size": 10,
              "solidity": 0.2
             }
            },
            "type": "barpolar"
           }
          ],
          "carpet": [
           {
            "aaxis": {
             "endlinecolor": "#2a3f5f",
             "gridcolor": "white",
             "linecolor": "white",
             "minorgridcolor": "white",
             "startlinecolor": "#2a3f5f"
            },
            "baxis": {
             "endlinecolor": "#2a3f5f",
             "gridcolor": "white",
             "linecolor": "white",
             "minorgridcolor": "white",
             "startlinecolor": "#2a3f5f"
            },
            "type": "carpet"
           }
          ],
          "choropleth": [
           {
            "colorbar": {
             "outlinewidth": 0,
             "ticks": ""
            },
            "type": "choropleth"
           }
          ],
          "contour": [
           {
            "colorbar": {
             "outlinewidth": 0,
             "ticks": ""
            },
            "colorscale": [
             [
              0,
              "#0d0887"
             ],
             [
              0.1111111111111111,
              "#46039f"
             ],
             [
              0.2222222222222222,
              "#7201a8"
             ],
             [
              0.3333333333333333,
              "#9c179e"
             ],
             [
              0.4444444444444444,
              "#bd3786"
             ],
             [
              0.5555555555555556,
              "#d8576b"
             ],
             [
              0.6666666666666666,
              "#ed7953"
             ],
             [
              0.7777777777777778,
              "#fb9f3a"
             ],
             [
              0.8888888888888888,
              "#fdca26"
             ],
             [
              1,
              "#f0f921"
             ]
            ],
            "type": "contour"
           }
          ],
          "contourcarpet": [
           {
            "colorbar": {
             "outlinewidth": 0,
             "ticks": ""
            },
            "type": "contourcarpet"
           }
          ],
          "heatmap": [
           {
            "colorbar": {
             "outlinewidth": 0,
             "ticks": ""
            },
            "colorscale": [
             [
              0,
              "#0d0887"
             ],
             [
              0.1111111111111111,
              "#46039f"
             ],
             [
              0.2222222222222222,
              "#7201a8"
             ],
             [
              0.3333333333333333,
              "#9c179e"
             ],
             [
              0.4444444444444444,
              "#bd3786"
             ],
             [
              0.5555555555555556,
              "#d8576b"
             ],
             [
              0.6666666666666666,
              "#ed7953"
             ],
             [
              0.7777777777777778,
              "#fb9f3a"
             ],
             [
              0.8888888888888888,
              "#fdca26"
             ],
             [
              1,
              "#f0f921"
             ]
            ],
            "type": "heatmap"
           }
          ],
          "heatmapgl": [
           {
            "colorbar": {
             "outlinewidth": 0,
             "ticks": ""
            },
            "colorscale": [
             [
              0,
              "#0d0887"
             ],
             [
              0.1111111111111111,
              "#46039f"
             ],
             [
              0.2222222222222222,
              "#7201a8"
             ],
             [
              0.3333333333333333,
              "#9c179e"
             ],
             [
              0.4444444444444444,
              "#bd3786"
             ],
             [
              0.5555555555555556,
              "#d8576b"
             ],
             [
              0.6666666666666666,
              "#ed7953"
             ],
             [
              0.7777777777777778,
              "#fb9f3a"
             ],
             [
              0.8888888888888888,
              "#fdca26"
             ],
             [
              1,
              "#f0f921"
             ]
            ],
            "type": "heatmapgl"
           }
          ],
          "histogram": [
           {
            "marker": {
             "pattern": {
              "fillmode": "overlay",
              "size": 10,
              "solidity": 0.2
             }
            },
            "type": "histogram"
           }
          ],
          "histogram2d": [
           {
            "colorbar": {
             "outlinewidth": 0,
             "ticks": ""
            },
            "colorscale": [
             [
              0,
              "#0d0887"
             ],
             [
              0.1111111111111111,
              "#46039f"
             ],
             [
              0.2222222222222222,
              "#7201a8"
             ],
             [
              0.3333333333333333,
              "#9c179e"
             ],
             [
              0.4444444444444444,
              "#bd3786"
             ],
             [
              0.5555555555555556,
              "#d8576b"
             ],
             [
              0.6666666666666666,
              "#ed7953"
             ],
             [
              0.7777777777777778,
              "#fb9f3a"
             ],
             [
              0.8888888888888888,
              "#fdca26"
             ],
             [
              1,
              "#f0f921"
             ]
            ],
            "type": "histogram2d"
           }
          ],
          "histogram2dcontour": [
           {
            "colorbar": {
             "outlinewidth": 0,
             "ticks": ""
            },
            "colorscale": [
             [
              0,
              "#0d0887"
             ],
             [
              0.1111111111111111,
              "#46039f"
             ],
             [
              0.2222222222222222,
              "#7201a8"
             ],
             [
              0.3333333333333333,
              "#9c179e"
             ],
             [
              0.4444444444444444,
              "#bd3786"
             ],
             [
              0.5555555555555556,
              "#d8576b"
             ],
             [
              0.6666666666666666,
              "#ed7953"
             ],
             [
              0.7777777777777778,
              "#fb9f3a"
             ],
             [
              0.8888888888888888,
              "#fdca26"
             ],
             [
              1,
              "#f0f921"
             ]
            ],
            "type": "histogram2dcontour"
           }
          ],
          "mesh3d": [
           {
            "colorbar": {
             "outlinewidth": 0,
             "ticks": ""
            },
            "type": "mesh3d"
           }
          ],
          "parcoords": [
           {
            "line": {
             "colorbar": {
              "outlinewidth": 0,
              "ticks": ""
             }
            },
            "type": "parcoords"
           }
          ],
          "pie": [
           {
            "automargin": true,
            "type": "pie"
           }
          ],
          "scatter": [
           {
            "fillpattern": {
             "fillmode": "overlay",
             "size": 10,
             "solidity": 0.2
            },
            "type": "scatter"
           }
          ],
          "scatter3d": [
           {
            "line": {
             "colorbar": {
              "outlinewidth": 0,
              "ticks": ""
             }
            },
            "marker": {
             "colorbar": {
              "outlinewidth": 0,
              "ticks": ""
             }
            },
            "type": "scatter3d"
           }
          ],
          "scattercarpet": [
           {
            "marker": {
             "colorbar": {
              "outlinewidth": 0,
              "ticks": ""
             }
            },
            "type": "scattercarpet"
           }
          ],
          "scattergeo": [
           {
            "marker": {
             "colorbar": {
              "outlinewidth": 0,
              "ticks": ""
             }
            },
            "type": "scattergeo"
           }
          ],
          "scattergl": [
           {
            "marker": {
             "colorbar": {
              "outlinewidth": 0,
              "ticks": ""
             }
            },
            "type": "scattergl"
           }
          ],
          "scattermapbox": [
           {
            "marker": {
             "colorbar": {
              "outlinewidth": 0,
              "ticks": ""
             }
            },
            "type": "scattermapbox"
           }
          ],
          "scatterpolar": [
           {
            "marker": {
             "colorbar": {
              "outlinewidth": 0,
              "ticks": ""
             }
            },
            "type": "scatterpolar"
           }
          ],
          "scatterpolargl": [
           {
            "marker": {
             "colorbar": {
              "outlinewidth": 0,
              "ticks": ""
             }
            },
            "type": "scatterpolargl"
           }
          ],
          "scatterternary": [
           {
            "marker": {
             "colorbar": {
              "outlinewidth": 0,
              "ticks": ""
             }
            },
            "type": "scatterternary"
           }
          ],
          "surface": [
           {
            "colorbar": {
             "outlinewidth": 0,
             "ticks": ""
            },
            "colorscale": [
             [
              0,
              "#0d0887"
             ],
             [
              0.1111111111111111,
              "#46039f"
             ],
             [
              0.2222222222222222,
              "#7201a8"
             ],
             [
              0.3333333333333333,
              "#9c179e"
             ],
             [
              0.4444444444444444,
              "#bd3786"
             ],
             [
              0.5555555555555556,
              "#d8576b"
             ],
             [
              0.6666666666666666,
              "#ed7953"
             ],
             [
              0.7777777777777778,
              "#fb9f3a"
             ],
             [
              0.8888888888888888,
              "#fdca26"
             ],
             [
              1,
              "#f0f921"
             ]
            ],
            "type": "surface"
           }
          ],
          "table": [
           {
            "cells": {
             "fill": {
              "color": "#EBF0F8"
             },
             "line": {
              "color": "white"
             }
            },
            "header": {
             "fill": {
              "color": "#C8D4E3"
             },
             "line": {
              "color": "white"
             }
            },
            "type": "table"
           }
          ]
         },
         "layout": {
          "annotationdefaults": {
           "arrowcolor": "#2a3f5f",
           "arrowhead": 0,
           "arrowwidth": 1
          },
          "autotypenumbers": "strict",
          "coloraxis": {
           "colorbar": {
            "outlinewidth": 0,
            "ticks": ""
           }
          },
          "colorscale": {
           "diverging": [
            [
             0,
             "#8e0152"
            ],
            [
             0.1,
             "#c51b7d"
            ],
            [
             0.2,
             "#de77ae"
            ],
            [
             0.3,
             "#f1b6da"
            ],
            [
             0.4,
             "#fde0ef"
            ],
            [
             0.5,
             "#f7f7f7"
            ],
            [
             0.6,
             "#e6f5d0"
            ],
            [
             0.7,
             "#b8e186"
            ],
            [
             0.8,
             "#7fbc41"
            ],
            [
             0.9,
             "#4d9221"
            ],
            [
             1,
             "#276419"
            ]
           ],
           "sequential": [
            [
             0,
             "#0d0887"
            ],
            [
             0.1111111111111111,
             "#46039f"
            ],
            [
             0.2222222222222222,
             "#7201a8"
            ],
            [
             0.3333333333333333,
             "#9c179e"
            ],
            [
             0.4444444444444444,
             "#bd3786"
            ],
            [
             0.5555555555555556,
             "#d8576b"
            ],
            [
             0.6666666666666666,
             "#ed7953"
            ],
            [
             0.7777777777777778,
             "#fb9f3a"
            ],
            [
             0.8888888888888888,
             "#fdca26"
            ],
            [
             1,
             "#f0f921"
            ]
           ],
           "sequentialminus": [
            [
             0,
             "#0d0887"
            ],
            [
             0.1111111111111111,
             "#46039f"
            ],
            [
             0.2222222222222222,
             "#7201a8"
            ],
            [
             0.3333333333333333,
             "#9c179e"
            ],
            [
             0.4444444444444444,
             "#bd3786"
            ],
            [
             0.5555555555555556,
             "#d8576b"
            ],
            [
             0.6666666666666666,
             "#ed7953"
            ],
            [
             0.7777777777777778,
             "#fb9f3a"
            ],
            [
             0.8888888888888888,
             "#fdca26"
            ],
            [
             1,
             "#f0f921"
            ]
           ]
          },
          "colorway": [
           "#636efa",
           "#EF553B",
           "#00cc96",
           "#ab63fa",
           "#FFA15A",
           "#19d3f3",
           "#FF6692",
           "#B6E880",
           "#FF97FF",
           "#FECB52"
          ],
          "font": {
           "color": "#2a3f5f"
          },
          "geo": {
           "bgcolor": "white",
           "lakecolor": "white",
           "landcolor": "#E5ECF6",
           "showlakes": true,
           "showland": true,
           "subunitcolor": "white"
          },
          "hoverlabel": {
           "align": "left"
          },
          "hovermode": "closest",
          "mapbox": {
           "style": "light"
          },
          "paper_bgcolor": "white",
          "plot_bgcolor": "#E5ECF6",
          "polar": {
           "angularaxis": {
            "gridcolor": "white",
            "linecolor": "white",
            "ticks": ""
           },
           "bgcolor": "#E5ECF6",
           "radialaxis": {
            "gridcolor": "white",
            "linecolor": "white",
            "ticks": ""
           }
          },
          "scene": {
           "xaxis": {
            "backgroundcolor": "#E5ECF6",
            "gridcolor": "white",
            "gridwidth": 2,
            "linecolor": "white",
            "showbackground": true,
            "ticks": "",
            "zerolinecolor": "white"
           },
           "yaxis": {
            "backgroundcolor": "#E5ECF6",
            "gridcolor": "white",
            "gridwidth": 2,
            "linecolor": "white",
            "showbackground": true,
            "ticks": "",
            "zerolinecolor": "white"
           },
           "zaxis": {
            "backgroundcolor": "#E5ECF6",
            "gridcolor": "white",
            "gridwidth": 2,
            "linecolor": "white",
            "showbackground": true,
            "ticks": "",
            "zerolinecolor": "white"
           }
          },
          "shapedefaults": {
           "line": {
            "color": "#2a3f5f"
           }
          },
          "ternary": {
           "aaxis": {
            "gridcolor": "white",
            "linecolor": "white",
            "ticks": ""
           },
           "baxis": {
            "gridcolor": "white",
            "linecolor": "white",
            "ticks": ""
           },
           "bgcolor": "#E5ECF6",
           "caxis": {
            "gridcolor": "white",
            "linecolor": "white",
            "ticks": ""
           }
          },
          "title": {
           "x": 0.05
          },
          "xaxis": {
           "automargin": true,
           "gridcolor": "white",
           "linecolor": "white",
           "ticks": "",
           "title": {
            "standoff": 15
           },
           "zerolinecolor": "white",
           "zerolinewidth": 2
          },
          "yaxis": {
           "automargin": true,
           "gridcolor": "white",
           "linecolor": "white",
           "ticks": "",
           "title": {
            "standoff": 15
           },
           "zerolinecolor": "white",
           "zerolinewidth": 2
          }
         }
        },
        "title": {
         "text": "COVID-19 Total Cases vs Total Deaths"
        },
        "width": 4800,
        "xaxis": {
         "anchor": "y",
         "domain": [
          0,
          1
         ],
         "title": {
          "text": "Total Cases"
         },
         "type": "log"
        },
        "yaxis": {
         "anchor": "x",
         "domain": [
          0,
          1
         ],
         "title": {
          "text": "Total Deaths"
         },
         "type": "log"
        }
       }
      }
     },
     "metadata": {},
     "output_type": "display_data"
    }
   ],
   "source": [
    "import pandas as pd\n",
    "import plotly.express as px\n",
    "\n",
    "# Load the data\n",
    "#data = 'https://raw.githubusercontent.com/owid/covid-19-data/master/public/data/jhu/full_data.csv'\n",
    "data = pd.read_csv(\"full_data-1.csv\")\n",
    "df = pd.read_csv(data)\n",
    "\n",
    "# Get the latest date in the data\n",
    "latest_date = df['date'].max()\n",
    "\n",
    "# Filter the data for the latest date\n",
    "latest_data = df[df['date'] == latest_date].copy()\n",
    "\n",
    "# Calculate case-fatality rate using .loc\n",
    "latest_data.loc[:, 'case_fatality_rate'] = (latest_data['total_deaths'] / latest_data['total_cases']) * 100\n",
    "\n",
    "# Create the scatter plot\n",
    "fig = px.scatter(\n",
    "    latest_data,\n",
    "    x='total_cases',\n",
    "    y='total_deaths',\n",
    "    text='location',\n",
    "    hover_data={\n",
    "        'location': True,\n",
    "        'case_fatality_rate': ':.2f',\n",
    "        'total_cases': True,\n",
    "        'total_deaths': True\n",
    "    },\n",
    "    labels={'total_cases': 'Total Cases', 'total_deaths': 'Total Deaths'},\n",
    "    title='COVID-19 Total Cases vs Total Deaths',\n",
    "    log_x=True,\n",
    "    log_y=True\n",
    ")\n",
    "\n",
    "# Update layout for better display\n",
    "fig.update_traces(marker=dict(size=20, opacity=0.7),\n",
    "                  selector=dict(mode='markers+text'))\n",
    "fig.update_layout(\n",
    "    hovermode='closest',\n",
    "    width=2400,  # Set the width of the figure\n",
    "    height=1600   # Set the height of the figure\n",
    ")\n",
    "\n",
    "# Show the plot\n",
    "fig.show()"
   ]
  },
  {
   "cell_type": "code",
   "execution_count": null,
   "metadata": {},
   "outputs": [],
   "source": []
  }
 ],
 "metadata": {
  "kernelspec": {
   "display_name": "base",
   "language": "python",
   "name": "python3"
  },
  "language_info": {
   "codemirror_mode": {
    "name": "ipython",
    "version": 3
   },
   "file_extension": ".py",
   "mimetype": "text/x-python",
   "name": "python",
   "nbconvert_exporter": "python",
   "pygments_lexer": "ipython3",
   "version": "3.12.4"
  }
 },
 "nbformat": 4,
 "nbformat_minor": 2
}
